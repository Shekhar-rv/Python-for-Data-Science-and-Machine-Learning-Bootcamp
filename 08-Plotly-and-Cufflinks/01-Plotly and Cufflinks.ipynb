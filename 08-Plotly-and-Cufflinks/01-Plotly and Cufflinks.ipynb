{
 "cells": [
  {
   "cell_type": "markdown",
   "metadata": {},
   "source": [
    "___\n",
    "\n",
    "<a href='http://www.pieriandata.com'> <img src='../Pierian_Data_Logo.png' /></a>\n",
    "___\n",
    "# Plotly and Cufflinks"
   ]
  },
  {
   "cell_type": "markdown",
   "metadata": {},
   "source": [
    "Plotly is a library that allows you to create interactive plots that you can use in dashboards or websites (you can save them as html files or static images).\n",
    "\n",
    "## Installation\n",
    "\n",
    "In order for this all to work, you'll need to install plotly and cufflinks to call plots directly off of a pandas dataframe. These libraries are not currently available through **conda** but are available through **pip**. Install the libraries at your command line/terminal using:\n",
    "\n",
    "    pip install plotly\n",
    "    pip install cufflinks\n",
    "\n",
    "** NOTE: Make sure you only have one installation of Python on your computer when you do this, otherwise the installation may not work. **\n",
    "\n",
    "## Imports and Set-up"
   ]
  },
  {
   "cell_type": "code",
   "execution_count": 1,
   "metadata": {},
   "outputs": [],
   "source": [
    "import pandas as pd\n",
    "import numpy as np\n",
    "%matplotlib inline"
   ]
  },
  {
   "cell_type": "code",
   "execution_count": 2,
   "metadata": {},
   "outputs": [
    {
     "name": "stdout",
     "output_type": "stream",
     "text": [
      "4.5.0\n"
     ]
    }
   ],
   "source": [
    "from plotly import __version__\n",
    "from plotly.offline import download_plotlyjs, init_notebook_mode, plot, iplot\n",
    "\n",
    "print(__version__) # requires version >= 1.9.0"
   ]
  },
  {
   "cell_type": "code",
   "execution_count": 3,
   "metadata": {},
   "outputs": [],
   "source": [
    "import cufflinks as cf"
   ]
  },
  {
   "cell_type": "code",
   "execution_count": 4,
   "metadata": {},
   "outputs": [
    {
     "data": {
      "text/html": [
       "        <script type=\"text/javascript\">\n",
       "        window.PlotlyConfig = {MathJaxConfig: 'local'};\n",
       "        if (window.MathJax) {MathJax.Hub.Config({SVG: {font: \"STIX-Web\"}});}\n",
       "        if (typeof require !== 'undefined') {\n",
       "        require.undef(\"plotly\");\n",
       "        requirejs.config({\n",
       "            paths: {\n",
       "                'plotly': ['https://cdn.plot.ly/plotly-latest.min']\n",
       "            }\n",
       "        });\n",
       "        require(['plotly'], function(Plotly) {\n",
       "            window._Plotly = Plotly;\n",
       "        });\n",
       "        }\n",
       "        </script>\n",
       "        "
      ]
     },
     "metadata": {},
     "output_type": "display_data"
    }
   ],
   "source": [
    "# For Notebooks\n",
    "init_notebook_mode(connected=True)"
   ]
  },
  {
   "cell_type": "code",
   "execution_count": 5,
   "metadata": {},
   "outputs": [
    {
     "data": {
      "text/html": [
       "        <script type=\"text/javascript\">\n",
       "        window.PlotlyConfig = {MathJaxConfig: 'local'};\n",
       "        if (window.MathJax) {MathJax.Hub.Config({SVG: {font: \"STIX-Web\"}});}\n",
       "        if (typeof require !== 'undefined') {\n",
       "        require.undef(\"plotly\");\n",
       "        requirejs.config({\n",
       "            paths: {\n",
       "                'plotly': ['https://cdn.plot.ly/plotly-latest.min']\n",
       "            }\n",
       "        });\n",
       "        require(['plotly'], function(Plotly) {\n",
       "            window._Plotly = Plotly;\n",
       "        });\n",
       "        }\n",
       "        </script>\n",
       "        "
      ]
     },
     "metadata": {},
     "output_type": "display_data"
    }
   ],
   "source": [
    "# For offline use\n",
    "cf.go_offline()"
   ]
  },
  {
   "cell_type": "markdown",
   "metadata": {},
   "source": [
    "### Fake Data"
   ]
  },
  {
   "cell_type": "code",
   "execution_count": 6,
   "metadata": {},
   "outputs": [],
   "source": [
    "df = pd.DataFrame(np.random.randn(100,4),columns='A B C D'.split())"
   ]
  },
  {
   "cell_type": "code",
   "execution_count": 7,
   "metadata": {},
   "outputs": [
    {
     "data": {
      "text/html": [
       "<div>\n",
       "<style scoped>\n",
       "    .dataframe tbody tr th:only-of-type {\n",
       "        vertical-align: middle;\n",
       "    }\n",
       "\n",
       "    .dataframe tbody tr th {\n",
       "        vertical-align: top;\n",
       "    }\n",
       "\n",
       "    .dataframe thead th {\n",
       "        text-align: right;\n",
       "    }\n",
       "</style>\n",
       "<table border=\"1\" class=\"dataframe\">\n",
       "  <thead>\n",
       "    <tr style=\"text-align: right;\">\n",
       "      <th></th>\n",
       "      <th>A</th>\n",
       "      <th>B</th>\n",
       "      <th>C</th>\n",
       "      <th>D</th>\n",
       "    </tr>\n",
       "  </thead>\n",
       "  <tbody>\n",
       "    <tr>\n",
       "      <th>0</th>\n",
       "      <td>-0.421909</td>\n",
       "      <td>-1.761343</td>\n",
       "      <td>0.877340</td>\n",
       "      <td>0.482294</td>\n",
       "    </tr>\n",
       "    <tr>\n",
       "      <th>1</th>\n",
       "      <td>1.682103</td>\n",
       "      <td>-0.096201</td>\n",
       "      <td>1.435622</td>\n",
       "      <td>-0.629727</td>\n",
       "    </tr>\n",
       "    <tr>\n",
       "      <th>2</th>\n",
       "      <td>0.430940</td>\n",
       "      <td>-1.090555</td>\n",
       "      <td>0.636038</td>\n",
       "      <td>-0.128993</td>\n",
       "    </tr>\n",
       "    <tr>\n",
       "      <th>3</th>\n",
       "      <td>0.184113</td>\n",
       "      <td>2.028413</td>\n",
       "      <td>-0.808879</td>\n",
       "      <td>0.359549</td>\n",
       "    </tr>\n",
       "    <tr>\n",
       "      <th>4</th>\n",
       "      <td>-0.928191</td>\n",
       "      <td>0.509714</td>\n",
       "      <td>-0.231729</td>\n",
       "      <td>-1.705902</td>\n",
       "    </tr>\n",
       "  </tbody>\n",
       "</table>\n",
       "</div>"
      ],
      "text/plain": [
       "          A         B         C         D\n",
       "0 -0.421909 -1.761343  0.877340  0.482294\n",
       "1  1.682103 -0.096201  1.435622 -0.629727\n",
       "2  0.430940 -1.090555  0.636038 -0.128993\n",
       "3  0.184113  2.028413 -0.808879  0.359549\n",
       "4 -0.928191  0.509714 -0.231729 -1.705902"
      ]
     },
     "execution_count": 7,
     "metadata": {},
     "output_type": "execute_result"
    }
   ],
   "source": [
    "df.head()"
   ]
  },
  {
   "cell_type": "code",
   "execution_count": 8,
   "metadata": {},
   "outputs": [],
   "source": [
    "df2 = pd.DataFrame({'Category':['A','B','C'],'Values':[32,43,50]})"
   ]
  },
  {
   "cell_type": "code",
   "execution_count": 9,
   "metadata": {},
   "outputs": [
    {
     "data": {
      "text/html": [
       "<div>\n",
       "<style scoped>\n",
       "    .dataframe tbody tr th:only-of-type {\n",
       "        vertical-align: middle;\n",
       "    }\n",
       "\n",
       "    .dataframe tbody tr th {\n",
       "        vertical-align: top;\n",
       "    }\n",
       "\n",
       "    .dataframe thead th {\n",
       "        text-align: right;\n",
       "    }\n",
       "</style>\n",
       "<table border=\"1\" class=\"dataframe\">\n",
       "  <thead>\n",
       "    <tr style=\"text-align: right;\">\n",
       "      <th></th>\n",
       "      <th>Category</th>\n",
       "      <th>Values</th>\n",
       "    </tr>\n",
       "  </thead>\n",
       "  <tbody>\n",
       "    <tr>\n",
       "      <th>0</th>\n",
       "      <td>A</td>\n",
       "      <td>32</td>\n",
       "    </tr>\n",
       "    <tr>\n",
       "      <th>1</th>\n",
       "      <td>B</td>\n",
       "      <td>43</td>\n",
       "    </tr>\n",
       "    <tr>\n",
       "      <th>2</th>\n",
       "      <td>C</td>\n",
       "      <td>50</td>\n",
       "    </tr>\n",
       "  </tbody>\n",
       "</table>\n",
       "</div>"
      ],
      "text/plain": [
       "  Category  Values\n",
       "0        A      32\n",
       "1        B      43\n",
       "2        C      50"
      ]
     },
     "execution_count": 9,
     "metadata": {},
     "output_type": "execute_result"
    }
   ],
   "source": [
    "df2.head()"
   ]
  },
  {
   "cell_type": "markdown",
   "metadata": {},
   "source": [
    "## Using Cufflinks and iplot()\n",
    "\n",
    "* scatter\n",
    "* bar\n",
    "* box\n",
    "* spread\n",
    "* ratio\n",
    "* heatmap\n",
    "* surface\n",
    "* histogram\n",
    "* bubble"
   ]
  },
  {
   "cell_type": "markdown",
   "metadata": {},
   "source": [
    "## Scatter"
   ]
  },
  {
   "cell_type": "code",
   "execution_count": 10,
   "metadata": {},
   "outputs": [
    {
     "data": {
      "application/vnd.plotly.v1+json": {
       "config": {
        "linkText": "Export to plot.ly",
        "plotlyServerURL": "https://plot.ly",
        "showLink": true
       },
       "data": [
        {
         "line": {
          "color": "rgba(255, 153, 51, 1.0)",
          "dash": "solid",
          "shape": "linear",
          "width": 1.3
         },
         "marker": {
          "size": 10,
          "symbol": "circle"
         },
         "mode": "markers",
         "name": "B",
         "text": "",
         "type": "scatter",
         "x": [
          -0.4219085963273162,
          1.6821026955762655,
          0.4309402142051801,
          0.18411306212801068,
          -0.9281908221713763,
          -0.30874922794372156,
          -0.6290038474767073,
          -0.710791310697247,
          0.17241542605474575,
          -0.8396869257109238,
          0.3806311459364493,
          -0.09381049474443047,
          1.5374181314768314,
          -0.43435294316790796,
          0.6461335117639597,
          -0.12372906160993319,
          0.3022970579415042,
          0.20797545067424617,
          -1.1304501651601098,
          1.1710948609964165,
          0.41306944623653125,
          1.9082257379137284,
          -0.05557142962097008,
          -1.0221174747845423,
          1.1355091384569034,
          1.1672445486913277,
          1.2764241838725863,
          2.3566817803969013,
          -1.2547557150229542,
          -1.7325392979131544,
          -1.2920823588295134,
          0.7580820471569764,
          -1.1858168738788655,
          -0.4841514473365244,
          0.6509296343287128,
          -0.11155686020046292,
          1.5045969153456915,
          -0.12204236350353027,
          -0.05537132415007508,
          -0.28027869353027607,
          0.9613497802818148,
          0.9414707962483713,
          -0.22356717954305758,
          0.7740342983721199,
          -0.7241989040863319,
          0.02778003781964759,
          -0.024055724956834595,
          -0.915078920852879,
          0.5544534137007058,
          -0.05977358602472853,
          0.23458852778203726,
          -0.5512670496759174,
          -0.4314387696367131,
          0.48138568092212886,
          0.151312471088505,
          -1.2683697561726832,
          1.1766160488988537,
          -0.27455824083556385,
          0.07273934897587682,
          -0.8784205932002688,
          -1.6235056907620014,
          -0.644105336585791,
          -1.3059071560879678,
          1.1747908906102706,
          -0.520795580404017,
          1.5905914235182144,
          -1.0584157956032523,
          0.017940488390363326,
          0.21212164922397306,
          -0.7742147529291061,
          -0.07481568924787502,
          -0.7509498972280064,
          0.40873810406643823,
          -0.35782741822032943,
          1.3791574021604953,
          -0.4936108658569253,
          -0.1670321836666462,
          0.0721790925295737,
          0.7001017974476622,
          -0.7875091790993461,
          0.0403208723208704,
          0.3177404868415387,
          -0.056986594871039735,
          0.4528785263940196,
          0.6469206986380688,
          0.41429955942854774,
          0.12303138871638225,
          -0.4126393825177464,
          0.819920664835239,
          1.4600883911553522,
          0.010063642024292574,
          -0.9264281665049272,
          -2.4315763663695646,
          -0.21280943033324837,
          -1.3301028052349306,
          0.7023289550933015,
          -0.029671055859963696,
          0.23193888262846393,
          -0.07874371469382994,
          -1.6085773535868477
         ],
         "y": [
          -1.7613428979724588,
          -0.09620099849344611,
          -1.0905554749516704,
          2.028413152575853,
          0.5097144860421348,
          1.9936676211707947,
          1.0142506644633973,
          -0.5618289023209938,
          -0.40593562199118266,
          -1.3499737054571084,
          -0.5106714828156713,
          -0.6407829666278434,
          0.33372601270807,
          0.08363181122544312,
          1.5301434413624457,
          -0.8945041877588099,
          2.0783279038907225,
          -1.6943865920544647,
          -0.4621595926119647,
          -0.7571348170370275,
          1.3747665089714545,
          0.4985098936943716,
          0.08972003187459004,
          0.23342732028905913,
          0.2189969800399268,
          -0.0820069040087503,
          -0.6706333343074938,
          -1.275543117599897,
          -1.3699509360814053,
          0.3901952160800126,
          0.40515476073494494,
          0.8497911535020408,
          0.15108663732483765,
          1.2849528676590611,
          0.17502127520127353,
          -0.856472190237345,
          1.3755879423415716,
          -0.6203252186849335,
          0.2970832302677778,
          1.4228886617797616,
          -0.295302329657846,
          -0.40732886017309755,
          1.204717054703365,
          0.10595034653194314,
          -1.927542908557601,
          0.5340788211371374,
          -1.2595527258535075,
          -0.11744097365828426,
          -1.2322722675875935,
          0.21000255384490144,
          1.2316223605540324,
          0.6248158351987497,
          1.717265073311003,
          0.5085247036804371,
          1.1493774496114195,
          1.6357881500228615,
          0.6774690954323394,
          -0.254747629906569,
          0.7359939702818833,
          0.0831781421552935,
          0.13981334614546928,
          1.345513651578312,
          -0.44745217561787265,
          -0.2960953959886017,
          -2.302161247246569,
          -0.7188463621845694,
          -0.6990455748270236,
          -1.348662227162689,
          -0.5216899224336029,
          0.14048488250800598,
          0.1925196557013099,
          0.3260063565304941,
          0.14063928666482584,
          0.9388815352295453,
          -0.5127863210973753,
          1.1415664506931398,
          1.067019420763672,
          1.339232991142909,
          -0.8317479833178933,
          0.06714344889144137,
          0.40199971911834576,
          0.8336260811188723,
          0.6530201532241336,
          0.2790208938611128,
          0.9227703952463245,
          0.3807611966083535,
          2.14936755196243,
          0.7000220332676952,
          -0.20238099719791927,
          0.7578390029744853,
          -2.0759354128982563,
          0.4873792439363221,
          0.4452307214159721,
          1.2154920757915866,
          -1.042516814260215,
          -0.15670485695431474,
          1.9590815581255574,
          -0.19864062355667617,
          0.02011113860892017,
          -1.0559148650915064
         ]
        }
       ],
       "layout": {
        "legend": {
         "bgcolor": "#F5F6F9",
         "font": {
          "color": "#4D5663"
         }
        },
        "paper_bgcolor": "#F5F6F9",
        "plot_bgcolor": "#F5F6F9",
        "template": {
         "data": {
          "bar": [
           {
            "error_x": {
             "color": "#2a3f5f"
            },
            "error_y": {
             "color": "#2a3f5f"
            },
            "marker": {
             "line": {
              "color": "#E5ECF6",
              "width": 0.5
             }
            },
            "type": "bar"
           }
          ],
          "barpolar": [
           {
            "marker": {
             "line": {
              "color": "#E5ECF6",
              "width": 0.5
             }
            },
            "type": "barpolar"
           }
          ],
          "carpet": [
           {
            "aaxis": {
             "endlinecolor": "#2a3f5f",
             "gridcolor": "white",
             "linecolor": "white",
             "minorgridcolor": "white",
             "startlinecolor": "#2a3f5f"
            },
            "baxis": {
             "endlinecolor": "#2a3f5f",
             "gridcolor": "white",
             "linecolor": "white",
             "minorgridcolor": "white",
             "startlinecolor": "#2a3f5f"
            },
            "type": "carpet"
           }
          ],
          "choropleth": [
           {
            "colorbar": {
             "outlinewidth": 0,
             "ticks": ""
            },
            "type": "choropleth"
           }
          ],
          "contour": [
           {
            "colorbar": {
             "outlinewidth": 0,
             "ticks": ""
            },
            "colorscale": [
             [
              0,
              "#0d0887"
             ],
             [
              0.1111111111111111,
              "#46039f"
             ],
             [
              0.2222222222222222,
              "#7201a8"
             ],
             [
              0.3333333333333333,
              "#9c179e"
             ],
             [
              0.4444444444444444,
              "#bd3786"
             ],
             [
              0.5555555555555556,
              "#d8576b"
             ],
             [
              0.6666666666666666,
              "#ed7953"
             ],
             [
              0.7777777777777778,
              "#fb9f3a"
             ],
             [
              0.8888888888888888,
              "#fdca26"
             ],
             [
              1,
              "#f0f921"
             ]
            ],
            "type": "contour"
           }
          ],
          "contourcarpet": [
           {
            "colorbar": {
             "outlinewidth": 0,
             "ticks": ""
            },
            "type": "contourcarpet"
           }
          ],
          "heatmap": [
           {
            "colorbar": {
             "outlinewidth": 0,
             "ticks": ""
            },
            "colorscale": [
             [
              0,
              "#0d0887"
             ],
             [
              0.1111111111111111,
              "#46039f"
             ],
             [
              0.2222222222222222,
              "#7201a8"
             ],
             [
              0.3333333333333333,
              "#9c179e"
             ],
             [
              0.4444444444444444,
              "#bd3786"
             ],
             [
              0.5555555555555556,
              "#d8576b"
             ],
             [
              0.6666666666666666,
              "#ed7953"
             ],
             [
              0.7777777777777778,
              "#fb9f3a"
             ],
             [
              0.8888888888888888,
              "#fdca26"
             ],
             [
              1,
              "#f0f921"
             ]
            ],
            "type": "heatmap"
           }
          ],
          "heatmapgl": [
           {
            "colorbar": {
             "outlinewidth": 0,
             "ticks": ""
            },
            "colorscale": [
             [
              0,
              "#0d0887"
             ],
             [
              0.1111111111111111,
              "#46039f"
             ],
             [
              0.2222222222222222,
              "#7201a8"
             ],
             [
              0.3333333333333333,
              "#9c179e"
             ],
             [
              0.4444444444444444,
              "#bd3786"
             ],
             [
              0.5555555555555556,
              "#d8576b"
             ],
             [
              0.6666666666666666,
              "#ed7953"
             ],
             [
              0.7777777777777778,
              "#fb9f3a"
             ],
             [
              0.8888888888888888,
              "#fdca26"
             ],
             [
              1,
              "#f0f921"
             ]
            ],
            "type": "heatmapgl"
           }
          ],
          "histogram": [
           {
            "marker": {
             "colorbar": {
              "outlinewidth": 0,
              "ticks": ""
             }
            },
            "type": "histogram"
           }
          ],
          "histogram2d": [
           {
            "colorbar": {
             "outlinewidth": 0,
             "ticks": ""
            },
            "colorscale": [
             [
              0,
              "#0d0887"
             ],
             [
              0.1111111111111111,
              "#46039f"
             ],
             [
              0.2222222222222222,
              "#7201a8"
             ],
             [
              0.3333333333333333,
              "#9c179e"
             ],
             [
              0.4444444444444444,
              "#bd3786"
             ],
             [
              0.5555555555555556,
              "#d8576b"
             ],
             [
              0.6666666666666666,
              "#ed7953"
             ],
             [
              0.7777777777777778,
              "#fb9f3a"
             ],
             [
              0.8888888888888888,
              "#fdca26"
             ],
             [
              1,
              "#f0f921"
             ]
            ],
            "type": "histogram2d"
           }
          ],
          "histogram2dcontour": [
           {
            "colorbar": {
             "outlinewidth": 0,
             "ticks": ""
            },
            "colorscale": [
             [
              0,
              "#0d0887"
             ],
             [
              0.1111111111111111,
              "#46039f"
             ],
             [
              0.2222222222222222,
              "#7201a8"
             ],
             [
              0.3333333333333333,
              "#9c179e"
             ],
             [
              0.4444444444444444,
              "#bd3786"
             ],
             [
              0.5555555555555556,
              "#d8576b"
             ],
             [
              0.6666666666666666,
              "#ed7953"
             ],
             [
              0.7777777777777778,
              "#fb9f3a"
             ],
             [
              0.8888888888888888,
              "#fdca26"
             ],
             [
              1,
              "#f0f921"
             ]
            ],
            "type": "histogram2dcontour"
           }
          ],
          "mesh3d": [
           {
            "colorbar": {
             "outlinewidth": 0,
             "ticks": ""
            },
            "type": "mesh3d"
           }
          ],
          "parcoords": [
           {
            "line": {
             "colorbar": {
              "outlinewidth": 0,
              "ticks": ""
             }
            },
            "type": "parcoords"
           }
          ],
          "pie": [
           {
            "automargin": true,
            "type": "pie"
           }
          ],
          "scatter": [
           {
            "marker": {
             "colorbar": {
              "outlinewidth": 0,
              "ticks": ""
             }
            },
            "type": "scatter"
           }
          ],
          "scatter3d": [
           {
            "line": {
             "colorbar": {
              "outlinewidth": 0,
              "ticks": ""
             }
            },
            "marker": {
             "colorbar": {
              "outlinewidth": 0,
              "ticks": ""
             }
            },
            "type": "scatter3d"
           }
          ],
          "scattercarpet": [
           {
            "marker": {
             "colorbar": {
              "outlinewidth": 0,
              "ticks": ""
             }
            },
            "type": "scattercarpet"
           }
          ],
          "scattergeo": [
           {
            "marker": {
             "colorbar": {
              "outlinewidth": 0,
              "ticks": ""
             }
            },
            "type": "scattergeo"
           }
          ],
          "scattergl": [
           {
            "marker": {
             "colorbar": {
              "outlinewidth": 0,
              "ticks": ""
             }
            },
            "type": "scattergl"
           }
          ],
          "scattermapbox": [
           {
            "marker": {
             "colorbar": {
              "outlinewidth": 0,
              "ticks": ""
             }
            },
            "type": "scattermapbox"
           }
          ],
          "scatterpolar": [
           {
            "marker": {
             "colorbar": {
              "outlinewidth": 0,
              "ticks": ""
             }
            },
            "type": "scatterpolar"
           }
          ],
          "scatterpolargl": [
           {
            "marker": {
             "colorbar": {
              "outlinewidth": 0,
              "ticks": ""
             }
            },
            "type": "scatterpolargl"
           }
          ],
          "scatterternary": [
           {
            "marker": {
             "colorbar": {
              "outlinewidth": 0,
              "ticks": ""
             }
            },
            "type": "scatterternary"
           }
          ],
          "surface": [
           {
            "colorbar": {
             "outlinewidth": 0,
             "ticks": ""
            },
            "colorscale": [
             [
              0,
              "#0d0887"
             ],
             [
              0.1111111111111111,
              "#46039f"
             ],
             [
              0.2222222222222222,
              "#7201a8"
             ],
             [
              0.3333333333333333,
              "#9c179e"
             ],
             [
              0.4444444444444444,
              "#bd3786"
             ],
             [
              0.5555555555555556,
              "#d8576b"
             ],
             [
              0.6666666666666666,
              "#ed7953"
             ],
             [
              0.7777777777777778,
              "#fb9f3a"
             ],
             [
              0.8888888888888888,
              "#fdca26"
             ],
             [
              1,
              "#f0f921"
             ]
            ],
            "type": "surface"
           }
          ],
          "table": [
           {
            "cells": {
             "fill": {
              "color": "#EBF0F8"
             },
             "line": {
              "color": "white"
             }
            },
            "header": {
             "fill": {
              "color": "#C8D4E3"
             },
             "line": {
              "color": "white"
             }
            },
            "type": "table"
           }
          ]
         },
         "layout": {
          "annotationdefaults": {
           "arrowcolor": "#2a3f5f",
           "arrowhead": 0,
           "arrowwidth": 1
          },
          "coloraxis": {
           "colorbar": {
            "outlinewidth": 0,
            "ticks": ""
           }
          },
          "colorscale": {
           "diverging": [
            [
             0,
             "#8e0152"
            ],
            [
             0.1,
             "#c51b7d"
            ],
            [
             0.2,
             "#de77ae"
            ],
            [
             0.3,
             "#f1b6da"
            ],
            [
             0.4,
             "#fde0ef"
            ],
            [
             0.5,
             "#f7f7f7"
            ],
            [
             0.6,
             "#e6f5d0"
            ],
            [
             0.7,
             "#b8e186"
            ],
            [
             0.8,
             "#7fbc41"
            ],
            [
             0.9,
             "#4d9221"
            ],
            [
             1,
             "#276419"
            ]
           ],
           "sequential": [
            [
             0,
             "#0d0887"
            ],
            [
             0.1111111111111111,
             "#46039f"
            ],
            [
             0.2222222222222222,
             "#7201a8"
            ],
            [
             0.3333333333333333,
             "#9c179e"
            ],
            [
             0.4444444444444444,
             "#bd3786"
            ],
            [
             0.5555555555555556,
             "#d8576b"
            ],
            [
             0.6666666666666666,
             "#ed7953"
            ],
            [
             0.7777777777777778,
             "#fb9f3a"
            ],
            [
             0.8888888888888888,
             "#fdca26"
            ],
            [
             1,
             "#f0f921"
            ]
           ],
           "sequentialminus": [
            [
             0,
             "#0d0887"
            ],
            [
             0.1111111111111111,
             "#46039f"
            ],
            [
             0.2222222222222222,
             "#7201a8"
            ],
            [
             0.3333333333333333,
             "#9c179e"
            ],
            [
             0.4444444444444444,
             "#bd3786"
            ],
            [
             0.5555555555555556,
             "#d8576b"
            ],
            [
             0.6666666666666666,
             "#ed7953"
            ],
            [
             0.7777777777777778,
             "#fb9f3a"
            ],
            [
             0.8888888888888888,
             "#fdca26"
            ],
            [
             1,
             "#f0f921"
            ]
           ]
          },
          "colorway": [
           "#636efa",
           "#EF553B",
           "#00cc96",
           "#ab63fa",
           "#FFA15A",
           "#19d3f3",
           "#FF6692",
           "#B6E880",
           "#FF97FF",
           "#FECB52"
          ],
          "font": {
           "color": "#2a3f5f"
          },
          "geo": {
           "bgcolor": "white",
           "lakecolor": "white",
           "landcolor": "#E5ECF6",
           "showlakes": true,
           "showland": true,
           "subunitcolor": "white"
          },
          "hoverlabel": {
           "align": "left"
          },
          "hovermode": "closest",
          "mapbox": {
           "style": "light"
          },
          "paper_bgcolor": "white",
          "plot_bgcolor": "#E5ECF6",
          "polar": {
           "angularaxis": {
            "gridcolor": "white",
            "linecolor": "white",
            "ticks": ""
           },
           "bgcolor": "#E5ECF6",
           "radialaxis": {
            "gridcolor": "white",
            "linecolor": "white",
            "ticks": ""
           }
          },
          "scene": {
           "xaxis": {
            "backgroundcolor": "#E5ECF6",
            "gridcolor": "white",
            "gridwidth": 2,
            "linecolor": "white",
            "showbackground": true,
            "ticks": "",
            "zerolinecolor": "white"
           },
           "yaxis": {
            "backgroundcolor": "#E5ECF6",
            "gridcolor": "white",
            "gridwidth": 2,
            "linecolor": "white",
            "showbackground": true,
            "ticks": "",
            "zerolinecolor": "white"
           },
           "zaxis": {
            "backgroundcolor": "#E5ECF6",
            "gridcolor": "white",
            "gridwidth": 2,
            "linecolor": "white",
            "showbackground": true,
            "ticks": "",
            "zerolinecolor": "white"
           }
          },
          "shapedefaults": {
           "line": {
            "color": "#2a3f5f"
           }
          },
          "ternary": {
           "aaxis": {
            "gridcolor": "white",
            "linecolor": "white",
            "ticks": ""
           },
           "baxis": {
            "gridcolor": "white",
            "linecolor": "white",
            "ticks": ""
           },
           "bgcolor": "#E5ECF6",
           "caxis": {
            "gridcolor": "white",
            "linecolor": "white",
            "ticks": ""
           }
          },
          "title": {
           "x": 0.05
          },
          "xaxis": {
           "automargin": true,
           "gridcolor": "white",
           "linecolor": "white",
           "ticks": "",
           "title": {
            "standoff": 15
           },
           "zerolinecolor": "white",
           "zerolinewidth": 2
          },
          "yaxis": {
           "automargin": true,
           "gridcolor": "white",
           "linecolor": "white",
           "ticks": "",
           "title": {
            "standoff": 15
           },
           "zerolinecolor": "white",
           "zerolinewidth": 2
          }
         }
        },
        "title": {
         "font": {
          "color": "#4D5663"
         }
        },
        "xaxis": {
         "gridcolor": "#E1E5ED",
         "showgrid": true,
         "tickfont": {
          "color": "#4D5663"
         },
         "title": {
          "font": {
           "color": "#4D5663"
          },
          "text": ""
         },
         "zerolinecolor": "#E1E5ED"
        },
        "yaxis": {
         "gridcolor": "#E1E5ED",
         "showgrid": true,
         "tickfont": {
          "color": "#4D5663"
         },
         "title": {
          "font": {
           "color": "#4D5663"
          },
          "text": ""
         },
         "zerolinecolor": "#E1E5ED"
        }
       }
      },
      "text/html": [
       "<div>\n",
       "        \n",
       "        \n",
       "            <div id=\"3c2a7406-5cf3-4838-82b4-77d8370d1b92\" class=\"plotly-graph-div\" style=\"height:525px; width:100%;\"></div>\n",
       "            <script type=\"text/javascript\">\n",
       "                require([\"plotly\"], function(Plotly) {\n",
       "                    window.PLOTLYENV=window.PLOTLYENV || {};\n",
       "                    window.PLOTLYENV.BASE_URL='https://plot.ly';\n",
       "                    \n",
       "                if (document.getElementById(\"3c2a7406-5cf3-4838-82b4-77d8370d1b92\")) {\n",
       "                    Plotly.newPlot(\n",
       "                        '3c2a7406-5cf3-4838-82b4-77d8370d1b92',\n",
       "                        [{\"line\": {\"color\": \"rgba(255, 153, 51, 1.0)\", \"dash\": \"solid\", \"shape\": \"linear\", \"width\": 1.3}, \"marker\": {\"size\": 10, \"symbol\": \"circle\"}, \"mode\": \"markers\", \"name\": \"B\", \"text\": \"\", \"type\": \"scatter\", \"x\": [-0.4219085963273162, 1.6821026955762655, 0.4309402142051801, 0.18411306212801068, -0.9281908221713763, -0.30874922794372156, -0.6290038474767073, -0.710791310697247, 0.17241542605474575, -0.8396869257109238, 0.3806311459364493, -0.09381049474443047, 1.5374181314768314, -0.43435294316790796, 0.6461335117639597, -0.12372906160993319, 0.3022970579415042, 0.20797545067424617, -1.1304501651601098, 1.1710948609964165, 0.41306944623653125, 1.9082257379137284, -0.05557142962097008, -1.0221174747845423, 1.1355091384569034, 1.1672445486913277, 1.2764241838725863, 2.3566817803969013, -1.2547557150229542, -1.7325392979131544, -1.2920823588295134, 0.7580820471569764, -1.1858168738788655, -0.4841514473365244, 0.6509296343287128, -0.11155686020046292, 1.5045969153456915, -0.12204236350353027, -0.05537132415007508, -0.28027869353027607, 0.9613497802818148, 0.9414707962483713, -0.22356717954305758, 0.7740342983721199, -0.7241989040863319, 0.02778003781964759, -0.024055724956834595, -0.915078920852879, 0.5544534137007058, -0.05977358602472853, 0.23458852778203726, -0.5512670496759174, -0.4314387696367131, 0.48138568092212886, 0.151312471088505, -1.2683697561726832, 1.1766160488988537, -0.27455824083556385, 0.07273934897587682, -0.8784205932002688, -1.6235056907620014, -0.644105336585791, -1.3059071560879678, 1.1747908906102706, -0.520795580404017, 1.5905914235182144, -1.0584157956032523, 0.017940488390363326, 0.21212164922397306, -0.7742147529291061, -0.07481568924787502, -0.7509498972280064, 0.40873810406643823, -0.35782741822032943, 1.3791574021604953, -0.4936108658569253, -0.1670321836666462, 0.0721790925295737, 0.7001017974476622, -0.7875091790993461, 0.0403208723208704, 0.3177404868415387, -0.056986594871039735, 0.4528785263940196, 0.6469206986380688, 0.41429955942854774, 0.12303138871638225, -0.4126393825177464, 0.819920664835239, 1.4600883911553522, 0.010063642024292574, -0.9264281665049272, -2.4315763663695646, -0.21280943033324837, -1.3301028052349306, 0.7023289550933015, -0.029671055859963696, 0.23193888262846393, -0.07874371469382994, -1.6085773535868477], \"y\": [-1.7613428979724588, -0.09620099849344611, -1.0905554749516704, 2.028413152575853, 0.5097144860421348, 1.9936676211707947, 1.0142506644633973, -0.5618289023209938, -0.40593562199118266, -1.3499737054571084, -0.5106714828156713, -0.6407829666278434, 0.33372601270807, 0.08363181122544312, 1.5301434413624457, -0.8945041877588099, 2.0783279038907225, -1.6943865920544647, -0.4621595926119647, -0.7571348170370275, 1.3747665089714545, 0.4985098936943716, 0.08972003187459004, 0.23342732028905913, 0.2189969800399268, -0.0820069040087503, -0.6706333343074938, -1.275543117599897, -1.3699509360814053, 0.3901952160800126, 0.40515476073494494, 0.8497911535020408, 0.15108663732483765, 1.2849528676590611, 0.17502127520127353, -0.856472190237345, 1.3755879423415716, -0.6203252186849335, 0.2970832302677778, 1.4228886617797616, -0.295302329657846, -0.40732886017309755, 1.204717054703365, 0.10595034653194314, -1.927542908557601, 0.5340788211371374, -1.2595527258535075, -0.11744097365828426, -1.2322722675875935, 0.21000255384490144, 1.2316223605540324, 0.6248158351987497, 1.717265073311003, 0.5085247036804371, 1.1493774496114195, 1.6357881500228615, 0.6774690954323394, -0.254747629906569, 0.7359939702818833, 0.0831781421552935, 0.13981334614546928, 1.345513651578312, -0.44745217561787265, -0.2960953959886017, -2.302161247246569, -0.7188463621845694, -0.6990455748270236, -1.348662227162689, -0.5216899224336029, 0.14048488250800598, 0.1925196557013099, 0.3260063565304941, 0.14063928666482584, 0.9388815352295453, -0.5127863210973753, 1.1415664506931398, 1.067019420763672, 1.339232991142909, -0.8317479833178933, 0.06714344889144137, 0.40199971911834576, 0.8336260811188723, 0.6530201532241336, 0.2790208938611128, 0.9227703952463245, 0.3807611966083535, 2.14936755196243, 0.7000220332676952, -0.20238099719791927, 0.7578390029744853, -2.0759354128982563, 0.4873792439363221, 0.4452307214159721, 1.2154920757915866, -1.042516814260215, -0.15670485695431474, 1.9590815581255574, -0.19864062355667617, 0.02011113860892017, -1.0559148650915064]}],\n",
       "                        {\"legend\": {\"bgcolor\": \"#F5F6F9\", \"font\": {\"color\": \"#4D5663\"}}, \"paper_bgcolor\": \"#F5F6F9\", \"plot_bgcolor\": \"#F5F6F9\", \"template\": {\"data\": {\"bar\": [{\"error_x\": {\"color\": \"#2a3f5f\"}, \"error_y\": {\"color\": \"#2a3f5f\"}, \"marker\": {\"line\": {\"color\": \"#E5ECF6\", \"width\": 0.5}}, \"type\": \"bar\"}], \"barpolar\": [{\"marker\": {\"line\": {\"color\": \"#E5ECF6\", \"width\": 0.5}}, \"type\": \"barpolar\"}], \"carpet\": [{\"aaxis\": {\"endlinecolor\": \"#2a3f5f\", \"gridcolor\": \"white\", \"linecolor\": \"white\", \"minorgridcolor\": \"white\", \"startlinecolor\": \"#2a3f5f\"}, \"baxis\": {\"endlinecolor\": \"#2a3f5f\", \"gridcolor\": \"white\", \"linecolor\": \"white\", \"minorgridcolor\": \"white\", \"startlinecolor\": \"#2a3f5f\"}, \"type\": \"carpet\"}], \"choropleth\": [{\"colorbar\": {\"outlinewidth\": 0, \"ticks\": \"\"}, \"type\": \"choropleth\"}], \"contour\": [{\"colorbar\": {\"outlinewidth\": 0, \"ticks\": \"\"}, \"colorscale\": [[0.0, \"#0d0887\"], [0.1111111111111111, \"#46039f\"], [0.2222222222222222, \"#7201a8\"], [0.3333333333333333, \"#9c179e\"], [0.4444444444444444, \"#bd3786\"], [0.5555555555555556, \"#d8576b\"], [0.6666666666666666, \"#ed7953\"], [0.7777777777777778, \"#fb9f3a\"], [0.8888888888888888, \"#fdca26\"], [1.0, \"#f0f921\"]], \"type\": \"contour\"}], \"contourcarpet\": [{\"colorbar\": {\"outlinewidth\": 0, \"ticks\": \"\"}, \"type\": \"contourcarpet\"}], \"heatmap\": [{\"colorbar\": {\"outlinewidth\": 0, \"ticks\": \"\"}, \"colorscale\": [[0.0, \"#0d0887\"], [0.1111111111111111, \"#46039f\"], [0.2222222222222222, \"#7201a8\"], [0.3333333333333333, \"#9c179e\"], [0.4444444444444444, \"#bd3786\"], [0.5555555555555556, \"#d8576b\"], [0.6666666666666666, \"#ed7953\"], [0.7777777777777778, \"#fb9f3a\"], [0.8888888888888888, \"#fdca26\"], [1.0, \"#f0f921\"]], \"type\": \"heatmap\"}], \"heatmapgl\": [{\"colorbar\": {\"outlinewidth\": 0, \"ticks\": \"\"}, \"colorscale\": [[0.0, \"#0d0887\"], [0.1111111111111111, \"#46039f\"], [0.2222222222222222, \"#7201a8\"], [0.3333333333333333, \"#9c179e\"], [0.4444444444444444, \"#bd3786\"], [0.5555555555555556, \"#d8576b\"], [0.6666666666666666, \"#ed7953\"], [0.7777777777777778, \"#fb9f3a\"], [0.8888888888888888, \"#fdca26\"], [1.0, \"#f0f921\"]], \"type\": \"heatmapgl\"}], \"histogram\": [{\"marker\": {\"colorbar\": {\"outlinewidth\": 0, \"ticks\": \"\"}}, \"type\": \"histogram\"}], \"histogram2d\": [{\"colorbar\": {\"outlinewidth\": 0, \"ticks\": \"\"}, \"colorscale\": [[0.0, \"#0d0887\"], [0.1111111111111111, \"#46039f\"], [0.2222222222222222, \"#7201a8\"], [0.3333333333333333, \"#9c179e\"], [0.4444444444444444, \"#bd3786\"], [0.5555555555555556, \"#d8576b\"], [0.6666666666666666, \"#ed7953\"], [0.7777777777777778, \"#fb9f3a\"], [0.8888888888888888, \"#fdca26\"], [1.0, \"#f0f921\"]], \"type\": \"histogram2d\"}], \"histogram2dcontour\": [{\"colorbar\": {\"outlinewidth\": 0, \"ticks\": \"\"}, \"colorscale\": [[0.0, \"#0d0887\"], [0.1111111111111111, \"#46039f\"], [0.2222222222222222, \"#7201a8\"], [0.3333333333333333, \"#9c179e\"], [0.4444444444444444, \"#bd3786\"], [0.5555555555555556, \"#d8576b\"], [0.6666666666666666, \"#ed7953\"], [0.7777777777777778, \"#fb9f3a\"], [0.8888888888888888, \"#fdca26\"], [1.0, \"#f0f921\"]], \"type\": \"histogram2dcontour\"}], \"mesh3d\": [{\"colorbar\": {\"outlinewidth\": 0, \"ticks\": \"\"}, \"type\": \"mesh3d\"}], \"parcoords\": [{\"line\": {\"colorbar\": {\"outlinewidth\": 0, \"ticks\": \"\"}}, \"type\": \"parcoords\"}], \"pie\": [{\"automargin\": true, \"type\": \"pie\"}], \"scatter\": [{\"marker\": {\"colorbar\": {\"outlinewidth\": 0, \"ticks\": \"\"}}, \"type\": \"scatter\"}], \"scatter3d\": [{\"line\": {\"colorbar\": {\"outlinewidth\": 0, \"ticks\": \"\"}}, \"marker\": {\"colorbar\": {\"outlinewidth\": 0, \"ticks\": \"\"}}, \"type\": \"scatter3d\"}], \"scattercarpet\": [{\"marker\": {\"colorbar\": {\"outlinewidth\": 0, \"ticks\": \"\"}}, \"type\": \"scattercarpet\"}], \"scattergeo\": [{\"marker\": {\"colorbar\": {\"outlinewidth\": 0, \"ticks\": \"\"}}, \"type\": \"scattergeo\"}], \"scattergl\": [{\"marker\": {\"colorbar\": {\"outlinewidth\": 0, \"ticks\": \"\"}}, \"type\": \"scattergl\"}], \"scattermapbox\": [{\"marker\": {\"colorbar\": {\"outlinewidth\": 0, \"ticks\": \"\"}}, \"type\": \"scattermapbox\"}], \"scatterpolar\": [{\"marker\": {\"colorbar\": {\"outlinewidth\": 0, \"ticks\": \"\"}}, \"type\": \"scatterpolar\"}], \"scatterpolargl\": [{\"marker\": {\"colorbar\": {\"outlinewidth\": 0, \"ticks\": \"\"}}, \"type\": \"scatterpolargl\"}], \"scatterternary\": [{\"marker\": {\"colorbar\": {\"outlinewidth\": 0, \"ticks\": \"\"}}, \"type\": \"scatterternary\"}], \"surface\": [{\"colorbar\": {\"outlinewidth\": 0, \"ticks\": \"\"}, \"colorscale\": [[0.0, \"#0d0887\"], [0.1111111111111111, \"#46039f\"], [0.2222222222222222, \"#7201a8\"], [0.3333333333333333, \"#9c179e\"], [0.4444444444444444, \"#bd3786\"], [0.5555555555555556, \"#d8576b\"], [0.6666666666666666, \"#ed7953\"], [0.7777777777777778, \"#fb9f3a\"], [0.8888888888888888, \"#fdca26\"], [1.0, \"#f0f921\"]], \"type\": \"surface\"}], \"table\": [{\"cells\": {\"fill\": {\"color\": \"#EBF0F8\"}, \"line\": {\"color\": \"white\"}}, \"header\": {\"fill\": {\"color\": \"#C8D4E3\"}, \"line\": {\"color\": \"white\"}}, \"type\": \"table\"}]}, \"layout\": {\"annotationdefaults\": {\"arrowcolor\": \"#2a3f5f\", \"arrowhead\": 0, \"arrowwidth\": 1}, \"coloraxis\": {\"colorbar\": {\"outlinewidth\": 0, \"ticks\": \"\"}}, \"colorscale\": {\"diverging\": [[0, \"#8e0152\"], [0.1, \"#c51b7d\"], [0.2, \"#de77ae\"], [0.3, \"#f1b6da\"], [0.4, \"#fde0ef\"], [0.5, \"#f7f7f7\"], [0.6, \"#e6f5d0\"], [0.7, \"#b8e186\"], [0.8, \"#7fbc41\"], [0.9, \"#4d9221\"], [1, \"#276419\"]], \"sequential\": [[0.0, \"#0d0887\"], [0.1111111111111111, \"#46039f\"], [0.2222222222222222, \"#7201a8\"], [0.3333333333333333, \"#9c179e\"], [0.4444444444444444, \"#bd3786\"], [0.5555555555555556, \"#d8576b\"], [0.6666666666666666, \"#ed7953\"], [0.7777777777777778, \"#fb9f3a\"], [0.8888888888888888, \"#fdca26\"], [1.0, \"#f0f921\"]], \"sequentialminus\": [[0.0, \"#0d0887\"], [0.1111111111111111, \"#46039f\"], [0.2222222222222222, \"#7201a8\"], [0.3333333333333333, \"#9c179e\"], [0.4444444444444444, \"#bd3786\"], [0.5555555555555556, \"#d8576b\"], [0.6666666666666666, \"#ed7953\"], [0.7777777777777778, \"#fb9f3a\"], [0.8888888888888888, \"#fdca26\"], [1.0, \"#f0f921\"]]}, \"colorway\": [\"#636efa\", \"#EF553B\", \"#00cc96\", \"#ab63fa\", \"#FFA15A\", \"#19d3f3\", \"#FF6692\", \"#B6E880\", \"#FF97FF\", \"#FECB52\"], \"font\": {\"color\": \"#2a3f5f\"}, \"geo\": {\"bgcolor\": \"white\", \"lakecolor\": \"white\", \"landcolor\": \"#E5ECF6\", \"showlakes\": true, \"showland\": true, \"subunitcolor\": \"white\"}, \"hoverlabel\": {\"align\": \"left\"}, \"hovermode\": \"closest\", \"mapbox\": {\"style\": \"light\"}, \"paper_bgcolor\": \"white\", \"plot_bgcolor\": \"#E5ECF6\", \"polar\": {\"angularaxis\": {\"gridcolor\": \"white\", \"linecolor\": \"white\", \"ticks\": \"\"}, \"bgcolor\": \"#E5ECF6\", \"radialaxis\": {\"gridcolor\": \"white\", \"linecolor\": \"white\", \"ticks\": \"\"}}, \"scene\": {\"xaxis\": {\"backgroundcolor\": \"#E5ECF6\", \"gridcolor\": \"white\", \"gridwidth\": 2, \"linecolor\": \"white\", \"showbackground\": true, \"ticks\": \"\", \"zerolinecolor\": \"white\"}, \"yaxis\": {\"backgroundcolor\": \"#E5ECF6\", \"gridcolor\": \"white\", \"gridwidth\": 2, \"linecolor\": \"white\", \"showbackground\": true, \"ticks\": \"\", \"zerolinecolor\": \"white\"}, \"zaxis\": {\"backgroundcolor\": \"#E5ECF6\", \"gridcolor\": \"white\", \"gridwidth\": 2, \"linecolor\": \"white\", \"showbackground\": true, \"ticks\": \"\", \"zerolinecolor\": \"white\"}}, \"shapedefaults\": {\"line\": {\"color\": \"#2a3f5f\"}}, \"ternary\": {\"aaxis\": {\"gridcolor\": \"white\", \"linecolor\": \"white\", \"ticks\": \"\"}, \"baxis\": {\"gridcolor\": \"white\", \"linecolor\": \"white\", \"ticks\": \"\"}, \"bgcolor\": \"#E5ECF6\", \"caxis\": {\"gridcolor\": \"white\", \"linecolor\": \"white\", \"ticks\": \"\"}}, \"title\": {\"x\": 0.05}, \"xaxis\": {\"automargin\": true, \"gridcolor\": \"white\", \"linecolor\": \"white\", \"ticks\": \"\", \"title\": {\"standoff\": 15}, \"zerolinecolor\": \"white\", \"zerolinewidth\": 2}, \"yaxis\": {\"automargin\": true, \"gridcolor\": \"white\", \"linecolor\": \"white\", \"ticks\": \"\", \"title\": {\"standoff\": 15}, \"zerolinecolor\": \"white\", \"zerolinewidth\": 2}}}, \"title\": {\"font\": {\"color\": \"#4D5663\"}}, \"xaxis\": {\"gridcolor\": \"#E1E5ED\", \"showgrid\": true, \"tickfont\": {\"color\": \"#4D5663\"}, \"title\": {\"font\": {\"color\": \"#4D5663\"}, \"text\": \"\"}, \"zerolinecolor\": \"#E1E5ED\"}, \"yaxis\": {\"gridcolor\": \"#E1E5ED\", \"showgrid\": true, \"tickfont\": {\"color\": \"#4D5663\"}, \"title\": {\"font\": {\"color\": \"#4D5663\"}, \"text\": \"\"}, \"zerolinecolor\": \"#E1E5ED\"}},\n",
       "                        {\"showLink\": true, \"linkText\": \"Export to plot.ly\", \"plotlyServerURL\": \"https://plot.ly\", \"responsive\": true}\n",
       "                    ).then(function(){\n",
       "                            \n",
       "var gd = document.getElementById('3c2a7406-5cf3-4838-82b4-77d8370d1b92');\n",
       "var x = new MutationObserver(function (mutations, observer) {{\n",
       "        var display = window.getComputedStyle(gd).display;\n",
       "        if (!display || display === 'none') {{\n",
       "            console.log([gd, 'removed!']);\n",
       "            Plotly.purge(gd);\n",
       "            observer.disconnect();\n",
       "        }}\n",
       "}});\n",
       "\n",
       "// Listen for the removal of the full notebook cells\n",
       "var notebookContainer = gd.closest('#notebook-container');\n",
       "if (notebookContainer) {{\n",
       "    x.observe(notebookContainer, {childList: true});\n",
       "}}\n",
       "\n",
       "// Listen for the clearing of the current output cell\n",
       "var outputEl = gd.closest('.output');\n",
       "if (outputEl) {{\n",
       "    x.observe(outputEl, {childList: true});\n",
       "}}\n",
       "\n",
       "                        })\n",
       "                };\n",
       "                });\n",
       "            </script>\n",
       "        </div>"
      ]
     },
     "metadata": {},
     "output_type": "display_data"
    }
   ],
   "source": [
    "df.iplot(kind='scatter',x='A',y='B',mode='markers',size=10)"
   ]
  },
  {
   "cell_type": "markdown",
   "metadata": {},
   "source": [
    "## Bar Plots"
   ]
  },
  {
   "cell_type": "code",
   "execution_count": 11,
   "metadata": {},
   "outputs": [
    {
     "data": {
      "application/vnd.plotly.v1+json": {
       "config": {
        "linkText": "Export to plot.ly",
        "plotlyServerURL": "https://plot.ly",
        "showLink": true
       },
       "data": [
        {
         "marker": {
          "color": "rgba(255, 153, 51, 0.6)",
          "line": {
           "color": "rgba(255, 153, 51, 1.0)",
           "width": 1
          }
         },
         "name": "Values",
         "orientation": "v",
         "text": "",
         "type": "bar",
         "x": [
          "A",
          "B",
          "C"
         ],
         "y": [
          32,
          43,
          50
         ]
        }
       ],
       "layout": {
        "legend": {
         "bgcolor": "#F5F6F9",
         "font": {
          "color": "#4D5663"
         }
        },
        "paper_bgcolor": "#F5F6F9",
        "plot_bgcolor": "#F5F6F9",
        "template": {
         "data": {
          "bar": [
           {
            "error_x": {
             "color": "#2a3f5f"
            },
            "error_y": {
             "color": "#2a3f5f"
            },
            "marker": {
             "line": {
              "color": "#E5ECF6",
              "width": 0.5
             }
            },
            "type": "bar"
           }
          ],
          "barpolar": [
           {
            "marker": {
             "line": {
              "color": "#E5ECF6",
              "width": 0.5
             }
            },
            "type": "barpolar"
           }
          ],
          "carpet": [
           {
            "aaxis": {
             "endlinecolor": "#2a3f5f",
             "gridcolor": "white",
             "linecolor": "white",
             "minorgridcolor": "white",
             "startlinecolor": "#2a3f5f"
            },
            "baxis": {
             "endlinecolor": "#2a3f5f",
             "gridcolor": "white",
             "linecolor": "white",
             "minorgridcolor": "white",
             "startlinecolor": "#2a3f5f"
            },
            "type": "carpet"
           }
          ],
          "choropleth": [
           {
            "colorbar": {
             "outlinewidth": 0,
             "ticks": ""
            },
            "type": "choropleth"
           }
          ],
          "contour": [
           {
            "colorbar": {
             "outlinewidth": 0,
             "ticks": ""
            },
            "colorscale": [
             [
              0,
              "#0d0887"
             ],
             [
              0.1111111111111111,
              "#46039f"
             ],
             [
              0.2222222222222222,
              "#7201a8"
             ],
             [
              0.3333333333333333,
              "#9c179e"
             ],
             [
              0.4444444444444444,
              "#bd3786"
             ],
             [
              0.5555555555555556,
              "#d8576b"
             ],
             [
              0.6666666666666666,
              "#ed7953"
             ],
             [
              0.7777777777777778,
              "#fb9f3a"
             ],
             [
              0.8888888888888888,
              "#fdca26"
             ],
             [
              1,
              "#f0f921"
             ]
            ],
            "type": "contour"
           }
          ],
          "contourcarpet": [
           {
            "colorbar": {
             "outlinewidth": 0,
             "ticks": ""
            },
            "type": "contourcarpet"
           }
          ],
          "heatmap": [
           {
            "colorbar": {
             "outlinewidth": 0,
             "ticks": ""
            },
            "colorscale": [
             [
              0,
              "#0d0887"
             ],
             [
              0.1111111111111111,
              "#46039f"
             ],
             [
              0.2222222222222222,
              "#7201a8"
             ],
             [
              0.3333333333333333,
              "#9c179e"
             ],
             [
              0.4444444444444444,
              "#bd3786"
             ],
             [
              0.5555555555555556,
              "#d8576b"
             ],
             [
              0.6666666666666666,
              "#ed7953"
             ],
             [
              0.7777777777777778,
              "#fb9f3a"
             ],
             [
              0.8888888888888888,
              "#fdca26"
             ],
             [
              1,
              "#f0f921"
             ]
            ],
            "type": "heatmap"
           }
          ],
          "heatmapgl": [
           {
            "colorbar": {
             "outlinewidth": 0,
             "ticks": ""
            },
            "colorscale": [
             [
              0,
              "#0d0887"
             ],
             [
              0.1111111111111111,
              "#46039f"
             ],
             [
              0.2222222222222222,
              "#7201a8"
             ],
             [
              0.3333333333333333,
              "#9c179e"
             ],
             [
              0.4444444444444444,
              "#bd3786"
             ],
             [
              0.5555555555555556,
              "#d8576b"
             ],
             [
              0.6666666666666666,
              "#ed7953"
             ],
             [
              0.7777777777777778,
              "#fb9f3a"
             ],
             [
              0.8888888888888888,
              "#fdca26"
             ],
             [
              1,
              "#f0f921"
             ]
            ],
            "type": "heatmapgl"
           }
          ],
          "histogram": [
           {
            "marker": {
             "colorbar": {
              "outlinewidth": 0,
              "ticks": ""
             }
            },
            "type": "histogram"
           }
          ],
          "histogram2d": [
           {
            "colorbar": {
             "outlinewidth": 0,
             "ticks": ""
            },
            "colorscale": [
             [
              0,
              "#0d0887"
             ],
             [
              0.1111111111111111,
              "#46039f"
             ],
             [
              0.2222222222222222,
              "#7201a8"
             ],
             [
              0.3333333333333333,
              "#9c179e"
             ],
             [
              0.4444444444444444,
              "#bd3786"
             ],
             [
              0.5555555555555556,
              "#d8576b"
             ],
             [
              0.6666666666666666,
              "#ed7953"
             ],
             [
              0.7777777777777778,
              "#fb9f3a"
             ],
             [
              0.8888888888888888,
              "#fdca26"
             ],
             [
              1,
              "#f0f921"
             ]
            ],
            "type": "histogram2d"
           }
          ],
          "histogram2dcontour": [
           {
            "colorbar": {
             "outlinewidth": 0,
             "ticks": ""
            },
            "colorscale": [
             [
              0,
              "#0d0887"
             ],
             [
              0.1111111111111111,
              "#46039f"
             ],
             [
              0.2222222222222222,
              "#7201a8"
             ],
             [
              0.3333333333333333,
              "#9c179e"
             ],
             [
              0.4444444444444444,
              "#bd3786"
             ],
             [
              0.5555555555555556,
              "#d8576b"
             ],
             [
              0.6666666666666666,
              "#ed7953"
             ],
             [
              0.7777777777777778,
              "#fb9f3a"
             ],
             [
              0.8888888888888888,
              "#fdca26"
             ],
             [
              1,
              "#f0f921"
             ]
            ],
            "type": "histogram2dcontour"
           }
          ],
          "mesh3d": [
           {
            "colorbar": {
             "outlinewidth": 0,
             "ticks": ""
            },
            "type": "mesh3d"
           }
          ],
          "parcoords": [
           {
            "line": {
             "colorbar": {
              "outlinewidth": 0,
              "ticks": ""
             }
            },
            "type": "parcoords"
           }
          ],
          "pie": [
           {
            "automargin": true,
            "type": "pie"
           }
          ],
          "scatter": [
           {
            "marker": {
             "colorbar": {
              "outlinewidth": 0,
              "ticks": ""
             }
            },
            "type": "scatter"
           }
          ],
          "scatter3d": [
           {
            "line": {
             "colorbar": {
              "outlinewidth": 0,
              "ticks": ""
             }
            },
            "marker": {
             "colorbar": {
              "outlinewidth": 0,
              "ticks": ""
             }
            },
            "type": "scatter3d"
           }
          ],
          "scattercarpet": [
           {
            "marker": {
             "colorbar": {
              "outlinewidth": 0,
              "ticks": ""
             }
            },
            "type": "scattercarpet"
           }
          ],
          "scattergeo": [
           {
            "marker": {
             "colorbar": {
              "outlinewidth": 0,
              "ticks": ""
             }
            },
            "type": "scattergeo"
           }
          ],
          "scattergl": [
           {
            "marker": {
             "colorbar": {
              "outlinewidth": 0,
              "ticks": ""
             }
            },
            "type": "scattergl"
           }
          ],
          "scattermapbox": [
           {
            "marker": {
             "colorbar": {
              "outlinewidth": 0,
              "ticks": ""
             }
            },
            "type": "scattermapbox"
           }
          ],
          "scatterpolar": [
           {
            "marker": {
             "colorbar": {
              "outlinewidth": 0,
              "ticks": ""
             }
            },
            "type": "scatterpolar"
           }
          ],
          "scatterpolargl": [
           {
            "marker": {
             "colorbar": {
              "outlinewidth": 0,
              "ticks": ""
             }
            },
            "type": "scatterpolargl"
           }
          ],
          "scatterternary": [
           {
            "marker": {
             "colorbar": {
              "outlinewidth": 0,
              "ticks": ""
             }
            },
            "type": "scatterternary"
           }
          ],
          "surface": [
           {
            "colorbar": {
             "outlinewidth": 0,
             "ticks": ""
            },
            "colorscale": [
             [
              0,
              "#0d0887"
             ],
             [
              0.1111111111111111,
              "#46039f"
             ],
             [
              0.2222222222222222,
              "#7201a8"
             ],
             [
              0.3333333333333333,
              "#9c179e"
             ],
             [
              0.4444444444444444,
              "#bd3786"
             ],
             [
              0.5555555555555556,
              "#d8576b"
             ],
             [
              0.6666666666666666,
              "#ed7953"
             ],
             [
              0.7777777777777778,
              "#fb9f3a"
             ],
             [
              0.8888888888888888,
              "#fdca26"
             ],
             [
              1,
              "#f0f921"
             ]
            ],
            "type": "surface"
           }
          ],
          "table": [
           {
            "cells": {
             "fill": {
              "color": "#EBF0F8"
             },
             "line": {
              "color": "white"
             }
            },
            "header": {
             "fill": {
              "color": "#C8D4E3"
             },
             "line": {
              "color": "white"
             }
            },
            "type": "table"
           }
          ]
         },
         "layout": {
          "annotationdefaults": {
           "arrowcolor": "#2a3f5f",
           "arrowhead": 0,
           "arrowwidth": 1
          },
          "coloraxis": {
           "colorbar": {
            "outlinewidth": 0,
            "ticks": ""
           }
          },
          "colorscale": {
           "diverging": [
            [
             0,
             "#8e0152"
            ],
            [
             0.1,
             "#c51b7d"
            ],
            [
             0.2,
             "#de77ae"
            ],
            [
             0.3,
             "#f1b6da"
            ],
            [
             0.4,
             "#fde0ef"
            ],
            [
             0.5,
             "#f7f7f7"
            ],
            [
             0.6,
             "#e6f5d0"
            ],
            [
             0.7,
             "#b8e186"
            ],
            [
             0.8,
             "#7fbc41"
            ],
            [
             0.9,
             "#4d9221"
            ],
            [
             1,
             "#276419"
            ]
           ],
           "sequential": [
            [
             0,
             "#0d0887"
            ],
            [
             0.1111111111111111,
             "#46039f"
            ],
            [
             0.2222222222222222,
             "#7201a8"
            ],
            [
             0.3333333333333333,
             "#9c179e"
            ],
            [
             0.4444444444444444,
             "#bd3786"
            ],
            [
             0.5555555555555556,
             "#d8576b"
            ],
            [
             0.6666666666666666,
             "#ed7953"
            ],
            [
             0.7777777777777778,
             "#fb9f3a"
            ],
            [
             0.8888888888888888,
             "#fdca26"
            ],
            [
             1,
             "#f0f921"
            ]
           ],
           "sequentialminus": [
            [
             0,
             "#0d0887"
            ],
            [
             0.1111111111111111,
             "#46039f"
            ],
            [
             0.2222222222222222,
             "#7201a8"
            ],
            [
             0.3333333333333333,
             "#9c179e"
            ],
            [
             0.4444444444444444,
             "#bd3786"
            ],
            [
             0.5555555555555556,
             "#d8576b"
            ],
            [
             0.6666666666666666,
             "#ed7953"
            ],
            [
             0.7777777777777778,
             "#fb9f3a"
            ],
            [
             0.8888888888888888,
             "#fdca26"
            ],
            [
             1,
             "#f0f921"
            ]
           ]
          },
          "colorway": [
           "#636efa",
           "#EF553B",
           "#00cc96",
           "#ab63fa",
           "#FFA15A",
           "#19d3f3",
           "#FF6692",
           "#B6E880",
           "#FF97FF",
           "#FECB52"
          ],
          "font": {
           "color": "#2a3f5f"
          },
          "geo": {
           "bgcolor": "white",
           "lakecolor": "white",
           "landcolor": "#E5ECF6",
           "showlakes": true,
           "showland": true,
           "subunitcolor": "white"
          },
          "hoverlabel": {
           "align": "left"
          },
          "hovermode": "closest",
          "mapbox": {
           "style": "light"
          },
          "paper_bgcolor": "white",
          "plot_bgcolor": "#E5ECF6",
          "polar": {
           "angularaxis": {
            "gridcolor": "white",
            "linecolor": "white",
            "ticks": ""
           },
           "bgcolor": "#E5ECF6",
           "radialaxis": {
            "gridcolor": "white",
            "linecolor": "white",
            "ticks": ""
           }
          },
          "scene": {
           "xaxis": {
            "backgroundcolor": "#E5ECF6",
            "gridcolor": "white",
            "gridwidth": 2,
            "linecolor": "white",
            "showbackground": true,
            "ticks": "",
            "zerolinecolor": "white"
           },
           "yaxis": {
            "backgroundcolor": "#E5ECF6",
            "gridcolor": "white",
            "gridwidth": 2,
            "linecolor": "white",
            "showbackground": true,
            "ticks": "",
            "zerolinecolor": "white"
           },
           "zaxis": {
            "backgroundcolor": "#E5ECF6",
            "gridcolor": "white",
            "gridwidth": 2,
            "linecolor": "white",
            "showbackground": true,
            "ticks": "",
            "zerolinecolor": "white"
           }
          },
          "shapedefaults": {
           "line": {
            "color": "#2a3f5f"
           }
          },
          "ternary": {
           "aaxis": {
            "gridcolor": "white",
            "linecolor": "white",
            "ticks": ""
           },
           "baxis": {
            "gridcolor": "white",
            "linecolor": "white",
            "ticks": ""
           },
           "bgcolor": "#E5ECF6",
           "caxis": {
            "gridcolor": "white",
            "linecolor": "white",
            "ticks": ""
           }
          },
          "title": {
           "x": 0.05
          },
          "xaxis": {
           "automargin": true,
           "gridcolor": "white",
           "linecolor": "white",
           "ticks": "",
           "title": {
            "standoff": 15
           },
           "zerolinecolor": "white",
           "zerolinewidth": 2
          },
          "yaxis": {
           "automargin": true,
           "gridcolor": "white",
           "linecolor": "white",
           "ticks": "",
           "title": {
            "standoff": 15
           },
           "zerolinecolor": "white",
           "zerolinewidth": 2
          }
         }
        },
        "title": {
         "font": {
          "color": "#4D5663"
         }
        },
        "xaxis": {
         "gridcolor": "#E1E5ED",
         "showgrid": true,
         "tickfont": {
          "color": "#4D5663"
         },
         "title": {
          "font": {
           "color": "#4D5663"
          },
          "text": ""
         },
         "zerolinecolor": "#E1E5ED"
        },
        "yaxis": {
         "gridcolor": "#E1E5ED",
         "showgrid": true,
         "tickfont": {
          "color": "#4D5663"
         },
         "title": {
          "font": {
           "color": "#4D5663"
          },
          "text": ""
         },
         "zerolinecolor": "#E1E5ED"
        }
       }
      },
      "text/html": [
       "<div>\n",
       "        \n",
       "        \n",
       "            <div id=\"7011f54a-6984-47ca-8750-db1d9d260d0d\" class=\"plotly-graph-div\" style=\"height:525px; width:100%;\"></div>\n",
       "            <script type=\"text/javascript\">\n",
       "                require([\"plotly\"], function(Plotly) {\n",
       "                    window.PLOTLYENV=window.PLOTLYENV || {};\n",
       "                    window.PLOTLYENV.BASE_URL='https://plot.ly';\n",
       "                    \n",
       "                if (document.getElementById(\"7011f54a-6984-47ca-8750-db1d9d260d0d\")) {\n",
       "                    Plotly.newPlot(\n",
       "                        '7011f54a-6984-47ca-8750-db1d9d260d0d',\n",
       "                        [{\"marker\": {\"color\": \"rgba(255, 153, 51, 0.6)\", \"line\": {\"color\": \"rgba(255, 153, 51, 1.0)\", \"width\": 1}}, \"name\": \"Values\", \"orientation\": \"v\", \"text\": \"\", \"type\": \"bar\", \"x\": [\"A\", \"B\", \"C\"], \"y\": [32, 43, 50]}],\n",
       "                        {\"legend\": {\"bgcolor\": \"#F5F6F9\", \"font\": {\"color\": \"#4D5663\"}}, \"paper_bgcolor\": \"#F5F6F9\", \"plot_bgcolor\": \"#F5F6F9\", \"template\": {\"data\": {\"bar\": [{\"error_x\": {\"color\": \"#2a3f5f\"}, \"error_y\": {\"color\": \"#2a3f5f\"}, \"marker\": {\"line\": {\"color\": \"#E5ECF6\", \"width\": 0.5}}, \"type\": \"bar\"}], \"barpolar\": [{\"marker\": {\"line\": {\"color\": \"#E5ECF6\", \"width\": 0.5}}, \"type\": \"barpolar\"}], \"carpet\": [{\"aaxis\": {\"endlinecolor\": \"#2a3f5f\", \"gridcolor\": \"white\", \"linecolor\": \"white\", \"minorgridcolor\": \"white\", \"startlinecolor\": \"#2a3f5f\"}, \"baxis\": {\"endlinecolor\": \"#2a3f5f\", \"gridcolor\": \"white\", \"linecolor\": \"white\", \"minorgridcolor\": \"white\", \"startlinecolor\": \"#2a3f5f\"}, \"type\": \"carpet\"}], \"choropleth\": [{\"colorbar\": {\"outlinewidth\": 0, \"ticks\": \"\"}, \"type\": \"choropleth\"}], \"contour\": [{\"colorbar\": {\"outlinewidth\": 0, \"ticks\": \"\"}, \"colorscale\": [[0.0, \"#0d0887\"], [0.1111111111111111, \"#46039f\"], [0.2222222222222222, \"#7201a8\"], [0.3333333333333333, \"#9c179e\"], [0.4444444444444444, \"#bd3786\"], [0.5555555555555556, \"#d8576b\"], [0.6666666666666666, \"#ed7953\"], [0.7777777777777778, \"#fb9f3a\"], [0.8888888888888888, \"#fdca26\"], [1.0, \"#f0f921\"]], \"type\": \"contour\"}], \"contourcarpet\": [{\"colorbar\": {\"outlinewidth\": 0, \"ticks\": \"\"}, \"type\": \"contourcarpet\"}], \"heatmap\": [{\"colorbar\": {\"outlinewidth\": 0, \"ticks\": \"\"}, \"colorscale\": [[0.0, \"#0d0887\"], [0.1111111111111111, \"#46039f\"], [0.2222222222222222, \"#7201a8\"], [0.3333333333333333, \"#9c179e\"], [0.4444444444444444, \"#bd3786\"], [0.5555555555555556, \"#d8576b\"], [0.6666666666666666, \"#ed7953\"], [0.7777777777777778, \"#fb9f3a\"], [0.8888888888888888, \"#fdca26\"], [1.0, \"#f0f921\"]], \"type\": \"heatmap\"}], \"heatmapgl\": [{\"colorbar\": {\"outlinewidth\": 0, \"ticks\": \"\"}, \"colorscale\": [[0.0, \"#0d0887\"], [0.1111111111111111, \"#46039f\"], [0.2222222222222222, \"#7201a8\"], [0.3333333333333333, \"#9c179e\"], [0.4444444444444444, \"#bd3786\"], [0.5555555555555556, \"#d8576b\"], [0.6666666666666666, \"#ed7953\"], [0.7777777777777778, \"#fb9f3a\"], [0.8888888888888888, \"#fdca26\"], [1.0, \"#f0f921\"]], \"type\": \"heatmapgl\"}], \"histogram\": [{\"marker\": {\"colorbar\": {\"outlinewidth\": 0, \"ticks\": \"\"}}, \"type\": \"histogram\"}], \"histogram2d\": [{\"colorbar\": {\"outlinewidth\": 0, \"ticks\": \"\"}, \"colorscale\": [[0.0, \"#0d0887\"], [0.1111111111111111, \"#46039f\"], [0.2222222222222222, \"#7201a8\"], [0.3333333333333333, \"#9c179e\"], [0.4444444444444444, \"#bd3786\"], [0.5555555555555556, \"#d8576b\"], [0.6666666666666666, \"#ed7953\"], [0.7777777777777778, \"#fb9f3a\"], [0.8888888888888888, \"#fdca26\"], [1.0, \"#f0f921\"]], \"type\": \"histogram2d\"}], \"histogram2dcontour\": [{\"colorbar\": {\"outlinewidth\": 0, \"ticks\": \"\"}, \"colorscale\": [[0.0, \"#0d0887\"], [0.1111111111111111, \"#46039f\"], [0.2222222222222222, \"#7201a8\"], [0.3333333333333333, \"#9c179e\"], [0.4444444444444444, \"#bd3786\"], [0.5555555555555556, \"#d8576b\"], [0.6666666666666666, \"#ed7953\"], [0.7777777777777778, \"#fb9f3a\"], [0.8888888888888888, \"#fdca26\"], [1.0, \"#f0f921\"]], \"type\": \"histogram2dcontour\"}], \"mesh3d\": [{\"colorbar\": {\"outlinewidth\": 0, \"ticks\": \"\"}, \"type\": \"mesh3d\"}], \"parcoords\": [{\"line\": {\"colorbar\": {\"outlinewidth\": 0, \"ticks\": \"\"}}, \"type\": \"parcoords\"}], \"pie\": [{\"automargin\": true, \"type\": \"pie\"}], \"scatter\": [{\"marker\": {\"colorbar\": {\"outlinewidth\": 0, \"ticks\": \"\"}}, \"type\": \"scatter\"}], \"scatter3d\": [{\"line\": {\"colorbar\": {\"outlinewidth\": 0, \"ticks\": \"\"}}, \"marker\": {\"colorbar\": {\"outlinewidth\": 0, \"ticks\": \"\"}}, \"type\": \"scatter3d\"}], \"scattercarpet\": [{\"marker\": {\"colorbar\": {\"outlinewidth\": 0, \"ticks\": \"\"}}, \"type\": \"scattercarpet\"}], \"scattergeo\": [{\"marker\": {\"colorbar\": {\"outlinewidth\": 0, \"ticks\": \"\"}}, \"type\": \"scattergeo\"}], \"scattergl\": [{\"marker\": {\"colorbar\": {\"outlinewidth\": 0, \"ticks\": \"\"}}, \"type\": \"scattergl\"}], \"scattermapbox\": [{\"marker\": {\"colorbar\": {\"outlinewidth\": 0, \"ticks\": \"\"}}, \"type\": \"scattermapbox\"}], \"scatterpolar\": [{\"marker\": {\"colorbar\": {\"outlinewidth\": 0, \"ticks\": \"\"}}, \"type\": \"scatterpolar\"}], \"scatterpolargl\": [{\"marker\": {\"colorbar\": {\"outlinewidth\": 0, \"ticks\": \"\"}}, \"type\": \"scatterpolargl\"}], \"scatterternary\": [{\"marker\": {\"colorbar\": {\"outlinewidth\": 0, \"ticks\": \"\"}}, \"type\": \"scatterternary\"}], \"surface\": [{\"colorbar\": {\"outlinewidth\": 0, \"ticks\": \"\"}, \"colorscale\": [[0.0, \"#0d0887\"], [0.1111111111111111, \"#46039f\"], [0.2222222222222222, \"#7201a8\"], [0.3333333333333333, \"#9c179e\"], [0.4444444444444444, \"#bd3786\"], [0.5555555555555556, \"#d8576b\"], [0.6666666666666666, \"#ed7953\"], [0.7777777777777778, \"#fb9f3a\"], [0.8888888888888888, \"#fdca26\"], [1.0, \"#f0f921\"]], \"type\": \"surface\"}], \"table\": [{\"cells\": {\"fill\": {\"color\": \"#EBF0F8\"}, \"line\": {\"color\": \"white\"}}, \"header\": {\"fill\": {\"color\": \"#C8D4E3\"}, \"line\": {\"color\": \"white\"}}, \"type\": \"table\"}]}, \"layout\": {\"annotationdefaults\": {\"arrowcolor\": \"#2a3f5f\", \"arrowhead\": 0, \"arrowwidth\": 1}, \"coloraxis\": {\"colorbar\": {\"outlinewidth\": 0, \"ticks\": \"\"}}, \"colorscale\": {\"diverging\": [[0, \"#8e0152\"], [0.1, \"#c51b7d\"], [0.2, \"#de77ae\"], [0.3, \"#f1b6da\"], [0.4, \"#fde0ef\"], [0.5, \"#f7f7f7\"], [0.6, \"#e6f5d0\"], [0.7, \"#b8e186\"], [0.8, \"#7fbc41\"], [0.9, \"#4d9221\"], [1, \"#276419\"]], \"sequential\": [[0.0, \"#0d0887\"], [0.1111111111111111, \"#46039f\"], [0.2222222222222222, \"#7201a8\"], [0.3333333333333333, \"#9c179e\"], [0.4444444444444444, \"#bd3786\"], [0.5555555555555556, \"#d8576b\"], [0.6666666666666666, \"#ed7953\"], [0.7777777777777778, \"#fb9f3a\"], [0.8888888888888888, \"#fdca26\"], [1.0, \"#f0f921\"]], \"sequentialminus\": [[0.0, \"#0d0887\"], [0.1111111111111111, \"#46039f\"], [0.2222222222222222, \"#7201a8\"], [0.3333333333333333, \"#9c179e\"], [0.4444444444444444, \"#bd3786\"], [0.5555555555555556, \"#d8576b\"], [0.6666666666666666, \"#ed7953\"], [0.7777777777777778, \"#fb9f3a\"], [0.8888888888888888, \"#fdca26\"], [1.0, \"#f0f921\"]]}, \"colorway\": [\"#636efa\", \"#EF553B\", \"#00cc96\", \"#ab63fa\", \"#FFA15A\", \"#19d3f3\", \"#FF6692\", \"#B6E880\", \"#FF97FF\", \"#FECB52\"], \"font\": {\"color\": \"#2a3f5f\"}, \"geo\": {\"bgcolor\": \"white\", \"lakecolor\": \"white\", \"landcolor\": \"#E5ECF6\", \"showlakes\": true, \"showland\": true, \"subunitcolor\": \"white\"}, \"hoverlabel\": {\"align\": \"left\"}, \"hovermode\": \"closest\", \"mapbox\": {\"style\": \"light\"}, \"paper_bgcolor\": \"white\", \"plot_bgcolor\": \"#E5ECF6\", \"polar\": {\"angularaxis\": {\"gridcolor\": \"white\", \"linecolor\": \"white\", \"ticks\": \"\"}, \"bgcolor\": \"#E5ECF6\", \"radialaxis\": {\"gridcolor\": \"white\", \"linecolor\": \"white\", \"ticks\": \"\"}}, \"scene\": {\"xaxis\": {\"backgroundcolor\": \"#E5ECF6\", \"gridcolor\": \"white\", \"gridwidth\": 2, \"linecolor\": \"white\", \"showbackground\": true, \"ticks\": \"\", \"zerolinecolor\": \"white\"}, \"yaxis\": {\"backgroundcolor\": \"#E5ECF6\", \"gridcolor\": \"white\", \"gridwidth\": 2, \"linecolor\": \"white\", \"showbackground\": true, \"ticks\": \"\", \"zerolinecolor\": \"white\"}, \"zaxis\": {\"backgroundcolor\": \"#E5ECF6\", \"gridcolor\": \"white\", \"gridwidth\": 2, \"linecolor\": \"white\", \"showbackground\": true, \"ticks\": \"\", \"zerolinecolor\": \"white\"}}, \"shapedefaults\": {\"line\": {\"color\": \"#2a3f5f\"}}, \"ternary\": {\"aaxis\": {\"gridcolor\": \"white\", \"linecolor\": \"white\", \"ticks\": \"\"}, \"baxis\": {\"gridcolor\": \"white\", \"linecolor\": \"white\", \"ticks\": \"\"}, \"bgcolor\": \"#E5ECF6\", \"caxis\": {\"gridcolor\": \"white\", \"linecolor\": \"white\", \"ticks\": \"\"}}, \"title\": {\"x\": 0.05}, \"xaxis\": {\"automargin\": true, \"gridcolor\": \"white\", \"linecolor\": \"white\", \"ticks\": \"\", \"title\": {\"standoff\": 15}, \"zerolinecolor\": \"white\", \"zerolinewidth\": 2}, \"yaxis\": {\"automargin\": true, \"gridcolor\": \"white\", \"linecolor\": \"white\", \"ticks\": \"\", \"title\": {\"standoff\": 15}, \"zerolinecolor\": \"white\", \"zerolinewidth\": 2}}}, \"title\": {\"font\": {\"color\": \"#4D5663\"}}, \"xaxis\": {\"gridcolor\": \"#E1E5ED\", \"showgrid\": true, \"tickfont\": {\"color\": \"#4D5663\"}, \"title\": {\"font\": {\"color\": \"#4D5663\"}, \"text\": \"\"}, \"zerolinecolor\": \"#E1E5ED\"}, \"yaxis\": {\"gridcolor\": \"#E1E5ED\", \"showgrid\": true, \"tickfont\": {\"color\": \"#4D5663\"}, \"title\": {\"font\": {\"color\": \"#4D5663\"}, \"text\": \"\"}, \"zerolinecolor\": \"#E1E5ED\"}},\n",
       "                        {\"showLink\": true, \"linkText\": \"Export to plot.ly\", \"plotlyServerURL\": \"https://plot.ly\", \"responsive\": true}\n",
       "                    ).then(function(){\n",
       "                            \n",
       "var gd = document.getElementById('7011f54a-6984-47ca-8750-db1d9d260d0d');\n",
       "var x = new MutationObserver(function (mutations, observer) {{\n",
       "        var display = window.getComputedStyle(gd).display;\n",
       "        if (!display || display === 'none') {{\n",
       "            console.log([gd, 'removed!']);\n",
       "            Plotly.purge(gd);\n",
       "            observer.disconnect();\n",
       "        }}\n",
       "}});\n",
       "\n",
       "// Listen for the removal of the full notebook cells\n",
       "var notebookContainer = gd.closest('#notebook-container');\n",
       "if (notebookContainer) {{\n",
       "    x.observe(notebookContainer, {childList: true});\n",
       "}}\n",
       "\n",
       "// Listen for the clearing of the current output cell\n",
       "var outputEl = gd.closest('.output');\n",
       "if (outputEl) {{\n",
       "    x.observe(outputEl, {childList: true});\n",
       "}}\n",
       "\n",
       "                        })\n",
       "                };\n",
       "                });\n",
       "            </script>\n",
       "        </div>"
      ]
     },
     "metadata": {},
     "output_type": "display_data"
    }
   ],
   "source": [
    "df2.iplot(kind='bar',x='Category',y='Values')"
   ]
  },
  {
   "cell_type": "code",
   "execution_count": 12,
   "metadata": {},
   "outputs": [
    {
     "data": {
      "application/vnd.plotly.v1+json": {
       "config": {
        "linkText": "Export to plot.ly",
        "plotlyServerURL": "https://plot.ly",
        "showLink": true
       },
       "data": [
        {
         "marker": {
          "color": "rgba(255, 153, 51, 0.6)",
          "line": {
           "color": "rgba(255, 153, 51, 1.0)",
           "width": 1
          }
         },
         "name": "None",
         "orientation": "v",
         "text": "",
         "type": "bar",
         "x": [
          "A",
          "B",
          "C",
          "D"
         ],
         "y": [
          100,
          100,
          100,
          100
         ]
        }
       ],
       "layout": {
        "legend": {
         "bgcolor": "#F5F6F9",
         "font": {
          "color": "#4D5663"
         }
        },
        "paper_bgcolor": "#F5F6F9",
        "plot_bgcolor": "#F5F6F9",
        "template": {
         "data": {
          "bar": [
           {
            "error_x": {
             "color": "#2a3f5f"
            },
            "error_y": {
             "color": "#2a3f5f"
            },
            "marker": {
             "line": {
              "color": "#E5ECF6",
              "width": 0.5
             }
            },
            "type": "bar"
           }
          ],
          "barpolar": [
           {
            "marker": {
             "line": {
              "color": "#E5ECF6",
              "width": 0.5
             }
            },
            "type": "barpolar"
           }
          ],
          "carpet": [
           {
            "aaxis": {
             "endlinecolor": "#2a3f5f",
             "gridcolor": "white",
             "linecolor": "white",
             "minorgridcolor": "white",
             "startlinecolor": "#2a3f5f"
            },
            "baxis": {
             "endlinecolor": "#2a3f5f",
             "gridcolor": "white",
             "linecolor": "white",
             "minorgridcolor": "white",
             "startlinecolor": "#2a3f5f"
            },
            "type": "carpet"
           }
          ],
          "choropleth": [
           {
            "colorbar": {
             "outlinewidth": 0,
             "ticks": ""
            },
            "type": "choropleth"
           }
          ],
          "contour": [
           {
            "colorbar": {
             "outlinewidth": 0,
             "ticks": ""
            },
            "colorscale": [
             [
              0,
              "#0d0887"
             ],
             [
              0.1111111111111111,
              "#46039f"
             ],
             [
              0.2222222222222222,
              "#7201a8"
             ],
             [
              0.3333333333333333,
              "#9c179e"
             ],
             [
              0.4444444444444444,
              "#bd3786"
             ],
             [
              0.5555555555555556,
              "#d8576b"
             ],
             [
              0.6666666666666666,
              "#ed7953"
             ],
             [
              0.7777777777777778,
              "#fb9f3a"
             ],
             [
              0.8888888888888888,
              "#fdca26"
             ],
             [
              1,
              "#f0f921"
             ]
            ],
            "type": "contour"
           }
          ],
          "contourcarpet": [
           {
            "colorbar": {
             "outlinewidth": 0,
             "ticks": ""
            },
            "type": "contourcarpet"
           }
          ],
          "heatmap": [
           {
            "colorbar": {
             "outlinewidth": 0,
             "ticks": ""
            },
            "colorscale": [
             [
              0,
              "#0d0887"
             ],
             [
              0.1111111111111111,
              "#46039f"
             ],
             [
              0.2222222222222222,
              "#7201a8"
             ],
             [
              0.3333333333333333,
              "#9c179e"
             ],
             [
              0.4444444444444444,
              "#bd3786"
             ],
             [
              0.5555555555555556,
              "#d8576b"
             ],
             [
              0.6666666666666666,
              "#ed7953"
             ],
             [
              0.7777777777777778,
              "#fb9f3a"
             ],
             [
              0.8888888888888888,
              "#fdca26"
             ],
             [
              1,
              "#f0f921"
             ]
            ],
            "type": "heatmap"
           }
          ],
          "heatmapgl": [
           {
            "colorbar": {
             "outlinewidth": 0,
             "ticks": ""
            },
            "colorscale": [
             [
              0,
              "#0d0887"
             ],
             [
              0.1111111111111111,
              "#46039f"
             ],
             [
              0.2222222222222222,
              "#7201a8"
             ],
             [
              0.3333333333333333,
              "#9c179e"
             ],
             [
              0.4444444444444444,
              "#bd3786"
             ],
             [
              0.5555555555555556,
              "#d8576b"
             ],
             [
              0.6666666666666666,
              "#ed7953"
             ],
             [
              0.7777777777777778,
              "#fb9f3a"
             ],
             [
              0.8888888888888888,
              "#fdca26"
             ],
             [
              1,
              "#f0f921"
             ]
            ],
            "type": "heatmapgl"
           }
          ],
          "histogram": [
           {
            "marker": {
             "colorbar": {
              "outlinewidth": 0,
              "ticks": ""
             }
            },
            "type": "histogram"
           }
          ],
          "histogram2d": [
           {
            "colorbar": {
             "outlinewidth": 0,
             "ticks": ""
            },
            "colorscale": [
             [
              0,
              "#0d0887"
             ],
             [
              0.1111111111111111,
              "#46039f"
             ],
             [
              0.2222222222222222,
              "#7201a8"
             ],
             [
              0.3333333333333333,
              "#9c179e"
             ],
             [
              0.4444444444444444,
              "#bd3786"
             ],
             [
              0.5555555555555556,
              "#d8576b"
             ],
             [
              0.6666666666666666,
              "#ed7953"
             ],
             [
              0.7777777777777778,
              "#fb9f3a"
             ],
             [
              0.8888888888888888,
              "#fdca26"
             ],
             [
              1,
              "#f0f921"
             ]
            ],
            "type": "histogram2d"
           }
          ],
          "histogram2dcontour": [
           {
            "colorbar": {
             "outlinewidth": 0,
             "ticks": ""
            },
            "colorscale": [
             [
              0,
              "#0d0887"
             ],
             [
              0.1111111111111111,
              "#46039f"
             ],
             [
              0.2222222222222222,
              "#7201a8"
             ],
             [
              0.3333333333333333,
              "#9c179e"
             ],
             [
              0.4444444444444444,
              "#bd3786"
             ],
             [
              0.5555555555555556,
              "#d8576b"
             ],
             [
              0.6666666666666666,
              "#ed7953"
             ],
             [
              0.7777777777777778,
              "#fb9f3a"
             ],
             [
              0.8888888888888888,
              "#fdca26"
             ],
             [
              1,
              "#f0f921"
             ]
            ],
            "type": "histogram2dcontour"
           }
          ],
          "mesh3d": [
           {
            "colorbar": {
             "outlinewidth": 0,
             "ticks": ""
            },
            "type": "mesh3d"
           }
          ],
          "parcoords": [
           {
            "line": {
             "colorbar": {
              "outlinewidth": 0,
              "ticks": ""
             }
            },
            "type": "parcoords"
           }
          ],
          "pie": [
           {
            "automargin": true,
            "type": "pie"
           }
          ],
          "scatter": [
           {
            "marker": {
             "colorbar": {
              "outlinewidth": 0,
              "ticks": ""
             }
            },
            "type": "scatter"
           }
          ],
          "scatter3d": [
           {
            "line": {
             "colorbar": {
              "outlinewidth": 0,
              "ticks": ""
             }
            },
            "marker": {
             "colorbar": {
              "outlinewidth": 0,
              "ticks": ""
             }
            },
            "type": "scatter3d"
           }
          ],
          "scattercarpet": [
           {
            "marker": {
             "colorbar": {
              "outlinewidth": 0,
              "ticks": ""
             }
            },
            "type": "scattercarpet"
           }
          ],
          "scattergeo": [
           {
            "marker": {
             "colorbar": {
              "outlinewidth": 0,
              "ticks": ""
             }
            },
            "type": "scattergeo"
           }
          ],
          "scattergl": [
           {
            "marker": {
             "colorbar": {
              "outlinewidth": 0,
              "ticks": ""
             }
            },
            "type": "scattergl"
           }
          ],
          "scattermapbox": [
           {
            "marker": {
             "colorbar": {
              "outlinewidth": 0,
              "ticks": ""
             }
            },
            "type": "scattermapbox"
           }
          ],
          "scatterpolar": [
           {
            "marker": {
             "colorbar": {
              "outlinewidth": 0,
              "ticks": ""
             }
            },
            "type": "scatterpolar"
           }
          ],
          "scatterpolargl": [
           {
            "marker": {
             "colorbar": {
              "outlinewidth": 0,
              "ticks": ""
             }
            },
            "type": "scatterpolargl"
           }
          ],
          "scatterternary": [
           {
            "marker": {
             "colorbar": {
              "outlinewidth": 0,
              "ticks": ""
             }
            },
            "type": "scatterternary"
           }
          ],
          "surface": [
           {
            "colorbar": {
             "outlinewidth": 0,
             "ticks": ""
            },
            "colorscale": [
             [
              0,
              "#0d0887"
             ],
             [
              0.1111111111111111,
              "#46039f"
             ],
             [
              0.2222222222222222,
              "#7201a8"
             ],
             [
              0.3333333333333333,
              "#9c179e"
             ],
             [
              0.4444444444444444,
              "#bd3786"
             ],
             [
              0.5555555555555556,
              "#d8576b"
             ],
             [
              0.6666666666666666,
              "#ed7953"
             ],
             [
              0.7777777777777778,
              "#fb9f3a"
             ],
             [
              0.8888888888888888,
              "#fdca26"
             ],
             [
              1,
              "#f0f921"
             ]
            ],
            "type": "surface"
           }
          ],
          "table": [
           {
            "cells": {
             "fill": {
              "color": "#EBF0F8"
             },
             "line": {
              "color": "white"
             }
            },
            "header": {
             "fill": {
              "color": "#C8D4E3"
             },
             "line": {
              "color": "white"
             }
            },
            "type": "table"
           }
          ]
         },
         "layout": {
          "annotationdefaults": {
           "arrowcolor": "#2a3f5f",
           "arrowhead": 0,
           "arrowwidth": 1
          },
          "coloraxis": {
           "colorbar": {
            "outlinewidth": 0,
            "ticks": ""
           }
          },
          "colorscale": {
           "diverging": [
            [
             0,
             "#8e0152"
            ],
            [
             0.1,
             "#c51b7d"
            ],
            [
             0.2,
             "#de77ae"
            ],
            [
             0.3,
             "#f1b6da"
            ],
            [
             0.4,
             "#fde0ef"
            ],
            [
             0.5,
             "#f7f7f7"
            ],
            [
             0.6,
             "#e6f5d0"
            ],
            [
             0.7,
             "#b8e186"
            ],
            [
             0.8,
             "#7fbc41"
            ],
            [
             0.9,
             "#4d9221"
            ],
            [
             1,
             "#276419"
            ]
           ],
           "sequential": [
            [
             0,
             "#0d0887"
            ],
            [
             0.1111111111111111,
             "#46039f"
            ],
            [
             0.2222222222222222,
             "#7201a8"
            ],
            [
             0.3333333333333333,
             "#9c179e"
            ],
            [
             0.4444444444444444,
             "#bd3786"
            ],
            [
             0.5555555555555556,
             "#d8576b"
            ],
            [
             0.6666666666666666,
             "#ed7953"
            ],
            [
             0.7777777777777778,
             "#fb9f3a"
            ],
            [
             0.8888888888888888,
             "#fdca26"
            ],
            [
             1,
             "#f0f921"
            ]
           ],
           "sequentialminus": [
            [
             0,
             "#0d0887"
            ],
            [
             0.1111111111111111,
             "#46039f"
            ],
            [
             0.2222222222222222,
             "#7201a8"
            ],
            [
             0.3333333333333333,
             "#9c179e"
            ],
            [
             0.4444444444444444,
             "#bd3786"
            ],
            [
             0.5555555555555556,
             "#d8576b"
            ],
            [
             0.6666666666666666,
             "#ed7953"
            ],
            [
             0.7777777777777778,
             "#fb9f3a"
            ],
            [
             0.8888888888888888,
             "#fdca26"
            ],
            [
             1,
             "#f0f921"
            ]
           ]
          },
          "colorway": [
           "#636efa",
           "#EF553B",
           "#00cc96",
           "#ab63fa",
           "#FFA15A",
           "#19d3f3",
           "#FF6692",
           "#B6E880",
           "#FF97FF",
           "#FECB52"
          ],
          "font": {
           "color": "#2a3f5f"
          },
          "geo": {
           "bgcolor": "white",
           "lakecolor": "white",
           "landcolor": "#E5ECF6",
           "showlakes": true,
           "showland": true,
           "subunitcolor": "white"
          },
          "hoverlabel": {
           "align": "left"
          },
          "hovermode": "closest",
          "mapbox": {
           "style": "light"
          },
          "paper_bgcolor": "white",
          "plot_bgcolor": "#E5ECF6",
          "polar": {
           "angularaxis": {
            "gridcolor": "white",
            "linecolor": "white",
            "ticks": ""
           },
           "bgcolor": "#E5ECF6",
           "radialaxis": {
            "gridcolor": "white",
            "linecolor": "white",
            "ticks": ""
           }
          },
          "scene": {
           "xaxis": {
            "backgroundcolor": "#E5ECF6",
            "gridcolor": "white",
            "gridwidth": 2,
            "linecolor": "white",
            "showbackground": true,
            "ticks": "",
            "zerolinecolor": "white"
           },
           "yaxis": {
            "backgroundcolor": "#E5ECF6",
            "gridcolor": "white",
            "gridwidth": 2,
            "linecolor": "white",
            "showbackground": true,
            "ticks": "",
            "zerolinecolor": "white"
           },
           "zaxis": {
            "backgroundcolor": "#E5ECF6",
            "gridcolor": "white",
            "gridwidth": 2,
            "linecolor": "white",
            "showbackground": true,
            "ticks": "",
            "zerolinecolor": "white"
           }
          },
          "shapedefaults": {
           "line": {
            "color": "#2a3f5f"
           }
          },
          "ternary": {
           "aaxis": {
            "gridcolor": "white",
            "linecolor": "white",
            "ticks": ""
           },
           "baxis": {
            "gridcolor": "white",
            "linecolor": "white",
            "ticks": ""
           },
           "bgcolor": "#E5ECF6",
           "caxis": {
            "gridcolor": "white",
            "linecolor": "white",
            "ticks": ""
           }
          },
          "title": {
           "x": 0.05
          },
          "xaxis": {
           "automargin": true,
           "gridcolor": "white",
           "linecolor": "white",
           "ticks": "",
           "title": {
            "standoff": 15
           },
           "zerolinecolor": "white",
           "zerolinewidth": 2
          },
          "yaxis": {
           "automargin": true,
           "gridcolor": "white",
           "linecolor": "white",
           "ticks": "",
           "title": {
            "standoff": 15
           },
           "zerolinecolor": "white",
           "zerolinewidth": 2
          }
         }
        },
        "title": {
         "font": {
          "color": "#4D5663"
         }
        },
        "xaxis": {
         "gridcolor": "#E1E5ED",
         "showgrid": true,
         "tickfont": {
          "color": "#4D5663"
         },
         "title": {
          "font": {
           "color": "#4D5663"
          },
          "text": ""
         },
         "zerolinecolor": "#E1E5ED"
        },
        "yaxis": {
         "gridcolor": "#E1E5ED",
         "showgrid": true,
         "tickfont": {
          "color": "#4D5663"
         },
         "title": {
          "font": {
           "color": "#4D5663"
          },
          "text": ""
         },
         "zerolinecolor": "#E1E5ED"
        }
       }
      },
      "text/html": [
       "<div>\n",
       "        \n",
       "        \n",
       "            <div id=\"2f63a806-dcb6-4b96-83fd-ee38610f2db9\" class=\"plotly-graph-div\" style=\"height:525px; width:100%;\"></div>\n",
       "            <script type=\"text/javascript\">\n",
       "                require([\"plotly\"], function(Plotly) {\n",
       "                    window.PLOTLYENV=window.PLOTLYENV || {};\n",
       "                    window.PLOTLYENV.BASE_URL='https://plot.ly';\n",
       "                    \n",
       "                if (document.getElementById(\"2f63a806-dcb6-4b96-83fd-ee38610f2db9\")) {\n",
       "                    Plotly.newPlot(\n",
       "                        '2f63a806-dcb6-4b96-83fd-ee38610f2db9',\n",
       "                        [{\"marker\": {\"color\": \"rgba(255, 153, 51, 0.6)\", \"line\": {\"color\": \"rgba(255, 153, 51, 1.0)\", \"width\": 1}}, \"name\": \"None\", \"orientation\": \"v\", \"text\": \"\", \"type\": \"bar\", \"x\": [\"A\", \"B\", \"C\", \"D\"], \"y\": [100, 100, 100, 100]}],\n",
       "                        {\"legend\": {\"bgcolor\": \"#F5F6F9\", \"font\": {\"color\": \"#4D5663\"}}, \"paper_bgcolor\": \"#F5F6F9\", \"plot_bgcolor\": \"#F5F6F9\", \"template\": {\"data\": {\"bar\": [{\"error_x\": {\"color\": \"#2a3f5f\"}, \"error_y\": {\"color\": \"#2a3f5f\"}, \"marker\": {\"line\": {\"color\": \"#E5ECF6\", \"width\": 0.5}}, \"type\": \"bar\"}], \"barpolar\": [{\"marker\": {\"line\": {\"color\": \"#E5ECF6\", \"width\": 0.5}}, \"type\": \"barpolar\"}], \"carpet\": [{\"aaxis\": {\"endlinecolor\": \"#2a3f5f\", \"gridcolor\": \"white\", \"linecolor\": \"white\", \"minorgridcolor\": \"white\", \"startlinecolor\": \"#2a3f5f\"}, \"baxis\": {\"endlinecolor\": \"#2a3f5f\", \"gridcolor\": \"white\", \"linecolor\": \"white\", \"minorgridcolor\": \"white\", \"startlinecolor\": \"#2a3f5f\"}, \"type\": \"carpet\"}], \"choropleth\": [{\"colorbar\": {\"outlinewidth\": 0, \"ticks\": \"\"}, \"type\": \"choropleth\"}], \"contour\": [{\"colorbar\": {\"outlinewidth\": 0, \"ticks\": \"\"}, \"colorscale\": [[0.0, \"#0d0887\"], [0.1111111111111111, \"#46039f\"], [0.2222222222222222, \"#7201a8\"], [0.3333333333333333, \"#9c179e\"], [0.4444444444444444, \"#bd3786\"], [0.5555555555555556, \"#d8576b\"], [0.6666666666666666, \"#ed7953\"], [0.7777777777777778, \"#fb9f3a\"], [0.8888888888888888, \"#fdca26\"], [1.0, \"#f0f921\"]], \"type\": \"contour\"}], \"contourcarpet\": [{\"colorbar\": {\"outlinewidth\": 0, \"ticks\": \"\"}, \"type\": \"contourcarpet\"}], \"heatmap\": [{\"colorbar\": {\"outlinewidth\": 0, \"ticks\": \"\"}, \"colorscale\": [[0.0, \"#0d0887\"], [0.1111111111111111, \"#46039f\"], [0.2222222222222222, \"#7201a8\"], [0.3333333333333333, \"#9c179e\"], [0.4444444444444444, \"#bd3786\"], [0.5555555555555556, \"#d8576b\"], [0.6666666666666666, \"#ed7953\"], [0.7777777777777778, \"#fb9f3a\"], [0.8888888888888888, \"#fdca26\"], [1.0, \"#f0f921\"]], \"type\": \"heatmap\"}], \"heatmapgl\": [{\"colorbar\": {\"outlinewidth\": 0, \"ticks\": \"\"}, \"colorscale\": [[0.0, \"#0d0887\"], [0.1111111111111111, \"#46039f\"], [0.2222222222222222, \"#7201a8\"], [0.3333333333333333, \"#9c179e\"], [0.4444444444444444, \"#bd3786\"], [0.5555555555555556, \"#d8576b\"], [0.6666666666666666, \"#ed7953\"], [0.7777777777777778, \"#fb9f3a\"], [0.8888888888888888, \"#fdca26\"], [1.0, \"#f0f921\"]], \"type\": \"heatmapgl\"}], \"histogram\": [{\"marker\": {\"colorbar\": {\"outlinewidth\": 0, \"ticks\": \"\"}}, \"type\": \"histogram\"}], \"histogram2d\": [{\"colorbar\": {\"outlinewidth\": 0, \"ticks\": \"\"}, \"colorscale\": [[0.0, \"#0d0887\"], [0.1111111111111111, \"#46039f\"], [0.2222222222222222, \"#7201a8\"], [0.3333333333333333, \"#9c179e\"], [0.4444444444444444, \"#bd3786\"], [0.5555555555555556, \"#d8576b\"], [0.6666666666666666, \"#ed7953\"], [0.7777777777777778, \"#fb9f3a\"], [0.8888888888888888, \"#fdca26\"], [1.0, \"#f0f921\"]], \"type\": \"histogram2d\"}], \"histogram2dcontour\": [{\"colorbar\": {\"outlinewidth\": 0, \"ticks\": \"\"}, \"colorscale\": [[0.0, \"#0d0887\"], [0.1111111111111111, \"#46039f\"], [0.2222222222222222, \"#7201a8\"], [0.3333333333333333, \"#9c179e\"], [0.4444444444444444, \"#bd3786\"], [0.5555555555555556, \"#d8576b\"], [0.6666666666666666, \"#ed7953\"], [0.7777777777777778, \"#fb9f3a\"], [0.8888888888888888, \"#fdca26\"], [1.0, \"#f0f921\"]], \"type\": \"histogram2dcontour\"}], \"mesh3d\": [{\"colorbar\": {\"outlinewidth\": 0, \"ticks\": \"\"}, \"type\": \"mesh3d\"}], \"parcoords\": [{\"line\": {\"colorbar\": {\"outlinewidth\": 0, \"ticks\": \"\"}}, \"type\": \"parcoords\"}], \"pie\": [{\"automargin\": true, \"type\": \"pie\"}], \"scatter\": [{\"marker\": {\"colorbar\": {\"outlinewidth\": 0, \"ticks\": \"\"}}, \"type\": \"scatter\"}], \"scatter3d\": [{\"line\": {\"colorbar\": {\"outlinewidth\": 0, \"ticks\": \"\"}}, \"marker\": {\"colorbar\": {\"outlinewidth\": 0, \"ticks\": \"\"}}, \"type\": \"scatter3d\"}], \"scattercarpet\": [{\"marker\": {\"colorbar\": {\"outlinewidth\": 0, \"ticks\": \"\"}}, \"type\": \"scattercarpet\"}], \"scattergeo\": [{\"marker\": {\"colorbar\": {\"outlinewidth\": 0, \"ticks\": \"\"}}, \"type\": \"scattergeo\"}], \"scattergl\": [{\"marker\": {\"colorbar\": {\"outlinewidth\": 0, \"ticks\": \"\"}}, \"type\": \"scattergl\"}], \"scattermapbox\": [{\"marker\": {\"colorbar\": {\"outlinewidth\": 0, \"ticks\": \"\"}}, \"type\": \"scattermapbox\"}], \"scatterpolar\": [{\"marker\": {\"colorbar\": {\"outlinewidth\": 0, \"ticks\": \"\"}}, \"type\": \"scatterpolar\"}], \"scatterpolargl\": [{\"marker\": {\"colorbar\": {\"outlinewidth\": 0, \"ticks\": \"\"}}, \"type\": \"scatterpolargl\"}], \"scatterternary\": [{\"marker\": {\"colorbar\": {\"outlinewidth\": 0, \"ticks\": \"\"}}, \"type\": \"scatterternary\"}], \"surface\": [{\"colorbar\": {\"outlinewidth\": 0, \"ticks\": \"\"}, \"colorscale\": [[0.0, \"#0d0887\"], [0.1111111111111111, \"#46039f\"], [0.2222222222222222, \"#7201a8\"], [0.3333333333333333, \"#9c179e\"], [0.4444444444444444, \"#bd3786\"], [0.5555555555555556, \"#d8576b\"], [0.6666666666666666, \"#ed7953\"], [0.7777777777777778, \"#fb9f3a\"], [0.8888888888888888, \"#fdca26\"], [1.0, \"#f0f921\"]], \"type\": \"surface\"}], \"table\": [{\"cells\": {\"fill\": {\"color\": \"#EBF0F8\"}, \"line\": {\"color\": \"white\"}}, \"header\": {\"fill\": {\"color\": \"#C8D4E3\"}, \"line\": {\"color\": \"white\"}}, \"type\": \"table\"}]}, \"layout\": {\"annotationdefaults\": {\"arrowcolor\": \"#2a3f5f\", \"arrowhead\": 0, \"arrowwidth\": 1}, \"coloraxis\": {\"colorbar\": {\"outlinewidth\": 0, \"ticks\": \"\"}}, \"colorscale\": {\"diverging\": [[0, \"#8e0152\"], [0.1, \"#c51b7d\"], [0.2, \"#de77ae\"], [0.3, \"#f1b6da\"], [0.4, \"#fde0ef\"], [0.5, \"#f7f7f7\"], [0.6, \"#e6f5d0\"], [0.7, \"#b8e186\"], [0.8, \"#7fbc41\"], [0.9, \"#4d9221\"], [1, \"#276419\"]], \"sequential\": [[0.0, \"#0d0887\"], [0.1111111111111111, \"#46039f\"], [0.2222222222222222, \"#7201a8\"], [0.3333333333333333, \"#9c179e\"], [0.4444444444444444, \"#bd3786\"], [0.5555555555555556, \"#d8576b\"], [0.6666666666666666, \"#ed7953\"], [0.7777777777777778, \"#fb9f3a\"], [0.8888888888888888, \"#fdca26\"], [1.0, \"#f0f921\"]], \"sequentialminus\": [[0.0, \"#0d0887\"], [0.1111111111111111, \"#46039f\"], [0.2222222222222222, \"#7201a8\"], [0.3333333333333333, \"#9c179e\"], [0.4444444444444444, \"#bd3786\"], [0.5555555555555556, \"#d8576b\"], [0.6666666666666666, \"#ed7953\"], [0.7777777777777778, \"#fb9f3a\"], [0.8888888888888888, \"#fdca26\"], [1.0, \"#f0f921\"]]}, \"colorway\": [\"#636efa\", \"#EF553B\", \"#00cc96\", \"#ab63fa\", \"#FFA15A\", \"#19d3f3\", \"#FF6692\", \"#B6E880\", \"#FF97FF\", \"#FECB52\"], \"font\": {\"color\": \"#2a3f5f\"}, \"geo\": {\"bgcolor\": \"white\", \"lakecolor\": \"white\", \"landcolor\": \"#E5ECF6\", \"showlakes\": true, \"showland\": true, \"subunitcolor\": \"white\"}, \"hoverlabel\": {\"align\": \"left\"}, \"hovermode\": \"closest\", \"mapbox\": {\"style\": \"light\"}, \"paper_bgcolor\": \"white\", \"plot_bgcolor\": \"#E5ECF6\", \"polar\": {\"angularaxis\": {\"gridcolor\": \"white\", \"linecolor\": \"white\", \"ticks\": \"\"}, \"bgcolor\": \"#E5ECF6\", \"radialaxis\": {\"gridcolor\": \"white\", \"linecolor\": \"white\", \"ticks\": \"\"}}, \"scene\": {\"xaxis\": {\"backgroundcolor\": \"#E5ECF6\", \"gridcolor\": \"white\", \"gridwidth\": 2, \"linecolor\": \"white\", \"showbackground\": true, \"ticks\": \"\", \"zerolinecolor\": \"white\"}, \"yaxis\": {\"backgroundcolor\": \"#E5ECF6\", \"gridcolor\": \"white\", \"gridwidth\": 2, \"linecolor\": \"white\", \"showbackground\": true, \"ticks\": \"\", \"zerolinecolor\": \"white\"}, \"zaxis\": {\"backgroundcolor\": \"#E5ECF6\", \"gridcolor\": \"white\", \"gridwidth\": 2, \"linecolor\": \"white\", \"showbackground\": true, \"ticks\": \"\", \"zerolinecolor\": \"white\"}}, \"shapedefaults\": {\"line\": {\"color\": \"#2a3f5f\"}}, \"ternary\": {\"aaxis\": {\"gridcolor\": \"white\", \"linecolor\": \"white\", \"ticks\": \"\"}, \"baxis\": {\"gridcolor\": \"white\", \"linecolor\": \"white\", \"ticks\": \"\"}, \"bgcolor\": \"#E5ECF6\", \"caxis\": {\"gridcolor\": \"white\", \"linecolor\": \"white\", \"ticks\": \"\"}}, \"title\": {\"x\": 0.05}, \"xaxis\": {\"automargin\": true, \"gridcolor\": \"white\", \"linecolor\": \"white\", \"ticks\": \"\", \"title\": {\"standoff\": 15}, \"zerolinecolor\": \"white\", \"zerolinewidth\": 2}, \"yaxis\": {\"automargin\": true, \"gridcolor\": \"white\", \"linecolor\": \"white\", \"ticks\": \"\", \"title\": {\"standoff\": 15}, \"zerolinecolor\": \"white\", \"zerolinewidth\": 2}}}, \"title\": {\"font\": {\"color\": \"#4D5663\"}}, \"xaxis\": {\"gridcolor\": \"#E1E5ED\", \"showgrid\": true, \"tickfont\": {\"color\": \"#4D5663\"}, \"title\": {\"font\": {\"color\": \"#4D5663\"}, \"text\": \"\"}, \"zerolinecolor\": \"#E1E5ED\"}, \"yaxis\": {\"gridcolor\": \"#E1E5ED\", \"showgrid\": true, \"tickfont\": {\"color\": \"#4D5663\"}, \"title\": {\"font\": {\"color\": \"#4D5663\"}, \"text\": \"\"}, \"zerolinecolor\": \"#E1E5ED\"}},\n",
       "                        {\"showLink\": true, \"linkText\": \"Export to plot.ly\", \"plotlyServerURL\": \"https://plot.ly\", \"responsive\": true}\n",
       "                    ).then(function(){\n",
       "                            \n",
       "var gd = document.getElementById('2f63a806-dcb6-4b96-83fd-ee38610f2db9');\n",
       "var x = new MutationObserver(function (mutations, observer) {{\n",
       "        var display = window.getComputedStyle(gd).display;\n",
       "        if (!display || display === 'none') {{\n",
       "            console.log([gd, 'removed!']);\n",
       "            Plotly.purge(gd);\n",
       "            observer.disconnect();\n",
       "        }}\n",
       "}});\n",
       "\n",
       "// Listen for the removal of the full notebook cells\n",
       "var notebookContainer = gd.closest('#notebook-container');\n",
       "if (notebookContainer) {{\n",
       "    x.observe(notebookContainer, {childList: true});\n",
       "}}\n",
       "\n",
       "// Listen for the clearing of the current output cell\n",
       "var outputEl = gd.closest('.output');\n",
       "if (outputEl) {{\n",
       "    x.observe(outputEl, {childList: true});\n",
       "}}\n",
       "\n",
       "                        })\n",
       "                };\n",
       "                });\n",
       "            </script>\n",
       "        </div>"
      ]
     },
     "metadata": {},
     "output_type": "display_data"
    }
   ],
   "source": [
    "df.count().iplot(kind='bar')"
   ]
  },
  {
   "cell_type": "markdown",
   "metadata": {},
   "source": [
    "## Boxplots"
   ]
  },
  {
   "cell_type": "code",
   "execution_count": 13,
   "metadata": {},
   "outputs": [
    {
     "data": {
      "application/vnd.plotly.v1+json": {
       "config": {
        "linkText": "Export to plot.ly",
        "plotlyServerURL": "https://plot.ly",
        "showLink": true
       },
       "data": [
        {
         "boxpoints": false,
         "line": {
          "width": 1.3
         },
         "marker": {
          "color": "rgba(255, 153, 51, 1.0)"
         },
         "name": "A",
         "orientation": "v",
         "type": "box",
         "y": [
          -0.4219085963273162,
          1.6821026955762655,
          0.4309402142051801,
          0.18411306212801068,
          -0.9281908221713763,
          -0.30874922794372156,
          -0.6290038474767073,
          -0.710791310697247,
          0.17241542605474575,
          -0.8396869257109238,
          0.3806311459364493,
          -0.09381049474443047,
          1.5374181314768314,
          -0.43435294316790796,
          0.6461335117639597,
          -0.12372906160993319,
          0.3022970579415042,
          0.20797545067424617,
          -1.1304501651601098,
          1.1710948609964165,
          0.41306944623653125,
          1.9082257379137284,
          -0.05557142962097008,
          -1.0221174747845423,
          1.1355091384569034,
          1.1672445486913277,
          1.2764241838725863,
          2.3566817803969013,
          -1.2547557150229542,
          -1.7325392979131544,
          -1.2920823588295134,
          0.7580820471569764,
          -1.1858168738788655,
          -0.4841514473365244,
          0.6509296343287128,
          -0.11155686020046292,
          1.5045969153456915,
          -0.12204236350353027,
          -0.05537132415007508,
          -0.28027869353027607,
          0.9613497802818148,
          0.9414707962483713,
          -0.22356717954305758,
          0.7740342983721199,
          -0.7241989040863319,
          0.02778003781964759,
          -0.024055724956834595,
          -0.915078920852879,
          0.5544534137007058,
          -0.05977358602472853,
          0.23458852778203726,
          -0.5512670496759174,
          -0.4314387696367131,
          0.48138568092212886,
          0.151312471088505,
          -1.2683697561726832,
          1.1766160488988537,
          -0.27455824083556385,
          0.07273934897587682,
          -0.8784205932002688,
          -1.6235056907620014,
          -0.644105336585791,
          -1.3059071560879678,
          1.1747908906102706,
          -0.520795580404017,
          1.5905914235182144,
          -1.0584157956032523,
          0.017940488390363326,
          0.21212164922397306,
          -0.7742147529291061,
          -0.07481568924787502,
          -0.7509498972280064,
          0.40873810406643823,
          -0.35782741822032943,
          1.3791574021604953,
          -0.4936108658569253,
          -0.1670321836666462,
          0.0721790925295737,
          0.7001017974476622,
          -0.7875091790993461,
          0.0403208723208704,
          0.3177404868415387,
          -0.056986594871039735,
          0.4528785263940196,
          0.6469206986380688,
          0.41429955942854774,
          0.12303138871638225,
          -0.4126393825177464,
          0.819920664835239,
          1.4600883911553522,
          0.010063642024292574,
          -0.9264281665049272,
          -2.4315763663695646,
          -0.21280943033324837,
          -1.3301028052349306,
          0.7023289550933015,
          -0.029671055859963696,
          0.23193888262846393,
          -0.07874371469382994,
          -1.6085773535868477
         ]
        },
        {
         "boxpoints": false,
         "line": {
          "width": 1.3
         },
         "marker": {
          "color": "rgba(55, 128, 191, 1.0)"
         },
         "name": "B",
         "orientation": "v",
         "type": "box",
         "y": [
          -1.7613428979724588,
          -0.09620099849344611,
          -1.0905554749516704,
          2.028413152575853,
          0.5097144860421348,
          1.9936676211707947,
          1.0142506644633973,
          -0.5618289023209938,
          -0.40593562199118266,
          -1.3499737054571084,
          -0.5106714828156713,
          -0.6407829666278434,
          0.33372601270807,
          0.08363181122544312,
          1.5301434413624457,
          -0.8945041877588099,
          2.0783279038907225,
          -1.6943865920544647,
          -0.4621595926119647,
          -0.7571348170370275,
          1.3747665089714545,
          0.4985098936943716,
          0.08972003187459004,
          0.23342732028905913,
          0.2189969800399268,
          -0.0820069040087503,
          -0.6706333343074938,
          -1.275543117599897,
          -1.3699509360814053,
          0.3901952160800126,
          0.40515476073494494,
          0.8497911535020408,
          0.15108663732483765,
          1.2849528676590611,
          0.17502127520127353,
          -0.856472190237345,
          1.3755879423415716,
          -0.6203252186849335,
          0.2970832302677778,
          1.4228886617797616,
          -0.295302329657846,
          -0.40732886017309755,
          1.204717054703365,
          0.10595034653194314,
          -1.927542908557601,
          0.5340788211371374,
          -1.2595527258535075,
          -0.11744097365828426,
          -1.2322722675875935,
          0.21000255384490144,
          1.2316223605540324,
          0.6248158351987497,
          1.717265073311003,
          0.5085247036804371,
          1.1493774496114195,
          1.6357881500228615,
          0.6774690954323394,
          -0.254747629906569,
          0.7359939702818833,
          0.0831781421552935,
          0.13981334614546928,
          1.345513651578312,
          -0.44745217561787265,
          -0.2960953959886017,
          -2.302161247246569,
          -0.7188463621845694,
          -0.6990455748270236,
          -1.348662227162689,
          -0.5216899224336029,
          0.14048488250800598,
          0.1925196557013099,
          0.3260063565304941,
          0.14063928666482584,
          0.9388815352295453,
          -0.5127863210973753,
          1.1415664506931398,
          1.067019420763672,
          1.339232991142909,
          -0.8317479833178933,
          0.06714344889144137,
          0.40199971911834576,
          0.8336260811188723,
          0.6530201532241336,
          0.2790208938611128,
          0.9227703952463245,
          0.3807611966083535,
          2.14936755196243,
          0.7000220332676952,
          -0.20238099719791927,
          0.7578390029744853,
          -2.0759354128982563,
          0.4873792439363221,
          0.4452307214159721,
          1.2154920757915866,
          -1.042516814260215,
          -0.15670485695431474,
          1.9590815581255574,
          -0.19864062355667617,
          0.02011113860892017,
          -1.0559148650915064
         ]
        },
        {
         "boxpoints": false,
         "line": {
          "width": 1.3
         },
         "marker": {
          "color": "rgba(50, 171, 96, 1.0)"
         },
         "name": "C",
         "orientation": "v",
         "type": "box",
         "y": [
          0.877340393530819,
          1.435622023945821,
          0.6360382961982783,
          -0.8088787903316101,
          -0.23172892858673558,
          0.11440303092632358,
          -0.7927561998310112,
          -0.12905611927866506,
          2.1179684728203942,
          -1.0781523152152213,
          -0.9448327547636428,
          -2.8838293586283736,
          1.13169762588118,
          0.24409913944939385,
          -0.49193108996677837,
          0.5332531930012352,
          0.5988916632324476,
          -0.12842727629620793,
          -0.7708120236887703,
          2.3218831985942496,
          1.0360026320065483,
          -1.7206587469402068,
          -1.432465499121444,
          0.7547426140712723,
          -0.5726872175713135,
          -1.1124145198807087,
          1.1461185920381625,
          0.7857040419874747,
          -0.45096021916879686,
          -0.2584793924867701,
          -0.5390362541606566,
          -0.7954909537643288,
          1.8440655954146077,
          2.7848809280259808,
          0.015323016684481236,
          0.8721993692018307,
          0.6549191045183504,
          1.4323236975521476,
          -1.559356839149063,
          1.0050338702289945,
          -0.3182611294674199,
          0.6983398760687588,
          -0.050164643023584324,
          0.5572724504845437,
          1.3779937701321803,
          0.8994545402339059,
          -1.3120821232157294,
          1.2201245228426822,
          1.5282608495496202,
          0.9254820080966043,
          0.2739692212998874,
          -0.38139705730540574,
          0.881406193773732,
          0.44911938938302937,
          0.9317109610108755,
          0.09682625216657019,
          -0.40264764858525165,
          0.32373518071525215,
          -0.7023251540892774,
          -0.35476280626320067,
          -0.5134760136980314,
          1.1907573479013975,
          0.15360540707196507,
          -0.6167331871742867,
          0.5369462753063045,
          -0.8049281985374355,
          1.2633094731897685,
          0.8968658891336178,
          -1.0084989424685016,
          0.7910528027371707,
          -1.489634982982338,
          -0.7416029166105795,
          -0.11134178161371881,
          0.13057873895587038,
          -0.4648124601976657,
          -1.3197863299241945,
          1.0917038166888007,
          -0.3841915803835233,
          -0.9174827984197901,
          0.27029193444627914,
          -0.6463934410803012,
          -0.260881572694911,
          0.42920993961426906,
          -0.17557858262331538,
          -0.4875258216419134,
          0.22071496360543055,
          0.33080009791824827,
          -0.19679212543359229,
          -0.4054379556408084,
          0.2702413472992334,
          0.9540101486446227,
          -0.47261522865288474,
          -0.20876764443768958,
          -2.214358976857598,
          -1.6146362713179612,
          -0.04359785476916666,
          1.5532453764998175,
          0.6529555605252939,
          0.6003118387090443,
          -1.7541757715500692
         ]
        },
        {
         "boxpoints": false,
         "line": {
          "width": 1.3
         },
         "marker": {
          "color": "rgba(128, 0, 128, 1.0)"
         },
         "name": "D",
         "orientation": "v",
         "type": "box",
         "y": [
          0.4822939158128638,
          -0.6297265851787359,
          -0.12899300222917545,
          0.3595493025853616,
          -1.7059016820097428,
          0.40059307146558587,
          -1.4068073778764492,
          0.3834016972127393,
          -1.7598921740467124,
          -0.21421655541625736,
          -0.29457129984091374,
          -0.13652826273418922,
          -0.5181207235272481,
          -0.7241122704391437,
          0.2586898855953168,
          -0.10381642777404514,
          1.3367737240762505,
          -0.38658476941650227,
          2.4742790276449216,
          1.14875129590688,
          1.3912503123871391,
          -0.0033197243261529224,
          -1.19082248731639,
          0.2751458118525651,
          -1.6599775727977177,
          -1.274945697761092,
          0.37182217286973646,
          -0.5268445225797118,
          0.9050440646744027,
          -0.8218301268987264,
          -1.0020772704577243,
          0.9747758938851351,
          1.0946543971512066,
          -0.3738901911318837,
          -0.9775912672835907,
          -0.8190014038800748,
          -1.2064774069820927,
          -1.1107098910115145,
          -1.8793635677722884,
          0.4654732944965561,
          0.31753805393940443,
          -0.6672297504225395,
          -0.3614888690338335,
          0.3050856039928385,
          1.6829137678890485,
          -0.2280276602188539,
          0.7722805428111595,
          0.27570026918406426,
          0.9288329969108214,
          0.580435776905149,
          -0.7624796629467064,
          0.2888797553718462,
          0.30513653416702996,
          0.2679749729653962,
          -1.008267566870648,
          -0.5266778672818849,
          0.3696294360889518,
          1.373659505437327,
          0.6739704691011311,
          -0.952446421262601,
          0.17464338089142128,
          -1.4865820164968724,
          -0.7944212484338272,
          0.9240311814338681,
          -0.5103584898066241,
          0.23983196803879125,
          0.4063788167107547,
          -0.04144377909100635,
          0.3825459853097249,
          2.1126534475846577,
          0.2055463026834519,
          1.373234223920849,
          0.8914618734727747,
          0.06290545004429736,
          1.178751499510046,
          -1.1754047331967676,
          -0.3006344323249474,
          1.845624830236454,
          -2.055143244121072,
          1.0712616745058912,
          1.0903896275646217,
          0.932098686751795,
          0.3917946096289204,
          0.8921392179793287,
          -2.083690317065272,
          -0.6018113851704786,
          -0.7457577097664069,
          -0.778441406944475,
          -0.9487579891381042,
          0.4176205318307711,
          -1.94518375485339,
          0.1613901197065824,
          1.7713198008930309,
          0.8187354155568696,
          -1.624124334479861,
          -0.47487195498105755,
          -0.5052526344587429,
          0.6734127042285504,
          0.6884268938202475,
          -0.2626954277066396
         ]
        }
       ],
       "layout": {
        "legend": {
         "bgcolor": "#F5F6F9",
         "font": {
          "color": "#4D5663"
         }
        },
        "paper_bgcolor": "#F5F6F9",
        "plot_bgcolor": "#F5F6F9",
        "template": {
         "data": {
          "bar": [
           {
            "error_x": {
             "color": "#2a3f5f"
            },
            "error_y": {
             "color": "#2a3f5f"
            },
            "marker": {
             "line": {
              "color": "#E5ECF6",
              "width": 0.5
             }
            },
            "type": "bar"
           }
          ],
          "barpolar": [
           {
            "marker": {
             "line": {
              "color": "#E5ECF6",
              "width": 0.5
             }
            },
            "type": "barpolar"
           }
          ],
          "carpet": [
           {
            "aaxis": {
             "endlinecolor": "#2a3f5f",
             "gridcolor": "white",
             "linecolor": "white",
             "minorgridcolor": "white",
             "startlinecolor": "#2a3f5f"
            },
            "baxis": {
             "endlinecolor": "#2a3f5f",
             "gridcolor": "white",
             "linecolor": "white",
             "minorgridcolor": "white",
             "startlinecolor": "#2a3f5f"
            },
            "type": "carpet"
           }
          ],
          "choropleth": [
           {
            "colorbar": {
             "outlinewidth": 0,
             "ticks": ""
            },
            "type": "choropleth"
           }
          ],
          "contour": [
           {
            "colorbar": {
             "outlinewidth": 0,
             "ticks": ""
            },
            "colorscale": [
             [
              0,
              "#0d0887"
             ],
             [
              0.1111111111111111,
              "#46039f"
             ],
             [
              0.2222222222222222,
              "#7201a8"
             ],
             [
              0.3333333333333333,
              "#9c179e"
             ],
             [
              0.4444444444444444,
              "#bd3786"
             ],
             [
              0.5555555555555556,
              "#d8576b"
             ],
             [
              0.6666666666666666,
              "#ed7953"
             ],
             [
              0.7777777777777778,
              "#fb9f3a"
             ],
             [
              0.8888888888888888,
              "#fdca26"
             ],
             [
              1,
              "#f0f921"
             ]
            ],
            "type": "contour"
           }
          ],
          "contourcarpet": [
           {
            "colorbar": {
             "outlinewidth": 0,
             "ticks": ""
            },
            "type": "contourcarpet"
           }
          ],
          "heatmap": [
           {
            "colorbar": {
             "outlinewidth": 0,
             "ticks": ""
            },
            "colorscale": [
             [
              0,
              "#0d0887"
             ],
             [
              0.1111111111111111,
              "#46039f"
             ],
             [
              0.2222222222222222,
              "#7201a8"
             ],
             [
              0.3333333333333333,
              "#9c179e"
             ],
             [
              0.4444444444444444,
              "#bd3786"
             ],
             [
              0.5555555555555556,
              "#d8576b"
             ],
             [
              0.6666666666666666,
              "#ed7953"
             ],
             [
              0.7777777777777778,
              "#fb9f3a"
             ],
             [
              0.8888888888888888,
              "#fdca26"
             ],
             [
              1,
              "#f0f921"
             ]
            ],
            "type": "heatmap"
           }
          ],
          "heatmapgl": [
           {
            "colorbar": {
             "outlinewidth": 0,
             "ticks": ""
            },
            "colorscale": [
             [
              0,
              "#0d0887"
             ],
             [
              0.1111111111111111,
              "#46039f"
             ],
             [
              0.2222222222222222,
              "#7201a8"
             ],
             [
              0.3333333333333333,
              "#9c179e"
             ],
             [
              0.4444444444444444,
              "#bd3786"
             ],
             [
              0.5555555555555556,
              "#d8576b"
             ],
             [
              0.6666666666666666,
              "#ed7953"
             ],
             [
              0.7777777777777778,
              "#fb9f3a"
             ],
             [
              0.8888888888888888,
              "#fdca26"
             ],
             [
              1,
              "#f0f921"
             ]
            ],
            "type": "heatmapgl"
           }
          ],
          "histogram": [
           {
            "marker": {
             "colorbar": {
              "outlinewidth": 0,
              "ticks": ""
             }
            },
            "type": "histogram"
           }
          ],
          "histogram2d": [
           {
            "colorbar": {
             "outlinewidth": 0,
             "ticks": ""
            },
            "colorscale": [
             [
              0,
              "#0d0887"
             ],
             [
              0.1111111111111111,
              "#46039f"
             ],
             [
              0.2222222222222222,
              "#7201a8"
             ],
             [
              0.3333333333333333,
              "#9c179e"
             ],
             [
              0.4444444444444444,
              "#bd3786"
             ],
             [
              0.5555555555555556,
              "#d8576b"
             ],
             [
              0.6666666666666666,
              "#ed7953"
             ],
             [
              0.7777777777777778,
              "#fb9f3a"
             ],
             [
              0.8888888888888888,
              "#fdca26"
             ],
             [
              1,
              "#f0f921"
             ]
            ],
            "type": "histogram2d"
           }
          ],
          "histogram2dcontour": [
           {
            "colorbar": {
             "outlinewidth": 0,
             "ticks": ""
            },
            "colorscale": [
             [
              0,
              "#0d0887"
             ],
             [
              0.1111111111111111,
              "#46039f"
             ],
             [
              0.2222222222222222,
              "#7201a8"
             ],
             [
              0.3333333333333333,
              "#9c179e"
             ],
             [
              0.4444444444444444,
              "#bd3786"
             ],
             [
              0.5555555555555556,
              "#d8576b"
             ],
             [
              0.6666666666666666,
              "#ed7953"
             ],
             [
              0.7777777777777778,
              "#fb9f3a"
             ],
             [
              0.8888888888888888,
              "#fdca26"
             ],
             [
              1,
              "#f0f921"
             ]
            ],
            "type": "histogram2dcontour"
           }
          ],
          "mesh3d": [
           {
            "colorbar": {
             "outlinewidth": 0,
             "ticks": ""
            },
            "type": "mesh3d"
           }
          ],
          "parcoords": [
           {
            "line": {
             "colorbar": {
              "outlinewidth": 0,
              "ticks": ""
             }
            },
            "type": "parcoords"
           }
          ],
          "pie": [
           {
            "automargin": true,
            "type": "pie"
           }
          ],
          "scatter": [
           {
            "marker": {
             "colorbar": {
              "outlinewidth": 0,
              "ticks": ""
             }
            },
            "type": "scatter"
           }
          ],
          "scatter3d": [
           {
            "line": {
             "colorbar": {
              "outlinewidth": 0,
              "ticks": ""
             }
            },
            "marker": {
             "colorbar": {
              "outlinewidth": 0,
              "ticks": ""
             }
            },
            "type": "scatter3d"
           }
          ],
          "scattercarpet": [
           {
            "marker": {
             "colorbar": {
              "outlinewidth": 0,
              "ticks": ""
             }
            },
            "type": "scattercarpet"
           }
          ],
          "scattergeo": [
           {
            "marker": {
             "colorbar": {
              "outlinewidth": 0,
              "ticks": ""
             }
            },
            "type": "scattergeo"
           }
          ],
          "scattergl": [
           {
            "marker": {
             "colorbar": {
              "outlinewidth": 0,
              "ticks": ""
             }
            },
            "type": "scattergl"
           }
          ],
          "scattermapbox": [
           {
            "marker": {
             "colorbar": {
              "outlinewidth": 0,
              "ticks": ""
             }
            },
            "type": "scattermapbox"
           }
          ],
          "scatterpolar": [
           {
            "marker": {
             "colorbar": {
              "outlinewidth": 0,
              "ticks": ""
             }
            },
            "type": "scatterpolar"
           }
          ],
          "scatterpolargl": [
           {
            "marker": {
             "colorbar": {
              "outlinewidth": 0,
              "ticks": ""
             }
            },
            "type": "scatterpolargl"
           }
          ],
          "scatterternary": [
           {
            "marker": {
             "colorbar": {
              "outlinewidth": 0,
              "ticks": ""
             }
            },
            "type": "scatterternary"
           }
          ],
          "surface": [
           {
            "colorbar": {
             "outlinewidth": 0,
             "ticks": ""
            },
            "colorscale": [
             [
              0,
              "#0d0887"
             ],
             [
              0.1111111111111111,
              "#46039f"
             ],
             [
              0.2222222222222222,
              "#7201a8"
             ],
             [
              0.3333333333333333,
              "#9c179e"
             ],
             [
              0.4444444444444444,
              "#bd3786"
             ],
             [
              0.5555555555555556,
              "#d8576b"
             ],
             [
              0.6666666666666666,
              "#ed7953"
             ],
             [
              0.7777777777777778,
              "#fb9f3a"
             ],
             [
              0.8888888888888888,
              "#fdca26"
             ],
             [
              1,
              "#f0f921"
             ]
            ],
            "type": "surface"
           }
          ],
          "table": [
           {
            "cells": {
             "fill": {
              "color": "#EBF0F8"
             },
             "line": {
              "color": "white"
             }
            },
            "header": {
             "fill": {
              "color": "#C8D4E3"
             },
             "line": {
              "color": "white"
             }
            },
            "type": "table"
           }
          ]
         },
         "layout": {
          "annotationdefaults": {
           "arrowcolor": "#2a3f5f",
           "arrowhead": 0,
           "arrowwidth": 1
          },
          "coloraxis": {
           "colorbar": {
            "outlinewidth": 0,
            "ticks": ""
           }
          },
          "colorscale": {
           "diverging": [
            [
             0,
             "#8e0152"
            ],
            [
             0.1,
             "#c51b7d"
            ],
            [
             0.2,
             "#de77ae"
            ],
            [
             0.3,
             "#f1b6da"
            ],
            [
             0.4,
             "#fde0ef"
            ],
            [
             0.5,
             "#f7f7f7"
            ],
            [
             0.6,
             "#e6f5d0"
            ],
            [
             0.7,
             "#b8e186"
            ],
            [
             0.8,
             "#7fbc41"
            ],
            [
             0.9,
             "#4d9221"
            ],
            [
             1,
             "#276419"
            ]
           ],
           "sequential": [
            [
             0,
             "#0d0887"
            ],
            [
             0.1111111111111111,
             "#46039f"
            ],
            [
             0.2222222222222222,
             "#7201a8"
            ],
            [
             0.3333333333333333,
             "#9c179e"
            ],
            [
             0.4444444444444444,
             "#bd3786"
            ],
            [
             0.5555555555555556,
             "#d8576b"
            ],
            [
             0.6666666666666666,
             "#ed7953"
            ],
            [
             0.7777777777777778,
             "#fb9f3a"
            ],
            [
             0.8888888888888888,
             "#fdca26"
            ],
            [
             1,
             "#f0f921"
            ]
           ],
           "sequentialminus": [
            [
             0,
             "#0d0887"
            ],
            [
             0.1111111111111111,
             "#46039f"
            ],
            [
             0.2222222222222222,
             "#7201a8"
            ],
            [
             0.3333333333333333,
             "#9c179e"
            ],
            [
             0.4444444444444444,
             "#bd3786"
            ],
            [
             0.5555555555555556,
             "#d8576b"
            ],
            [
             0.6666666666666666,
             "#ed7953"
            ],
            [
             0.7777777777777778,
             "#fb9f3a"
            ],
            [
             0.8888888888888888,
             "#fdca26"
            ],
            [
             1,
             "#f0f921"
            ]
           ]
          },
          "colorway": [
           "#636efa",
           "#EF553B",
           "#00cc96",
           "#ab63fa",
           "#FFA15A",
           "#19d3f3",
           "#FF6692",
           "#B6E880",
           "#FF97FF",
           "#FECB52"
          ],
          "font": {
           "color": "#2a3f5f"
          },
          "geo": {
           "bgcolor": "white",
           "lakecolor": "white",
           "landcolor": "#E5ECF6",
           "showlakes": true,
           "showland": true,
           "subunitcolor": "white"
          },
          "hoverlabel": {
           "align": "left"
          },
          "hovermode": "closest",
          "mapbox": {
           "style": "light"
          },
          "paper_bgcolor": "white",
          "plot_bgcolor": "#E5ECF6",
          "polar": {
           "angularaxis": {
            "gridcolor": "white",
            "linecolor": "white",
            "ticks": ""
           },
           "bgcolor": "#E5ECF6",
           "radialaxis": {
            "gridcolor": "white",
            "linecolor": "white",
            "ticks": ""
           }
          },
          "scene": {
           "xaxis": {
            "backgroundcolor": "#E5ECF6",
            "gridcolor": "white",
            "gridwidth": 2,
            "linecolor": "white",
            "showbackground": true,
            "ticks": "",
            "zerolinecolor": "white"
           },
           "yaxis": {
            "backgroundcolor": "#E5ECF6",
            "gridcolor": "white",
            "gridwidth": 2,
            "linecolor": "white",
            "showbackground": true,
            "ticks": "",
            "zerolinecolor": "white"
           },
           "zaxis": {
            "backgroundcolor": "#E5ECF6",
            "gridcolor": "white",
            "gridwidth": 2,
            "linecolor": "white",
            "showbackground": true,
            "ticks": "",
            "zerolinecolor": "white"
           }
          },
          "shapedefaults": {
           "line": {
            "color": "#2a3f5f"
           }
          },
          "ternary": {
           "aaxis": {
            "gridcolor": "white",
            "linecolor": "white",
            "ticks": ""
           },
           "baxis": {
            "gridcolor": "white",
            "linecolor": "white",
            "ticks": ""
           },
           "bgcolor": "#E5ECF6",
           "caxis": {
            "gridcolor": "white",
            "linecolor": "white",
            "ticks": ""
           }
          },
          "title": {
           "x": 0.05
          },
          "xaxis": {
           "automargin": true,
           "gridcolor": "white",
           "linecolor": "white",
           "ticks": "",
           "title": {
            "standoff": 15
           },
           "zerolinecolor": "white",
           "zerolinewidth": 2
          },
          "yaxis": {
           "automargin": true,
           "gridcolor": "white",
           "linecolor": "white",
           "ticks": "",
           "title": {
            "standoff": 15
           },
           "zerolinecolor": "white",
           "zerolinewidth": 2
          }
         }
        },
        "title": {
         "font": {
          "color": "#4D5663"
         }
        },
        "xaxis": {
         "gridcolor": "#E1E5ED",
         "showgrid": true,
         "tickfont": {
          "color": "#4D5663"
         },
         "title": {
          "font": {
           "color": "#4D5663"
          },
          "text": ""
         },
         "zerolinecolor": "#E1E5ED"
        },
        "yaxis": {
         "gridcolor": "#E1E5ED",
         "showgrid": true,
         "tickfont": {
          "color": "#4D5663"
         },
         "title": {
          "font": {
           "color": "#4D5663"
          },
          "text": ""
         },
         "zerolinecolor": "#E1E5ED"
        }
       }
      },
      "text/html": [
       "<div>\n",
       "        \n",
       "        \n",
       "            <div id=\"265bb762-4698-4baa-b314-7c120da60b94\" class=\"plotly-graph-div\" style=\"height:525px; width:100%;\"></div>\n",
       "            <script type=\"text/javascript\">\n",
       "                require([\"plotly\"], function(Plotly) {\n",
       "                    window.PLOTLYENV=window.PLOTLYENV || {};\n",
       "                    window.PLOTLYENV.BASE_URL='https://plot.ly';\n",
       "                    \n",
       "                if (document.getElementById(\"265bb762-4698-4baa-b314-7c120da60b94\")) {\n",
       "                    Plotly.newPlot(\n",
       "                        '265bb762-4698-4baa-b314-7c120da60b94',\n",
       "                        [{\"boxpoints\": false, \"line\": {\"width\": 1.3}, \"marker\": {\"color\": \"rgba(255, 153, 51, 1.0)\"}, \"name\": \"A\", \"orientation\": \"v\", \"type\": \"box\", \"y\": [-0.4219085963273162, 1.6821026955762655, 0.4309402142051801, 0.18411306212801068, -0.9281908221713763, -0.30874922794372156, -0.6290038474767073, -0.710791310697247, 0.17241542605474575, -0.8396869257109238, 0.3806311459364493, -0.09381049474443047, 1.5374181314768314, -0.43435294316790796, 0.6461335117639597, -0.12372906160993319, 0.3022970579415042, 0.20797545067424617, -1.1304501651601098, 1.1710948609964165, 0.41306944623653125, 1.9082257379137284, -0.05557142962097008, -1.0221174747845423, 1.1355091384569034, 1.1672445486913277, 1.2764241838725863, 2.3566817803969013, -1.2547557150229542, -1.7325392979131544, -1.2920823588295134, 0.7580820471569764, -1.1858168738788655, -0.4841514473365244, 0.6509296343287128, -0.11155686020046292, 1.5045969153456915, -0.12204236350353027, -0.05537132415007508, -0.28027869353027607, 0.9613497802818148, 0.9414707962483713, -0.22356717954305758, 0.7740342983721199, -0.7241989040863319, 0.02778003781964759, -0.024055724956834595, -0.915078920852879, 0.5544534137007058, -0.05977358602472853, 0.23458852778203726, -0.5512670496759174, -0.4314387696367131, 0.48138568092212886, 0.151312471088505, -1.2683697561726832, 1.1766160488988537, -0.27455824083556385, 0.07273934897587682, -0.8784205932002688, -1.6235056907620014, -0.644105336585791, -1.3059071560879678, 1.1747908906102706, -0.520795580404017, 1.5905914235182144, -1.0584157956032523, 0.017940488390363326, 0.21212164922397306, -0.7742147529291061, -0.07481568924787502, -0.7509498972280064, 0.40873810406643823, -0.35782741822032943, 1.3791574021604953, -0.4936108658569253, -0.1670321836666462, 0.0721790925295737, 0.7001017974476622, -0.7875091790993461, 0.0403208723208704, 0.3177404868415387, -0.056986594871039735, 0.4528785263940196, 0.6469206986380688, 0.41429955942854774, 0.12303138871638225, -0.4126393825177464, 0.819920664835239, 1.4600883911553522, 0.010063642024292574, -0.9264281665049272, -2.4315763663695646, -0.21280943033324837, -1.3301028052349306, 0.7023289550933015, -0.029671055859963696, 0.23193888262846393, -0.07874371469382994, -1.6085773535868477]}, {\"boxpoints\": false, \"line\": {\"width\": 1.3}, \"marker\": {\"color\": \"rgba(55, 128, 191, 1.0)\"}, \"name\": \"B\", \"orientation\": \"v\", \"type\": \"box\", \"y\": [-1.7613428979724588, -0.09620099849344611, -1.0905554749516704, 2.028413152575853, 0.5097144860421348, 1.9936676211707947, 1.0142506644633973, -0.5618289023209938, -0.40593562199118266, -1.3499737054571084, -0.5106714828156713, -0.6407829666278434, 0.33372601270807, 0.08363181122544312, 1.5301434413624457, -0.8945041877588099, 2.0783279038907225, -1.6943865920544647, -0.4621595926119647, -0.7571348170370275, 1.3747665089714545, 0.4985098936943716, 0.08972003187459004, 0.23342732028905913, 0.2189969800399268, -0.0820069040087503, -0.6706333343074938, -1.275543117599897, -1.3699509360814053, 0.3901952160800126, 0.40515476073494494, 0.8497911535020408, 0.15108663732483765, 1.2849528676590611, 0.17502127520127353, -0.856472190237345, 1.3755879423415716, -0.6203252186849335, 0.2970832302677778, 1.4228886617797616, -0.295302329657846, -0.40732886017309755, 1.204717054703365, 0.10595034653194314, -1.927542908557601, 0.5340788211371374, -1.2595527258535075, -0.11744097365828426, -1.2322722675875935, 0.21000255384490144, 1.2316223605540324, 0.6248158351987497, 1.717265073311003, 0.5085247036804371, 1.1493774496114195, 1.6357881500228615, 0.6774690954323394, -0.254747629906569, 0.7359939702818833, 0.0831781421552935, 0.13981334614546928, 1.345513651578312, -0.44745217561787265, -0.2960953959886017, -2.302161247246569, -0.7188463621845694, -0.6990455748270236, -1.348662227162689, -0.5216899224336029, 0.14048488250800598, 0.1925196557013099, 0.3260063565304941, 0.14063928666482584, 0.9388815352295453, -0.5127863210973753, 1.1415664506931398, 1.067019420763672, 1.339232991142909, -0.8317479833178933, 0.06714344889144137, 0.40199971911834576, 0.8336260811188723, 0.6530201532241336, 0.2790208938611128, 0.9227703952463245, 0.3807611966083535, 2.14936755196243, 0.7000220332676952, -0.20238099719791927, 0.7578390029744853, -2.0759354128982563, 0.4873792439363221, 0.4452307214159721, 1.2154920757915866, -1.042516814260215, -0.15670485695431474, 1.9590815581255574, -0.19864062355667617, 0.02011113860892017, -1.0559148650915064]}, {\"boxpoints\": false, \"line\": {\"width\": 1.3}, \"marker\": {\"color\": \"rgba(50, 171, 96, 1.0)\"}, \"name\": \"C\", \"orientation\": \"v\", \"type\": \"box\", \"y\": [0.877340393530819, 1.435622023945821, 0.6360382961982783, -0.8088787903316101, -0.23172892858673558, 0.11440303092632358, -0.7927561998310112, -0.12905611927866506, 2.1179684728203942, -1.0781523152152213, -0.9448327547636428, -2.8838293586283736, 1.13169762588118, 0.24409913944939385, -0.49193108996677837, 0.5332531930012352, 0.5988916632324476, -0.12842727629620793, -0.7708120236887703, 2.3218831985942496, 1.0360026320065483, -1.7206587469402068, -1.432465499121444, 0.7547426140712723, -0.5726872175713135, -1.1124145198807087, 1.1461185920381625, 0.7857040419874747, -0.45096021916879686, -0.2584793924867701, -0.5390362541606566, -0.7954909537643288, 1.8440655954146077, 2.7848809280259808, 0.015323016684481236, 0.8721993692018307, 0.6549191045183504, 1.4323236975521476, -1.559356839149063, 1.0050338702289945, -0.3182611294674199, 0.6983398760687588, -0.050164643023584324, 0.5572724504845437, 1.3779937701321803, 0.8994545402339059, -1.3120821232157294, 1.2201245228426822, 1.5282608495496202, 0.9254820080966043, 0.2739692212998874, -0.38139705730540574, 0.881406193773732, 0.44911938938302937, 0.9317109610108755, 0.09682625216657019, -0.40264764858525165, 0.32373518071525215, -0.7023251540892774, -0.35476280626320067, -0.5134760136980314, 1.1907573479013975, 0.15360540707196507, -0.6167331871742867, 0.5369462753063045, -0.8049281985374355, 1.2633094731897685, 0.8968658891336178, -1.0084989424685016, 0.7910528027371707, -1.489634982982338, -0.7416029166105795, -0.11134178161371881, 0.13057873895587038, -0.4648124601976657, -1.3197863299241945, 1.0917038166888007, -0.3841915803835233, -0.9174827984197901, 0.27029193444627914, -0.6463934410803012, -0.260881572694911, 0.42920993961426906, -0.17557858262331538, -0.4875258216419134, 0.22071496360543055, 0.33080009791824827, -0.19679212543359229, -0.4054379556408084, 0.2702413472992334, 0.9540101486446227, -0.47261522865288474, -0.20876764443768958, -2.214358976857598, -1.6146362713179612, -0.04359785476916666, 1.5532453764998175, 0.6529555605252939, 0.6003118387090443, -1.7541757715500692]}, {\"boxpoints\": false, \"line\": {\"width\": 1.3}, \"marker\": {\"color\": \"rgba(128, 0, 128, 1.0)\"}, \"name\": \"D\", \"orientation\": \"v\", \"type\": \"box\", \"y\": [0.4822939158128638, -0.6297265851787359, -0.12899300222917545, 0.3595493025853616, -1.7059016820097428, 0.40059307146558587, -1.4068073778764492, 0.3834016972127393, -1.7598921740467124, -0.21421655541625736, -0.29457129984091374, -0.13652826273418922, -0.5181207235272481, -0.7241122704391437, 0.2586898855953168, -0.10381642777404514, 1.3367737240762505, -0.38658476941650227, 2.4742790276449216, 1.14875129590688, 1.3912503123871391, -0.0033197243261529224, -1.19082248731639, 0.2751458118525651, -1.6599775727977177, -1.274945697761092, 0.37182217286973646, -0.5268445225797118, 0.9050440646744027, -0.8218301268987264, -1.0020772704577243, 0.9747758938851351, 1.0946543971512066, -0.3738901911318837, -0.9775912672835907, -0.8190014038800748, -1.2064774069820927, -1.1107098910115145, -1.8793635677722884, 0.4654732944965561, 0.31753805393940443, -0.6672297504225395, -0.3614888690338335, 0.3050856039928385, 1.6829137678890485, -0.2280276602188539, 0.7722805428111595, 0.27570026918406426, 0.9288329969108214, 0.580435776905149, -0.7624796629467064, 0.2888797553718462, 0.30513653416702996, 0.2679749729653962, -1.008267566870648, -0.5266778672818849, 0.3696294360889518, 1.373659505437327, 0.6739704691011311, -0.952446421262601, 0.17464338089142128, -1.4865820164968724, -0.7944212484338272, 0.9240311814338681, -0.5103584898066241, 0.23983196803879125, 0.4063788167107547, -0.04144377909100635, 0.3825459853097249, 2.1126534475846577, 0.2055463026834519, 1.373234223920849, 0.8914618734727747, 0.06290545004429736, 1.178751499510046, -1.1754047331967676, -0.3006344323249474, 1.845624830236454, -2.055143244121072, 1.0712616745058912, 1.0903896275646217, 0.932098686751795, 0.3917946096289204, 0.8921392179793287, -2.083690317065272, -0.6018113851704786, -0.7457577097664069, -0.778441406944475, -0.9487579891381042, 0.4176205318307711, -1.94518375485339, 0.1613901197065824, 1.7713198008930309, 0.8187354155568696, -1.624124334479861, -0.47487195498105755, -0.5052526344587429, 0.6734127042285504, 0.6884268938202475, -0.2626954277066396]}],\n",
       "                        {\"legend\": {\"bgcolor\": \"#F5F6F9\", \"font\": {\"color\": \"#4D5663\"}}, \"paper_bgcolor\": \"#F5F6F9\", \"plot_bgcolor\": \"#F5F6F9\", \"template\": {\"data\": {\"bar\": [{\"error_x\": {\"color\": \"#2a3f5f\"}, \"error_y\": {\"color\": \"#2a3f5f\"}, \"marker\": {\"line\": {\"color\": \"#E5ECF6\", \"width\": 0.5}}, \"type\": \"bar\"}], \"barpolar\": [{\"marker\": {\"line\": {\"color\": \"#E5ECF6\", \"width\": 0.5}}, \"type\": \"barpolar\"}], \"carpet\": [{\"aaxis\": {\"endlinecolor\": \"#2a3f5f\", \"gridcolor\": \"white\", \"linecolor\": \"white\", \"minorgridcolor\": \"white\", \"startlinecolor\": \"#2a3f5f\"}, \"baxis\": {\"endlinecolor\": \"#2a3f5f\", \"gridcolor\": \"white\", \"linecolor\": \"white\", \"minorgridcolor\": \"white\", \"startlinecolor\": \"#2a3f5f\"}, \"type\": \"carpet\"}], \"choropleth\": [{\"colorbar\": {\"outlinewidth\": 0, \"ticks\": \"\"}, \"type\": \"choropleth\"}], \"contour\": [{\"colorbar\": {\"outlinewidth\": 0, \"ticks\": \"\"}, \"colorscale\": [[0.0, \"#0d0887\"], [0.1111111111111111, \"#46039f\"], [0.2222222222222222, \"#7201a8\"], [0.3333333333333333, \"#9c179e\"], [0.4444444444444444, \"#bd3786\"], [0.5555555555555556, \"#d8576b\"], [0.6666666666666666, \"#ed7953\"], [0.7777777777777778, \"#fb9f3a\"], [0.8888888888888888, \"#fdca26\"], [1.0, \"#f0f921\"]], \"type\": \"contour\"}], \"contourcarpet\": [{\"colorbar\": {\"outlinewidth\": 0, \"ticks\": \"\"}, \"type\": \"contourcarpet\"}], \"heatmap\": [{\"colorbar\": {\"outlinewidth\": 0, \"ticks\": \"\"}, \"colorscale\": [[0.0, \"#0d0887\"], [0.1111111111111111, \"#46039f\"], [0.2222222222222222, \"#7201a8\"], [0.3333333333333333, \"#9c179e\"], [0.4444444444444444, \"#bd3786\"], [0.5555555555555556, \"#d8576b\"], [0.6666666666666666, \"#ed7953\"], [0.7777777777777778, \"#fb9f3a\"], [0.8888888888888888, \"#fdca26\"], [1.0, \"#f0f921\"]], \"type\": \"heatmap\"}], \"heatmapgl\": [{\"colorbar\": {\"outlinewidth\": 0, \"ticks\": \"\"}, \"colorscale\": [[0.0, \"#0d0887\"], [0.1111111111111111, \"#46039f\"], [0.2222222222222222, \"#7201a8\"], [0.3333333333333333, \"#9c179e\"], [0.4444444444444444, \"#bd3786\"], [0.5555555555555556, \"#d8576b\"], [0.6666666666666666, \"#ed7953\"], [0.7777777777777778, \"#fb9f3a\"], [0.8888888888888888, \"#fdca26\"], [1.0, \"#f0f921\"]], \"type\": \"heatmapgl\"}], \"histogram\": [{\"marker\": {\"colorbar\": {\"outlinewidth\": 0, \"ticks\": \"\"}}, \"type\": \"histogram\"}], \"histogram2d\": [{\"colorbar\": {\"outlinewidth\": 0, \"ticks\": \"\"}, \"colorscale\": [[0.0, \"#0d0887\"], [0.1111111111111111, \"#46039f\"], [0.2222222222222222, \"#7201a8\"], [0.3333333333333333, \"#9c179e\"], [0.4444444444444444, \"#bd3786\"], [0.5555555555555556, \"#d8576b\"], [0.6666666666666666, \"#ed7953\"], [0.7777777777777778, \"#fb9f3a\"], [0.8888888888888888, \"#fdca26\"], [1.0, \"#f0f921\"]], \"type\": \"histogram2d\"}], \"histogram2dcontour\": [{\"colorbar\": {\"outlinewidth\": 0, \"ticks\": \"\"}, \"colorscale\": [[0.0, \"#0d0887\"], [0.1111111111111111, \"#46039f\"], [0.2222222222222222, \"#7201a8\"], [0.3333333333333333, \"#9c179e\"], [0.4444444444444444, \"#bd3786\"], [0.5555555555555556, \"#d8576b\"], [0.6666666666666666, \"#ed7953\"], [0.7777777777777778, \"#fb9f3a\"], [0.8888888888888888, \"#fdca26\"], [1.0, \"#f0f921\"]], \"type\": \"histogram2dcontour\"}], \"mesh3d\": [{\"colorbar\": {\"outlinewidth\": 0, \"ticks\": \"\"}, \"type\": \"mesh3d\"}], \"parcoords\": [{\"line\": {\"colorbar\": {\"outlinewidth\": 0, \"ticks\": \"\"}}, \"type\": \"parcoords\"}], \"pie\": [{\"automargin\": true, \"type\": \"pie\"}], \"scatter\": [{\"marker\": {\"colorbar\": {\"outlinewidth\": 0, \"ticks\": \"\"}}, \"type\": \"scatter\"}], \"scatter3d\": [{\"line\": {\"colorbar\": {\"outlinewidth\": 0, \"ticks\": \"\"}}, \"marker\": {\"colorbar\": {\"outlinewidth\": 0, \"ticks\": \"\"}}, \"type\": \"scatter3d\"}], \"scattercarpet\": [{\"marker\": {\"colorbar\": {\"outlinewidth\": 0, \"ticks\": \"\"}}, \"type\": \"scattercarpet\"}], \"scattergeo\": [{\"marker\": {\"colorbar\": {\"outlinewidth\": 0, \"ticks\": \"\"}}, \"type\": \"scattergeo\"}], \"scattergl\": [{\"marker\": {\"colorbar\": {\"outlinewidth\": 0, \"ticks\": \"\"}}, \"type\": \"scattergl\"}], \"scattermapbox\": [{\"marker\": {\"colorbar\": {\"outlinewidth\": 0, \"ticks\": \"\"}}, \"type\": \"scattermapbox\"}], \"scatterpolar\": [{\"marker\": {\"colorbar\": {\"outlinewidth\": 0, \"ticks\": \"\"}}, \"type\": \"scatterpolar\"}], \"scatterpolargl\": [{\"marker\": {\"colorbar\": {\"outlinewidth\": 0, \"ticks\": \"\"}}, \"type\": \"scatterpolargl\"}], \"scatterternary\": [{\"marker\": {\"colorbar\": {\"outlinewidth\": 0, \"ticks\": \"\"}}, \"type\": \"scatterternary\"}], \"surface\": [{\"colorbar\": {\"outlinewidth\": 0, \"ticks\": \"\"}, \"colorscale\": [[0.0, \"#0d0887\"], [0.1111111111111111, \"#46039f\"], [0.2222222222222222, \"#7201a8\"], [0.3333333333333333, \"#9c179e\"], [0.4444444444444444, \"#bd3786\"], [0.5555555555555556, \"#d8576b\"], [0.6666666666666666, \"#ed7953\"], [0.7777777777777778, \"#fb9f3a\"], [0.8888888888888888, \"#fdca26\"], [1.0, \"#f0f921\"]], \"type\": \"surface\"}], \"table\": [{\"cells\": {\"fill\": {\"color\": \"#EBF0F8\"}, \"line\": {\"color\": \"white\"}}, \"header\": {\"fill\": {\"color\": \"#C8D4E3\"}, \"line\": {\"color\": \"white\"}}, \"type\": \"table\"}]}, \"layout\": {\"annotationdefaults\": {\"arrowcolor\": \"#2a3f5f\", \"arrowhead\": 0, \"arrowwidth\": 1}, \"coloraxis\": {\"colorbar\": {\"outlinewidth\": 0, \"ticks\": \"\"}}, \"colorscale\": {\"diverging\": [[0, \"#8e0152\"], [0.1, \"#c51b7d\"], [0.2, \"#de77ae\"], [0.3, \"#f1b6da\"], [0.4, \"#fde0ef\"], [0.5, \"#f7f7f7\"], [0.6, \"#e6f5d0\"], [0.7, \"#b8e186\"], [0.8, \"#7fbc41\"], [0.9, \"#4d9221\"], [1, \"#276419\"]], \"sequential\": [[0.0, \"#0d0887\"], [0.1111111111111111, \"#46039f\"], [0.2222222222222222, \"#7201a8\"], [0.3333333333333333, \"#9c179e\"], [0.4444444444444444, \"#bd3786\"], [0.5555555555555556, \"#d8576b\"], [0.6666666666666666, \"#ed7953\"], [0.7777777777777778, \"#fb9f3a\"], [0.8888888888888888, \"#fdca26\"], [1.0, \"#f0f921\"]], \"sequentialminus\": [[0.0, \"#0d0887\"], [0.1111111111111111, \"#46039f\"], [0.2222222222222222, \"#7201a8\"], [0.3333333333333333, \"#9c179e\"], [0.4444444444444444, \"#bd3786\"], [0.5555555555555556, \"#d8576b\"], [0.6666666666666666, \"#ed7953\"], [0.7777777777777778, \"#fb9f3a\"], [0.8888888888888888, \"#fdca26\"], [1.0, \"#f0f921\"]]}, \"colorway\": [\"#636efa\", \"#EF553B\", \"#00cc96\", \"#ab63fa\", \"#FFA15A\", \"#19d3f3\", \"#FF6692\", \"#B6E880\", \"#FF97FF\", \"#FECB52\"], \"font\": {\"color\": \"#2a3f5f\"}, \"geo\": {\"bgcolor\": \"white\", \"lakecolor\": \"white\", \"landcolor\": \"#E5ECF6\", \"showlakes\": true, \"showland\": true, \"subunitcolor\": \"white\"}, \"hoverlabel\": {\"align\": \"left\"}, \"hovermode\": \"closest\", \"mapbox\": {\"style\": \"light\"}, \"paper_bgcolor\": \"white\", \"plot_bgcolor\": \"#E5ECF6\", \"polar\": {\"angularaxis\": {\"gridcolor\": \"white\", \"linecolor\": \"white\", \"ticks\": \"\"}, \"bgcolor\": \"#E5ECF6\", \"radialaxis\": {\"gridcolor\": \"white\", \"linecolor\": \"white\", \"ticks\": \"\"}}, \"scene\": {\"xaxis\": {\"backgroundcolor\": \"#E5ECF6\", \"gridcolor\": \"white\", \"gridwidth\": 2, \"linecolor\": \"white\", \"showbackground\": true, \"ticks\": \"\", \"zerolinecolor\": \"white\"}, \"yaxis\": {\"backgroundcolor\": \"#E5ECF6\", \"gridcolor\": \"white\", \"gridwidth\": 2, \"linecolor\": \"white\", \"showbackground\": true, \"ticks\": \"\", \"zerolinecolor\": \"white\"}, \"zaxis\": {\"backgroundcolor\": \"#E5ECF6\", \"gridcolor\": \"white\", \"gridwidth\": 2, \"linecolor\": \"white\", \"showbackground\": true, \"ticks\": \"\", \"zerolinecolor\": \"white\"}}, \"shapedefaults\": {\"line\": {\"color\": \"#2a3f5f\"}}, \"ternary\": {\"aaxis\": {\"gridcolor\": \"white\", \"linecolor\": \"white\", \"ticks\": \"\"}, \"baxis\": {\"gridcolor\": \"white\", \"linecolor\": \"white\", \"ticks\": \"\"}, \"bgcolor\": \"#E5ECF6\", \"caxis\": {\"gridcolor\": \"white\", \"linecolor\": \"white\", \"ticks\": \"\"}}, \"title\": {\"x\": 0.05}, \"xaxis\": {\"automargin\": true, \"gridcolor\": \"white\", \"linecolor\": \"white\", \"ticks\": \"\", \"title\": {\"standoff\": 15}, \"zerolinecolor\": \"white\", \"zerolinewidth\": 2}, \"yaxis\": {\"automargin\": true, \"gridcolor\": \"white\", \"linecolor\": \"white\", \"ticks\": \"\", \"title\": {\"standoff\": 15}, \"zerolinecolor\": \"white\", \"zerolinewidth\": 2}}}, \"title\": {\"font\": {\"color\": \"#4D5663\"}}, \"xaxis\": {\"gridcolor\": \"#E1E5ED\", \"showgrid\": true, \"tickfont\": {\"color\": \"#4D5663\"}, \"title\": {\"font\": {\"color\": \"#4D5663\"}, \"text\": \"\"}, \"zerolinecolor\": \"#E1E5ED\"}, \"yaxis\": {\"gridcolor\": \"#E1E5ED\", \"showgrid\": true, \"tickfont\": {\"color\": \"#4D5663\"}, \"title\": {\"font\": {\"color\": \"#4D5663\"}, \"text\": \"\"}, \"zerolinecolor\": \"#E1E5ED\"}},\n",
       "                        {\"showLink\": true, \"linkText\": \"Export to plot.ly\", \"plotlyServerURL\": \"https://plot.ly\", \"responsive\": true}\n",
       "                    ).then(function(){\n",
       "                            \n",
       "var gd = document.getElementById('265bb762-4698-4baa-b314-7c120da60b94');\n",
       "var x = new MutationObserver(function (mutations, observer) {{\n",
       "        var display = window.getComputedStyle(gd).display;\n",
       "        if (!display || display === 'none') {{\n",
       "            console.log([gd, 'removed!']);\n",
       "            Plotly.purge(gd);\n",
       "            observer.disconnect();\n",
       "        }}\n",
       "}});\n",
       "\n",
       "// Listen for the removal of the full notebook cells\n",
       "var notebookContainer = gd.closest('#notebook-container');\n",
       "if (notebookContainer) {{\n",
       "    x.observe(notebookContainer, {childList: true});\n",
       "}}\n",
       "\n",
       "// Listen for the clearing of the current output cell\n",
       "var outputEl = gd.closest('.output');\n",
       "if (outputEl) {{\n",
       "    x.observe(outputEl, {childList: true});\n",
       "}}\n",
       "\n",
       "                        })\n",
       "                };\n",
       "                });\n",
       "            </script>\n",
       "        </div>"
      ]
     },
     "metadata": {},
     "output_type": "display_data"
    }
   ],
   "source": [
    "df.iplot(kind='box')"
   ]
  },
  {
   "cell_type": "markdown",
   "metadata": {},
   "source": [
    "## 3d Surface"
   ]
  },
  {
   "cell_type": "code",
   "execution_count": 14,
   "metadata": {},
   "outputs": [
    {
     "data": {
      "application/vnd.plotly.v1+json": {
       "config": {
        "linkText": "Export to plot.ly",
        "plotlyServerURL": "https://plot.ly",
        "showLink": true
       },
       "data": [
        {
         "colorscale": [
          [
           0,
           "rgb(165,0,38)"
          ],
          [
           0.1,
           "rgb(215,48,39)"
          ],
          [
           0.2,
           "rgb(244,109,67)"
          ],
          [
           0.3,
           "rgb(253,174,97)"
          ],
          [
           0.4,
           "rgb(254,224,144)"
          ],
          [
           0.5,
           "rgb(255,255,191)"
          ],
          [
           0.6,
           "rgb(224,243,248)"
          ],
          [
           0.7,
           "rgb(171,217,233)"
          ],
          [
           0.8,
           "rgb(116,173,209)"
          ],
          [
           0.9,
           "rgb(69,117,180)"
          ],
          [
           1,
           "rgb(49,54,149)"
          ]
         ],
         "type": "surface",
         "x": [
          0,
          1,
          2,
          3,
          4
         ],
         "y": [
          "x",
          "y",
          "z"
         ],
         "z": [
          [
           1,
           2,
           3,
           4,
           5
          ],
          [
           10,
           20,
           30,
           20,
           10
          ],
          [
           5,
           4,
           3,
           2,
           1
          ]
         ]
        }
       ],
       "layout": {
        "legend": {
         "bgcolor": "#F5F6F9",
         "font": {
          "color": "#4D5663"
         }
        },
        "paper_bgcolor": "#F5F6F9",
        "plot_bgcolor": "#F5F6F9",
        "template": {
         "data": {
          "bar": [
           {
            "error_x": {
             "color": "#2a3f5f"
            },
            "error_y": {
             "color": "#2a3f5f"
            },
            "marker": {
             "line": {
              "color": "#E5ECF6",
              "width": 0.5
             }
            },
            "type": "bar"
           }
          ],
          "barpolar": [
           {
            "marker": {
             "line": {
              "color": "#E5ECF6",
              "width": 0.5
             }
            },
            "type": "barpolar"
           }
          ],
          "carpet": [
           {
            "aaxis": {
             "endlinecolor": "#2a3f5f",
             "gridcolor": "white",
             "linecolor": "white",
             "minorgridcolor": "white",
             "startlinecolor": "#2a3f5f"
            },
            "baxis": {
             "endlinecolor": "#2a3f5f",
             "gridcolor": "white",
             "linecolor": "white",
             "minorgridcolor": "white",
             "startlinecolor": "#2a3f5f"
            },
            "type": "carpet"
           }
          ],
          "choropleth": [
           {
            "colorbar": {
             "outlinewidth": 0,
             "ticks": ""
            },
            "type": "choropleth"
           }
          ],
          "contour": [
           {
            "colorbar": {
             "outlinewidth": 0,
             "ticks": ""
            },
            "colorscale": [
             [
              0,
              "#0d0887"
             ],
             [
              0.1111111111111111,
              "#46039f"
             ],
             [
              0.2222222222222222,
              "#7201a8"
             ],
             [
              0.3333333333333333,
              "#9c179e"
             ],
             [
              0.4444444444444444,
              "#bd3786"
             ],
             [
              0.5555555555555556,
              "#d8576b"
             ],
             [
              0.6666666666666666,
              "#ed7953"
             ],
             [
              0.7777777777777778,
              "#fb9f3a"
             ],
             [
              0.8888888888888888,
              "#fdca26"
             ],
             [
              1,
              "#f0f921"
             ]
            ],
            "type": "contour"
           }
          ],
          "contourcarpet": [
           {
            "colorbar": {
             "outlinewidth": 0,
             "ticks": ""
            },
            "type": "contourcarpet"
           }
          ],
          "heatmap": [
           {
            "colorbar": {
             "outlinewidth": 0,
             "ticks": ""
            },
            "colorscale": [
             [
              0,
              "#0d0887"
             ],
             [
              0.1111111111111111,
              "#46039f"
             ],
             [
              0.2222222222222222,
              "#7201a8"
             ],
             [
              0.3333333333333333,
              "#9c179e"
             ],
             [
              0.4444444444444444,
              "#bd3786"
             ],
             [
              0.5555555555555556,
              "#d8576b"
             ],
             [
              0.6666666666666666,
              "#ed7953"
             ],
             [
              0.7777777777777778,
              "#fb9f3a"
             ],
             [
              0.8888888888888888,
              "#fdca26"
             ],
             [
              1,
              "#f0f921"
             ]
            ],
            "type": "heatmap"
           }
          ],
          "heatmapgl": [
           {
            "colorbar": {
             "outlinewidth": 0,
             "ticks": ""
            },
            "colorscale": [
             [
              0,
              "#0d0887"
             ],
             [
              0.1111111111111111,
              "#46039f"
             ],
             [
              0.2222222222222222,
              "#7201a8"
             ],
             [
              0.3333333333333333,
              "#9c179e"
             ],
             [
              0.4444444444444444,
              "#bd3786"
             ],
             [
              0.5555555555555556,
              "#d8576b"
             ],
             [
              0.6666666666666666,
              "#ed7953"
             ],
             [
              0.7777777777777778,
              "#fb9f3a"
             ],
             [
              0.8888888888888888,
              "#fdca26"
             ],
             [
              1,
              "#f0f921"
             ]
            ],
            "type": "heatmapgl"
           }
          ],
          "histogram": [
           {
            "marker": {
             "colorbar": {
              "outlinewidth": 0,
              "ticks": ""
             }
            },
            "type": "histogram"
           }
          ],
          "histogram2d": [
           {
            "colorbar": {
             "outlinewidth": 0,
             "ticks": ""
            },
            "colorscale": [
             [
              0,
              "#0d0887"
             ],
             [
              0.1111111111111111,
              "#46039f"
             ],
             [
              0.2222222222222222,
              "#7201a8"
             ],
             [
              0.3333333333333333,
              "#9c179e"
             ],
             [
              0.4444444444444444,
              "#bd3786"
             ],
             [
              0.5555555555555556,
              "#d8576b"
             ],
             [
              0.6666666666666666,
              "#ed7953"
             ],
             [
              0.7777777777777778,
              "#fb9f3a"
             ],
             [
              0.8888888888888888,
              "#fdca26"
             ],
             [
              1,
              "#f0f921"
             ]
            ],
            "type": "histogram2d"
           }
          ],
          "histogram2dcontour": [
           {
            "colorbar": {
             "outlinewidth": 0,
             "ticks": ""
            },
            "colorscale": [
             [
              0,
              "#0d0887"
             ],
             [
              0.1111111111111111,
              "#46039f"
             ],
             [
              0.2222222222222222,
              "#7201a8"
             ],
             [
              0.3333333333333333,
              "#9c179e"
             ],
             [
              0.4444444444444444,
              "#bd3786"
             ],
             [
              0.5555555555555556,
              "#d8576b"
             ],
             [
              0.6666666666666666,
              "#ed7953"
             ],
             [
              0.7777777777777778,
              "#fb9f3a"
             ],
             [
              0.8888888888888888,
              "#fdca26"
             ],
             [
              1,
              "#f0f921"
             ]
            ],
            "type": "histogram2dcontour"
           }
          ],
          "mesh3d": [
           {
            "colorbar": {
             "outlinewidth": 0,
             "ticks": ""
            },
            "type": "mesh3d"
           }
          ],
          "parcoords": [
           {
            "line": {
             "colorbar": {
              "outlinewidth": 0,
              "ticks": ""
             }
            },
            "type": "parcoords"
           }
          ],
          "pie": [
           {
            "automargin": true,
            "type": "pie"
           }
          ],
          "scatter": [
           {
            "marker": {
             "colorbar": {
              "outlinewidth": 0,
              "ticks": ""
             }
            },
            "type": "scatter"
           }
          ],
          "scatter3d": [
           {
            "line": {
             "colorbar": {
              "outlinewidth": 0,
              "ticks": ""
             }
            },
            "marker": {
             "colorbar": {
              "outlinewidth": 0,
              "ticks": ""
             }
            },
            "type": "scatter3d"
           }
          ],
          "scattercarpet": [
           {
            "marker": {
             "colorbar": {
              "outlinewidth": 0,
              "ticks": ""
             }
            },
            "type": "scattercarpet"
           }
          ],
          "scattergeo": [
           {
            "marker": {
             "colorbar": {
              "outlinewidth": 0,
              "ticks": ""
             }
            },
            "type": "scattergeo"
           }
          ],
          "scattergl": [
           {
            "marker": {
             "colorbar": {
              "outlinewidth": 0,
              "ticks": ""
             }
            },
            "type": "scattergl"
           }
          ],
          "scattermapbox": [
           {
            "marker": {
             "colorbar": {
              "outlinewidth": 0,
              "ticks": ""
             }
            },
            "type": "scattermapbox"
           }
          ],
          "scatterpolar": [
           {
            "marker": {
             "colorbar": {
              "outlinewidth": 0,
              "ticks": ""
             }
            },
            "type": "scatterpolar"
           }
          ],
          "scatterpolargl": [
           {
            "marker": {
             "colorbar": {
              "outlinewidth": 0,
              "ticks": ""
             }
            },
            "type": "scatterpolargl"
           }
          ],
          "scatterternary": [
           {
            "marker": {
             "colorbar": {
              "outlinewidth": 0,
              "ticks": ""
             }
            },
            "type": "scatterternary"
           }
          ],
          "surface": [
           {
            "colorbar": {
             "outlinewidth": 0,
             "ticks": ""
            },
            "colorscale": [
             [
              0,
              "#0d0887"
             ],
             [
              0.1111111111111111,
              "#46039f"
             ],
             [
              0.2222222222222222,
              "#7201a8"
             ],
             [
              0.3333333333333333,
              "#9c179e"
             ],
             [
              0.4444444444444444,
              "#bd3786"
             ],
             [
              0.5555555555555556,
              "#d8576b"
             ],
             [
              0.6666666666666666,
              "#ed7953"
             ],
             [
              0.7777777777777778,
              "#fb9f3a"
             ],
             [
              0.8888888888888888,
              "#fdca26"
             ],
             [
              1,
              "#f0f921"
             ]
            ],
            "type": "surface"
           }
          ],
          "table": [
           {
            "cells": {
             "fill": {
              "color": "#EBF0F8"
             },
             "line": {
              "color": "white"
             }
            },
            "header": {
             "fill": {
              "color": "#C8D4E3"
             },
             "line": {
              "color": "white"
             }
            },
            "type": "table"
           }
          ]
         },
         "layout": {
          "annotationdefaults": {
           "arrowcolor": "#2a3f5f",
           "arrowhead": 0,
           "arrowwidth": 1
          },
          "coloraxis": {
           "colorbar": {
            "outlinewidth": 0,
            "ticks": ""
           }
          },
          "colorscale": {
           "diverging": [
            [
             0,
             "#8e0152"
            ],
            [
             0.1,
             "#c51b7d"
            ],
            [
             0.2,
             "#de77ae"
            ],
            [
             0.3,
             "#f1b6da"
            ],
            [
             0.4,
             "#fde0ef"
            ],
            [
             0.5,
             "#f7f7f7"
            ],
            [
             0.6,
             "#e6f5d0"
            ],
            [
             0.7,
             "#b8e186"
            ],
            [
             0.8,
             "#7fbc41"
            ],
            [
             0.9,
             "#4d9221"
            ],
            [
             1,
             "#276419"
            ]
           ],
           "sequential": [
            [
             0,
             "#0d0887"
            ],
            [
             0.1111111111111111,
             "#46039f"
            ],
            [
             0.2222222222222222,
             "#7201a8"
            ],
            [
             0.3333333333333333,
             "#9c179e"
            ],
            [
             0.4444444444444444,
             "#bd3786"
            ],
            [
             0.5555555555555556,
             "#d8576b"
            ],
            [
             0.6666666666666666,
             "#ed7953"
            ],
            [
             0.7777777777777778,
             "#fb9f3a"
            ],
            [
             0.8888888888888888,
             "#fdca26"
            ],
            [
             1,
             "#f0f921"
            ]
           ],
           "sequentialminus": [
            [
             0,
             "#0d0887"
            ],
            [
             0.1111111111111111,
             "#46039f"
            ],
            [
             0.2222222222222222,
             "#7201a8"
            ],
            [
             0.3333333333333333,
             "#9c179e"
            ],
            [
             0.4444444444444444,
             "#bd3786"
            ],
            [
             0.5555555555555556,
             "#d8576b"
            ],
            [
             0.6666666666666666,
             "#ed7953"
            ],
            [
             0.7777777777777778,
             "#fb9f3a"
            ],
            [
             0.8888888888888888,
             "#fdca26"
            ],
            [
             1,
             "#f0f921"
            ]
           ]
          },
          "colorway": [
           "#636efa",
           "#EF553B",
           "#00cc96",
           "#ab63fa",
           "#FFA15A",
           "#19d3f3",
           "#FF6692",
           "#B6E880",
           "#FF97FF",
           "#FECB52"
          ],
          "font": {
           "color": "#2a3f5f"
          },
          "geo": {
           "bgcolor": "white",
           "lakecolor": "white",
           "landcolor": "#E5ECF6",
           "showlakes": true,
           "showland": true,
           "subunitcolor": "white"
          },
          "hoverlabel": {
           "align": "left"
          },
          "hovermode": "closest",
          "mapbox": {
           "style": "light"
          },
          "paper_bgcolor": "white",
          "plot_bgcolor": "#E5ECF6",
          "polar": {
           "angularaxis": {
            "gridcolor": "white",
            "linecolor": "white",
            "ticks": ""
           },
           "bgcolor": "#E5ECF6",
           "radialaxis": {
            "gridcolor": "white",
            "linecolor": "white",
            "ticks": ""
           }
          },
          "scene": {
           "xaxis": {
            "backgroundcolor": "#E5ECF6",
            "gridcolor": "white",
            "gridwidth": 2,
            "linecolor": "white",
            "showbackground": true,
            "ticks": "",
            "zerolinecolor": "white"
           },
           "yaxis": {
            "backgroundcolor": "#E5ECF6",
            "gridcolor": "white",
            "gridwidth": 2,
            "linecolor": "white",
            "showbackground": true,
            "ticks": "",
            "zerolinecolor": "white"
           },
           "zaxis": {
            "backgroundcolor": "#E5ECF6",
            "gridcolor": "white",
            "gridwidth": 2,
            "linecolor": "white",
            "showbackground": true,
            "ticks": "",
            "zerolinecolor": "white"
           }
          },
          "shapedefaults": {
           "line": {
            "color": "#2a3f5f"
           }
          },
          "ternary": {
           "aaxis": {
            "gridcolor": "white",
            "linecolor": "white",
            "ticks": ""
           },
           "baxis": {
            "gridcolor": "white",
            "linecolor": "white",
            "ticks": ""
           },
           "bgcolor": "#E5ECF6",
           "caxis": {
            "gridcolor": "white",
            "linecolor": "white",
            "ticks": ""
           }
          },
          "title": {
           "x": 0.05
          },
          "xaxis": {
           "automargin": true,
           "gridcolor": "white",
           "linecolor": "white",
           "ticks": "",
           "title": {
            "standoff": 15
           },
           "zerolinecolor": "white",
           "zerolinewidth": 2
          },
          "yaxis": {
           "automargin": true,
           "gridcolor": "white",
           "linecolor": "white",
           "ticks": "",
           "title": {
            "standoff": 15
           },
           "zerolinecolor": "white",
           "zerolinewidth": 2
          }
         }
        },
        "title": {
         "font": {
          "color": "#4D5663"
         }
        },
        "xaxis": {
         "gridcolor": "#E1E5ED",
         "showgrid": true,
         "tickfont": {
          "color": "#4D5663"
         },
         "title": {
          "font": {
           "color": "#4D5663"
          },
          "text": ""
         },
         "zerolinecolor": "#E1E5ED"
        },
        "yaxis": {
         "gridcolor": "#E1E5ED",
         "showgrid": true,
         "tickfont": {
          "color": "#4D5663"
         },
         "title": {
          "font": {
           "color": "#4D5663"
          },
          "text": ""
         },
         "zerolinecolor": "#E1E5ED"
        }
       }
      },
      "text/html": [
       "<div>\n",
       "        \n",
       "        \n",
       "            <div id=\"fb3ec240-2be2-411b-a6eb-6bcd33d156a5\" class=\"plotly-graph-div\" style=\"height:525px; width:100%;\"></div>\n",
       "            <script type=\"text/javascript\">\n",
       "                require([\"plotly\"], function(Plotly) {\n",
       "                    window.PLOTLYENV=window.PLOTLYENV || {};\n",
       "                    window.PLOTLYENV.BASE_URL='https://plot.ly';\n",
       "                    \n",
       "                if (document.getElementById(\"fb3ec240-2be2-411b-a6eb-6bcd33d156a5\")) {\n",
       "                    Plotly.newPlot(\n",
       "                        'fb3ec240-2be2-411b-a6eb-6bcd33d156a5',\n",
       "                        [{\"colorscale\": [[0.0, \"rgb(165,0,38)\"], [0.1, \"rgb(215,48,39)\"], [0.2, \"rgb(244,109,67)\"], [0.3, \"rgb(253,174,97)\"], [0.4, \"rgb(254,224,144)\"], [0.5, \"rgb(255,255,191)\"], [0.6, \"rgb(224,243,248)\"], [0.7, \"rgb(171,217,233)\"], [0.8, \"rgb(116,173,209)\"], [0.9, \"rgb(69,117,180)\"], [1.0, \"rgb(49,54,149)\"]], \"type\": \"surface\", \"x\": [0, 1, 2, 3, 4], \"y\": [\"x\", \"y\", \"z\"], \"z\": [[1, 2, 3, 4, 5], [10, 20, 30, 20, 10], [5, 4, 3, 2, 1]]}],\n",
       "                        {\"legend\": {\"bgcolor\": \"#F5F6F9\", \"font\": {\"color\": \"#4D5663\"}}, \"paper_bgcolor\": \"#F5F6F9\", \"plot_bgcolor\": \"#F5F6F9\", \"template\": {\"data\": {\"bar\": [{\"error_x\": {\"color\": \"#2a3f5f\"}, \"error_y\": {\"color\": \"#2a3f5f\"}, \"marker\": {\"line\": {\"color\": \"#E5ECF6\", \"width\": 0.5}}, \"type\": \"bar\"}], \"barpolar\": [{\"marker\": {\"line\": {\"color\": \"#E5ECF6\", \"width\": 0.5}}, \"type\": \"barpolar\"}], \"carpet\": [{\"aaxis\": {\"endlinecolor\": \"#2a3f5f\", \"gridcolor\": \"white\", \"linecolor\": \"white\", \"minorgridcolor\": \"white\", \"startlinecolor\": \"#2a3f5f\"}, \"baxis\": {\"endlinecolor\": \"#2a3f5f\", \"gridcolor\": \"white\", \"linecolor\": \"white\", \"minorgridcolor\": \"white\", \"startlinecolor\": \"#2a3f5f\"}, \"type\": \"carpet\"}], \"choropleth\": [{\"colorbar\": {\"outlinewidth\": 0, \"ticks\": \"\"}, \"type\": \"choropleth\"}], \"contour\": [{\"colorbar\": {\"outlinewidth\": 0, \"ticks\": \"\"}, \"colorscale\": [[0.0, \"#0d0887\"], [0.1111111111111111, \"#46039f\"], [0.2222222222222222, \"#7201a8\"], [0.3333333333333333, \"#9c179e\"], [0.4444444444444444, \"#bd3786\"], [0.5555555555555556, \"#d8576b\"], [0.6666666666666666, \"#ed7953\"], [0.7777777777777778, \"#fb9f3a\"], [0.8888888888888888, \"#fdca26\"], [1.0, \"#f0f921\"]], \"type\": \"contour\"}], \"contourcarpet\": [{\"colorbar\": {\"outlinewidth\": 0, \"ticks\": \"\"}, \"type\": \"contourcarpet\"}], \"heatmap\": [{\"colorbar\": {\"outlinewidth\": 0, \"ticks\": \"\"}, \"colorscale\": [[0.0, \"#0d0887\"], [0.1111111111111111, \"#46039f\"], [0.2222222222222222, \"#7201a8\"], [0.3333333333333333, \"#9c179e\"], [0.4444444444444444, \"#bd3786\"], [0.5555555555555556, \"#d8576b\"], [0.6666666666666666, \"#ed7953\"], [0.7777777777777778, \"#fb9f3a\"], [0.8888888888888888, \"#fdca26\"], [1.0, \"#f0f921\"]], \"type\": \"heatmap\"}], \"heatmapgl\": [{\"colorbar\": {\"outlinewidth\": 0, \"ticks\": \"\"}, \"colorscale\": [[0.0, \"#0d0887\"], [0.1111111111111111, \"#46039f\"], [0.2222222222222222, \"#7201a8\"], [0.3333333333333333, \"#9c179e\"], [0.4444444444444444, \"#bd3786\"], [0.5555555555555556, \"#d8576b\"], [0.6666666666666666, \"#ed7953\"], [0.7777777777777778, \"#fb9f3a\"], [0.8888888888888888, \"#fdca26\"], [1.0, \"#f0f921\"]], \"type\": \"heatmapgl\"}], \"histogram\": [{\"marker\": {\"colorbar\": {\"outlinewidth\": 0, \"ticks\": \"\"}}, \"type\": \"histogram\"}], \"histogram2d\": [{\"colorbar\": {\"outlinewidth\": 0, \"ticks\": \"\"}, \"colorscale\": [[0.0, \"#0d0887\"], [0.1111111111111111, \"#46039f\"], [0.2222222222222222, \"#7201a8\"], [0.3333333333333333, \"#9c179e\"], [0.4444444444444444, \"#bd3786\"], [0.5555555555555556, \"#d8576b\"], [0.6666666666666666, \"#ed7953\"], [0.7777777777777778, \"#fb9f3a\"], [0.8888888888888888, \"#fdca26\"], [1.0, \"#f0f921\"]], \"type\": \"histogram2d\"}], \"histogram2dcontour\": [{\"colorbar\": {\"outlinewidth\": 0, \"ticks\": \"\"}, \"colorscale\": [[0.0, \"#0d0887\"], [0.1111111111111111, \"#46039f\"], [0.2222222222222222, \"#7201a8\"], [0.3333333333333333, \"#9c179e\"], [0.4444444444444444, \"#bd3786\"], [0.5555555555555556, \"#d8576b\"], [0.6666666666666666, \"#ed7953\"], [0.7777777777777778, \"#fb9f3a\"], [0.8888888888888888, \"#fdca26\"], [1.0, \"#f0f921\"]], \"type\": \"histogram2dcontour\"}], \"mesh3d\": [{\"colorbar\": {\"outlinewidth\": 0, \"ticks\": \"\"}, \"type\": \"mesh3d\"}], \"parcoords\": [{\"line\": {\"colorbar\": {\"outlinewidth\": 0, \"ticks\": \"\"}}, \"type\": \"parcoords\"}], \"pie\": [{\"automargin\": true, \"type\": \"pie\"}], \"scatter\": [{\"marker\": {\"colorbar\": {\"outlinewidth\": 0, \"ticks\": \"\"}}, \"type\": \"scatter\"}], \"scatter3d\": [{\"line\": {\"colorbar\": {\"outlinewidth\": 0, \"ticks\": \"\"}}, \"marker\": {\"colorbar\": {\"outlinewidth\": 0, \"ticks\": \"\"}}, \"type\": \"scatter3d\"}], \"scattercarpet\": [{\"marker\": {\"colorbar\": {\"outlinewidth\": 0, \"ticks\": \"\"}}, \"type\": \"scattercarpet\"}], \"scattergeo\": [{\"marker\": {\"colorbar\": {\"outlinewidth\": 0, \"ticks\": \"\"}}, \"type\": \"scattergeo\"}], \"scattergl\": [{\"marker\": {\"colorbar\": {\"outlinewidth\": 0, \"ticks\": \"\"}}, \"type\": \"scattergl\"}], \"scattermapbox\": [{\"marker\": {\"colorbar\": {\"outlinewidth\": 0, \"ticks\": \"\"}}, \"type\": \"scattermapbox\"}], \"scatterpolar\": [{\"marker\": {\"colorbar\": {\"outlinewidth\": 0, \"ticks\": \"\"}}, \"type\": \"scatterpolar\"}], \"scatterpolargl\": [{\"marker\": {\"colorbar\": {\"outlinewidth\": 0, \"ticks\": \"\"}}, \"type\": \"scatterpolargl\"}], \"scatterternary\": [{\"marker\": {\"colorbar\": {\"outlinewidth\": 0, \"ticks\": \"\"}}, \"type\": \"scatterternary\"}], \"surface\": [{\"colorbar\": {\"outlinewidth\": 0, \"ticks\": \"\"}, \"colorscale\": [[0.0, \"#0d0887\"], [0.1111111111111111, \"#46039f\"], [0.2222222222222222, \"#7201a8\"], [0.3333333333333333, \"#9c179e\"], [0.4444444444444444, \"#bd3786\"], [0.5555555555555556, \"#d8576b\"], [0.6666666666666666, \"#ed7953\"], [0.7777777777777778, \"#fb9f3a\"], [0.8888888888888888, \"#fdca26\"], [1.0, \"#f0f921\"]], \"type\": \"surface\"}], \"table\": [{\"cells\": {\"fill\": {\"color\": \"#EBF0F8\"}, \"line\": {\"color\": \"white\"}}, \"header\": {\"fill\": {\"color\": \"#C8D4E3\"}, \"line\": {\"color\": \"white\"}}, \"type\": \"table\"}]}, \"layout\": {\"annotationdefaults\": {\"arrowcolor\": \"#2a3f5f\", \"arrowhead\": 0, \"arrowwidth\": 1}, \"coloraxis\": {\"colorbar\": {\"outlinewidth\": 0, \"ticks\": \"\"}}, \"colorscale\": {\"diverging\": [[0, \"#8e0152\"], [0.1, \"#c51b7d\"], [0.2, \"#de77ae\"], [0.3, \"#f1b6da\"], [0.4, \"#fde0ef\"], [0.5, \"#f7f7f7\"], [0.6, \"#e6f5d0\"], [0.7, \"#b8e186\"], [0.8, \"#7fbc41\"], [0.9, \"#4d9221\"], [1, \"#276419\"]], \"sequential\": [[0.0, \"#0d0887\"], [0.1111111111111111, \"#46039f\"], [0.2222222222222222, \"#7201a8\"], [0.3333333333333333, \"#9c179e\"], [0.4444444444444444, \"#bd3786\"], [0.5555555555555556, \"#d8576b\"], [0.6666666666666666, \"#ed7953\"], [0.7777777777777778, \"#fb9f3a\"], [0.8888888888888888, \"#fdca26\"], [1.0, \"#f0f921\"]], \"sequentialminus\": [[0.0, \"#0d0887\"], [0.1111111111111111, \"#46039f\"], [0.2222222222222222, \"#7201a8\"], [0.3333333333333333, \"#9c179e\"], [0.4444444444444444, \"#bd3786\"], [0.5555555555555556, \"#d8576b\"], [0.6666666666666666, \"#ed7953\"], [0.7777777777777778, \"#fb9f3a\"], [0.8888888888888888, \"#fdca26\"], [1.0, \"#f0f921\"]]}, \"colorway\": [\"#636efa\", \"#EF553B\", \"#00cc96\", \"#ab63fa\", \"#FFA15A\", \"#19d3f3\", \"#FF6692\", \"#B6E880\", \"#FF97FF\", \"#FECB52\"], \"font\": {\"color\": \"#2a3f5f\"}, \"geo\": {\"bgcolor\": \"white\", \"lakecolor\": \"white\", \"landcolor\": \"#E5ECF6\", \"showlakes\": true, \"showland\": true, \"subunitcolor\": \"white\"}, \"hoverlabel\": {\"align\": \"left\"}, \"hovermode\": \"closest\", \"mapbox\": {\"style\": \"light\"}, \"paper_bgcolor\": \"white\", \"plot_bgcolor\": \"#E5ECF6\", \"polar\": {\"angularaxis\": {\"gridcolor\": \"white\", \"linecolor\": \"white\", \"ticks\": \"\"}, \"bgcolor\": \"#E5ECF6\", \"radialaxis\": {\"gridcolor\": \"white\", \"linecolor\": \"white\", \"ticks\": \"\"}}, \"scene\": {\"xaxis\": {\"backgroundcolor\": \"#E5ECF6\", \"gridcolor\": \"white\", \"gridwidth\": 2, \"linecolor\": \"white\", \"showbackground\": true, \"ticks\": \"\", \"zerolinecolor\": \"white\"}, \"yaxis\": {\"backgroundcolor\": \"#E5ECF6\", \"gridcolor\": \"white\", \"gridwidth\": 2, \"linecolor\": \"white\", \"showbackground\": true, \"ticks\": \"\", \"zerolinecolor\": \"white\"}, \"zaxis\": {\"backgroundcolor\": \"#E5ECF6\", \"gridcolor\": \"white\", \"gridwidth\": 2, \"linecolor\": \"white\", \"showbackground\": true, \"ticks\": \"\", \"zerolinecolor\": \"white\"}}, \"shapedefaults\": {\"line\": {\"color\": \"#2a3f5f\"}}, \"ternary\": {\"aaxis\": {\"gridcolor\": \"white\", \"linecolor\": \"white\", \"ticks\": \"\"}, \"baxis\": {\"gridcolor\": \"white\", \"linecolor\": \"white\", \"ticks\": \"\"}, \"bgcolor\": \"#E5ECF6\", \"caxis\": {\"gridcolor\": \"white\", \"linecolor\": \"white\", \"ticks\": \"\"}}, \"title\": {\"x\": 0.05}, \"xaxis\": {\"automargin\": true, \"gridcolor\": \"white\", \"linecolor\": \"white\", \"ticks\": \"\", \"title\": {\"standoff\": 15}, \"zerolinecolor\": \"white\", \"zerolinewidth\": 2}, \"yaxis\": {\"automargin\": true, \"gridcolor\": \"white\", \"linecolor\": \"white\", \"ticks\": \"\", \"title\": {\"standoff\": 15}, \"zerolinecolor\": \"white\", \"zerolinewidth\": 2}}}, \"title\": {\"font\": {\"color\": \"#4D5663\"}}, \"xaxis\": {\"gridcolor\": \"#E1E5ED\", \"showgrid\": true, \"tickfont\": {\"color\": \"#4D5663\"}, \"title\": {\"font\": {\"color\": \"#4D5663\"}, \"text\": \"\"}, \"zerolinecolor\": \"#E1E5ED\"}, \"yaxis\": {\"gridcolor\": \"#E1E5ED\", \"showgrid\": true, \"tickfont\": {\"color\": \"#4D5663\"}, \"title\": {\"font\": {\"color\": \"#4D5663\"}, \"text\": \"\"}, \"zerolinecolor\": \"#E1E5ED\"}},\n",
       "                        {\"showLink\": true, \"linkText\": \"Export to plot.ly\", \"plotlyServerURL\": \"https://plot.ly\", \"responsive\": true}\n",
       "                    ).then(function(){\n",
       "                            \n",
       "var gd = document.getElementById('fb3ec240-2be2-411b-a6eb-6bcd33d156a5');\n",
       "var x = new MutationObserver(function (mutations, observer) {{\n",
       "        var display = window.getComputedStyle(gd).display;\n",
       "        if (!display || display === 'none') {{\n",
       "            console.log([gd, 'removed!']);\n",
       "            Plotly.purge(gd);\n",
       "            observer.disconnect();\n",
       "        }}\n",
       "}});\n",
       "\n",
       "// Listen for the removal of the full notebook cells\n",
       "var notebookContainer = gd.closest('#notebook-container');\n",
       "if (notebookContainer) {{\n",
       "    x.observe(notebookContainer, {childList: true});\n",
       "}}\n",
       "\n",
       "// Listen for the clearing of the current output cell\n",
       "var outputEl = gd.closest('.output');\n",
       "if (outputEl) {{\n",
       "    x.observe(outputEl, {childList: true});\n",
       "}}\n",
       "\n",
       "                        })\n",
       "                };\n",
       "                });\n",
       "            </script>\n",
       "        </div>"
      ]
     },
     "metadata": {},
     "output_type": "display_data"
    }
   ],
   "source": [
    "df3 = pd.DataFrame({'x':[1,2,3,4,5],'y':[10,20,30,20,10],'z':[5,4,3,2,1]})\n",
    "df3.iplot(kind='surface',colorscale='rdylbu')"
   ]
  },
  {
   "cell_type": "markdown",
   "metadata": {},
   "source": [
    "## Spread"
   ]
  },
  {
   "cell_type": "code",
   "execution_count": 15,
   "metadata": {},
   "outputs": [
    {
     "data": {
      "application/vnd.plotly.v1+json": {
       "config": {
        "linkText": "Export to plot.ly",
        "plotlyServerURL": "https://plot.ly",
        "showLink": true
       },
       "data": [
        {
         "line": {
          "color": "rgba(255, 153, 51, 1.0)",
          "dash": "solid",
          "shape": "linear",
          "width": 1.3
         },
         "mode": "lines",
         "name": "A",
         "text": "",
         "type": "scatter",
         "x": [
          0,
          1,
          2,
          3,
          4,
          5,
          6,
          7,
          8,
          9,
          10,
          11,
          12,
          13,
          14,
          15,
          16,
          17,
          18,
          19,
          20,
          21,
          22,
          23,
          24,
          25,
          26,
          27,
          28,
          29,
          30,
          31,
          32,
          33,
          34,
          35,
          36,
          37,
          38,
          39,
          40,
          41,
          42,
          43,
          44,
          45,
          46,
          47,
          48,
          49,
          50,
          51,
          52,
          53,
          54,
          55,
          56,
          57,
          58,
          59,
          60,
          61,
          62,
          63,
          64,
          65,
          66,
          67,
          68,
          69,
          70,
          71,
          72,
          73,
          74,
          75,
          76,
          77,
          78,
          79,
          80,
          81,
          82,
          83,
          84,
          85,
          86,
          87,
          88,
          89,
          90,
          91,
          92,
          93,
          94,
          95,
          96,
          97,
          98,
          99
         ],
         "y": [
          -0.4219085963273162,
          1.6821026955762655,
          0.4309402142051801,
          0.18411306212801068,
          -0.9281908221713763,
          -0.30874922794372156,
          -0.6290038474767073,
          -0.710791310697247,
          0.17241542605474575,
          -0.8396869257109238,
          0.3806311459364493,
          -0.09381049474443047,
          1.5374181314768314,
          -0.43435294316790796,
          0.6461335117639597,
          -0.12372906160993319,
          0.3022970579415042,
          0.20797545067424617,
          -1.1304501651601098,
          1.1710948609964165,
          0.41306944623653125,
          1.9082257379137284,
          -0.05557142962097008,
          -1.0221174747845423,
          1.1355091384569034,
          1.1672445486913277,
          1.2764241838725863,
          2.3566817803969013,
          -1.2547557150229542,
          -1.7325392979131544,
          -1.2920823588295134,
          0.7580820471569764,
          -1.1858168738788655,
          -0.4841514473365244,
          0.6509296343287128,
          -0.11155686020046292,
          1.5045969153456915,
          -0.12204236350353027,
          -0.05537132415007508,
          -0.28027869353027607,
          0.9613497802818148,
          0.9414707962483713,
          -0.22356717954305758,
          0.7740342983721199,
          -0.7241989040863319,
          0.02778003781964759,
          -0.024055724956834595,
          -0.915078920852879,
          0.5544534137007058,
          -0.05977358602472853,
          0.23458852778203726,
          -0.5512670496759174,
          -0.4314387696367131,
          0.48138568092212886,
          0.151312471088505,
          -1.2683697561726832,
          1.1766160488988537,
          -0.27455824083556385,
          0.07273934897587682,
          -0.8784205932002688,
          -1.6235056907620014,
          -0.644105336585791,
          -1.3059071560879678,
          1.1747908906102706,
          -0.520795580404017,
          1.5905914235182144,
          -1.0584157956032523,
          0.017940488390363326,
          0.21212164922397306,
          -0.7742147529291061,
          -0.07481568924787502,
          -0.7509498972280064,
          0.40873810406643823,
          -0.35782741822032943,
          1.3791574021604953,
          -0.4936108658569253,
          -0.1670321836666462,
          0.0721790925295737,
          0.7001017974476622,
          -0.7875091790993461,
          0.0403208723208704,
          0.3177404868415387,
          -0.056986594871039735,
          0.4528785263940196,
          0.6469206986380688,
          0.41429955942854774,
          0.12303138871638225,
          -0.4126393825177464,
          0.819920664835239,
          1.4600883911553522,
          0.010063642024292574,
          -0.9264281665049272,
          -2.4315763663695646,
          -0.21280943033324837,
          -1.3301028052349306,
          0.7023289550933015,
          -0.029671055859963696,
          0.23193888262846393,
          -0.07874371469382994,
          -1.6085773535868477
         ]
        },
        {
         "line": {
          "color": "rgba(55, 128, 191, 1.0)",
          "dash": "solid",
          "shape": "linear",
          "width": 1.3
         },
         "mode": "lines",
         "name": "B",
         "text": "",
         "type": "scatter",
         "x": [
          0,
          1,
          2,
          3,
          4,
          5,
          6,
          7,
          8,
          9,
          10,
          11,
          12,
          13,
          14,
          15,
          16,
          17,
          18,
          19,
          20,
          21,
          22,
          23,
          24,
          25,
          26,
          27,
          28,
          29,
          30,
          31,
          32,
          33,
          34,
          35,
          36,
          37,
          38,
          39,
          40,
          41,
          42,
          43,
          44,
          45,
          46,
          47,
          48,
          49,
          50,
          51,
          52,
          53,
          54,
          55,
          56,
          57,
          58,
          59,
          60,
          61,
          62,
          63,
          64,
          65,
          66,
          67,
          68,
          69,
          70,
          71,
          72,
          73,
          74,
          75,
          76,
          77,
          78,
          79,
          80,
          81,
          82,
          83,
          84,
          85,
          86,
          87,
          88,
          89,
          90,
          91,
          92,
          93,
          94,
          95,
          96,
          97,
          98,
          99
         ],
         "y": [
          -1.7613428979724588,
          -0.09620099849344611,
          -1.0905554749516704,
          2.028413152575853,
          0.5097144860421348,
          1.9936676211707947,
          1.0142506644633973,
          -0.5618289023209938,
          -0.40593562199118266,
          -1.3499737054571084,
          -0.5106714828156713,
          -0.6407829666278434,
          0.33372601270807,
          0.08363181122544312,
          1.5301434413624457,
          -0.8945041877588099,
          2.0783279038907225,
          -1.6943865920544647,
          -0.4621595926119647,
          -0.7571348170370275,
          1.3747665089714545,
          0.4985098936943716,
          0.08972003187459004,
          0.23342732028905913,
          0.2189969800399268,
          -0.0820069040087503,
          -0.6706333343074938,
          -1.275543117599897,
          -1.3699509360814053,
          0.3901952160800126,
          0.40515476073494494,
          0.8497911535020408,
          0.15108663732483765,
          1.2849528676590611,
          0.17502127520127353,
          -0.856472190237345,
          1.3755879423415716,
          -0.6203252186849335,
          0.2970832302677778,
          1.4228886617797616,
          -0.295302329657846,
          -0.40732886017309755,
          1.204717054703365,
          0.10595034653194314,
          -1.927542908557601,
          0.5340788211371374,
          -1.2595527258535075,
          -0.11744097365828426,
          -1.2322722675875935,
          0.21000255384490144,
          1.2316223605540324,
          0.6248158351987497,
          1.717265073311003,
          0.5085247036804371,
          1.1493774496114195,
          1.6357881500228615,
          0.6774690954323394,
          -0.254747629906569,
          0.7359939702818833,
          0.0831781421552935,
          0.13981334614546928,
          1.345513651578312,
          -0.44745217561787265,
          -0.2960953959886017,
          -2.302161247246569,
          -0.7188463621845694,
          -0.6990455748270236,
          -1.348662227162689,
          -0.5216899224336029,
          0.14048488250800598,
          0.1925196557013099,
          0.3260063565304941,
          0.14063928666482584,
          0.9388815352295453,
          -0.5127863210973753,
          1.1415664506931398,
          1.067019420763672,
          1.339232991142909,
          -0.8317479833178933,
          0.06714344889144137,
          0.40199971911834576,
          0.8336260811188723,
          0.6530201532241336,
          0.2790208938611128,
          0.9227703952463245,
          0.3807611966083535,
          2.14936755196243,
          0.7000220332676952,
          -0.20238099719791927,
          0.7578390029744853,
          -2.0759354128982563,
          0.4873792439363221,
          0.4452307214159721,
          1.2154920757915866,
          -1.042516814260215,
          -0.15670485695431474,
          1.9590815581255574,
          -0.19864062355667617,
          0.02011113860892017,
          -1.0559148650915064
         ]
        },
        {
         "connectgaps": false,
         "fill": "tozeroy",
         "line": {
          "color": "green",
          "dash": "solid",
          "shape": "linear",
          "width": 0.5
         },
         "mode": "lines",
         "name": "Spread",
         "showlegend": false,
         "type": "scatter",
         "x": [
          0,
          1,
          2,
          3,
          4,
          5,
          6,
          7,
          8,
          9,
          10,
          11,
          12,
          13,
          14,
          15,
          16,
          17,
          18,
          19,
          20,
          21,
          22,
          23,
          24,
          25,
          26,
          27,
          28,
          29,
          30,
          31,
          32,
          33,
          34,
          35,
          36,
          37,
          38,
          39,
          40,
          41,
          42,
          43,
          44,
          45,
          46,
          47,
          48,
          49,
          50,
          51,
          52,
          53,
          54,
          55,
          56,
          57,
          58,
          59,
          60,
          61,
          62,
          63,
          64,
          65,
          66,
          67,
          68,
          69,
          70,
          71,
          72,
          73,
          74,
          75,
          76,
          77,
          78,
          79,
          80,
          81,
          82,
          83,
          84,
          85,
          86,
          87,
          88,
          89,
          90,
          91,
          92,
          93,
          94,
          95,
          96,
          97,
          98,
          99
         ],
         "xaxis": "x2",
         "y": [
          1.3394343016451427,
          1.7783036940697117,
          1.5214956891568505,
          "",
          "",
          "",
          "",
          "",
          0.5783510480459284,
          0.5102867797461845,
          0.8913026287521206,
          0.5469724718834129,
          1.2036921187687613,
          "",
          "",
          0.7707751261488767,
          "",
          1.902362042728711,
          "",
          1.928229678033444,
          "",
          1.409715844219357,
          "",
          "",
          0.9165121584169766,
          1.249251452700078,
          1.9470575181800802,
          3.6322248979967986,
          0.11519522105845104,
          "",
          "",
          "",
          "",
          "",
          0.47590835912743923,
          0.744915330036882,
          0.12900897300411995,
          0.49828285518140325,
          "",
          "",
          1.2566521099396608,
          1.3487996564214688,
          "",
          0.6680839518401768,
          1.203344004471269,
          "",
          1.235497000896673,
          "",
          1.7867256812882992,
          "",
          "",
          "",
          "",
          "",
          "",
          "",
          0.4991469534665144,
          "",
          "",
          "",
          "",
          "",
          "",
          1.4708862865988723,
          1.781365666842552,
          2.3094377857027837,
          "",
          1.3666027155530522,
          0.7338115716575759,
          "",
          "",
          "",
          0.2680988174016124,
          "",
          1.8919437232578706,
          "",
          "",
          "",
          1.5318497807655556,
          "",
          "",
          "",
          "",
          0.17385763253290681,
          "",
          0.033538362820194234,
          "",
          "",
          1.0223016620331582,
          0.7022493881808669,
          2.085999054922549,
          "",
          "",
          "",
          "",
          0.8590338120476162,
          "",
          0.43057950618514007,
          "",
          ""
         ],
         "yaxis": "y2"
        },
        {
         "connectgaps": false,
         "fill": "tozeroy",
         "line": {
          "color": "red",
          "dash": "solid",
          "shape": "linear",
          "width": 0.5
         },
         "mode": "lines",
         "name": "Spread",
         "showlegend": false,
         "type": "scatter",
         "x": [
          0,
          1,
          2,
          3,
          4,
          5,
          6,
          7,
          8,
          9,
          10,
          11,
          12,
          13,
          14,
          15,
          16,
          17,
          18,
          19,
          20,
          21,
          22,
          23,
          24,
          25,
          26,
          27,
          28,
          29,
          30,
          31,
          32,
          33,
          34,
          35,
          36,
          37,
          38,
          39,
          40,
          41,
          42,
          43,
          44,
          45,
          46,
          47,
          48,
          49,
          50,
          51,
          52,
          53,
          54,
          55,
          56,
          57,
          58,
          59,
          60,
          61,
          62,
          63,
          64,
          65,
          66,
          67,
          68,
          69,
          70,
          71,
          72,
          73,
          74,
          75,
          76,
          77,
          78,
          79,
          80,
          81,
          82,
          83,
          84,
          85,
          86,
          87,
          88,
          89,
          90,
          91,
          92,
          93,
          94,
          95,
          96,
          97,
          98,
          99
         ],
         "xaxis": "x2",
         "y": [
          "",
          "",
          "",
          -1.8443000904478422,
          -1.437905308213511,
          -2.302416849114516,
          -1.6432545119401047,
          -0.14896240837625319,
          "",
          "",
          "",
          "",
          "",
          -0.5179847543933511,
          -0.884009929598486,
          "",
          -1.7760308459492182,
          "",
          -0.6682905725481451,
          "",
          -0.9616970627349233,
          "",
          -0.14529146149556013,
          -1.2555447950736014,
          "",
          "",
          "",
          "",
          "",
          -2.122734513993167,
          -1.6972371195644582,
          -0.09170910634506446,
          -1.336903511203703,
          -1.7691043149955856,
          "",
          "",
          "",
          "",
          -0.35245455441785284,
          -1.7031673553100377,
          "",
          "",
          -1.4282842342464226,
          "",
          "",
          -0.5062987833174899,
          "",
          -0.7976379471945947,
          "",
          -0.26977613986962995,
          -0.9970338327719952,
          -1.1760828848746672,
          -2.1487038429477163,
          -0.027139022758308262,
          -0.9980649785229145,
          -2.904157906195545,
          "",
          -0.019810610928994832,
          -0.6632546213060064,
          -0.9615987353555623,
          -1.7633190369074707,
          -1.989618988164103,
          -0.8584549804700952,
          "",
          "",
          "",
          -0.3593702207762287,
          "",
          "",
          -0.9146996354371121,
          -0.2673353449491849,
          -1.0769562537585005,
          "",
          -1.2967089534498748,
          "",
          -1.6351773165500652,
          -1.2340516044303182,
          -1.2670538986133353,
          "",
          -0.8546526279907876,
          -0.36167884679747536,
          -0.5158855942773335,
          -0.7100067480951734,
          "",
          -0.27584969660825576,
          "",
          -2.0263361632460475,
          -1.1126614157854415,
          "",
          "",
          "",
          -1.4138074104412492,
          -2.8768070877855365,
          -1.428301506124835,
          -0.2875859909747156,
          "",
          -1.9887526139855212,
          "",
          -0.09885485330275011,
          -0.5526624884953413
         ],
         "yaxis": "y2"
        }
       ],
       "layout": {
        "hovermode": "x",
        "legend": {
         "bgcolor": "#F5F6F9",
         "font": {
          "color": "#4D5663"
         }
        },
        "paper_bgcolor": "#F5F6F9",
        "plot_bgcolor": "#F5F6F9",
        "template": {
         "data": {
          "bar": [
           {
            "error_x": {
             "color": "#2a3f5f"
            },
            "error_y": {
             "color": "#2a3f5f"
            },
            "marker": {
             "line": {
              "color": "#E5ECF6",
              "width": 0.5
             }
            },
            "type": "bar"
           }
          ],
          "barpolar": [
           {
            "marker": {
             "line": {
              "color": "#E5ECF6",
              "width": 0.5
             }
            },
            "type": "barpolar"
           }
          ],
          "carpet": [
           {
            "aaxis": {
             "endlinecolor": "#2a3f5f",
             "gridcolor": "white",
             "linecolor": "white",
             "minorgridcolor": "white",
             "startlinecolor": "#2a3f5f"
            },
            "baxis": {
             "endlinecolor": "#2a3f5f",
             "gridcolor": "white",
             "linecolor": "white",
             "minorgridcolor": "white",
             "startlinecolor": "#2a3f5f"
            },
            "type": "carpet"
           }
          ],
          "choropleth": [
           {
            "colorbar": {
             "outlinewidth": 0,
             "ticks": ""
            },
            "type": "choropleth"
           }
          ],
          "contour": [
           {
            "colorbar": {
             "outlinewidth": 0,
             "ticks": ""
            },
            "colorscale": [
             [
              0,
              "#0d0887"
             ],
             [
              0.1111111111111111,
              "#46039f"
             ],
             [
              0.2222222222222222,
              "#7201a8"
             ],
             [
              0.3333333333333333,
              "#9c179e"
             ],
             [
              0.4444444444444444,
              "#bd3786"
             ],
             [
              0.5555555555555556,
              "#d8576b"
             ],
             [
              0.6666666666666666,
              "#ed7953"
             ],
             [
              0.7777777777777778,
              "#fb9f3a"
             ],
             [
              0.8888888888888888,
              "#fdca26"
             ],
             [
              1,
              "#f0f921"
             ]
            ],
            "type": "contour"
           }
          ],
          "contourcarpet": [
           {
            "colorbar": {
             "outlinewidth": 0,
             "ticks": ""
            },
            "type": "contourcarpet"
           }
          ],
          "heatmap": [
           {
            "colorbar": {
             "outlinewidth": 0,
             "ticks": ""
            },
            "colorscale": [
             [
              0,
              "#0d0887"
             ],
             [
              0.1111111111111111,
              "#46039f"
             ],
             [
              0.2222222222222222,
              "#7201a8"
             ],
             [
              0.3333333333333333,
              "#9c179e"
             ],
             [
              0.4444444444444444,
              "#bd3786"
             ],
             [
              0.5555555555555556,
              "#d8576b"
             ],
             [
              0.6666666666666666,
              "#ed7953"
             ],
             [
              0.7777777777777778,
              "#fb9f3a"
             ],
             [
              0.8888888888888888,
              "#fdca26"
             ],
             [
              1,
              "#f0f921"
             ]
            ],
            "type": "heatmap"
           }
          ],
          "heatmapgl": [
           {
            "colorbar": {
             "outlinewidth": 0,
             "ticks": ""
            },
            "colorscale": [
             [
              0,
              "#0d0887"
             ],
             [
              0.1111111111111111,
              "#46039f"
             ],
             [
              0.2222222222222222,
              "#7201a8"
             ],
             [
              0.3333333333333333,
              "#9c179e"
             ],
             [
              0.4444444444444444,
              "#bd3786"
             ],
             [
              0.5555555555555556,
              "#d8576b"
             ],
             [
              0.6666666666666666,
              "#ed7953"
             ],
             [
              0.7777777777777778,
              "#fb9f3a"
             ],
             [
              0.8888888888888888,
              "#fdca26"
             ],
             [
              1,
              "#f0f921"
             ]
            ],
            "type": "heatmapgl"
           }
          ],
          "histogram": [
           {
            "marker": {
             "colorbar": {
              "outlinewidth": 0,
              "ticks": ""
             }
            },
            "type": "histogram"
           }
          ],
          "histogram2d": [
           {
            "colorbar": {
             "outlinewidth": 0,
             "ticks": ""
            },
            "colorscale": [
             [
              0,
              "#0d0887"
             ],
             [
              0.1111111111111111,
              "#46039f"
             ],
             [
              0.2222222222222222,
              "#7201a8"
             ],
             [
              0.3333333333333333,
              "#9c179e"
             ],
             [
              0.4444444444444444,
              "#bd3786"
             ],
             [
              0.5555555555555556,
              "#d8576b"
             ],
             [
              0.6666666666666666,
              "#ed7953"
             ],
             [
              0.7777777777777778,
              "#fb9f3a"
             ],
             [
              0.8888888888888888,
              "#fdca26"
             ],
             [
              1,
              "#f0f921"
             ]
            ],
            "type": "histogram2d"
           }
          ],
          "histogram2dcontour": [
           {
            "colorbar": {
             "outlinewidth": 0,
             "ticks": ""
            },
            "colorscale": [
             [
              0,
              "#0d0887"
             ],
             [
              0.1111111111111111,
              "#46039f"
             ],
             [
              0.2222222222222222,
              "#7201a8"
             ],
             [
              0.3333333333333333,
              "#9c179e"
             ],
             [
              0.4444444444444444,
              "#bd3786"
             ],
             [
              0.5555555555555556,
              "#d8576b"
             ],
             [
              0.6666666666666666,
              "#ed7953"
             ],
             [
              0.7777777777777778,
              "#fb9f3a"
             ],
             [
              0.8888888888888888,
              "#fdca26"
             ],
             [
              1,
              "#f0f921"
             ]
            ],
            "type": "histogram2dcontour"
           }
          ],
          "mesh3d": [
           {
            "colorbar": {
             "outlinewidth": 0,
             "ticks": ""
            },
            "type": "mesh3d"
           }
          ],
          "parcoords": [
           {
            "line": {
             "colorbar": {
              "outlinewidth": 0,
              "ticks": ""
             }
            },
            "type": "parcoords"
           }
          ],
          "pie": [
           {
            "automargin": true,
            "type": "pie"
           }
          ],
          "scatter": [
           {
            "marker": {
             "colorbar": {
              "outlinewidth": 0,
              "ticks": ""
             }
            },
            "type": "scatter"
           }
          ],
          "scatter3d": [
           {
            "line": {
             "colorbar": {
              "outlinewidth": 0,
              "ticks": ""
             }
            },
            "marker": {
             "colorbar": {
              "outlinewidth": 0,
              "ticks": ""
             }
            },
            "type": "scatter3d"
           }
          ],
          "scattercarpet": [
           {
            "marker": {
             "colorbar": {
              "outlinewidth": 0,
              "ticks": ""
             }
            },
            "type": "scattercarpet"
           }
          ],
          "scattergeo": [
           {
            "marker": {
             "colorbar": {
              "outlinewidth": 0,
              "ticks": ""
             }
            },
            "type": "scattergeo"
           }
          ],
          "scattergl": [
           {
            "marker": {
             "colorbar": {
              "outlinewidth": 0,
              "ticks": ""
             }
            },
            "type": "scattergl"
           }
          ],
          "scattermapbox": [
           {
            "marker": {
             "colorbar": {
              "outlinewidth": 0,
              "ticks": ""
             }
            },
            "type": "scattermapbox"
           }
          ],
          "scatterpolar": [
           {
            "marker": {
             "colorbar": {
              "outlinewidth": 0,
              "ticks": ""
             }
            },
            "type": "scatterpolar"
           }
          ],
          "scatterpolargl": [
           {
            "marker": {
             "colorbar": {
              "outlinewidth": 0,
              "ticks": ""
             }
            },
            "type": "scatterpolargl"
           }
          ],
          "scatterternary": [
           {
            "marker": {
             "colorbar": {
              "outlinewidth": 0,
              "ticks": ""
             }
            },
            "type": "scatterternary"
           }
          ],
          "surface": [
           {
            "colorbar": {
             "outlinewidth": 0,
             "ticks": ""
            },
            "colorscale": [
             [
              0,
              "#0d0887"
             ],
             [
              0.1111111111111111,
              "#46039f"
             ],
             [
              0.2222222222222222,
              "#7201a8"
             ],
             [
              0.3333333333333333,
              "#9c179e"
             ],
             [
              0.4444444444444444,
              "#bd3786"
             ],
             [
              0.5555555555555556,
              "#d8576b"
             ],
             [
              0.6666666666666666,
              "#ed7953"
             ],
             [
              0.7777777777777778,
              "#fb9f3a"
             ],
             [
              0.8888888888888888,
              "#fdca26"
             ],
             [
              1,
              "#f0f921"
             ]
            ],
            "type": "surface"
           }
          ],
          "table": [
           {
            "cells": {
             "fill": {
              "color": "#EBF0F8"
             },
             "line": {
              "color": "white"
             }
            },
            "header": {
             "fill": {
              "color": "#C8D4E3"
             },
             "line": {
              "color": "white"
             }
            },
            "type": "table"
           }
          ]
         },
         "layout": {
          "annotationdefaults": {
           "arrowcolor": "#2a3f5f",
           "arrowhead": 0,
           "arrowwidth": 1
          },
          "coloraxis": {
           "colorbar": {
            "outlinewidth": 0,
            "ticks": ""
           }
          },
          "colorscale": {
           "diverging": [
            [
             0,
             "#8e0152"
            ],
            [
             0.1,
             "#c51b7d"
            ],
            [
             0.2,
             "#de77ae"
            ],
            [
             0.3,
             "#f1b6da"
            ],
            [
             0.4,
             "#fde0ef"
            ],
            [
             0.5,
             "#f7f7f7"
            ],
            [
             0.6,
             "#e6f5d0"
            ],
            [
             0.7,
             "#b8e186"
            ],
            [
             0.8,
             "#7fbc41"
            ],
            [
             0.9,
             "#4d9221"
            ],
            [
             1,
             "#276419"
            ]
           ],
           "sequential": [
            [
             0,
             "#0d0887"
            ],
            [
             0.1111111111111111,
             "#46039f"
            ],
            [
             0.2222222222222222,
             "#7201a8"
            ],
            [
             0.3333333333333333,
             "#9c179e"
            ],
            [
             0.4444444444444444,
             "#bd3786"
            ],
            [
             0.5555555555555556,
             "#d8576b"
            ],
            [
             0.6666666666666666,
             "#ed7953"
            ],
            [
             0.7777777777777778,
             "#fb9f3a"
            ],
            [
             0.8888888888888888,
             "#fdca26"
            ],
            [
             1,
             "#f0f921"
            ]
           ],
           "sequentialminus": [
            [
             0,
             "#0d0887"
            ],
            [
             0.1111111111111111,
             "#46039f"
            ],
            [
             0.2222222222222222,
             "#7201a8"
            ],
            [
             0.3333333333333333,
             "#9c179e"
            ],
            [
             0.4444444444444444,
             "#bd3786"
            ],
            [
             0.5555555555555556,
             "#d8576b"
            ],
            [
             0.6666666666666666,
             "#ed7953"
            ],
            [
             0.7777777777777778,
             "#fb9f3a"
            ],
            [
             0.8888888888888888,
             "#fdca26"
            ],
            [
             1,
             "#f0f921"
            ]
           ]
          },
          "colorway": [
           "#636efa",
           "#EF553B",
           "#00cc96",
           "#ab63fa",
           "#FFA15A",
           "#19d3f3",
           "#FF6692",
           "#B6E880",
           "#FF97FF",
           "#FECB52"
          ],
          "font": {
           "color": "#2a3f5f"
          },
          "geo": {
           "bgcolor": "white",
           "lakecolor": "white",
           "landcolor": "#E5ECF6",
           "showlakes": true,
           "showland": true,
           "subunitcolor": "white"
          },
          "hoverlabel": {
           "align": "left"
          },
          "hovermode": "closest",
          "mapbox": {
           "style": "light"
          },
          "paper_bgcolor": "white",
          "plot_bgcolor": "#E5ECF6",
          "polar": {
           "angularaxis": {
            "gridcolor": "white",
            "linecolor": "white",
            "ticks": ""
           },
           "bgcolor": "#E5ECF6",
           "radialaxis": {
            "gridcolor": "white",
            "linecolor": "white",
            "ticks": ""
           }
          },
          "scene": {
           "xaxis": {
            "backgroundcolor": "#E5ECF6",
            "gridcolor": "white",
            "gridwidth": 2,
            "linecolor": "white",
            "showbackground": true,
            "ticks": "",
            "zerolinecolor": "white"
           },
           "yaxis": {
            "backgroundcolor": "#E5ECF6",
            "gridcolor": "white",
            "gridwidth": 2,
            "linecolor": "white",
            "showbackground": true,
            "ticks": "",
            "zerolinecolor": "white"
           },
           "zaxis": {
            "backgroundcolor": "#E5ECF6",
            "gridcolor": "white",
            "gridwidth": 2,
            "linecolor": "white",
            "showbackground": true,
            "ticks": "",
            "zerolinecolor": "white"
           }
          },
          "shapedefaults": {
           "line": {
            "color": "#2a3f5f"
           }
          },
          "ternary": {
           "aaxis": {
            "gridcolor": "white",
            "linecolor": "white",
            "ticks": ""
           },
           "baxis": {
            "gridcolor": "white",
            "linecolor": "white",
            "ticks": ""
           },
           "bgcolor": "#E5ECF6",
           "caxis": {
            "gridcolor": "white",
            "linecolor": "white",
            "ticks": ""
           }
          },
          "title": {
           "x": 0.05
          },
          "xaxis": {
           "automargin": true,
           "gridcolor": "white",
           "linecolor": "white",
           "ticks": "",
           "title": {
            "standoff": 15
           },
           "zerolinecolor": "white",
           "zerolinewidth": 2
          },
          "yaxis": {
           "automargin": true,
           "gridcolor": "white",
           "linecolor": "white",
           "ticks": "",
           "title": {
            "standoff": 15
           },
           "zerolinecolor": "white",
           "zerolinewidth": 2
          }
         }
        },
        "title": {
         "font": {
          "color": "#4D5663"
         }
        },
        "xaxis": {
         "gridcolor": "#E1E5ED",
         "showgrid": true,
         "tickfont": {
          "color": "#4D5663"
         },
         "title": {
          "font": {
           "color": "#4D5663"
          },
          "text": ""
         },
         "zerolinecolor": "#E1E5ED"
        },
        "xaxis2": {
         "anchor": "y2",
         "gridcolor": "#E1E5ED",
         "showgrid": true,
         "showticklabels": false,
         "tickfont": {
          "color": "#4D5663"
         },
         "title": {
          "font": {
           "color": "#4D5663"
          },
          "text": ""
         },
         "zerolinecolor": "#E1E5ED"
        },
        "yaxis": {
         "domain": [
          0.3,
          1
         ],
         "gridcolor": "#E1E5ED",
         "showgrid": true,
         "tickfont": {
          "color": "#4D5663"
         },
         "title": {
          "font": {
           "color": "#4D5663"
          },
          "text": ""
         },
         "zerolinecolor": "#E1E5ED"
        },
        "yaxis2": {
         "domain": [
          0,
          0.25
         ],
         "gridcolor": "#E1E5ED",
         "showgrid": true,
         "tickfont": {
          "color": "#4D5663"
         },
         "title": {
          "font": {
           "color": "#4D5663"
          },
          "text": "Spread"
         },
         "zerolinecolor": "#E1E5ED"
        }
       }
      },
      "text/html": [
       "<div>\n",
       "        \n",
       "        \n",
       "            <div id=\"5d7152f5-adc7-4fc4-a723-45106d3a15ff\" class=\"plotly-graph-div\" style=\"height:525px; width:100%;\"></div>\n",
       "            <script type=\"text/javascript\">\n",
       "                require([\"plotly\"], function(Plotly) {\n",
       "                    window.PLOTLYENV=window.PLOTLYENV || {};\n",
       "                    window.PLOTLYENV.BASE_URL='https://plot.ly';\n",
       "                    \n",
       "                if (document.getElementById(\"5d7152f5-adc7-4fc4-a723-45106d3a15ff\")) {\n",
       "                    Plotly.newPlot(\n",
       "                        '5d7152f5-adc7-4fc4-a723-45106d3a15ff',\n",
       "                        [{\"line\": {\"color\": \"rgba(255, 153, 51, 1.0)\", \"dash\": \"solid\", \"shape\": \"linear\", \"width\": 1.3}, \"mode\": \"lines\", \"name\": \"A\", \"text\": \"\", \"type\": \"scatter\", \"x\": [0, 1, 2, 3, 4, 5, 6, 7, 8, 9, 10, 11, 12, 13, 14, 15, 16, 17, 18, 19, 20, 21, 22, 23, 24, 25, 26, 27, 28, 29, 30, 31, 32, 33, 34, 35, 36, 37, 38, 39, 40, 41, 42, 43, 44, 45, 46, 47, 48, 49, 50, 51, 52, 53, 54, 55, 56, 57, 58, 59, 60, 61, 62, 63, 64, 65, 66, 67, 68, 69, 70, 71, 72, 73, 74, 75, 76, 77, 78, 79, 80, 81, 82, 83, 84, 85, 86, 87, 88, 89, 90, 91, 92, 93, 94, 95, 96, 97, 98, 99], \"y\": [-0.4219085963273162, 1.6821026955762655, 0.4309402142051801, 0.18411306212801068, -0.9281908221713763, -0.30874922794372156, -0.6290038474767073, -0.710791310697247, 0.17241542605474575, -0.8396869257109238, 0.3806311459364493, -0.09381049474443047, 1.5374181314768314, -0.43435294316790796, 0.6461335117639597, -0.12372906160993319, 0.3022970579415042, 0.20797545067424617, -1.1304501651601098, 1.1710948609964165, 0.41306944623653125, 1.9082257379137284, -0.05557142962097008, -1.0221174747845423, 1.1355091384569034, 1.1672445486913277, 1.2764241838725863, 2.3566817803969013, -1.2547557150229542, -1.7325392979131544, -1.2920823588295134, 0.7580820471569764, -1.1858168738788655, -0.4841514473365244, 0.6509296343287128, -0.11155686020046292, 1.5045969153456915, -0.12204236350353027, -0.05537132415007508, -0.28027869353027607, 0.9613497802818148, 0.9414707962483713, -0.22356717954305758, 0.7740342983721199, -0.7241989040863319, 0.02778003781964759, -0.024055724956834595, -0.915078920852879, 0.5544534137007058, -0.05977358602472853, 0.23458852778203726, -0.5512670496759174, -0.4314387696367131, 0.48138568092212886, 0.151312471088505, -1.2683697561726832, 1.1766160488988537, -0.27455824083556385, 0.07273934897587682, -0.8784205932002688, -1.6235056907620014, -0.644105336585791, -1.3059071560879678, 1.1747908906102706, -0.520795580404017, 1.5905914235182144, -1.0584157956032523, 0.017940488390363326, 0.21212164922397306, -0.7742147529291061, -0.07481568924787502, -0.7509498972280064, 0.40873810406643823, -0.35782741822032943, 1.3791574021604953, -0.4936108658569253, -0.1670321836666462, 0.0721790925295737, 0.7001017974476622, -0.7875091790993461, 0.0403208723208704, 0.3177404868415387, -0.056986594871039735, 0.4528785263940196, 0.6469206986380688, 0.41429955942854774, 0.12303138871638225, -0.4126393825177464, 0.819920664835239, 1.4600883911553522, 0.010063642024292574, -0.9264281665049272, -2.4315763663695646, -0.21280943033324837, -1.3301028052349306, 0.7023289550933015, -0.029671055859963696, 0.23193888262846393, -0.07874371469382994, -1.6085773535868477]}, {\"line\": {\"color\": \"rgba(55, 128, 191, 1.0)\", \"dash\": \"solid\", \"shape\": \"linear\", \"width\": 1.3}, \"mode\": \"lines\", \"name\": \"B\", \"text\": \"\", \"type\": \"scatter\", \"x\": [0, 1, 2, 3, 4, 5, 6, 7, 8, 9, 10, 11, 12, 13, 14, 15, 16, 17, 18, 19, 20, 21, 22, 23, 24, 25, 26, 27, 28, 29, 30, 31, 32, 33, 34, 35, 36, 37, 38, 39, 40, 41, 42, 43, 44, 45, 46, 47, 48, 49, 50, 51, 52, 53, 54, 55, 56, 57, 58, 59, 60, 61, 62, 63, 64, 65, 66, 67, 68, 69, 70, 71, 72, 73, 74, 75, 76, 77, 78, 79, 80, 81, 82, 83, 84, 85, 86, 87, 88, 89, 90, 91, 92, 93, 94, 95, 96, 97, 98, 99], \"y\": [-1.7613428979724588, -0.09620099849344611, -1.0905554749516704, 2.028413152575853, 0.5097144860421348, 1.9936676211707947, 1.0142506644633973, -0.5618289023209938, -0.40593562199118266, -1.3499737054571084, -0.5106714828156713, -0.6407829666278434, 0.33372601270807, 0.08363181122544312, 1.5301434413624457, -0.8945041877588099, 2.0783279038907225, -1.6943865920544647, -0.4621595926119647, -0.7571348170370275, 1.3747665089714545, 0.4985098936943716, 0.08972003187459004, 0.23342732028905913, 0.2189969800399268, -0.0820069040087503, -0.6706333343074938, -1.275543117599897, -1.3699509360814053, 0.3901952160800126, 0.40515476073494494, 0.8497911535020408, 0.15108663732483765, 1.2849528676590611, 0.17502127520127353, -0.856472190237345, 1.3755879423415716, -0.6203252186849335, 0.2970832302677778, 1.4228886617797616, -0.295302329657846, -0.40732886017309755, 1.204717054703365, 0.10595034653194314, -1.927542908557601, 0.5340788211371374, -1.2595527258535075, -0.11744097365828426, -1.2322722675875935, 0.21000255384490144, 1.2316223605540324, 0.6248158351987497, 1.717265073311003, 0.5085247036804371, 1.1493774496114195, 1.6357881500228615, 0.6774690954323394, -0.254747629906569, 0.7359939702818833, 0.0831781421552935, 0.13981334614546928, 1.345513651578312, -0.44745217561787265, -0.2960953959886017, -2.302161247246569, -0.7188463621845694, -0.6990455748270236, -1.348662227162689, -0.5216899224336029, 0.14048488250800598, 0.1925196557013099, 0.3260063565304941, 0.14063928666482584, 0.9388815352295453, -0.5127863210973753, 1.1415664506931398, 1.067019420763672, 1.339232991142909, -0.8317479833178933, 0.06714344889144137, 0.40199971911834576, 0.8336260811188723, 0.6530201532241336, 0.2790208938611128, 0.9227703952463245, 0.3807611966083535, 2.14936755196243, 0.7000220332676952, -0.20238099719791927, 0.7578390029744853, -2.0759354128982563, 0.4873792439363221, 0.4452307214159721, 1.2154920757915866, -1.042516814260215, -0.15670485695431474, 1.9590815581255574, -0.19864062355667617, 0.02011113860892017, -1.0559148650915064]}, {\"connectgaps\": false, \"fill\": \"tozeroy\", \"line\": {\"color\": \"green\", \"dash\": \"solid\", \"shape\": \"linear\", \"width\": 0.5}, \"mode\": \"lines\", \"name\": \"Spread\", \"showlegend\": false, \"type\": \"scatter\", \"x\": [0, 1, 2, 3, 4, 5, 6, 7, 8, 9, 10, 11, 12, 13, 14, 15, 16, 17, 18, 19, 20, 21, 22, 23, 24, 25, 26, 27, 28, 29, 30, 31, 32, 33, 34, 35, 36, 37, 38, 39, 40, 41, 42, 43, 44, 45, 46, 47, 48, 49, 50, 51, 52, 53, 54, 55, 56, 57, 58, 59, 60, 61, 62, 63, 64, 65, 66, 67, 68, 69, 70, 71, 72, 73, 74, 75, 76, 77, 78, 79, 80, 81, 82, 83, 84, 85, 86, 87, 88, 89, 90, 91, 92, 93, 94, 95, 96, 97, 98, 99], \"xaxis\": \"x2\", \"y\": [1.3394343016451427, 1.7783036940697117, 1.5214956891568505, \"\", \"\", \"\", \"\", \"\", 0.5783510480459284, 0.5102867797461845, 0.8913026287521206, 0.5469724718834129, 1.2036921187687613, \"\", \"\", 0.7707751261488767, \"\", 1.902362042728711, \"\", 1.928229678033444, \"\", 1.409715844219357, \"\", \"\", 0.9165121584169766, 1.249251452700078, 1.9470575181800802, 3.6322248979967986, 0.11519522105845104, \"\", \"\", \"\", \"\", \"\", 0.47590835912743923, 0.744915330036882, 0.12900897300411995, 0.49828285518140325, \"\", \"\", 1.2566521099396608, 1.3487996564214688, \"\", 0.6680839518401768, 1.203344004471269, \"\", 1.235497000896673, \"\", 1.7867256812882992, \"\", \"\", \"\", \"\", \"\", \"\", \"\", 0.4991469534665144, \"\", \"\", \"\", \"\", \"\", \"\", 1.4708862865988723, 1.781365666842552, 2.3094377857027837, \"\", 1.3666027155530522, 0.7338115716575759, \"\", \"\", \"\", 0.2680988174016124, \"\", 1.8919437232578706, \"\", \"\", \"\", 1.5318497807655556, \"\", \"\", \"\", \"\", 0.17385763253290681, \"\", 0.033538362820194234, \"\", \"\", 1.0223016620331582, 0.7022493881808669, 2.085999054922549, \"\", \"\", \"\", \"\", 0.8590338120476162, \"\", 0.43057950618514007, \"\", \"\"], \"yaxis\": \"y2\"}, {\"connectgaps\": false, \"fill\": \"tozeroy\", \"line\": {\"color\": \"red\", \"dash\": \"solid\", \"shape\": \"linear\", \"width\": 0.5}, \"mode\": \"lines\", \"name\": \"Spread\", \"showlegend\": false, \"type\": \"scatter\", \"x\": [0, 1, 2, 3, 4, 5, 6, 7, 8, 9, 10, 11, 12, 13, 14, 15, 16, 17, 18, 19, 20, 21, 22, 23, 24, 25, 26, 27, 28, 29, 30, 31, 32, 33, 34, 35, 36, 37, 38, 39, 40, 41, 42, 43, 44, 45, 46, 47, 48, 49, 50, 51, 52, 53, 54, 55, 56, 57, 58, 59, 60, 61, 62, 63, 64, 65, 66, 67, 68, 69, 70, 71, 72, 73, 74, 75, 76, 77, 78, 79, 80, 81, 82, 83, 84, 85, 86, 87, 88, 89, 90, 91, 92, 93, 94, 95, 96, 97, 98, 99], \"xaxis\": \"x2\", \"y\": [\"\", \"\", \"\", -1.8443000904478422, -1.437905308213511, -2.302416849114516, -1.6432545119401047, -0.14896240837625319, \"\", \"\", \"\", \"\", \"\", -0.5179847543933511, -0.884009929598486, \"\", -1.7760308459492182, \"\", -0.6682905725481451, \"\", -0.9616970627349233, \"\", -0.14529146149556013, -1.2555447950736014, \"\", \"\", \"\", \"\", \"\", -2.122734513993167, -1.6972371195644582, -0.09170910634506446, -1.336903511203703, -1.7691043149955856, \"\", \"\", \"\", \"\", -0.35245455441785284, -1.7031673553100377, \"\", \"\", -1.4282842342464226, \"\", \"\", -0.5062987833174899, \"\", -0.7976379471945947, \"\", -0.26977613986962995, -0.9970338327719952, -1.1760828848746672, -2.1487038429477163, -0.027139022758308262, -0.9980649785229145, -2.904157906195545, \"\", -0.019810610928994832, -0.6632546213060064, -0.9615987353555623, -1.7633190369074707, -1.989618988164103, -0.8584549804700952, \"\", \"\", \"\", -0.3593702207762287, \"\", \"\", -0.9146996354371121, -0.2673353449491849, -1.0769562537585005, \"\", -1.2967089534498748, \"\", -1.6351773165500652, -1.2340516044303182, -1.2670538986133353, \"\", -0.8546526279907876, -0.36167884679747536, -0.5158855942773335, -0.7100067480951734, \"\", -0.27584969660825576, \"\", -2.0263361632460475, -1.1126614157854415, \"\", \"\", \"\", -1.4138074104412492, -2.8768070877855365, -1.428301506124835, -0.2875859909747156, \"\", -1.9887526139855212, \"\", -0.09885485330275011, -0.5526624884953413], \"yaxis\": \"y2\"}],\n",
       "                        {\"hovermode\": \"x\", \"legend\": {\"bgcolor\": \"#F5F6F9\", \"font\": {\"color\": \"#4D5663\"}}, \"paper_bgcolor\": \"#F5F6F9\", \"plot_bgcolor\": \"#F5F6F9\", \"template\": {\"data\": {\"bar\": [{\"error_x\": {\"color\": \"#2a3f5f\"}, \"error_y\": {\"color\": \"#2a3f5f\"}, \"marker\": {\"line\": {\"color\": \"#E5ECF6\", \"width\": 0.5}}, \"type\": \"bar\"}], \"barpolar\": [{\"marker\": {\"line\": {\"color\": \"#E5ECF6\", \"width\": 0.5}}, \"type\": \"barpolar\"}], \"carpet\": [{\"aaxis\": {\"endlinecolor\": \"#2a3f5f\", \"gridcolor\": \"white\", \"linecolor\": \"white\", \"minorgridcolor\": \"white\", \"startlinecolor\": \"#2a3f5f\"}, \"baxis\": {\"endlinecolor\": \"#2a3f5f\", \"gridcolor\": \"white\", \"linecolor\": \"white\", \"minorgridcolor\": \"white\", \"startlinecolor\": \"#2a3f5f\"}, \"type\": \"carpet\"}], \"choropleth\": [{\"colorbar\": {\"outlinewidth\": 0, \"ticks\": \"\"}, \"type\": \"choropleth\"}], \"contour\": [{\"colorbar\": {\"outlinewidth\": 0, \"ticks\": \"\"}, \"colorscale\": [[0.0, \"#0d0887\"], [0.1111111111111111, \"#46039f\"], [0.2222222222222222, \"#7201a8\"], [0.3333333333333333, \"#9c179e\"], [0.4444444444444444, \"#bd3786\"], [0.5555555555555556, \"#d8576b\"], [0.6666666666666666, \"#ed7953\"], [0.7777777777777778, \"#fb9f3a\"], [0.8888888888888888, \"#fdca26\"], [1.0, \"#f0f921\"]], \"type\": \"contour\"}], \"contourcarpet\": [{\"colorbar\": {\"outlinewidth\": 0, \"ticks\": \"\"}, \"type\": \"contourcarpet\"}], \"heatmap\": [{\"colorbar\": {\"outlinewidth\": 0, \"ticks\": \"\"}, \"colorscale\": [[0.0, \"#0d0887\"], [0.1111111111111111, \"#46039f\"], [0.2222222222222222, \"#7201a8\"], [0.3333333333333333, \"#9c179e\"], [0.4444444444444444, \"#bd3786\"], [0.5555555555555556, \"#d8576b\"], [0.6666666666666666, \"#ed7953\"], [0.7777777777777778, \"#fb9f3a\"], [0.8888888888888888, \"#fdca26\"], [1.0, \"#f0f921\"]], \"type\": \"heatmap\"}], \"heatmapgl\": [{\"colorbar\": {\"outlinewidth\": 0, \"ticks\": \"\"}, \"colorscale\": [[0.0, \"#0d0887\"], [0.1111111111111111, \"#46039f\"], [0.2222222222222222, \"#7201a8\"], [0.3333333333333333, \"#9c179e\"], [0.4444444444444444, \"#bd3786\"], [0.5555555555555556, \"#d8576b\"], [0.6666666666666666, \"#ed7953\"], [0.7777777777777778, \"#fb9f3a\"], [0.8888888888888888, \"#fdca26\"], [1.0, \"#f0f921\"]], \"type\": \"heatmapgl\"}], \"histogram\": [{\"marker\": {\"colorbar\": {\"outlinewidth\": 0, \"ticks\": \"\"}}, \"type\": \"histogram\"}], \"histogram2d\": [{\"colorbar\": {\"outlinewidth\": 0, \"ticks\": \"\"}, \"colorscale\": [[0.0, \"#0d0887\"], [0.1111111111111111, \"#46039f\"], [0.2222222222222222, \"#7201a8\"], [0.3333333333333333, \"#9c179e\"], [0.4444444444444444, \"#bd3786\"], [0.5555555555555556, \"#d8576b\"], [0.6666666666666666, \"#ed7953\"], [0.7777777777777778, \"#fb9f3a\"], [0.8888888888888888, \"#fdca26\"], [1.0, \"#f0f921\"]], \"type\": \"histogram2d\"}], \"histogram2dcontour\": [{\"colorbar\": {\"outlinewidth\": 0, \"ticks\": \"\"}, \"colorscale\": [[0.0, \"#0d0887\"], [0.1111111111111111, \"#46039f\"], [0.2222222222222222, \"#7201a8\"], [0.3333333333333333, \"#9c179e\"], [0.4444444444444444, \"#bd3786\"], [0.5555555555555556, \"#d8576b\"], [0.6666666666666666, \"#ed7953\"], [0.7777777777777778, \"#fb9f3a\"], [0.8888888888888888, \"#fdca26\"], [1.0, \"#f0f921\"]], \"type\": \"histogram2dcontour\"}], \"mesh3d\": [{\"colorbar\": {\"outlinewidth\": 0, \"ticks\": \"\"}, \"type\": \"mesh3d\"}], \"parcoords\": [{\"line\": {\"colorbar\": {\"outlinewidth\": 0, \"ticks\": \"\"}}, \"type\": \"parcoords\"}], \"pie\": [{\"automargin\": true, \"type\": \"pie\"}], \"scatter\": [{\"marker\": {\"colorbar\": {\"outlinewidth\": 0, \"ticks\": \"\"}}, \"type\": \"scatter\"}], \"scatter3d\": [{\"line\": {\"colorbar\": {\"outlinewidth\": 0, \"ticks\": \"\"}}, \"marker\": {\"colorbar\": {\"outlinewidth\": 0, \"ticks\": \"\"}}, \"type\": \"scatter3d\"}], \"scattercarpet\": [{\"marker\": {\"colorbar\": {\"outlinewidth\": 0, \"ticks\": \"\"}}, \"type\": \"scattercarpet\"}], \"scattergeo\": [{\"marker\": {\"colorbar\": {\"outlinewidth\": 0, \"ticks\": \"\"}}, \"type\": \"scattergeo\"}], \"scattergl\": [{\"marker\": {\"colorbar\": {\"outlinewidth\": 0, \"ticks\": \"\"}}, \"type\": \"scattergl\"}], \"scattermapbox\": [{\"marker\": {\"colorbar\": {\"outlinewidth\": 0, \"ticks\": \"\"}}, \"type\": \"scattermapbox\"}], \"scatterpolar\": [{\"marker\": {\"colorbar\": {\"outlinewidth\": 0, \"ticks\": \"\"}}, \"type\": \"scatterpolar\"}], \"scatterpolargl\": [{\"marker\": {\"colorbar\": {\"outlinewidth\": 0, \"ticks\": \"\"}}, \"type\": \"scatterpolargl\"}], \"scatterternary\": [{\"marker\": {\"colorbar\": {\"outlinewidth\": 0, \"ticks\": \"\"}}, \"type\": \"scatterternary\"}], \"surface\": [{\"colorbar\": {\"outlinewidth\": 0, \"ticks\": \"\"}, \"colorscale\": [[0.0, \"#0d0887\"], [0.1111111111111111, \"#46039f\"], [0.2222222222222222, \"#7201a8\"], [0.3333333333333333, \"#9c179e\"], [0.4444444444444444, \"#bd3786\"], [0.5555555555555556, \"#d8576b\"], [0.6666666666666666, \"#ed7953\"], [0.7777777777777778, \"#fb9f3a\"], [0.8888888888888888, \"#fdca26\"], [1.0, \"#f0f921\"]], \"type\": \"surface\"}], \"table\": [{\"cells\": {\"fill\": {\"color\": \"#EBF0F8\"}, \"line\": {\"color\": \"white\"}}, \"header\": {\"fill\": {\"color\": \"#C8D4E3\"}, \"line\": {\"color\": \"white\"}}, \"type\": \"table\"}]}, \"layout\": {\"annotationdefaults\": {\"arrowcolor\": \"#2a3f5f\", \"arrowhead\": 0, \"arrowwidth\": 1}, \"coloraxis\": {\"colorbar\": {\"outlinewidth\": 0, \"ticks\": \"\"}}, \"colorscale\": {\"diverging\": [[0, \"#8e0152\"], [0.1, \"#c51b7d\"], [0.2, \"#de77ae\"], [0.3, \"#f1b6da\"], [0.4, \"#fde0ef\"], [0.5, \"#f7f7f7\"], [0.6, \"#e6f5d0\"], [0.7, \"#b8e186\"], [0.8, \"#7fbc41\"], [0.9, \"#4d9221\"], [1, \"#276419\"]], \"sequential\": [[0.0, \"#0d0887\"], [0.1111111111111111, \"#46039f\"], [0.2222222222222222, \"#7201a8\"], [0.3333333333333333, \"#9c179e\"], [0.4444444444444444, \"#bd3786\"], [0.5555555555555556, \"#d8576b\"], [0.6666666666666666, \"#ed7953\"], [0.7777777777777778, \"#fb9f3a\"], [0.8888888888888888, \"#fdca26\"], [1.0, \"#f0f921\"]], \"sequentialminus\": [[0.0, \"#0d0887\"], [0.1111111111111111, \"#46039f\"], [0.2222222222222222, \"#7201a8\"], [0.3333333333333333, \"#9c179e\"], [0.4444444444444444, \"#bd3786\"], [0.5555555555555556, \"#d8576b\"], [0.6666666666666666, \"#ed7953\"], [0.7777777777777778, \"#fb9f3a\"], [0.8888888888888888, \"#fdca26\"], [1.0, \"#f0f921\"]]}, \"colorway\": [\"#636efa\", \"#EF553B\", \"#00cc96\", \"#ab63fa\", \"#FFA15A\", \"#19d3f3\", \"#FF6692\", \"#B6E880\", \"#FF97FF\", \"#FECB52\"], \"font\": {\"color\": \"#2a3f5f\"}, \"geo\": {\"bgcolor\": \"white\", \"lakecolor\": \"white\", \"landcolor\": \"#E5ECF6\", \"showlakes\": true, \"showland\": true, \"subunitcolor\": \"white\"}, \"hoverlabel\": {\"align\": \"left\"}, \"hovermode\": \"closest\", \"mapbox\": {\"style\": \"light\"}, \"paper_bgcolor\": \"white\", \"plot_bgcolor\": \"#E5ECF6\", \"polar\": {\"angularaxis\": {\"gridcolor\": \"white\", \"linecolor\": \"white\", \"ticks\": \"\"}, \"bgcolor\": \"#E5ECF6\", \"radialaxis\": {\"gridcolor\": \"white\", \"linecolor\": \"white\", \"ticks\": \"\"}}, \"scene\": {\"xaxis\": {\"backgroundcolor\": \"#E5ECF6\", \"gridcolor\": \"white\", \"gridwidth\": 2, \"linecolor\": \"white\", \"showbackground\": true, \"ticks\": \"\", \"zerolinecolor\": \"white\"}, \"yaxis\": {\"backgroundcolor\": \"#E5ECF6\", \"gridcolor\": \"white\", \"gridwidth\": 2, \"linecolor\": \"white\", \"showbackground\": true, \"ticks\": \"\", \"zerolinecolor\": \"white\"}, \"zaxis\": {\"backgroundcolor\": \"#E5ECF6\", \"gridcolor\": \"white\", \"gridwidth\": 2, \"linecolor\": \"white\", \"showbackground\": true, \"ticks\": \"\", \"zerolinecolor\": \"white\"}}, \"shapedefaults\": {\"line\": {\"color\": \"#2a3f5f\"}}, \"ternary\": {\"aaxis\": {\"gridcolor\": \"white\", \"linecolor\": \"white\", \"ticks\": \"\"}, \"baxis\": {\"gridcolor\": \"white\", \"linecolor\": \"white\", \"ticks\": \"\"}, \"bgcolor\": \"#E5ECF6\", \"caxis\": {\"gridcolor\": \"white\", \"linecolor\": \"white\", \"ticks\": \"\"}}, \"title\": {\"x\": 0.05}, \"xaxis\": {\"automargin\": true, \"gridcolor\": \"white\", \"linecolor\": \"white\", \"ticks\": \"\", \"title\": {\"standoff\": 15}, \"zerolinecolor\": \"white\", \"zerolinewidth\": 2}, \"yaxis\": {\"automargin\": true, \"gridcolor\": \"white\", \"linecolor\": \"white\", \"ticks\": \"\", \"title\": {\"standoff\": 15}, \"zerolinecolor\": \"white\", \"zerolinewidth\": 2}}}, \"title\": {\"font\": {\"color\": \"#4D5663\"}}, \"xaxis\": {\"gridcolor\": \"#E1E5ED\", \"showgrid\": true, \"tickfont\": {\"color\": \"#4D5663\"}, \"title\": {\"font\": {\"color\": \"#4D5663\"}, \"text\": \"\"}, \"zerolinecolor\": \"#E1E5ED\"}, \"xaxis2\": {\"anchor\": \"y2\", \"gridcolor\": \"#E1E5ED\", \"showgrid\": true, \"showticklabels\": false, \"tickfont\": {\"color\": \"#4D5663\"}, \"title\": {\"font\": {\"color\": \"#4D5663\"}, \"text\": \"\"}, \"zerolinecolor\": \"#E1E5ED\"}, \"yaxis\": {\"domain\": [0.3, 1], \"gridcolor\": \"#E1E5ED\", \"showgrid\": true, \"tickfont\": {\"color\": \"#4D5663\"}, \"title\": {\"font\": {\"color\": \"#4D5663\"}, \"text\": \"\"}, \"zerolinecolor\": \"#E1E5ED\"}, \"yaxis2\": {\"domain\": [0, 0.25], \"gridcolor\": \"#E1E5ED\", \"showgrid\": true, \"tickfont\": {\"color\": \"#4D5663\"}, \"title\": {\"font\": {\"color\": \"#4D5663\"}, \"text\": \"Spread\"}, \"zerolinecolor\": \"#E1E5ED\"}},\n",
       "                        {\"showLink\": true, \"linkText\": \"Export to plot.ly\", \"plotlyServerURL\": \"https://plot.ly\", \"responsive\": true}\n",
       "                    ).then(function(){\n",
       "                            \n",
       "var gd = document.getElementById('5d7152f5-adc7-4fc4-a723-45106d3a15ff');\n",
       "var x = new MutationObserver(function (mutations, observer) {{\n",
       "        var display = window.getComputedStyle(gd).display;\n",
       "        if (!display || display === 'none') {{\n",
       "            console.log([gd, 'removed!']);\n",
       "            Plotly.purge(gd);\n",
       "            observer.disconnect();\n",
       "        }}\n",
       "}});\n",
       "\n",
       "// Listen for the removal of the full notebook cells\n",
       "var notebookContainer = gd.closest('#notebook-container');\n",
       "if (notebookContainer) {{\n",
       "    x.observe(notebookContainer, {childList: true});\n",
       "}}\n",
       "\n",
       "// Listen for the clearing of the current output cell\n",
       "var outputEl = gd.closest('.output');\n",
       "if (outputEl) {{\n",
       "    x.observe(outputEl, {childList: true});\n",
       "}}\n",
       "\n",
       "                        })\n",
       "                };\n",
       "                });\n",
       "            </script>\n",
       "        </div>"
      ]
     },
     "metadata": {},
     "output_type": "display_data"
    }
   ],
   "source": [
    "df[['A','B']].iplot(kind='spread')"
   ]
  },
  {
   "cell_type": "markdown",
   "metadata": {},
   "source": [
    "## histogram"
   ]
  },
  {
   "cell_type": "code",
   "execution_count": 16,
   "metadata": {},
   "outputs": [
    {
     "data": {
      "application/vnd.plotly.v1+json": {
       "config": {
        "linkText": "Export to plot.ly",
        "plotlyServerURL": "https://plot.ly",
        "showLink": true
       },
       "data": [
        {
         "histfunc": "count",
         "histnorm": "",
         "marker": {
          "color": "rgba(255, 153, 51, 1.0)",
          "line": {
           "color": "#4D5663",
           "width": 1.3
          }
         },
         "name": "A",
         "nbinsx": 25,
         "opacity": 0.8,
         "orientation": "v",
         "type": "histogram",
         "x": [
          -0.4219085963273162,
          1.6821026955762655,
          0.4309402142051801,
          0.18411306212801068,
          -0.9281908221713763,
          -0.30874922794372156,
          -0.6290038474767073,
          -0.710791310697247,
          0.17241542605474575,
          -0.8396869257109238,
          0.3806311459364493,
          -0.09381049474443047,
          1.5374181314768314,
          -0.43435294316790796,
          0.6461335117639597,
          -0.12372906160993319,
          0.3022970579415042,
          0.20797545067424617,
          -1.1304501651601098,
          1.1710948609964165,
          0.41306944623653125,
          1.9082257379137284,
          -0.05557142962097008,
          -1.0221174747845423,
          1.1355091384569034,
          1.1672445486913277,
          1.2764241838725863,
          2.3566817803969013,
          -1.2547557150229542,
          -1.7325392979131544,
          -1.2920823588295134,
          0.7580820471569764,
          -1.1858168738788655,
          -0.4841514473365244,
          0.6509296343287128,
          -0.11155686020046292,
          1.5045969153456915,
          -0.12204236350353027,
          -0.05537132415007508,
          -0.28027869353027607,
          0.9613497802818148,
          0.9414707962483713,
          -0.22356717954305758,
          0.7740342983721199,
          -0.7241989040863319,
          0.02778003781964759,
          -0.024055724956834595,
          -0.915078920852879,
          0.5544534137007058,
          -0.05977358602472853,
          0.23458852778203726,
          -0.5512670496759174,
          -0.4314387696367131,
          0.48138568092212886,
          0.151312471088505,
          -1.2683697561726832,
          1.1766160488988537,
          -0.27455824083556385,
          0.07273934897587682,
          -0.8784205932002688,
          -1.6235056907620014,
          -0.644105336585791,
          -1.3059071560879678,
          1.1747908906102706,
          -0.520795580404017,
          1.5905914235182144,
          -1.0584157956032523,
          0.017940488390363326,
          0.21212164922397306,
          -0.7742147529291061,
          -0.07481568924787502,
          -0.7509498972280064,
          0.40873810406643823,
          -0.35782741822032943,
          1.3791574021604953,
          -0.4936108658569253,
          -0.1670321836666462,
          0.0721790925295737,
          0.7001017974476622,
          -0.7875091790993461,
          0.0403208723208704,
          0.3177404868415387,
          -0.056986594871039735,
          0.4528785263940196,
          0.6469206986380688,
          0.41429955942854774,
          0.12303138871638225,
          -0.4126393825177464,
          0.819920664835239,
          1.4600883911553522,
          0.010063642024292574,
          -0.9264281665049272,
          -2.4315763663695646,
          -0.21280943033324837,
          -1.3301028052349306,
          0.7023289550933015,
          -0.029671055859963696,
          0.23193888262846393,
          -0.07874371469382994,
          -1.6085773535868477
         ]
        }
       ],
       "layout": {
        "barmode": "overlay",
        "legend": {
         "bgcolor": "#F5F6F9",
         "font": {
          "color": "#4D5663"
         }
        },
        "paper_bgcolor": "#F5F6F9",
        "plot_bgcolor": "#F5F6F9",
        "template": {
         "data": {
          "bar": [
           {
            "error_x": {
             "color": "#2a3f5f"
            },
            "error_y": {
             "color": "#2a3f5f"
            },
            "marker": {
             "line": {
              "color": "#E5ECF6",
              "width": 0.5
             }
            },
            "type": "bar"
           }
          ],
          "barpolar": [
           {
            "marker": {
             "line": {
              "color": "#E5ECF6",
              "width": 0.5
             }
            },
            "type": "barpolar"
           }
          ],
          "carpet": [
           {
            "aaxis": {
             "endlinecolor": "#2a3f5f",
             "gridcolor": "white",
             "linecolor": "white",
             "minorgridcolor": "white",
             "startlinecolor": "#2a3f5f"
            },
            "baxis": {
             "endlinecolor": "#2a3f5f",
             "gridcolor": "white",
             "linecolor": "white",
             "minorgridcolor": "white",
             "startlinecolor": "#2a3f5f"
            },
            "type": "carpet"
           }
          ],
          "choropleth": [
           {
            "colorbar": {
             "outlinewidth": 0,
             "ticks": ""
            },
            "type": "choropleth"
           }
          ],
          "contour": [
           {
            "colorbar": {
             "outlinewidth": 0,
             "ticks": ""
            },
            "colorscale": [
             [
              0,
              "#0d0887"
             ],
             [
              0.1111111111111111,
              "#46039f"
             ],
             [
              0.2222222222222222,
              "#7201a8"
             ],
             [
              0.3333333333333333,
              "#9c179e"
             ],
             [
              0.4444444444444444,
              "#bd3786"
             ],
             [
              0.5555555555555556,
              "#d8576b"
             ],
             [
              0.6666666666666666,
              "#ed7953"
             ],
             [
              0.7777777777777778,
              "#fb9f3a"
             ],
             [
              0.8888888888888888,
              "#fdca26"
             ],
             [
              1,
              "#f0f921"
             ]
            ],
            "type": "contour"
           }
          ],
          "contourcarpet": [
           {
            "colorbar": {
             "outlinewidth": 0,
             "ticks": ""
            },
            "type": "contourcarpet"
           }
          ],
          "heatmap": [
           {
            "colorbar": {
             "outlinewidth": 0,
             "ticks": ""
            },
            "colorscale": [
             [
              0,
              "#0d0887"
             ],
             [
              0.1111111111111111,
              "#46039f"
             ],
             [
              0.2222222222222222,
              "#7201a8"
             ],
             [
              0.3333333333333333,
              "#9c179e"
             ],
             [
              0.4444444444444444,
              "#bd3786"
             ],
             [
              0.5555555555555556,
              "#d8576b"
             ],
             [
              0.6666666666666666,
              "#ed7953"
             ],
             [
              0.7777777777777778,
              "#fb9f3a"
             ],
             [
              0.8888888888888888,
              "#fdca26"
             ],
             [
              1,
              "#f0f921"
             ]
            ],
            "type": "heatmap"
           }
          ],
          "heatmapgl": [
           {
            "colorbar": {
             "outlinewidth": 0,
             "ticks": ""
            },
            "colorscale": [
             [
              0,
              "#0d0887"
             ],
             [
              0.1111111111111111,
              "#46039f"
             ],
             [
              0.2222222222222222,
              "#7201a8"
             ],
             [
              0.3333333333333333,
              "#9c179e"
             ],
             [
              0.4444444444444444,
              "#bd3786"
             ],
             [
              0.5555555555555556,
              "#d8576b"
             ],
             [
              0.6666666666666666,
              "#ed7953"
             ],
             [
              0.7777777777777778,
              "#fb9f3a"
             ],
             [
              0.8888888888888888,
              "#fdca26"
             ],
             [
              1,
              "#f0f921"
             ]
            ],
            "type": "heatmapgl"
           }
          ],
          "histogram": [
           {
            "marker": {
             "colorbar": {
              "outlinewidth": 0,
              "ticks": ""
             }
            },
            "type": "histogram"
           }
          ],
          "histogram2d": [
           {
            "colorbar": {
             "outlinewidth": 0,
             "ticks": ""
            },
            "colorscale": [
             [
              0,
              "#0d0887"
             ],
             [
              0.1111111111111111,
              "#46039f"
             ],
             [
              0.2222222222222222,
              "#7201a8"
             ],
             [
              0.3333333333333333,
              "#9c179e"
             ],
             [
              0.4444444444444444,
              "#bd3786"
             ],
             [
              0.5555555555555556,
              "#d8576b"
             ],
             [
              0.6666666666666666,
              "#ed7953"
             ],
             [
              0.7777777777777778,
              "#fb9f3a"
             ],
             [
              0.8888888888888888,
              "#fdca26"
             ],
             [
              1,
              "#f0f921"
             ]
            ],
            "type": "histogram2d"
           }
          ],
          "histogram2dcontour": [
           {
            "colorbar": {
             "outlinewidth": 0,
             "ticks": ""
            },
            "colorscale": [
             [
              0,
              "#0d0887"
             ],
             [
              0.1111111111111111,
              "#46039f"
             ],
             [
              0.2222222222222222,
              "#7201a8"
             ],
             [
              0.3333333333333333,
              "#9c179e"
             ],
             [
              0.4444444444444444,
              "#bd3786"
             ],
             [
              0.5555555555555556,
              "#d8576b"
             ],
             [
              0.6666666666666666,
              "#ed7953"
             ],
             [
              0.7777777777777778,
              "#fb9f3a"
             ],
             [
              0.8888888888888888,
              "#fdca26"
             ],
             [
              1,
              "#f0f921"
             ]
            ],
            "type": "histogram2dcontour"
           }
          ],
          "mesh3d": [
           {
            "colorbar": {
             "outlinewidth": 0,
             "ticks": ""
            },
            "type": "mesh3d"
           }
          ],
          "parcoords": [
           {
            "line": {
             "colorbar": {
              "outlinewidth": 0,
              "ticks": ""
             }
            },
            "type": "parcoords"
           }
          ],
          "pie": [
           {
            "automargin": true,
            "type": "pie"
           }
          ],
          "scatter": [
           {
            "marker": {
             "colorbar": {
              "outlinewidth": 0,
              "ticks": ""
             }
            },
            "type": "scatter"
           }
          ],
          "scatter3d": [
           {
            "line": {
             "colorbar": {
              "outlinewidth": 0,
              "ticks": ""
             }
            },
            "marker": {
             "colorbar": {
              "outlinewidth": 0,
              "ticks": ""
             }
            },
            "type": "scatter3d"
           }
          ],
          "scattercarpet": [
           {
            "marker": {
             "colorbar": {
              "outlinewidth": 0,
              "ticks": ""
             }
            },
            "type": "scattercarpet"
           }
          ],
          "scattergeo": [
           {
            "marker": {
             "colorbar": {
              "outlinewidth": 0,
              "ticks": ""
             }
            },
            "type": "scattergeo"
           }
          ],
          "scattergl": [
           {
            "marker": {
             "colorbar": {
              "outlinewidth": 0,
              "ticks": ""
             }
            },
            "type": "scattergl"
           }
          ],
          "scattermapbox": [
           {
            "marker": {
             "colorbar": {
              "outlinewidth": 0,
              "ticks": ""
             }
            },
            "type": "scattermapbox"
           }
          ],
          "scatterpolar": [
           {
            "marker": {
             "colorbar": {
              "outlinewidth": 0,
              "ticks": ""
             }
            },
            "type": "scatterpolar"
           }
          ],
          "scatterpolargl": [
           {
            "marker": {
             "colorbar": {
              "outlinewidth": 0,
              "ticks": ""
             }
            },
            "type": "scatterpolargl"
           }
          ],
          "scatterternary": [
           {
            "marker": {
             "colorbar": {
              "outlinewidth": 0,
              "ticks": ""
             }
            },
            "type": "scatterternary"
           }
          ],
          "surface": [
           {
            "colorbar": {
             "outlinewidth": 0,
             "ticks": ""
            },
            "colorscale": [
             [
              0,
              "#0d0887"
             ],
             [
              0.1111111111111111,
              "#46039f"
             ],
             [
              0.2222222222222222,
              "#7201a8"
             ],
             [
              0.3333333333333333,
              "#9c179e"
             ],
             [
              0.4444444444444444,
              "#bd3786"
             ],
             [
              0.5555555555555556,
              "#d8576b"
             ],
             [
              0.6666666666666666,
              "#ed7953"
             ],
             [
              0.7777777777777778,
              "#fb9f3a"
             ],
             [
              0.8888888888888888,
              "#fdca26"
             ],
             [
              1,
              "#f0f921"
             ]
            ],
            "type": "surface"
           }
          ],
          "table": [
           {
            "cells": {
             "fill": {
              "color": "#EBF0F8"
             },
             "line": {
              "color": "white"
             }
            },
            "header": {
             "fill": {
              "color": "#C8D4E3"
             },
             "line": {
              "color": "white"
             }
            },
            "type": "table"
           }
          ]
         },
         "layout": {
          "annotationdefaults": {
           "arrowcolor": "#2a3f5f",
           "arrowhead": 0,
           "arrowwidth": 1
          },
          "coloraxis": {
           "colorbar": {
            "outlinewidth": 0,
            "ticks": ""
           }
          },
          "colorscale": {
           "diverging": [
            [
             0,
             "#8e0152"
            ],
            [
             0.1,
             "#c51b7d"
            ],
            [
             0.2,
             "#de77ae"
            ],
            [
             0.3,
             "#f1b6da"
            ],
            [
             0.4,
             "#fde0ef"
            ],
            [
             0.5,
             "#f7f7f7"
            ],
            [
             0.6,
             "#e6f5d0"
            ],
            [
             0.7,
             "#b8e186"
            ],
            [
             0.8,
             "#7fbc41"
            ],
            [
             0.9,
             "#4d9221"
            ],
            [
             1,
             "#276419"
            ]
           ],
           "sequential": [
            [
             0,
             "#0d0887"
            ],
            [
             0.1111111111111111,
             "#46039f"
            ],
            [
             0.2222222222222222,
             "#7201a8"
            ],
            [
             0.3333333333333333,
             "#9c179e"
            ],
            [
             0.4444444444444444,
             "#bd3786"
            ],
            [
             0.5555555555555556,
             "#d8576b"
            ],
            [
             0.6666666666666666,
             "#ed7953"
            ],
            [
             0.7777777777777778,
             "#fb9f3a"
            ],
            [
             0.8888888888888888,
             "#fdca26"
            ],
            [
             1,
             "#f0f921"
            ]
           ],
           "sequentialminus": [
            [
             0,
             "#0d0887"
            ],
            [
             0.1111111111111111,
             "#46039f"
            ],
            [
             0.2222222222222222,
             "#7201a8"
            ],
            [
             0.3333333333333333,
             "#9c179e"
            ],
            [
             0.4444444444444444,
             "#bd3786"
            ],
            [
             0.5555555555555556,
             "#d8576b"
            ],
            [
             0.6666666666666666,
             "#ed7953"
            ],
            [
             0.7777777777777778,
             "#fb9f3a"
            ],
            [
             0.8888888888888888,
             "#fdca26"
            ],
            [
             1,
             "#f0f921"
            ]
           ]
          },
          "colorway": [
           "#636efa",
           "#EF553B",
           "#00cc96",
           "#ab63fa",
           "#FFA15A",
           "#19d3f3",
           "#FF6692",
           "#B6E880",
           "#FF97FF",
           "#FECB52"
          ],
          "font": {
           "color": "#2a3f5f"
          },
          "geo": {
           "bgcolor": "white",
           "lakecolor": "white",
           "landcolor": "#E5ECF6",
           "showlakes": true,
           "showland": true,
           "subunitcolor": "white"
          },
          "hoverlabel": {
           "align": "left"
          },
          "hovermode": "closest",
          "mapbox": {
           "style": "light"
          },
          "paper_bgcolor": "white",
          "plot_bgcolor": "#E5ECF6",
          "polar": {
           "angularaxis": {
            "gridcolor": "white",
            "linecolor": "white",
            "ticks": ""
           },
           "bgcolor": "#E5ECF6",
           "radialaxis": {
            "gridcolor": "white",
            "linecolor": "white",
            "ticks": ""
           }
          },
          "scene": {
           "xaxis": {
            "backgroundcolor": "#E5ECF6",
            "gridcolor": "white",
            "gridwidth": 2,
            "linecolor": "white",
            "showbackground": true,
            "ticks": "",
            "zerolinecolor": "white"
           },
           "yaxis": {
            "backgroundcolor": "#E5ECF6",
            "gridcolor": "white",
            "gridwidth": 2,
            "linecolor": "white",
            "showbackground": true,
            "ticks": "",
            "zerolinecolor": "white"
           },
           "zaxis": {
            "backgroundcolor": "#E5ECF6",
            "gridcolor": "white",
            "gridwidth": 2,
            "linecolor": "white",
            "showbackground": true,
            "ticks": "",
            "zerolinecolor": "white"
           }
          },
          "shapedefaults": {
           "line": {
            "color": "#2a3f5f"
           }
          },
          "ternary": {
           "aaxis": {
            "gridcolor": "white",
            "linecolor": "white",
            "ticks": ""
           },
           "baxis": {
            "gridcolor": "white",
            "linecolor": "white",
            "ticks": ""
           },
           "bgcolor": "#E5ECF6",
           "caxis": {
            "gridcolor": "white",
            "linecolor": "white",
            "ticks": ""
           }
          },
          "title": {
           "x": 0.05
          },
          "xaxis": {
           "automargin": true,
           "gridcolor": "white",
           "linecolor": "white",
           "ticks": "",
           "title": {
            "standoff": 15
           },
           "zerolinecolor": "white",
           "zerolinewidth": 2
          },
          "yaxis": {
           "automargin": true,
           "gridcolor": "white",
           "linecolor": "white",
           "ticks": "",
           "title": {
            "standoff": 15
           },
           "zerolinecolor": "white",
           "zerolinewidth": 2
          }
         }
        },
        "title": {
         "font": {
          "color": "#4D5663"
         }
        },
        "xaxis": {
         "gridcolor": "#E1E5ED",
         "showgrid": true,
         "tickfont": {
          "color": "#4D5663"
         },
         "title": {
          "font": {
           "color": "#4D5663"
          },
          "text": ""
         },
         "zerolinecolor": "#E1E5ED"
        },
        "yaxis": {
         "gridcolor": "#E1E5ED",
         "showgrid": true,
         "tickfont": {
          "color": "#4D5663"
         },
         "title": {
          "font": {
           "color": "#4D5663"
          },
          "text": ""
         },
         "zerolinecolor": "#E1E5ED"
        }
       }
      },
      "text/html": [
       "<div>\n",
       "        \n",
       "        \n",
       "            <div id=\"dd11fc6e-eac3-4b5a-b399-8cb4d45e82f8\" class=\"plotly-graph-div\" style=\"height:525px; width:100%;\"></div>\n",
       "            <script type=\"text/javascript\">\n",
       "                require([\"plotly\"], function(Plotly) {\n",
       "                    window.PLOTLYENV=window.PLOTLYENV || {};\n",
       "                    window.PLOTLYENV.BASE_URL='https://plot.ly';\n",
       "                    \n",
       "                if (document.getElementById(\"dd11fc6e-eac3-4b5a-b399-8cb4d45e82f8\")) {\n",
       "                    Plotly.newPlot(\n",
       "                        'dd11fc6e-eac3-4b5a-b399-8cb4d45e82f8',\n",
       "                        [{\"histfunc\": \"count\", \"histnorm\": \"\", \"marker\": {\"color\": \"rgba(255, 153, 51, 1.0)\", \"line\": {\"color\": \"#4D5663\", \"width\": 1.3}}, \"name\": \"A\", \"nbinsx\": 25, \"opacity\": 0.8, \"orientation\": \"v\", \"type\": \"histogram\", \"x\": [-0.4219085963273162, 1.6821026955762655, 0.4309402142051801, 0.18411306212801068, -0.9281908221713763, -0.30874922794372156, -0.6290038474767073, -0.710791310697247, 0.17241542605474575, -0.8396869257109238, 0.3806311459364493, -0.09381049474443047, 1.5374181314768314, -0.43435294316790796, 0.6461335117639597, -0.12372906160993319, 0.3022970579415042, 0.20797545067424617, -1.1304501651601098, 1.1710948609964165, 0.41306944623653125, 1.9082257379137284, -0.05557142962097008, -1.0221174747845423, 1.1355091384569034, 1.1672445486913277, 1.2764241838725863, 2.3566817803969013, -1.2547557150229542, -1.7325392979131544, -1.2920823588295134, 0.7580820471569764, -1.1858168738788655, -0.4841514473365244, 0.6509296343287128, -0.11155686020046292, 1.5045969153456915, -0.12204236350353027, -0.05537132415007508, -0.28027869353027607, 0.9613497802818148, 0.9414707962483713, -0.22356717954305758, 0.7740342983721199, -0.7241989040863319, 0.02778003781964759, -0.024055724956834595, -0.915078920852879, 0.5544534137007058, -0.05977358602472853, 0.23458852778203726, -0.5512670496759174, -0.4314387696367131, 0.48138568092212886, 0.151312471088505, -1.2683697561726832, 1.1766160488988537, -0.27455824083556385, 0.07273934897587682, -0.8784205932002688, -1.6235056907620014, -0.644105336585791, -1.3059071560879678, 1.1747908906102706, -0.520795580404017, 1.5905914235182144, -1.0584157956032523, 0.017940488390363326, 0.21212164922397306, -0.7742147529291061, -0.07481568924787502, -0.7509498972280064, 0.40873810406643823, -0.35782741822032943, 1.3791574021604953, -0.4936108658569253, -0.1670321836666462, 0.0721790925295737, 0.7001017974476622, -0.7875091790993461, 0.0403208723208704, 0.3177404868415387, -0.056986594871039735, 0.4528785263940196, 0.6469206986380688, 0.41429955942854774, 0.12303138871638225, -0.4126393825177464, 0.819920664835239, 1.4600883911553522, 0.010063642024292574, -0.9264281665049272, -2.4315763663695646, -0.21280943033324837, -1.3301028052349306, 0.7023289550933015, -0.029671055859963696, 0.23193888262846393, -0.07874371469382994, -1.6085773535868477]}],\n",
       "                        {\"barmode\": \"overlay\", \"legend\": {\"bgcolor\": \"#F5F6F9\", \"font\": {\"color\": \"#4D5663\"}}, \"paper_bgcolor\": \"#F5F6F9\", \"plot_bgcolor\": \"#F5F6F9\", \"template\": {\"data\": {\"bar\": [{\"error_x\": {\"color\": \"#2a3f5f\"}, \"error_y\": {\"color\": \"#2a3f5f\"}, \"marker\": {\"line\": {\"color\": \"#E5ECF6\", \"width\": 0.5}}, \"type\": \"bar\"}], \"barpolar\": [{\"marker\": {\"line\": {\"color\": \"#E5ECF6\", \"width\": 0.5}}, \"type\": \"barpolar\"}], \"carpet\": [{\"aaxis\": {\"endlinecolor\": \"#2a3f5f\", \"gridcolor\": \"white\", \"linecolor\": \"white\", \"minorgridcolor\": \"white\", \"startlinecolor\": \"#2a3f5f\"}, \"baxis\": {\"endlinecolor\": \"#2a3f5f\", \"gridcolor\": \"white\", \"linecolor\": \"white\", \"minorgridcolor\": \"white\", \"startlinecolor\": \"#2a3f5f\"}, \"type\": \"carpet\"}], \"choropleth\": [{\"colorbar\": {\"outlinewidth\": 0, \"ticks\": \"\"}, \"type\": \"choropleth\"}], \"contour\": [{\"colorbar\": {\"outlinewidth\": 0, \"ticks\": \"\"}, \"colorscale\": [[0.0, \"#0d0887\"], [0.1111111111111111, \"#46039f\"], [0.2222222222222222, \"#7201a8\"], [0.3333333333333333, \"#9c179e\"], [0.4444444444444444, \"#bd3786\"], [0.5555555555555556, \"#d8576b\"], [0.6666666666666666, \"#ed7953\"], [0.7777777777777778, \"#fb9f3a\"], [0.8888888888888888, \"#fdca26\"], [1.0, \"#f0f921\"]], \"type\": \"contour\"}], \"contourcarpet\": [{\"colorbar\": {\"outlinewidth\": 0, \"ticks\": \"\"}, \"type\": \"contourcarpet\"}], \"heatmap\": [{\"colorbar\": {\"outlinewidth\": 0, \"ticks\": \"\"}, \"colorscale\": [[0.0, \"#0d0887\"], [0.1111111111111111, \"#46039f\"], [0.2222222222222222, \"#7201a8\"], [0.3333333333333333, \"#9c179e\"], [0.4444444444444444, \"#bd3786\"], [0.5555555555555556, \"#d8576b\"], [0.6666666666666666, \"#ed7953\"], [0.7777777777777778, \"#fb9f3a\"], [0.8888888888888888, \"#fdca26\"], [1.0, \"#f0f921\"]], \"type\": \"heatmap\"}], \"heatmapgl\": [{\"colorbar\": {\"outlinewidth\": 0, \"ticks\": \"\"}, \"colorscale\": [[0.0, \"#0d0887\"], [0.1111111111111111, \"#46039f\"], [0.2222222222222222, \"#7201a8\"], [0.3333333333333333, \"#9c179e\"], [0.4444444444444444, \"#bd3786\"], [0.5555555555555556, \"#d8576b\"], [0.6666666666666666, \"#ed7953\"], [0.7777777777777778, \"#fb9f3a\"], [0.8888888888888888, \"#fdca26\"], [1.0, \"#f0f921\"]], \"type\": \"heatmapgl\"}], \"histogram\": [{\"marker\": {\"colorbar\": {\"outlinewidth\": 0, \"ticks\": \"\"}}, \"type\": \"histogram\"}], \"histogram2d\": [{\"colorbar\": {\"outlinewidth\": 0, \"ticks\": \"\"}, \"colorscale\": [[0.0, \"#0d0887\"], [0.1111111111111111, \"#46039f\"], [0.2222222222222222, \"#7201a8\"], [0.3333333333333333, \"#9c179e\"], [0.4444444444444444, \"#bd3786\"], [0.5555555555555556, \"#d8576b\"], [0.6666666666666666, \"#ed7953\"], [0.7777777777777778, \"#fb9f3a\"], [0.8888888888888888, \"#fdca26\"], [1.0, \"#f0f921\"]], \"type\": \"histogram2d\"}], \"histogram2dcontour\": [{\"colorbar\": {\"outlinewidth\": 0, \"ticks\": \"\"}, \"colorscale\": [[0.0, \"#0d0887\"], [0.1111111111111111, \"#46039f\"], [0.2222222222222222, \"#7201a8\"], [0.3333333333333333, \"#9c179e\"], [0.4444444444444444, \"#bd3786\"], [0.5555555555555556, \"#d8576b\"], [0.6666666666666666, \"#ed7953\"], [0.7777777777777778, \"#fb9f3a\"], [0.8888888888888888, \"#fdca26\"], [1.0, \"#f0f921\"]], \"type\": \"histogram2dcontour\"}], \"mesh3d\": [{\"colorbar\": {\"outlinewidth\": 0, \"ticks\": \"\"}, \"type\": \"mesh3d\"}], \"parcoords\": [{\"line\": {\"colorbar\": {\"outlinewidth\": 0, \"ticks\": \"\"}}, \"type\": \"parcoords\"}], \"pie\": [{\"automargin\": true, \"type\": \"pie\"}], \"scatter\": [{\"marker\": {\"colorbar\": {\"outlinewidth\": 0, \"ticks\": \"\"}}, \"type\": \"scatter\"}], \"scatter3d\": [{\"line\": {\"colorbar\": {\"outlinewidth\": 0, \"ticks\": \"\"}}, \"marker\": {\"colorbar\": {\"outlinewidth\": 0, \"ticks\": \"\"}}, \"type\": \"scatter3d\"}], \"scattercarpet\": [{\"marker\": {\"colorbar\": {\"outlinewidth\": 0, \"ticks\": \"\"}}, \"type\": \"scattercarpet\"}], \"scattergeo\": [{\"marker\": {\"colorbar\": {\"outlinewidth\": 0, \"ticks\": \"\"}}, \"type\": \"scattergeo\"}], \"scattergl\": [{\"marker\": {\"colorbar\": {\"outlinewidth\": 0, \"ticks\": \"\"}}, \"type\": \"scattergl\"}], \"scattermapbox\": [{\"marker\": {\"colorbar\": {\"outlinewidth\": 0, \"ticks\": \"\"}}, \"type\": \"scattermapbox\"}], \"scatterpolar\": [{\"marker\": {\"colorbar\": {\"outlinewidth\": 0, \"ticks\": \"\"}}, \"type\": \"scatterpolar\"}], \"scatterpolargl\": [{\"marker\": {\"colorbar\": {\"outlinewidth\": 0, \"ticks\": \"\"}}, \"type\": \"scatterpolargl\"}], \"scatterternary\": [{\"marker\": {\"colorbar\": {\"outlinewidth\": 0, \"ticks\": \"\"}}, \"type\": \"scatterternary\"}], \"surface\": [{\"colorbar\": {\"outlinewidth\": 0, \"ticks\": \"\"}, \"colorscale\": [[0.0, \"#0d0887\"], [0.1111111111111111, \"#46039f\"], [0.2222222222222222, \"#7201a8\"], [0.3333333333333333, \"#9c179e\"], [0.4444444444444444, \"#bd3786\"], [0.5555555555555556, \"#d8576b\"], [0.6666666666666666, \"#ed7953\"], [0.7777777777777778, \"#fb9f3a\"], [0.8888888888888888, \"#fdca26\"], [1.0, \"#f0f921\"]], \"type\": \"surface\"}], \"table\": [{\"cells\": {\"fill\": {\"color\": \"#EBF0F8\"}, \"line\": {\"color\": \"white\"}}, \"header\": {\"fill\": {\"color\": \"#C8D4E3\"}, \"line\": {\"color\": \"white\"}}, \"type\": \"table\"}]}, \"layout\": {\"annotationdefaults\": {\"arrowcolor\": \"#2a3f5f\", \"arrowhead\": 0, \"arrowwidth\": 1}, \"coloraxis\": {\"colorbar\": {\"outlinewidth\": 0, \"ticks\": \"\"}}, \"colorscale\": {\"diverging\": [[0, \"#8e0152\"], [0.1, \"#c51b7d\"], [0.2, \"#de77ae\"], [0.3, \"#f1b6da\"], [0.4, \"#fde0ef\"], [0.5, \"#f7f7f7\"], [0.6, \"#e6f5d0\"], [0.7, \"#b8e186\"], [0.8, \"#7fbc41\"], [0.9, \"#4d9221\"], [1, \"#276419\"]], \"sequential\": [[0.0, \"#0d0887\"], [0.1111111111111111, \"#46039f\"], [0.2222222222222222, \"#7201a8\"], [0.3333333333333333, \"#9c179e\"], [0.4444444444444444, \"#bd3786\"], [0.5555555555555556, \"#d8576b\"], [0.6666666666666666, \"#ed7953\"], [0.7777777777777778, \"#fb9f3a\"], [0.8888888888888888, \"#fdca26\"], [1.0, \"#f0f921\"]], \"sequentialminus\": [[0.0, \"#0d0887\"], [0.1111111111111111, \"#46039f\"], [0.2222222222222222, \"#7201a8\"], [0.3333333333333333, \"#9c179e\"], [0.4444444444444444, \"#bd3786\"], [0.5555555555555556, \"#d8576b\"], [0.6666666666666666, \"#ed7953\"], [0.7777777777777778, \"#fb9f3a\"], [0.8888888888888888, \"#fdca26\"], [1.0, \"#f0f921\"]]}, \"colorway\": [\"#636efa\", \"#EF553B\", \"#00cc96\", \"#ab63fa\", \"#FFA15A\", \"#19d3f3\", \"#FF6692\", \"#B6E880\", \"#FF97FF\", \"#FECB52\"], \"font\": {\"color\": \"#2a3f5f\"}, \"geo\": {\"bgcolor\": \"white\", \"lakecolor\": \"white\", \"landcolor\": \"#E5ECF6\", \"showlakes\": true, \"showland\": true, \"subunitcolor\": \"white\"}, \"hoverlabel\": {\"align\": \"left\"}, \"hovermode\": \"closest\", \"mapbox\": {\"style\": \"light\"}, \"paper_bgcolor\": \"white\", \"plot_bgcolor\": \"#E5ECF6\", \"polar\": {\"angularaxis\": {\"gridcolor\": \"white\", \"linecolor\": \"white\", \"ticks\": \"\"}, \"bgcolor\": \"#E5ECF6\", \"radialaxis\": {\"gridcolor\": \"white\", \"linecolor\": \"white\", \"ticks\": \"\"}}, \"scene\": {\"xaxis\": {\"backgroundcolor\": \"#E5ECF6\", \"gridcolor\": \"white\", \"gridwidth\": 2, \"linecolor\": \"white\", \"showbackground\": true, \"ticks\": \"\", \"zerolinecolor\": \"white\"}, \"yaxis\": {\"backgroundcolor\": \"#E5ECF6\", \"gridcolor\": \"white\", \"gridwidth\": 2, \"linecolor\": \"white\", \"showbackground\": true, \"ticks\": \"\", \"zerolinecolor\": \"white\"}, \"zaxis\": {\"backgroundcolor\": \"#E5ECF6\", \"gridcolor\": \"white\", \"gridwidth\": 2, \"linecolor\": \"white\", \"showbackground\": true, \"ticks\": \"\", \"zerolinecolor\": \"white\"}}, \"shapedefaults\": {\"line\": {\"color\": \"#2a3f5f\"}}, \"ternary\": {\"aaxis\": {\"gridcolor\": \"white\", \"linecolor\": \"white\", \"ticks\": \"\"}, \"baxis\": {\"gridcolor\": \"white\", \"linecolor\": \"white\", \"ticks\": \"\"}, \"bgcolor\": \"#E5ECF6\", \"caxis\": {\"gridcolor\": \"white\", \"linecolor\": \"white\", \"ticks\": \"\"}}, \"title\": {\"x\": 0.05}, \"xaxis\": {\"automargin\": true, \"gridcolor\": \"white\", \"linecolor\": \"white\", \"ticks\": \"\", \"title\": {\"standoff\": 15}, \"zerolinecolor\": \"white\", \"zerolinewidth\": 2}, \"yaxis\": {\"automargin\": true, \"gridcolor\": \"white\", \"linecolor\": \"white\", \"ticks\": \"\", \"title\": {\"standoff\": 15}, \"zerolinecolor\": \"white\", \"zerolinewidth\": 2}}}, \"title\": {\"font\": {\"color\": \"#4D5663\"}}, \"xaxis\": {\"gridcolor\": \"#E1E5ED\", \"showgrid\": true, \"tickfont\": {\"color\": \"#4D5663\"}, \"title\": {\"font\": {\"color\": \"#4D5663\"}, \"text\": \"\"}, \"zerolinecolor\": \"#E1E5ED\"}, \"yaxis\": {\"gridcolor\": \"#E1E5ED\", \"showgrid\": true, \"tickfont\": {\"color\": \"#4D5663\"}, \"title\": {\"font\": {\"color\": \"#4D5663\"}, \"text\": \"\"}, \"zerolinecolor\": \"#E1E5ED\"}},\n",
       "                        {\"showLink\": true, \"linkText\": \"Export to plot.ly\", \"plotlyServerURL\": \"https://plot.ly\", \"responsive\": true}\n",
       "                    ).then(function(){\n",
       "                            \n",
       "var gd = document.getElementById('dd11fc6e-eac3-4b5a-b399-8cb4d45e82f8');\n",
       "var x = new MutationObserver(function (mutations, observer) {{\n",
       "        var display = window.getComputedStyle(gd).display;\n",
       "        if (!display || display === 'none') {{\n",
       "            console.log([gd, 'removed!']);\n",
       "            Plotly.purge(gd);\n",
       "            observer.disconnect();\n",
       "        }}\n",
       "}});\n",
       "\n",
       "// Listen for the removal of the full notebook cells\n",
       "var notebookContainer = gd.closest('#notebook-container');\n",
       "if (notebookContainer) {{\n",
       "    x.observe(notebookContainer, {childList: true});\n",
       "}}\n",
       "\n",
       "// Listen for the clearing of the current output cell\n",
       "var outputEl = gd.closest('.output');\n",
       "if (outputEl) {{\n",
       "    x.observe(outputEl, {childList: true});\n",
       "}}\n",
       "\n",
       "                        })\n",
       "                };\n",
       "                });\n",
       "            </script>\n",
       "        </div>"
      ]
     },
     "metadata": {},
     "output_type": "display_data"
    }
   ],
   "source": [
    "df['A'].iplot(kind='hist',bins=25)"
   ]
  },
  {
   "cell_type": "code",
   "execution_count": 17,
   "metadata": {},
   "outputs": [
    {
     "data": {
      "application/vnd.plotly.v1+json": {
       "config": {
        "linkText": "Export to plot.ly",
        "plotlyServerURL": "https://plot.ly",
        "showLink": true
       },
       "data": [
        {
         "marker": {
          "color": [
           "rgb(255, 153, 51)",
           "rgb(55, 128, 191)",
           "rgb(50, 171, 96)",
           "rgb(128, 0, 128)",
           "rgb(219, 64, 82)",
           "rgb(0, 128, 128)",
           "rgb(255, 255, 51)",
           "rgb(128, 128, 0)",
           "rgb(251, 128, 114)",
           "rgb(128, 177, 211)"
          ],
          "line": {
           "width": 1.3
          },
          "size": [
           78,
           88,
           74,
           48,
           58,
           64,
           48,
           60,
           100,
           43,
           46,
           12,
           82,
           67,
           54,
           72,
           73,
           60,
           49,
           103,
           81,
           32,
           37,
           76,
           52,
           43,
           83,
           76,
           54,
           58,
           53,
           48,
           95,
           112,
           63,
           78,
           74,
           88,
           35,
           80,
           57,
           75,
           61,
           72,
           87,
           78,
           39,
           84,
           89,
           79,
           67,
           56,
           78,
           70,
           79,
           64,
           55,
           68,
           50,
           56,
           53,
           83,
           65,
           51,
           72,
           48,
           85,
           78,
           45,
           76,
           36,
           49,
           60,
           65,
           54,
           39,
           82,
           56,
           46,
           67,
           51,
           58,
           70,
           59,
           54,
           66,
           68,
           59,
           55,
           67,
           79,
           54,
           59,
           23,
           34,
           62,
           90,
           74,
           73,
           31
          ],
          "symbol": "circle"
         },
         "mode": "markers",
         "text": "",
         "type": "scatter",
         "x": [
          -0.4219085963273162,
          1.6821026955762655,
          0.4309402142051801,
          0.18411306212801068,
          -0.9281908221713763,
          -0.30874922794372156,
          -0.6290038474767073,
          -0.710791310697247,
          0.17241542605474575,
          -0.8396869257109238,
          0.3806311459364493,
          -0.09381049474443047,
          1.5374181314768314,
          -0.43435294316790796,
          0.6461335117639597,
          -0.12372906160993319,
          0.3022970579415042,
          0.20797545067424617,
          -1.1304501651601098,
          1.1710948609964165,
          0.41306944623653125,
          1.9082257379137284,
          -0.05557142962097008,
          -1.0221174747845423,
          1.1355091384569034,
          1.1672445486913277,
          1.2764241838725863,
          2.3566817803969013,
          -1.2547557150229542,
          -1.7325392979131544,
          -1.2920823588295134,
          0.7580820471569764,
          -1.1858168738788655,
          -0.4841514473365244,
          0.6509296343287128,
          -0.11155686020046292,
          1.5045969153456915,
          -0.12204236350353027,
          -0.05537132415007508,
          -0.28027869353027607,
          0.9613497802818148,
          0.9414707962483713,
          -0.22356717954305758,
          0.7740342983721199,
          -0.7241989040863319,
          0.02778003781964759,
          -0.024055724956834595,
          -0.915078920852879,
          0.5544534137007058,
          -0.05977358602472853,
          0.23458852778203726,
          -0.5512670496759174,
          -0.4314387696367131,
          0.48138568092212886,
          0.151312471088505,
          -1.2683697561726832,
          1.1766160488988537,
          -0.27455824083556385,
          0.07273934897587682,
          -0.8784205932002688,
          -1.6235056907620014,
          -0.644105336585791,
          -1.3059071560879678,
          1.1747908906102706,
          -0.520795580404017,
          1.5905914235182144,
          -1.0584157956032523,
          0.017940488390363326,
          0.21212164922397306,
          -0.7742147529291061,
          -0.07481568924787502,
          -0.7509498972280064,
          0.40873810406643823,
          -0.35782741822032943,
          1.3791574021604953,
          -0.4936108658569253,
          -0.1670321836666462,
          0.0721790925295737,
          0.7001017974476622,
          -0.7875091790993461,
          0.0403208723208704,
          0.3177404868415387,
          -0.056986594871039735,
          0.4528785263940196,
          0.6469206986380688,
          0.41429955942854774,
          0.12303138871638225,
          -0.4126393825177464,
          0.819920664835239,
          1.4600883911553522,
          0.010063642024292574,
          -0.9264281665049272,
          -2.4315763663695646,
          -0.21280943033324837,
          -1.3301028052349306,
          0.7023289550933015,
          -0.029671055859963696,
          0.23193888262846393,
          -0.07874371469382994,
          -1.6085773535868477
         ],
         "y": [
          -1.7613428979724588,
          -0.09620099849344611,
          -1.0905554749516704,
          2.028413152575853,
          0.5097144860421348,
          1.9936676211707947,
          1.0142506644633973,
          -0.5618289023209938,
          -0.40593562199118266,
          -1.3499737054571084,
          -0.5106714828156713,
          -0.6407829666278434,
          0.33372601270807,
          0.08363181122544312,
          1.5301434413624457,
          -0.8945041877588099,
          2.0783279038907225,
          -1.6943865920544647,
          -0.4621595926119647,
          -0.7571348170370275,
          1.3747665089714545,
          0.4985098936943716,
          0.08972003187459004,
          0.23342732028905913,
          0.2189969800399268,
          -0.0820069040087503,
          -0.6706333343074938,
          -1.275543117599897,
          -1.3699509360814053,
          0.3901952160800126,
          0.40515476073494494,
          0.8497911535020408,
          0.15108663732483765,
          1.2849528676590611,
          0.17502127520127353,
          -0.856472190237345,
          1.3755879423415716,
          -0.6203252186849335,
          0.2970832302677778,
          1.4228886617797616,
          -0.295302329657846,
          -0.40732886017309755,
          1.204717054703365,
          0.10595034653194314,
          -1.927542908557601,
          0.5340788211371374,
          -1.2595527258535075,
          -0.11744097365828426,
          -1.2322722675875935,
          0.21000255384490144,
          1.2316223605540324,
          0.6248158351987497,
          1.717265073311003,
          0.5085247036804371,
          1.1493774496114195,
          1.6357881500228615,
          0.6774690954323394,
          -0.254747629906569,
          0.7359939702818833,
          0.0831781421552935,
          0.13981334614546928,
          1.345513651578312,
          -0.44745217561787265,
          -0.2960953959886017,
          -2.302161247246569,
          -0.7188463621845694,
          -0.6990455748270236,
          -1.348662227162689,
          -0.5216899224336029,
          0.14048488250800598,
          0.1925196557013099,
          0.3260063565304941,
          0.14063928666482584,
          0.9388815352295453,
          -0.5127863210973753,
          1.1415664506931398,
          1.067019420763672,
          1.339232991142909,
          -0.8317479833178933,
          0.06714344889144137,
          0.40199971911834576,
          0.8336260811188723,
          0.6530201532241336,
          0.2790208938611128,
          0.9227703952463245,
          0.3807611966083535,
          2.14936755196243,
          0.7000220332676952,
          -0.20238099719791927,
          0.7578390029744853,
          -2.0759354128982563,
          0.4873792439363221,
          0.4452307214159721,
          1.2154920757915866,
          -1.042516814260215,
          -0.15670485695431474,
          1.9590815581255574,
          -0.19864062355667617,
          0.02011113860892017,
          -1.0559148650915064
         ]
        }
       ],
       "layout": {
        "legend": {
         "bgcolor": "#F5F6F9",
         "font": {
          "color": "#4D5663"
         }
        },
        "paper_bgcolor": "#F5F6F9",
        "plot_bgcolor": "#F5F6F9",
        "template": {
         "data": {
          "bar": [
           {
            "error_x": {
             "color": "#2a3f5f"
            },
            "error_y": {
             "color": "#2a3f5f"
            },
            "marker": {
             "line": {
              "color": "#E5ECF6",
              "width": 0.5
             }
            },
            "type": "bar"
           }
          ],
          "barpolar": [
           {
            "marker": {
             "line": {
              "color": "#E5ECF6",
              "width": 0.5
             }
            },
            "type": "barpolar"
           }
          ],
          "carpet": [
           {
            "aaxis": {
             "endlinecolor": "#2a3f5f",
             "gridcolor": "white",
             "linecolor": "white",
             "minorgridcolor": "white",
             "startlinecolor": "#2a3f5f"
            },
            "baxis": {
             "endlinecolor": "#2a3f5f",
             "gridcolor": "white",
             "linecolor": "white",
             "minorgridcolor": "white",
             "startlinecolor": "#2a3f5f"
            },
            "type": "carpet"
           }
          ],
          "choropleth": [
           {
            "colorbar": {
             "outlinewidth": 0,
             "ticks": ""
            },
            "type": "choropleth"
           }
          ],
          "contour": [
           {
            "colorbar": {
             "outlinewidth": 0,
             "ticks": ""
            },
            "colorscale": [
             [
              0,
              "#0d0887"
             ],
             [
              0.1111111111111111,
              "#46039f"
             ],
             [
              0.2222222222222222,
              "#7201a8"
             ],
             [
              0.3333333333333333,
              "#9c179e"
             ],
             [
              0.4444444444444444,
              "#bd3786"
             ],
             [
              0.5555555555555556,
              "#d8576b"
             ],
             [
              0.6666666666666666,
              "#ed7953"
             ],
             [
              0.7777777777777778,
              "#fb9f3a"
             ],
             [
              0.8888888888888888,
              "#fdca26"
             ],
             [
              1,
              "#f0f921"
             ]
            ],
            "type": "contour"
           }
          ],
          "contourcarpet": [
           {
            "colorbar": {
             "outlinewidth": 0,
             "ticks": ""
            },
            "type": "contourcarpet"
           }
          ],
          "heatmap": [
           {
            "colorbar": {
             "outlinewidth": 0,
             "ticks": ""
            },
            "colorscale": [
             [
              0,
              "#0d0887"
             ],
             [
              0.1111111111111111,
              "#46039f"
             ],
             [
              0.2222222222222222,
              "#7201a8"
             ],
             [
              0.3333333333333333,
              "#9c179e"
             ],
             [
              0.4444444444444444,
              "#bd3786"
             ],
             [
              0.5555555555555556,
              "#d8576b"
             ],
             [
              0.6666666666666666,
              "#ed7953"
             ],
             [
              0.7777777777777778,
              "#fb9f3a"
             ],
             [
              0.8888888888888888,
              "#fdca26"
             ],
             [
              1,
              "#f0f921"
             ]
            ],
            "type": "heatmap"
           }
          ],
          "heatmapgl": [
           {
            "colorbar": {
             "outlinewidth": 0,
             "ticks": ""
            },
            "colorscale": [
             [
              0,
              "#0d0887"
             ],
             [
              0.1111111111111111,
              "#46039f"
             ],
             [
              0.2222222222222222,
              "#7201a8"
             ],
             [
              0.3333333333333333,
              "#9c179e"
             ],
             [
              0.4444444444444444,
              "#bd3786"
             ],
             [
              0.5555555555555556,
              "#d8576b"
             ],
             [
              0.6666666666666666,
              "#ed7953"
             ],
             [
              0.7777777777777778,
              "#fb9f3a"
             ],
             [
              0.8888888888888888,
              "#fdca26"
             ],
             [
              1,
              "#f0f921"
             ]
            ],
            "type": "heatmapgl"
           }
          ],
          "histogram": [
           {
            "marker": {
             "colorbar": {
              "outlinewidth": 0,
              "ticks": ""
             }
            },
            "type": "histogram"
           }
          ],
          "histogram2d": [
           {
            "colorbar": {
             "outlinewidth": 0,
             "ticks": ""
            },
            "colorscale": [
             [
              0,
              "#0d0887"
             ],
             [
              0.1111111111111111,
              "#46039f"
             ],
             [
              0.2222222222222222,
              "#7201a8"
             ],
             [
              0.3333333333333333,
              "#9c179e"
             ],
             [
              0.4444444444444444,
              "#bd3786"
             ],
             [
              0.5555555555555556,
              "#d8576b"
             ],
             [
              0.6666666666666666,
              "#ed7953"
             ],
             [
              0.7777777777777778,
              "#fb9f3a"
             ],
             [
              0.8888888888888888,
              "#fdca26"
             ],
             [
              1,
              "#f0f921"
             ]
            ],
            "type": "histogram2d"
           }
          ],
          "histogram2dcontour": [
           {
            "colorbar": {
             "outlinewidth": 0,
             "ticks": ""
            },
            "colorscale": [
             [
              0,
              "#0d0887"
             ],
             [
              0.1111111111111111,
              "#46039f"
             ],
             [
              0.2222222222222222,
              "#7201a8"
             ],
             [
              0.3333333333333333,
              "#9c179e"
             ],
             [
              0.4444444444444444,
              "#bd3786"
             ],
             [
              0.5555555555555556,
              "#d8576b"
             ],
             [
              0.6666666666666666,
              "#ed7953"
             ],
             [
              0.7777777777777778,
              "#fb9f3a"
             ],
             [
              0.8888888888888888,
              "#fdca26"
             ],
             [
              1,
              "#f0f921"
             ]
            ],
            "type": "histogram2dcontour"
           }
          ],
          "mesh3d": [
           {
            "colorbar": {
             "outlinewidth": 0,
             "ticks": ""
            },
            "type": "mesh3d"
           }
          ],
          "parcoords": [
           {
            "line": {
             "colorbar": {
              "outlinewidth": 0,
              "ticks": ""
             }
            },
            "type": "parcoords"
           }
          ],
          "pie": [
           {
            "automargin": true,
            "type": "pie"
           }
          ],
          "scatter": [
           {
            "marker": {
             "colorbar": {
              "outlinewidth": 0,
              "ticks": ""
             }
            },
            "type": "scatter"
           }
          ],
          "scatter3d": [
           {
            "line": {
             "colorbar": {
              "outlinewidth": 0,
              "ticks": ""
             }
            },
            "marker": {
             "colorbar": {
              "outlinewidth": 0,
              "ticks": ""
             }
            },
            "type": "scatter3d"
           }
          ],
          "scattercarpet": [
           {
            "marker": {
             "colorbar": {
              "outlinewidth": 0,
              "ticks": ""
             }
            },
            "type": "scattercarpet"
           }
          ],
          "scattergeo": [
           {
            "marker": {
             "colorbar": {
              "outlinewidth": 0,
              "ticks": ""
             }
            },
            "type": "scattergeo"
           }
          ],
          "scattergl": [
           {
            "marker": {
             "colorbar": {
              "outlinewidth": 0,
              "ticks": ""
             }
            },
            "type": "scattergl"
           }
          ],
          "scattermapbox": [
           {
            "marker": {
             "colorbar": {
              "outlinewidth": 0,
              "ticks": ""
             }
            },
            "type": "scattermapbox"
           }
          ],
          "scatterpolar": [
           {
            "marker": {
             "colorbar": {
              "outlinewidth": 0,
              "ticks": ""
             }
            },
            "type": "scatterpolar"
           }
          ],
          "scatterpolargl": [
           {
            "marker": {
             "colorbar": {
              "outlinewidth": 0,
              "ticks": ""
             }
            },
            "type": "scatterpolargl"
           }
          ],
          "scatterternary": [
           {
            "marker": {
             "colorbar": {
              "outlinewidth": 0,
              "ticks": ""
             }
            },
            "type": "scatterternary"
           }
          ],
          "surface": [
           {
            "colorbar": {
             "outlinewidth": 0,
             "ticks": ""
            },
            "colorscale": [
             [
              0,
              "#0d0887"
             ],
             [
              0.1111111111111111,
              "#46039f"
             ],
             [
              0.2222222222222222,
              "#7201a8"
             ],
             [
              0.3333333333333333,
              "#9c179e"
             ],
             [
              0.4444444444444444,
              "#bd3786"
             ],
             [
              0.5555555555555556,
              "#d8576b"
             ],
             [
              0.6666666666666666,
              "#ed7953"
             ],
             [
              0.7777777777777778,
              "#fb9f3a"
             ],
             [
              0.8888888888888888,
              "#fdca26"
             ],
             [
              1,
              "#f0f921"
             ]
            ],
            "type": "surface"
           }
          ],
          "table": [
           {
            "cells": {
             "fill": {
              "color": "#EBF0F8"
             },
             "line": {
              "color": "white"
             }
            },
            "header": {
             "fill": {
              "color": "#C8D4E3"
             },
             "line": {
              "color": "white"
             }
            },
            "type": "table"
           }
          ]
         },
         "layout": {
          "annotationdefaults": {
           "arrowcolor": "#2a3f5f",
           "arrowhead": 0,
           "arrowwidth": 1
          },
          "coloraxis": {
           "colorbar": {
            "outlinewidth": 0,
            "ticks": ""
           }
          },
          "colorscale": {
           "diverging": [
            [
             0,
             "#8e0152"
            ],
            [
             0.1,
             "#c51b7d"
            ],
            [
             0.2,
             "#de77ae"
            ],
            [
             0.3,
             "#f1b6da"
            ],
            [
             0.4,
             "#fde0ef"
            ],
            [
             0.5,
             "#f7f7f7"
            ],
            [
             0.6,
             "#e6f5d0"
            ],
            [
             0.7,
             "#b8e186"
            ],
            [
             0.8,
             "#7fbc41"
            ],
            [
             0.9,
             "#4d9221"
            ],
            [
             1,
             "#276419"
            ]
           ],
           "sequential": [
            [
             0,
             "#0d0887"
            ],
            [
             0.1111111111111111,
             "#46039f"
            ],
            [
             0.2222222222222222,
             "#7201a8"
            ],
            [
             0.3333333333333333,
             "#9c179e"
            ],
            [
             0.4444444444444444,
             "#bd3786"
            ],
            [
             0.5555555555555556,
             "#d8576b"
            ],
            [
             0.6666666666666666,
             "#ed7953"
            ],
            [
             0.7777777777777778,
             "#fb9f3a"
            ],
            [
             0.8888888888888888,
             "#fdca26"
            ],
            [
             1,
             "#f0f921"
            ]
           ],
           "sequentialminus": [
            [
             0,
             "#0d0887"
            ],
            [
             0.1111111111111111,
             "#46039f"
            ],
            [
             0.2222222222222222,
             "#7201a8"
            ],
            [
             0.3333333333333333,
             "#9c179e"
            ],
            [
             0.4444444444444444,
             "#bd3786"
            ],
            [
             0.5555555555555556,
             "#d8576b"
            ],
            [
             0.6666666666666666,
             "#ed7953"
            ],
            [
             0.7777777777777778,
             "#fb9f3a"
            ],
            [
             0.8888888888888888,
             "#fdca26"
            ],
            [
             1,
             "#f0f921"
            ]
           ]
          },
          "colorway": [
           "#636efa",
           "#EF553B",
           "#00cc96",
           "#ab63fa",
           "#FFA15A",
           "#19d3f3",
           "#FF6692",
           "#B6E880",
           "#FF97FF",
           "#FECB52"
          ],
          "font": {
           "color": "#2a3f5f"
          },
          "geo": {
           "bgcolor": "white",
           "lakecolor": "white",
           "landcolor": "#E5ECF6",
           "showlakes": true,
           "showland": true,
           "subunitcolor": "white"
          },
          "hoverlabel": {
           "align": "left"
          },
          "hovermode": "closest",
          "mapbox": {
           "style": "light"
          },
          "paper_bgcolor": "white",
          "plot_bgcolor": "#E5ECF6",
          "polar": {
           "angularaxis": {
            "gridcolor": "white",
            "linecolor": "white",
            "ticks": ""
           },
           "bgcolor": "#E5ECF6",
           "radialaxis": {
            "gridcolor": "white",
            "linecolor": "white",
            "ticks": ""
           }
          },
          "scene": {
           "xaxis": {
            "backgroundcolor": "#E5ECF6",
            "gridcolor": "white",
            "gridwidth": 2,
            "linecolor": "white",
            "showbackground": true,
            "ticks": "",
            "zerolinecolor": "white"
           },
           "yaxis": {
            "backgroundcolor": "#E5ECF6",
            "gridcolor": "white",
            "gridwidth": 2,
            "linecolor": "white",
            "showbackground": true,
            "ticks": "",
            "zerolinecolor": "white"
           },
           "zaxis": {
            "backgroundcolor": "#E5ECF6",
            "gridcolor": "white",
            "gridwidth": 2,
            "linecolor": "white",
            "showbackground": true,
            "ticks": "",
            "zerolinecolor": "white"
           }
          },
          "shapedefaults": {
           "line": {
            "color": "#2a3f5f"
           }
          },
          "ternary": {
           "aaxis": {
            "gridcolor": "white",
            "linecolor": "white",
            "ticks": ""
           },
           "baxis": {
            "gridcolor": "white",
            "linecolor": "white",
            "ticks": ""
           },
           "bgcolor": "#E5ECF6",
           "caxis": {
            "gridcolor": "white",
            "linecolor": "white",
            "ticks": ""
           }
          },
          "title": {
           "x": 0.05
          },
          "xaxis": {
           "automargin": true,
           "gridcolor": "white",
           "linecolor": "white",
           "ticks": "",
           "title": {
            "standoff": 15
           },
           "zerolinecolor": "white",
           "zerolinewidth": 2
          },
          "yaxis": {
           "automargin": true,
           "gridcolor": "white",
           "linecolor": "white",
           "ticks": "",
           "title": {
            "standoff": 15
           },
           "zerolinecolor": "white",
           "zerolinewidth": 2
          }
         }
        },
        "title": {
         "font": {
          "color": "#4D5663"
         }
        },
        "xaxis": {
         "gridcolor": "#E1E5ED",
         "showgrid": true,
         "tickfont": {
          "color": "#4D5663"
         },
         "title": {
          "font": {
           "color": "#4D5663"
          },
          "text": ""
         },
         "zerolinecolor": "#E1E5ED"
        },
        "yaxis": {
         "gridcolor": "#E1E5ED",
         "showgrid": true,
         "tickfont": {
          "color": "#4D5663"
         },
         "title": {
          "font": {
           "color": "#4D5663"
          },
          "text": ""
         },
         "zerolinecolor": "#E1E5ED"
        }
       }
      },
      "text/html": [
       "<div>\n",
       "        \n",
       "        \n",
       "            <div id=\"626f8e81-770b-4ed4-b7b8-d1335bf4ebfa\" class=\"plotly-graph-div\" style=\"height:525px; width:100%;\"></div>\n",
       "            <script type=\"text/javascript\">\n",
       "                require([\"plotly\"], function(Plotly) {\n",
       "                    window.PLOTLYENV=window.PLOTLYENV || {};\n",
       "                    window.PLOTLYENV.BASE_URL='https://plot.ly';\n",
       "                    \n",
       "                if (document.getElementById(\"626f8e81-770b-4ed4-b7b8-d1335bf4ebfa\")) {\n",
       "                    Plotly.newPlot(\n",
       "                        '626f8e81-770b-4ed4-b7b8-d1335bf4ebfa',\n",
       "                        [{\"marker\": {\"color\": [\"rgb(255, 153, 51)\", \"rgb(55, 128, 191)\", \"rgb(50, 171, 96)\", \"rgb(128, 0, 128)\", \"rgb(219, 64, 82)\", \"rgb(0, 128, 128)\", \"rgb(255, 255, 51)\", \"rgb(128, 128, 0)\", \"rgb(251, 128, 114)\", \"rgb(128, 177, 211)\"], \"line\": {\"width\": 1.3}, \"size\": [78, 88, 74, 48, 58, 64, 48, 60, 100, 43, 46, 12, 82, 67, 54, 72, 73, 60, 49, 103, 81, 32, 37, 76, 52, 43, 83, 76, 54, 58, 53, 48, 95, 112, 63, 78, 74, 88, 35, 80, 57, 75, 61, 72, 87, 78, 39, 84, 89, 79, 67, 56, 78, 70, 79, 64, 55, 68, 50, 56, 53, 83, 65, 51, 72, 48, 85, 78, 45, 76, 36, 49, 60, 65, 54, 39, 82, 56, 46, 67, 51, 58, 70, 59, 54, 66, 68, 59, 55, 67, 79, 54, 59, 23, 34, 62, 90, 74, 73, 31], \"symbol\": \"circle\"}, \"mode\": \"markers\", \"text\": \"\", \"type\": \"scatter\", \"x\": [-0.4219085963273162, 1.6821026955762655, 0.4309402142051801, 0.18411306212801068, -0.9281908221713763, -0.30874922794372156, -0.6290038474767073, -0.710791310697247, 0.17241542605474575, -0.8396869257109238, 0.3806311459364493, -0.09381049474443047, 1.5374181314768314, -0.43435294316790796, 0.6461335117639597, -0.12372906160993319, 0.3022970579415042, 0.20797545067424617, -1.1304501651601098, 1.1710948609964165, 0.41306944623653125, 1.9082257379137284, -0.05557142962097008, -1.0221174747845423, 1.1355091384569034, 1.1672445486913277, 1.2764241838725863, 2.3566817803969013, -1.2547557150229542, -1.7325392979131544, -1.2920823588295134, 0.7580820471569764, -1.1858168738788655, -0.4841514473365244, 0.6509296343287128, -0.11155686020046292, 1.5045969153456915, -0.12204236350353027, -0.05537132415007508, -0.28027869353027607, 0.9613497802818148, 0.9414707962483713, -0.22356717954305758, 0.7740342983721199, -0.7241989040863319, 0.02778003781964759, -0.024055724956834595, -0.915078920852879, 0.5544534137007058, -0.05977358602472853, 0.23458852778203726, -0.5512670496759174, -0.4314387696367131, 0.48138568092212886, 0.151312471088505, -1.2683697561726832, 1.1766160488988537, -0.27455824083556385, 0.07273934897587682, -0.8784205932002688, -1.6235056907620014, -0.644105336585791, -1.3059071560879678, 1.1747908906102706, -0.520795580404017, 1.5905914235182144, -1.0584157956032523, 0.017940488390363326, 0.21212164922397306, -0.7742147529291061, -0.07481568924787502, -0.7509498972280064, 0.40873810406643823, -0.35782741822032943, 1.3791574021604953, -0.4936108658569253, -0.1670321836666462, 0.0721790925295737, 0.7001017974476622, -0.7875091790993461, 0.0403208723208704, 0.3177404868415387, -0.056986594871039735, 0.4528785263940196, 0.6469206986380688, 0.41429955942854774, 0.12303138871638225, -0.4126393825177464, 0.819920664835239, 1.4600883911553522, 0.010063642024292574, -0.9264281665049272, -2.4315763663695646, -0.21280943033324837, -1.3301028052349306, 0.7023289550933015, -0.029671055859963696, 0.23193888262846393, -0.07874371469382994, -1.6085773535868477], \"y\": [-1.7613428979724588, -0.09620099849344611, -1.0905554749516704, 2.028413152575853, 0.5097144860421348, 1.9936676211707947, 1.0142506644633973, -0.5618289023209938, -0.40593562199118266, -1.3499737054571084, -0.5106714828156713, -0.6407829666278434, 0.33372601270807, 0.08363181122544312, 1.5301434413624457, -0.8945041877588099, 2.0783279038907225, -1.6943865920544647, -0.4621595926119647, -0.7571348170370275, 1.3747665089714545, 0.4985098936943716, 0.08972003187459004, 0.23342732028905913, 0.2189969800399268, -0.0820069040087503, -0.6706333343074938, -1.275543117599897, -1.3699509360814053, 0.3901952160800126, 0.40515476073494494, 0.8497911535020408, 0.15108663732483765, 1.2849528676590611, 0.17502127520127353, -0.856472190237345, 1.3755879423415716, -0.6203252186849335, 0.2970832302677778, 1.4228886617797616, -0.295302329657846, -0.40732886017309755, 1.204717054703365, 0.10595034653194314, -1.927542908557601, 0.5340788211371374, -1.2595527258535075, -0.11744097365828426, -1.2322722675875935, 0.21000255384490144, 1.2316223605540324, 0.6248158351987497, 1.717265073311003, 0.5085247036804371, 1.1493774496114195, 1.6357881500228615, 0.6774690954323394, -0.254747629906569, 0.7359939702818833, 0.0831781421552935, 0.13981334614546928, 1.345513651578312, -0.44745217561787265, -0.2960953959886017, -2.302161247246569, -0.7188463621845694, -0.6990455748270236, -1.348662227162689, -0.5216899224336029, 0.14048488250800598, 0.1925196557013099, 0.3260063565304941, 0.14063928666482584, 0.9388815352295453, -0.5127863210973753, 1.1415664506931398, 1.067019420763672, 1.339232991142909, -0.8317479833178933, 0.06714344889144137, 0.40199971911834576, 0.8336260811188723, 0.6530201532241336, 0.2790208938611128, 0.9227703952463245, 0.3807611966083535, 2.14936755196243, 0.7000220332676952, -0.20238099719791927, 0.7578390029744853, -2.0759354128982563, 0.4873792439363221, 0.4452307214159721, 1.2154920757915866, -1.042516814260215, -0.15670485695431474, 1.9590815581255574, -0.19864062355667617, 0.02011113860892017, -1.0559148650915064]}],\n",
       "                        {\"legend\": {\"bgcolor\": \"#F5F6F9\", \"font\": {\"color\": \"#4D5663\"}}, \"paper_bgcolor\": \"#F5F6F9\", \"plot_bgcolor\": \"#F5F6F9\", \"template\": {\"data\": {\"bar\": [{\"error_x\": {\"color\": \"#2a3f5f\"}, \"error_y\": {\"color\": \"#2a3f5f\"}, \"marker\": {\"line\": {\"color\": \"#E5ECF6\", \"width\": 0.5}}, \"type\": \"bar\"}], \"barpolar\": [{\"marker\": {\"line\": {\"color\": \"#E5ECF6\", \"width\": 0.5}}, \"type\": \"barpolar\"}], \"carpet\": [{\"aaxis\": {\"endlinecolor\": \"#2a3f5f\", \"gridcolor\": \"white\", \"linecolor\": \"white\", \"minorgridcolor\": \"white\", \"startlinecolor\": \"#2a3f5f\"}, \"baxis\": {\"endlinecolor\": \"#2a3f5f\", \"gridcolor\": \"white\", \"linecolor\": \"white\", \"minorgridcolor\": \"white\", \"startlinecolor\": \"#2a3f5f\"}, \"type\": \"carpet\"}], \"choropleth\": [{\"colorbar\": {\"outlinewidth\": 0, \"ticks\": \"\"}, \"type\": \"choropleth\"}], \"contour\": [{\"colorbar\": {\"outlinewidth\": 0, \"ticks\": \"\"}, \"colorscale\": [[0.0, \"#0d0887\"], [0.1111111111111111, \"#46039f\"], [0.2222222222222222, \"#7201a8\"], [0.3333333333333333, \"#9c179e\"], [0.4444444444444444, \"#bd3786\"], [0.5555555555555556, \"#d8576b\"], [0.6666666666666666, \"#ed7953\"], [0.7777777777777778, \"#fb9f3a\"], [0.8888888888888888, \"#fdca26\"], [1.0, \"#f0f921\"]], \"type\": \"contour\"}], \"contourcarpet\": [{\"colorbar\": {\"outlinewidth\": 0, \"ticks\": \"\"}, \"type\": \"contourcarpet\"}], \"heatmap\": [{\"colorbar\": {\"outlinewidth\": 0, \"ticks\": \"\"}, \"colorscale\": [[0.0, \"#0d0887\"], [0.1111111111111111, \"#46039f\"], [0.2222222222222222, \"#7201a8\"], [0.3333333333333333, \"#9c179e\"], [0.4444444444444444, \"#bd3786\"], [0.5555555555555556, \"#d8576b\"], [0.6666666666666666, \"#ed7953\"], [0.7777777777777778, \"#fb9f3a\"], [0.8888888888888888, \"#fdca26\"], [1.0, \"#f0f921\"]], \"type\": \"heatmap\"}], \"heatmapgl\": [{\"colorbar\": {\"outlinewidth\": 0, \"ticks\": \"\"}, \"colorscale\": [[0.0, \"#0d0887\"], [0.1111111111111111, \"#46039f\"], [0.2222222222222222, \"#7201a8\"], [0.3333333333333333, \"#9c179e\"], [0.4444444444444444, \"#bd3786\"], [0.5555555555555556, \"#d8576b\"], [0.6666666666666666, \"#ed7953\"], [0.7777777777777778, \"#fb9f3a\"], [0.8888888888888888, \"#fdca26\"], [1.0, \"#f0f921\"]], \"type\": \"heatmapgl\"}], \"histogram\": [{\"marker\": {\"colorbar\": {\"outlinewidth\": 0, \"ticks\": \"\"}}, \"type\": \"histogram\"}], \"histogram2d\": [{\"colorbar\": {\"outlinewidth\": 0, \"ticks\": \"\"}, \"colorscale\": [[0.0, \"#0d0887\"], [0.1111111111111111, \"#46039f\"], [0.2222222222222222, \"#7201a8\"], [0.3333333333333333, \"#9c179e\"], [0.4444444444444444, \"#bd3786\"], [0.5555555555555556, \"#d8576b\"], [0.6666666666666666, \"#ed7953\"], [0.7777777777777778, \"#fb9f3a\"], [0.8888888888888888, \"#fdca26\"], [1.0, \"#f0f921\"]], \"type\": \"histogram2d\"}], \"histogram2dcontour\": [{\"colorbar\": {\"outlinewidth\": 0, \"ticks\": \"\"}, \"colorscale\": [[0.0, \"#0d0887\"], [0.1111111111111111, \"#46039f\"], [0.2222222222222222, \"#7201a8\"], [0.3333333333333333, \"#9c179e\"], [0.4444444444444444, \"#bd3786\"], [0.5555555555555556, \"#d8576b\"], [0.6666666666666666, \"#ed7953\"], [0.7777777777777778, \"#fb9f3a\"], [0.8888888888888888, \"#fdca26\"], [1.0, \"#f0f921\"]], \"type\": \"histogram2dcontour\"}], \"mesh3d\": [{\"colorbar\": {\"outlinewidth\": 0, \"ticks\": \"\"}, \"type\": \"mesh3d\"}], \"parcoords\": [{\"line\": {\"colorbar\": {\"outlinewidth\": 0, \"ticks\": \"\"}}, \"type\": \"parcoords\"}], \"pie\": [{\"automargin\": true, \"type\": \"pie\"}], \"scatter\": [{\"marker\": {\"colorbar\": {\"outlinewidth\": 0, \"ticks\": \"\"}}, \"type\": \"scatter\"}], \"scatter3d\": [{\"line\": {\"colorbar\": {\"outlinewidth\": 0, \"ticks\": \"\"}}, \"marker\": {\"colorbar\": {\"outlinewidth\": 0, \"ticks\": \"\"}}, \"type\": \"scatter3d\"}], \"scattercarpet\": [{\"marker\": {\"colorbar\": {\"outlinewidth\": 0, \"ticks\": \"\"}}, \"type\": \"scattercarpet\"}], \"scattergeo\": [{\"marker\": {\"colorbar\": {\"outlinewidth\": 0, \"ticks\": \"\"}}, \"type\": \"scattergeo\"}], \"scattergl\": [{\"marker\": {\"colorbar\": {\"outlinewidth\": 0, \"ticks\": \"\"}}, \"type\": \"scattergl\"}], \"scattermapbox\": [{\"marker\": {\"colorbar\": {\"outlinewidth\": 0, \"ticks\": \"\"}}, \"type\": \"scattermapbox\"}], \"scatterpolar\": [{\"marker\": {\"colorbar\": {\"outlinewidth\": 0, \"ticks\": \"\"}}, \"type\": \"scatterpolar\"}], \"scatterpolargl\": [{\"marker\": {\"colorbar\": {\"outlinewidth\": 0, \"ticks\": \"\"}}, \"type\": \"scatterpolargl\"}], \"scatterternary\": [{\"marker\": {\"colorbar\": {\"outlinewidth\": 0, \"ticks\": \"\"}}, \"type\": \"scatterternary\"}], \"surface\": [{\"colorbar\": {\"outlinewidth\": 0, \"ticks\": \"\"}, \"colorscale\": [[0.0, \"#0d0887\"], [0.1111111111111111, \"#46039f\"], [0.2222222222222222, \"#7201a8\"], [0.3333333333333333, \"#9c179e\"], [0.4444444444444444, \"#bd3786\"], [0.5555555555555556, \"#d8576b\"], [0.6666666666666666, \"#ed7953\"], [0.7777777777777778, \"#fb9f3a\"], [0.8888888888888888, \"#fdca26\"], [1.0, \"#f0f921\"]], \"type\": \"surface\"}], \"table\": [{\"cells\": {\"fill\": {\"color\": \"#EBF0F8\"}, \"line\": {\"color\": \"white\"}}, \"header\": {\"fill\": {\"color\": \"#C8D4E3\"}, \"line\": {\"color\": \"white\"}}, \"type\": \"table\"}]}, \"layout\": {\"annotationdefaults\": {\"arrowcolor\": \"#2a3f5f\", \"arrowhead\": 0, \"arrowwidth\": 1}, \"coloraxis\": {\"colorbar\": {\"outlinewidth\": 0, \"ticks\": \"\"}}, \"colorscale\": {\"diverging\": [[0, \"#8e0152\"], [0.1, \"#c51b7d\"], [0.2, \"#de77ae\"], [0.3, \"#f1b6da\"], [0.4, \"#fde0ef\"], [0.5, \"#f7f7f7\"], [0.6, \"#e6f5d0\"], [0.7, \"#b8e186\"], [0.8, \"#7fbc41\"], [0.9, \"#4d9221\"], [1, \"#276419\"]], \"sequential\": [[0.0, \"#0d0887\"], [0.1111111111111111, \"#46039f\"], [0.2222222222222222, \"#7201a8\"], [0.3333333333333333, \"#9c179e\"], [0.4444444444444444, \"#bd3786\"], [0.5555555555555556, \"#d8576b\"], [0.6666666666666666, \"#ed7953\"], [0.7777777777777778, \"#fb9f3a\"], [0.8888888888888888, \"#fdca26\"], [1.0, \"#f0f921\"]], \"sequentialminus\": [[0.0, \"#0d0887\"], [0.1111111111111111, \"#46039f\"], [0.2222222222222222, \"#7201a8\"], [0.3333333333333333, \"#9c179e\"], [0.4444444444444444, \"#bd3786\"], [0.5555555555555556, \"#d8576b\"], [0.6666666666666666, \"#ed7953\"], [0.7777777777777778, \"#fb9f3a\"], [0.8888888888888888, \"#fdca26\"], [1.0, \"#f0f921\"]]}, \"colorway\": [\"#636efa\", \"#EF553B\", \"#00cc96\", \"#ab63fa\", \"#FFA15A\", \"#19d3f3\", \"#FF6692\", \"#B6E880\", \"#FF97FF\", \"#FECB52\"], \"font\": {\"color\": \"#2a3f5f\"}, \"geo\": {\"bgcolor\": \"white\", \"lakecolor\": \"white\", \"landcolor\": \"#E5ECF6\", \"showlakes\": true, \"showland\": true, \"subunitcolor\": \"white\"}, \"hoverlabel\": {\"align\": \"left\"}, \"hovermode\": \"closest\", \"mapbox\": {\"style\": \"light\"}, \"paper_bgcolor\": \"white\", \"plot_bgcolor\": \"#E5ECF6\", \"polar\": {\"angularaxis\": {\"gridcolor\": \"white\", \"linecolor\": \"white\", \"ticks\": \"\"}, \"bgcolor\": \"#E5ECF6\", \"radialaxis\": {\"gridcolor\": \"white\", \"linecolor\": \"white\", \"ticks\": \"\"}}, \"scene\": {\"xaxis\": {\"backgroundcolor\": \"#E5ECF6\", \"gridcolor\": \"white\", \"gridwidth\": 2, \"linecolor\": \"white\", \"showbackground\": true, \"ticks\": \"\", \"zerolinecolor\": \"white\"}, \"yaxis\": {\"backgroundcolor\": \"#E5ECF6\", \"gridcolor\": \"white\", \"gridwidth\": 2, \"linecolor\": \"white\", \"showbackground\": true, \"ticks\": \"\", \"zerolinecolor\": \"white\"}, \"zaxis\": {\"backgroundcolor\": \"#E5ECF6\", \"gridcolor\": \"white\", \"gridwidth\": 2, \"linecolor\": \"white\", \"showbackground\": true, \"ticks\": \"\", \"zerolinecolor\": \"white\"}}, \"shapedefaults\": {\"line\": {\"color\": \"#2a3f5f\"}}, \"ternary\": {\"aaxis\": {\"gridcolor\": \"white\", \"linecolor\": \"white\", \"ticks\": \"\"}, \"baxis\": {\"gridcolor\": \"white\", \"linecolor\": \"white\", \"ticks\": \"\"}, \"bgcolor\": \"#E5ECF6\", \"caxis\": {\"gridcolor\": \"white\", \"linecolor\": \"white\", \"ticks\": \"\"}}, \"title\": {\"x\": 0.05}, \"xaxis\": {\"automargin\": true, \"gridcolor\": \"white\", \"linecolor\": \"white\", \"ticks\": \"\", \"title\": {\"standoff\": 15}, \"zerolinecolor\": \"white\", \"zerolinewidth\": 2}, \"yaxis\": {\"automargin\": true, \"gridcolor\": \"white\", \"linecolor\": \"white\", \"ticks\": \"\", \"title\": {\"standoff\": 15}, \"zerolinecolor\": \"white\", \"zerolinewidth\": 2}}}, \"title\": {\"font\": {\"color\": \"#4D5663\"}}, \"xaxis\": {\"gridcolor\": \"#E1E5ED\", \"showgrid\": true, \"tickfont\": {\"color\": \"#4D5663\"}, \"title\": {\"font\": {\"color\": \"#4D5663\"}, \"text\": \"\"}, \"zerolinecolor\": \"#E1E5ED\"}, \"yaxis\": {\"gridcolor\": \"#E1E5ED\", \"showgrid\": true, \"tickfont\": {\"color\": \"#4D5663\"}, \"title\": {\"font\": {\"color\": \"#4D5663\"}, \"text\": \"\"}, \"zerolinecolor\": \"#E1E5ED\"}},\n",
       "                        {\"showLink\": true, \"linkText\": \"Export to plot.ly\", \"plotlyServerURL\": \"https://plot.ly\", \"responsive\": true}\n",
       "                    ).then(function(){\n",
       "                            \n",
       "var gd = document.getElementById('626f8e81-770b-4ed4-b7b8-d1335bf4ebfa');\n",
       "var x = new MutationObserver(function (mutations, observer) {{\n",
       "        var display = window.getComputedStyle(gd).display;\n",
       "        if (!display || display === 'none') {{\n",
       "            console.log([gd, 'removed!']);\n",
       "            Plotly.purge(gd);\n",
       "            observer.disconnect();\n",
       "        }}\n",
       "}});\n",
       "\n",
       "// Listen for the removal of the full notebook cells\n",
       "var notebookContainer = gd.closest('#notebook-container');\n",
       "if (notebookContainer) {{\n",
       "    x.observe(notebookContainer, {childList: true});\n",
       "}}\n",
       "\n",
       "// Listen for the clearing of the current output cell\n",
       "var outputEl = gd.closest('.output');\n",
       "if (outputEl) {{\n",
       "    x.observe(outputEl, {childList: true});\n",
       "}}\n",
       "\n",
       "                        })\n",
       "                };\n",
       "                });\n",
       "            </script>\n",
       "        </div>"
      ]
     },
     "metadata": {},
     "output_type": "display_data"
    }
   ],
   "source": [
    "df.iplot(kind='bubble',x='A',y='B',size='C')"
   ]
  },
  {
   "cell_type": "markdown",
   "metadata": {},
   "source": [
    "## scatter_matrix()\n",
    "\n",
    "Similar to sns.pairplot()"
   ]
  },
  {
   "cell_type": "code",
   "execution_count": 18,
   "metadata": {},
   "outputs": [
    {
     "data": {
      "application/vnd.plotly.v1+json": {
       "config": {
        "linkText": "Export to plot.ly",
        "plotlyServerURL": "https://plot.ly",
        "showLink": true
       },
       "data": [
        {
         "histfunc": "count",
         "histnorm": "",
         "marker": {
          "color": "rgba(255, 153, 51, 1.0)",
          "line": {
           "color": "#4D5663",
           "width": 1.3
          }
         },
         "name": "A",
         "nbinsx": 10,
         "opacity": 0.8,
         "orientation": "v",
         "type": "histogram",
         "x": [
          -0.4219085963273162,
          1.6821026955762655,
          0.4309402142051801,
          0.18411306212801068,
          -0.9281908221713763,
          -0.30874922794372156,
          -0.6290038474767073,
          -0.710791310697247,
          0.17241542605474575,
          -0.8396869257109238,
          0.3806311459364493,
          -0.09381049474443047,
          1.5374181314768314,
          -0.43435294316790796,
          0.6461335117639597,
          -0.12372906160993319,
          0.3022970579415042,
          0.20797545067424617,
          -1.1304501651601098,
          1.1710948609964165,
          0.41306944623653125,
          1.9082257379137284,
          -0.05557142962097008,
          -1.0221174747845423,
          1.1355091384569034,
          1.1672445486913277,
          1.2764241838725863,
          2.3566817803969013,
          -1.2547557150229542,
          -1.7325392979131544,
          -1.2920823588295134,
          0.7580820471569764,
          -1.1858168738788655,
          -0.4841514473365244,
          0.6509296343287128,
          -0.11155686020046292,
          1.5045969153456915,
          -0.12204236350353027,
          -0.05537132415007508,
          -0.28027869353027607,
          0.9613497802818148,
          0.9414707962483713,
          -0.22356717954305758,
          0.7740342983721199,
          -0.7241989040863319,
          0.02778003781964759,
          -0.024055724956834595,
          -0.915078920852879,
          0.5544534137007058,
          -0.05977358602472853,
          0.23458852778203726,
          -0.5512670496759174,
          -0.4314387696367131,
          0.48138568092212886,
          0.151312471088505,
          -1.2683697561726832,
          1.1766160488988537,
          -0.27455824083556385,
          0.07273934897587682,
          -0.8784205932002688,
          -1.6235056907620014,
          -0.644105336585791,
          -1.3059071560879678,
          1.1747908906102706,
          -0.520795580404017,
          1.5905914235182144,
          -1.0584157956032523,
          0.017940488390363326,
          0.21212164922397306,
          -0.7742147529291061,
          -0.07481568924787502,
          -0.7509498972280064,
          0.40873810406643823,
          -0.35782741822032943,
          1.3791574021604953,
          -0.4936108658569253,
          -0.1670321836666462,
          0.0721790925295737,
          0.7001017974476622,
          -0.7875091790993461,
          0.0403208723208704,
          0.3177404868415387,
          -0.056986594871039735,
          0.4528785263940196,
          0.6469206986380688,
          0.41429955942854774,
          0.12303138871638225,
          -0.4126393825177464,
          0.819920664835239,
          1.4600883911553522,
          0.010063642024292574,
          -0.9264281665049272,
          -2.4315763663695646,
          -0.21280943033324837,
          -1.3301028052349306,
          0.7023289550933015,
          -0.029671055859963696,
          0.23193888262846393,
          -0.07874371469382994,
          -1.6085773535868477
         ],
         "xaxis": "x",
         "yaxis": "y"
        },
        {
         "line": {
          "color": "rgba(128, 128, 128, 1.0)",
          "dash": "solid",
          "shape": "linear",
          "width": 1.3
         },
         "marker": {
          "size": 2,
          "symbol": "circle"
         },
         "mode": "markers",
         "name": "A",
         "text": "",
         "type": "scatter",
         "x": [
          -1.7613428979724588,
          -0.09620099849344611,
          -1.0905554749516704,
          2.028413152575853,
          0.5097144860421348,
          1.9936676211707947,
          1.0142506644633973,
          -0.5618289023209938,
          -0.40593562199118266,
          -1.3499737054571084,
          -0.5106714828156713,
          -0.6407829666278434,
          0.33372601270807,
          0.08363181122544312,
          1.5301434413624457,
          -0.8945041877588099,
          2.0783279038907225,
          -1.6943865920544647,
          -0.4621595926119647,
          -0.7571348170370275,
          1.3747665089714545,
          0.4985098936943716,
          0.08972003187459004,
          0.23342732028905913,
          0.2189969800399268,
          -0.0820069040087503,
          -0.6706333343074938,
          -1.275543117599897,
          -1.3699509360814053,
          0.3901952160800126,
          0.40515476073494494,
          0.8497911535020408,
          0.15108663732483765,
          1.2849528676590611,
          0.17502127520127353,
          -0.856472190237345,
          1.3755879423415716,
          -0.6203252186849335,
          0.2970832302677778,
          1.4228886617797616,
          -0.295302329657846,
          -0.40732886017309755,
          1.204717054703365,
          0.10595034653194314,
          -1.927542908557601,
          0.5340788211371374,
          -1.2595527258535075,
          -0.11744097365828426,
          -1.2322722675875935,
          0.21000255384490144,
          1.2316223605540324,
          0.6248158351987497,
          1.717265073311003,
          0.5085247036804371,
          1.1493774496114195,
          1.6357881500228615,
          0.6774690954323394,
          -0.254747629906569,
          0.7359939702818833,
          0.0831781421552935,
          0.13981334614546928,
          1.345513651578312,
          -0.44745217561787265,
          -0.2960953959886017,
          -2.302161247246569,
          -0.7188463621845694,
          -0.6990455748270236,
          -1.348662227162689,
          -0.5216899224336029,
          0.14048488250800598,
          0.1925196557013099,
          0.3260063565304941,
          0.14063928666482584,
          0.9388815352295453,
          -0.5127863210973753,
          1.1415664506931398,
          1.067019420763672,
          1.339232991142909,
          -0.8317479833178933,
          0.06714344889144137,
          0.40199971911834576,
          0.8336260811188723,
          0.6530201532241336,
          0.2790208938611128,
          0.9227703952463245,
          0.3807611966083535,
          2.14936755196243,
          0.7000220332676952,
          -0.20238099719791927,
          0.7578390029744853,
          -2.0759354128982563,
          0.4873792439363221,
          0.4452307214159721,
          1.2154920757915866,
          -1.042516814260215,
          -0.15670485695431474,
          1.9590815581255574,
          -0.19864062355667617,
          0.02011113860892017,
          -1.0559148650915064
         ],
         "xaxis": "x2",
         "y": [
          -0.4219085963273162,
          1.6821026955762655,
          0.4309402142051801,
          0.18411306212801068,
          -0.9281908221713763,
          -0.30874922794372156,
          -0.6290038474767073,
          -0.710791310697247,
          0.17241542605474575,
          -0.8396869257109238,
          0.3806311459364493,
          -0.09381049474443047,
          1.5374181314768314,
          -0.43435294316790796,
          0.6461335117639597,
          -0.12372906160993319,
          0.3022970579415042,
          0.20797545067424617,
          -1.1304501651601098,
          1.1710948609964165,
          0.41306944623653125,
          1.9082257379137284,
          -0.05557142962097008,
          -1.0221174747845423,
          1.1355091384569034,
          1.1672445486913277,
          1.2764241838725863,
          2.3566817803969013,
          -1.2547557150229542,
          -1.7325392979131544,
          -1.2920823588295134,
          0.7580820471569764,
          -1.1858168738788655,
          -0.4841514473365244,
          0.6509296343287128,
          -0.11155686020046292,
          1.5045969153456915,
          -0.12204236350353027,
          -0.05537132415007508,
          -0.28027869353027607,
          0.9613497802818148,
          0.9414707962483713,
          -0.22356717954305758,
          0.7740342983721199,
          -0.7241989040863319,
          0.02778003781964759,
          -0.024055724956834595,
          -0.915078920852879,
          0.5544534137007058,
          -0.05977358602472853,
          0.23458852778203726,
          -0.5512670496759174,
          -0.4314387696367131,
          0.48138568092212886,
          0.151312471088505,
          -1.2683697561726832,
          1.1766160488988537,
          -0.27455824083556385,
          0.07273934897587682,
          -0.8784205932002688,
          -1.6235056907620014,
          -0.644105336585791,
          -1.3059071560879678,
          1.1747908906102706,
          -0.520795580404017,
          1.5905914235182144,
          -1.0584157956032523,
          0.017940488390363326,
          0.21212164922397306,
          -0.7742147529291061,
          -0.07481568924787502,
          -0.7509498972280064,
          0.40873810406643823,
          -0.35782741822032943,
          1.3791574021604953,
          -0.4936108658569253,
          -0.1670321836666462,
          0.0721790925295737,
          0.7001017974476622,
          -0.7875091790993461,
          0.0403208723208704,
          0.3177404868415387,
          -0.056986594871039735,
          0.4528785263940196,
          0.6469206986380688,
          0.41429955942854774,
          0.12303138871638225,
          -0.4126393825177464,
          0.819920664835239,
          1.4600883911553522,
          0.010063642024292574,
          -0.9264281665049272,
          -2.4315763663695646,
          -0.21280943033324837,
          -1.3301028052349306,
          0.7023289550933015,
          -0.029671055859963696,
          0.23193888262846393,
          -0.07874371469382994,
          -1.6085773535868477
         ],
         "yaxis": "y2"
        },
        {
         "line": {
          "color": "rgba(128, 128, 128, 1.0)",
          "dash": "solid",
          "shape": "linear",
          "width": 1.3
         },
         "marker": {
          "size": 2,
          "symbol": "circle"
         },
         "mode": "markers",
         "name": "A",
         "text": "",
         "type": "scatter",
         "x": [
          0.877340393530819,
          1.435622023945821,
          0.6360382961982783,
          -0.8088787903316101,
          -0.23172892858673558,
          0.11440303092632358,
          -0.7927561998310112,
          -0.12905611927866506,
          2.1179684728203942,
          -1.0781523152152213,
          -0.9448327547636428,
          -2.8838293586283736,
          1.13169762588118,
          0.24409913944939385,
          -0.49193108996677837,
          0.5332531930012352,
          0.5988916632324476,
          -0.12842727629620793,
          -0.7708120236887703,
          2.3218831985942496,
          1.0360026320065483,
          -1.7206587469402068,
          -1.432465499121444,
          0.7547426140712723,
          -0.5726872175713135,
          -1.1124145198807087,
          1.1461185920381625,
          0.7857040419874747,
          -0.45096021916879686,
          -0.2584793924867701,
          -0.5390362541606566,
          -0.7954909537643288,
          1.8440655954146077,
          2.7848809280259808,
          0.015323016684481236,
          0.8721993692018307,
          0.6549191045183504,
          1.4323236975521476,
          -1.559356839149063,
          1.0050338702289945,
          -0.3182611294674199,
          0.6983398760687588,
          -0.050164643023584324,
          0.5572724504845437,
          1.3779937701321803,
          0.8994545402339059,
          -1.3120821232157294,
          1.2201245228426822,
          1.5282608495496202,
          0.9254820080966043,
          0.2739692212998874,
          -0.38139705730540574,
          0.881406193773732,
          0.44911938938302937,
          0.9317109610108755,
          0.09682625216657019,
          -0.40264764858525165,
          0.32373518071525215,
          -0.7023251540892774,
          -0.35476280626320067,
          -0.5134760136980314,
          1.1907573479013975,
          0.15360540707196507,
          -0.6167331871742867,
          0.5369462753063045,
          -0.8049281985374355,
          1.2633094731897685,
          0.8968658891336178,
          -1.0084989424685016,
          0.7910528027371707,
          -1.489634982982338,
          -0.7416029166105795,
          -0.11134178161371881,
          0.13057873895587038,
          -0.4648124601976657,
          -1.3197863299241945,
          1.0917038166888007,
          -0.3841915803835233,
          -0.9174827984197901,
          0.27029193444627914,
          -0.6463934410803012,
          -0.260881572694911,
          0.42920993961426906,
          -0.17557858262331538,
          -0.4875258216419134,
          0.22071496360543055,
          0.33080009791824827,
          -0.19679212543359229,
          -0.4054379556408084,
          0.2702413472992334,
          0.9540101486446227,
          -0.47261522865288474,
          -0.20876764443768958,
          -2.214358976857598,
          -1.6146362713179612,
          -0.04359785476916666,
          1.5532453764998175,
          0.6529555605252939,
          0.6003118387090443,
          -1.7541757715500692
         ],
         "xaxis": "x3",
         "y": [
          -0.4219085963273162,
          1.6821026955762655,
          0.4309402142051801,
          0.18411306212801068,
          -0.9281908221713763,
          -0.30874922794372156,
          -0.6290038474767073,
          -0.710791310697247,
          0.17241542605474575,
          -0.8396869257109238,
          0.3806311459364493,
          -0.09381049474443047,
          1.5374181314768314,
          -0.43435294316790796,
          0.6461335117639597,
          -0.12372906160993319,
          0.3022970579415042,
          0.20797545067424617,
          -1.1304501651601098,
          1.1710948609964165,
          0.41306944623653125,
          1.9082257379137284,
          -0.05557142962097008,
          -1.0221174747845423,
          1.1355091384569034,
          1.1672445486913277,
          1.2764241838725863,
          2.3566817803969013,
          -1.2547557150229542,
          -1.7325392979131544,
          -1.2920823588295134,
          0.7580820471569764,
          -1.1858168738788655,
          -0.4841514473365244,
          0.6509296343287128,
          -0.11155686020046292,
          1.5045969153456915,
          -0.12204236350353027,
          -0.05537132415007508,
          -0.28027869353027607,
          0.9613497802818148,
          0.9414707962483713,
          -0.22356717954305758,
          0.7740342983721199,
          -0.7241989040863319,
          0.02778003781964759,
          -0.024055724956834595,
          -0.915078920852879,
          0.5544534137007058,
          -0.05977358602472853,
          0.23458852778203726,
          -0.5512670496759174,
          -0.4314387696367131,
          0.48138568092212886,
          0.151312471088505,
          -1.2683697561726832,
          1.1766160488988537,
          -0.27455824083556385,
          0.07273934897587682,
          -0.8784205932002688,
          -1.6235056907620014,
          -0.644105336585791,
          -1.3059071560879678,
          1.1747908906102706,
          -0.520795580404017,
          1.5905914235182144,
          -1.0584157956032523,
          0.017940488390363326,
          0.21212164922397306,
          -0.7742147529291061,
          -0.07481568924787502,
          -0.7509498972280064,
          0.40873810406643823,
          -0.35782741822032943,
          1.3791574021604953,
          -0.4936108658569253,
          -0.1670321836666462,
          0.0721790925295737,
          0.7001017974476622,
          -0.7875091790993461,
          0.0403208723208704,
          0.3177404868415387,
          -0.056986594871039735,
          0.4528785263940196,
          0.6469206986380688,
          0.41429955942854774,
          0.12303138871638225,
          -0.4126393825177464,
          0.819920664835239,
          1.4600883911553522,
          0.010063642024292574,
          -0.9264281665049272,
          -2.4315763663695646,
          -0.21280943033324837,
          -1.3301028052349306,
          0.7023289550933015,
          -0.029671055859963696,
          0.23193888262846393,
          -0.07874371469382994,
          -1.6085773535868477
         ],
         "yaxis": "y3"
        },
        {
         "line": {
          "color": "rgba(128, 128, 128, 1.0)",
          "dash": "solid",
          "shape": "linear",
          "width": 1.3
         },
         "marker": {
          "size": 2,
          "symbol": "circle"
         },
         "mode": "markers",
         "name": "A",
         "text": "",
         "type": "scatter",
         "x": [
          0.4822939158128638,
          -0.6297265851787359,
          -0.12899300222917545,
          0.3595493025853616,
          -1.7059016820097428,
          0.40059307146558587,
          -1.4068073778764492,
          0.3834016972127393,
          -1.7598921740467124,
          -0.21421655541625736,
          -0.29457129984091374,
          -0.13652826273418922,
          -0.5181207235272481,
          -0.7241122704391437,
          0.2586898855953168,
          -0.10381642777404514,
          1.3367737240762505,
          -0.38658476941650227,
          2.4742790276449216,
          1.14875129590688,
          1.3912503123871391,
          -0.0033197243261529224,
          -1.19082248731639,
          0.2751458118525651,
          -1.6599775727977177,
          -1.274945697761092,
          0.37182217286973646,
          -0.5268445225797118,
          0.9050440646744027,
          -0.8218301268987264,
          -1.0020772704577243,
          0.9747758938851351,
          1.0946543971512066,
          -0.3738901911318837,
          -0.9775912672835907,
          -0.8190014038800748,
          -1.2064774069820927,
          -1.1107098910115145,
          -1.8793635677722884,
          0.4654732944965561,
          0.31753805393940443,
          -0.6672297504225395,
          -0.3614888690338335,
          0.3050856039928385,
          1.6829137678890485,
          -0.2280276602188539,
          0.7722805428111595,
          0.27570026918406426,
          0.9288329969108214,
          0.580435776905149,
          -0.7624796629467064,
          0.2888797553718462,
          0.30513653416702996,
          0.2679749729653962,
          -1.008267566870648,
          -0.5266778672818849,
          0.3696294360889518,
          1.373659505437327,
          0.6739704691011311,
          -0.952446421262601,
          0.17464338089142128,
          -1.4865820164968724,
          -0.7944212484338272,
          0.9240311814338681,
          -0.5103584898066241,
          0.23983196803879125,
          0.4063788167107547,
          -0.04144377909100635,
          0.3825459853097249,
          2.1126534475846577,
          0.2055463026834519,
          1.373234223920849,
          0.8914618734727747,
          0.06290545004429736,
          1.178751499510046,
          -1.1754047331967676,
          -0.3006344323249474,
          1.845624830236454,
          -2.055143244121072,
          1.0712616745058912,
          1.0903896275646217,
          0.932098686751795,
          0.3917946096289204,
          0.8921392179793287,
          -2.083690317065272,
          -0.6018113851704786,
          -0.7457577097664069,
          -0.778441406944475,
          -0.9487579891381042,
          0.4176205318307711,
          -1.94518375485339,
          0.1613901197065824,
          1.7713198008930309,
          0.8187354155568696,
          -1.624124334479861,
          -0.47487195498105755,
          -0.5052526344587429,
          0.6734127042285504,
          0.6884268938202475,
          -0.2626954277066396
         ],
         "xaxis": "x4",
         "y": [
          -0.4219085963273162,
          1.6821026955762655,
          0.4309402142051801,
          0.18411306212801068,
          -0.9281908221713763,
          -0.30874922794372156,
          -0.6290038474767073,
          -0.710791310697247,
          0.17241542605474575,
          -0.8396869257109238,
          0.3806311459364493,
          -0.09381049474443047,
          1.5374181314768314,
          -0.43435294316790796,
          0.6461335117639597,
          -0.12372906160993319,
          0.3022970579415042,
          0.20797545067424617,
          -1.1304501651601098,
          1.1710948609964165,
          0.41306944623653125,
          1.9082257379137284,
          -0.05557142962097008,
          -1.0221174747845423,
          1.1355091384569034,
          1.1672445486913277,
          1.2764241838725863,
          2.3566817803969013,
          -1.2547557150229542,
          -1.7325392979131544,
          -1.2920823588295134,
          0.7580820471569764,
          -1.1858168738788655,
          -0.4841514473365244,
          0.6509296343287128,
          -0.11155686020046292,
          1.5045969153456915,
          -0.12204236350353027,
          -0.05537132415007508,
          -0.28027869353027607,
          0.9613497802818148,
          0.9414707962483713,
          -0.22356717954305758,
          0.7740342983721199,
          -0.7241989040863319,
          0.02778003781964759,
          -0.024055724956834595,
          -0.915078920852879,
          0.5544534137007058,
          -0.05977358602472853,
          0.23458852778203726,
          -0.5512670496759174,
          -0.4314387696367131,
          0.48138568092212886,
          0.151312471088505,
          -1.2683697561726832,
          1.1766160488988537,
          -0.27455824083556385,
          0.07273934897587682,
          -0.8784205932002688,
          -1.6235056907620014,
          -0.644105336585791,
          -1.3059071560879678,
          1.1747908906102706,
          -0.520795580404017,
          1.5905914235182144,
          -1.0584157956032523,
          0.017940488390363326,
          0.21212164922397306,
          -0.7742147529291061,
          -0.07481568924787502,
          -0.7509498972280064,
          0.40873810406643823,
          -0.35782741822032943,
          1.3791574021604953,
          -0.4936108658569253,
          -0.1670321836666462,
          0.0721790925295737,
          0.7001017974476622,
          -0.7875091790993461,
          0.0403208723208704,
          0.3177404868415387,
          -0.056986594871039735,
          0.4528785263940196,
          0.6469206986380688,
          0.41429955942854774,
          0.12303138871638225,
          -0.4126393825177464,
          0.819920664835239,
          1.4600883911553522,
          0.010063642024292574,
          -0.9264281665049272,
          -2.4315763663695646,
          -0.21280943033324837,
          -1.3301028052349306,
          0.7023289550933015,
          -0.029671055859963696,
          0.23193888262846393,
          -0.07874371469382994,
          -1.6085773535868477
         ],
         "yaxis": "y4"
        },
        {
         "line": {
          "color": "rgba(128, 128, 128, 1.0)",
          "dash": "solid",
          "shape": "linear",
          "width": 1.3
         },
         "marker": {
          "size": 2,
          "symbol": "circle"
         },
         "mode": "markers",
         "name": "B",
         "text": "",
         "type": "scatter",
         "x": [
          -0.4219085963273162,
          1.6821026955762655,
          0.4309402142051801,
          0.18411306212801068,
          -0.9281908221713763,
          -0.30874922794372156,
          -0.6290038474767073,
          -0.710791310697247,
          0.17241542605474575,
          -0.8396869257109238,
          0.3806311459364493,
          -0.09381049474443047,
          1.5374181314768314,
          -0.43435294316790796,
          0.6461335117639597,
          -0.12372906160993319,
          0.3022970579415042,
          0.20797545067424617,
          -1.1304501651601098,
          1.1710948609964165,
          0.41306944623653125,
          1.9082257379137284,
          -0.05557142962097008,
          -1.0221174747845423,
          1.1355091384569034,
          1.1672445486913277,
          1.2764241838725863,
          2.3566817803969013,
          -1.2547557150229542,
          -1.7325392979131544,
          -1.2920823588295134,
          0.7580820471569764,
          -1.1858168738788655,
          -0.4841514473365244,
          0.6509296343287128,
          -0.11155686020046292,
          1.5045969153456915,
          -0.12204236350353027,
          -0.05537132415007508,
          -0.28027869353027607,
          0.9613497802818148,
          0.9414707962483713,
          -0.22356717954305758,
          0.7740342983721199,
          -0.7241989040863319,
          0.02778003781964759,
          -0.024055724956834595,
          -0.915078920852879,
          0.5544534137007058,
          -0.05977358602472853,
          0.23458852778203726,
          -0.5512670496759174,
          -0.4314387696367131,
          0.48138568092212886,
          0.151312471088505,
          -1.2683697561726832,
          1.1766160488988537,
          -0.27455824083556385,
          0.07273934897587682,
          -0.8784205932002688,
          -1.6235056907620014,
          -0.644105336585791,
          -1.3059071560879678,
          1.1747908906102706,
          -0.520795580404017,
          1.5905914235182144,
          -1.0584157956032523,
          0.017940488390363326,
          0.21212164922397306,
          -0.7742147529291061,
          -0.07481568924787502,
          -0.7509498972280064,
          0.40873810406643823,
          -0.35782741822032943,
          1.3791574021604953,
          -0.4936108658569253,
          -0.1670321836666462,
          0.0721790925295737,
          0.7001017974476622,
          -0.7875091790993461,
          0.0403208723208704,
          0.3177404868415387,
          -0.056986594871039735,
          0.4528785263940196,
          0.6469206986380688,
          0.41429955942854774,
          0.12303138871638225,
          -0.4126393825177464,
          0.819920664835239,
          1.4600883911553522,
          0.010063642024292574,
          -0.9264281665049272,
          -2.4315763663695646,
          -0.21280943033324837,
          -1.3301028052349306,
          0.7023289550933015,
          -0.029671055859963696,
          0.23193888262846393,
          -0.07874371469382994,
          -1.6085773535868477
         ],
         "xaxis": "x5",
         "y": [
          -1.7613428979724588,
          -0.09620099849344611,
          -1.0905554749516704,
          2.028413152575853,
          0.5097144860421348,
          1.9936676211707947,
          1.0142506644633973,
          -0.5618289023209938,
          -0.40593562199118266,
          -1.3499737054571084,
          -0.5106714828156713,
          -0.6407829666278434,
          0.33372601270807,
          0.08363181122544312,
          1.5301434413624457,
          -0.8945041877588099,
          2.0783279038907225,
          -1.6943865920544647,
          -0.4621595926119647,
          -0.7571348170370275,
          1.3747665089714545,
          0.4985098936943716,
          0.08972003187459004,
          0.23342732028905913,
          0.2189969800399268,
          -0.0820069040087503,
          -0.6706333343074938,
          -1.275543117599897,
          -1.3699509360814053,
          0.3901952160800126,
          0.40515476073494494,
          0.8497911535020408,
          0.15108663732483765,
          1.2849528676590611,
          0.17502127520127353,
          -0.856472190237345,
          1.3755879423415716,
          -0.6203252186849335,
          0.2970832302677778,
          1.4228886617797616,
          -0.295302329657846,
          -0.40732886017309755,
          1.204717054703365,
          0.10595034653194314,
          -1.927542908557601,
          0.5340788211371374,
          -1.2595527258535075,
          -0.11744097365828426,
          -1.2322722675875935,
          0.21000255384490144,
          1.2316223605540324,
          0.6248158351987497,
          1.717265073311003,
          0.5085247036804371,
          1.1493774496114195,
          1.6357881500228615,
          0.6774690954323394,
          -0.254747629906569,
          0.7359939702818833,
          0.0831781421552935,
          0.13981334614546928,
          1.345513651578312,
          -0.44745217561787265,
          -0.2960953959886017,
          -2.302161247246569,
          -0.7188463621845694,
          -0.6990455748270236,
          -1.348662227162689,
          -0.5216899224336029,
          0.14048488250800598,
          0.1925196557013099,
          0.3260063565304941,
          0.14063928666482584,
          0.9388815352295453,
          -0.5127863210973753,
          1.1415664506931398,
          1.067019420763672,
          1.339232991142909,
          -0.8317479833178933,
          0.06714344889144137,
          0.40199971911834576,
          0.8336260811188723,
          0.6530201532241336,
          0.2790208938611128,
          0.9227703952463245,
          0.3807611966083535,
          2.14936755196243,
          0.7000220332676952,
          -0.20238099719791927,
          0.7578390029744853,
          -2.0759354128982563,
          0.4873792439363221,
          0.4452307214159721,
          1.2154920757915866,
          -1.042516814260215,
          -0.15670485695431474,
          1.9590815581255574,
          -0.19864062355667617,
          0.02011113860892017,
          -1.0559148650915064
         ],
         "yaxis": "y5"
        },
        {
         "histfunc": "count",
         "histnorm": "",
         "marker": {
          "color": "rgba(55, 128, 191, 1.0)",
          "line": {
           "color": "#4D5663",
           "width": 1.3
          }
         },
         "name": "B",
         "nbinsx": 10,
         "opacity": 0.8,
         "orientation": "v",
         "type": "histogram",
         "x": [
          -1.7613428979724588,
          -0.09620099849344611,
          -1.0905554749516704,
          2.028413152575853,
          0.5097144860421348,
          1.9936676211707947,
          1.0142506644633973,
          -0.5618289023209938,
          -0.40593562199118266,
          -1.3499737054571084,
          -0.5106714828156713,
          -0.6407829666278434,
          0.33372601270807,
          0.08363181122544312,
          1.5301434413624457,
          -0.8945041877588099,
          2.0783279038907225,
          -1.6943865920544647,
          -0.4621595926119647,
          -0.7571348170370275,
          1.3747665089714545,
          0.4985098936943716,
          0.08972003187459004,
          0.23342732028905913,
          0.2189969800399268,
          -0.0820069040087503,
          -0.6706333343074938,
          -1.275543117599897,
          -1.3699509360814053,
          0.3901952160800126,
          0.40515476073494494,
          0.8497911535020408,
          0.15108663732483765,
          1.2849528676590611,
          0.17502127520127353,
          -0.856472190237345,
          1.3755879423415716,
          -0.6203252186849335,
          0.2970832302677778,
          1.4228886617797616,
          -0.295302329657846,
          -0.40732886017309755,
          1.204717054703365,
          0.10595034653194314,
          -1.927542908557601,
          0.5340788211371374,
          -1.2595527258535075,
          -0.11744097365828426,
          -1.2322722675875935,
          0.21000255384490144,
          1.2316223605540324,
          0.6248158351987497,
          1.717265073311003,
          0.5085247036804371,
          1.1493774496114195,
          1.6357881500228615,
          0.6774690954323394,
          -0.254747629906569,
          0.7359939702818833,
          0.0831781421552935,
          0.13981334614546928,
          1.345513651578312,
          -0.44745217561787265,
          -0.2960953959886017,
          -2.302161247246569,
          -0.7188463621845694,
          -0.6990455748270236,
          -1.348662227162689,
          -0.5216899224336029,
          0.14048488250800598,
          0.1925196557013099,
          0.3260063565304941,
          0.14063928666482584,
          0.9388815352295453,
          -0.5127863210973753,
          1.1415664506931398,
          1.067019420763672,
          1.339232991142909,
          -0.8317479833178933,
          0.06714344889144137,
          0.40199971911834576,
          0.8336260811188723,
          0.6530201532241336,
          0.2790208938611128,
          0.9227703952463245,
          0.3807611966083535,
          2.14936755196243,
          0.7000220332676952,
          -0.20238099719791927,
          0.7578390029744853,
          -2.0759354128982563,
          0.4873792439363221,
          0.4452307214159721,
          1.2154920757915866,
          -1.042516814260215,
          -0.15670485695431474,
          1.9590815581255574,
          -0.19864062355667617,
          0.02011113860892017,
          -1.0559148650915064
         ],
         "xaxis": "x6",
         "yaxis": "y6"
        },
        {
         "line": {
          "color": "rgba(128, 128, 128, 1.0)",
          "dash": "solid",
          "shape": "linear",
          "width": 1.3
         },
         "marker": {
          "size": 2,
          "symbol": "circle"
         },
         "mode": "markers",
         "name": "B",
         "text": "",
         "type": "scatter",
         "x": [
          0.877340393530819,
          1.435622023945821,
          0.6360382961982783,
          -0.8088787903316101,
          -0.23172892858673558,
          0.11440303092632358,
          -0.7927561998310112,
          -0.12905611927866506,
          2.1179684728203942,
          -1.0781523152152213,
          -0.9448327547636428,
          -2.8838293586283736,
          1.13169762588118,
          0.24409913944939385,
          -0.49193108996677837,
          0.5332531930012352,
          0.5988916632324476,
          -0.12842727629620793,
          -0.7708120236887703,
          2.3218831985942496,
          1.0360026320065483,
          -1.7206587469402068,
          -1.432465499121444,
          0.7547426140712723,
          -0.5726872175713135,
          -1.1124145198807087,
          1.1461185920381625,
          0.7857040419874747,
          -0.45096021916879686,
          -0.2584793924867701,
          -0.5390362541606566,
          -0.7954909537643288,
          1.8440655954146077,
          2.7848809280259808,
          0.015323016684481236,
          0.8721993692018307,
          0.6549191045183504,
          1.4323236975521476,
          -1.559356839149063,
          1.0050338702289945,
          -0.3182611294674199,
          0.6983398760687588,
          -0.050164643023584324,
          0.5572724504845437,
          1.3779937701321803,
          0.8994545402339059,
          -1.3120821232157294,
          1.2201245228426822,
          1.5282608495496202,
          0.9254820080966043,
          0.2739692212998874,
          -0.38139705730540574,
          0.881406193773732,
          0.44911938938302937,
          0.9317109610108755,
          0.09682625216657019,
          -0.40264764858525165,
          0.32373518071525215,
          -0.7023251540892774,
          -0.35476280626320067,
          -0.5134760136980314,
          1.1907573479013975,
          0.15360540707196507,
          -0.6167331871742867,
          0.5369462753063045,
          -0.8049281985374355,
          1.2633094731897685,
          0.8968658891336178,
          -1.0084989424685016,
          0.7910528027371707,
          -1.489634982982338,
          -0.7416029166105795,
          -0.11134178161371881,
          0.13057873895587038,
          -0.4648124601976657,
          -1.3197863299241945,
          1.0917038166888007,
          -0.3841915803835233,
          -0.9174827984197901,
          0.27029193444627914,
          -0.6463934410803012,
          -0.260881572694911,
          0.42920993961426906,
          -0.17557858262331538,
          -0.4875258216419134,
          0.22071496360543055,
          0.33080009791824827,
          -0.19679212543359229,
          -0.4054379556408084,
          0.2702413472992334,
          0.9540101486446227,
          -0.47261522865288474,
          -0.20876764443768958,
          -2.214358976857598,
          -1.6146362713179612,
          -0.04359785476916666,
          1.5532453764998175,
          0.6529555605252939,
          0.6003118387090443,
          -1.7541757715500692
         ],
         "xaxis": "x7",
         "y": [
          -1.7613428979724588,
          -0.09620099849344611,
          -1.0905554749516704,
          2.028413152575853,
          0.5097144860421348,
          1.9936676211707947,
          1.0142506644633973,
          -0.5618289023209938,
          -0.40593562199118266,
          -1.3499737054571084,
          -0.5106714828156713,
          -0.6407829666278434,
          0.33372601270807,
          0.08363181122544312,
          1.5301434413624457,
          -0.8945041877588099,
          2.0783279038907225,
          -1.6943865920544647,
          -0.4621595926119647,
          -0.7571348170370275,
          1.3747665089714545,
          0.4985098936943716,
          0.08972003187459004,
          0.23342732028905913,
          0.2189969800399268,
          -0.0820069040087503,
          -0.6706333343074938,
          -1.275543117599897,
          -1.3699509360814053,
          0.3901952160800126,
          0.40515476073494494,
          0.8497911535020408,
          0.15108663732483765,
          1.2849528676590611,
          0.17502127520127353,
          -0.856472190237345,
          1.3755879423415716,
          -0.6203252186849335,
          0.2970832302677778,
          1.4228886617797616,
          -0.295302329657846,
          -0.40732886017309755,
          1.204717054703365,
          0.10595034653194314,
          -1.927542908557601,
          0.5340788211371374,
          -1.2595527258535075,
          -0.11744097365828426,
          -1.2322722675875935,
          0.21000255384490144,
          1.2316223605540324,
          0.6248158351987497,
          1.717265073311003,
          0.5085247036804371,
          1.1493774496114195,
          1.6357881500228615,
          0.6774690954323394,
          -0.254747629906569,
          0.7359939702818833,
          0.0831781421552935,
          0.13981334614546928,
          1.345513651578312,
          -0.44745217561787265,
          -0.2960953959886017,
          -2.302161247246569,
          -0.7188463621845694,
          -0.6990455748270236,
          -1.348662227162689,
          -0.5216899224336029,
          0.14048488250800598,
          0.1925196557013099,
          0.3260063565304941,
          0.14063928666482584,
          0.9388815352295453,
          -0.5127863210973753,
          1.1415664506931398,
          1.067019420763672,
          1.339232991142909,
          -0.8317479833178933,
          0.06714344889144137,
          0.40199971911834576,
          0.8336260811188723,
          0.6530201532241336,
          0.2790208938611128,
          0.9227703952463245,
          0.3807611966083535,
          2.14936755196243,
          0.7000220332676952,
          -0.20238099719791927,
          0.7578390029744853,
          -2.0759354128982563,
          0.4873792439363221,
          0.4452307214159721,
          1.2154920757915866,
          -1.042516814260215,
          -0.15670485695431474,
          1.9590815581255574,
          -0.19864062355667617,
          0.02011113860892017,
          -1.0559148650915064
         ],
         "yaxis": "y7"
        },
        {
         "line": {
          "color": "rgba(128, 128, 128, 1.0)",
          "dash": "solid",
          "shape": "linear",
          "width": 1.3
         },
         "marker": {
          "size": 2,
          "symbol": "circle"
         },
         "mode": "markers",
         "name": "B",
         "text": "",
         "type": "scatter",
         "x": [
          0.4822939158128638,
          -0.6297265851787359,
          -0.12899300222917545,
          0.3595493025853616,
          -1.7059016820097428,
          0.40059307146558587,
          -1.4068073778764492,
          0.3834016972127393,
          -1.7598921740467124,
          -0.21421655541625736,
          -0.29457129984091374,
          -0.13652826273418922,
          -0.5181207235272481,
          -0.7241122704391437,
          0.2586898855953168,
          -0.10381642777404514,
          1.3367737240762505,
          -0.38658476941650227,
          2.4742790276449216,
          1.14875129590688,
          1.3912503123871391,
          -0.0033197243261529224,
          -1.19082248731639,
          0.2751458118525651,
          -1.6599775727977177,
          -1.274945697761092,
          0.37182217286973646,
          -0.5268445225797118,
          0.9050440646744027,
          -0.8218301268987264,
          -1.0020772704577243,
          0.9747758938851351,
          1.0946543971512066,
          -0.3738901911318837,
          -0.9775912672835907,
          -0.8190014038800748,
          -1.2064774069820927,
          -1.1107098910115145,
          -1.8793635677722884,
          0.4654732944965561,
          0.31753805393940443,
          -0.6672297504225395,
          -0.3614888690338335,
          0.3050856039928385,
          1.6829137678890485,
          -0.2280276602188539,
          0.7722805428111595,
          0.27570026918406426,
          0.9288329969108214,
          0.580435776905149,
          -0.7624796629467064,
          0.2888797553718462,
          0.30513653416702996,
          0.2679749729653962,
          -1.008267566870648,
          -0.5266778672818849,
          0.3696294360889518,
          1.373659505437327,
          0.6739704691011311,
          -0.952446421262601,
          0.17464338089142128,
          -1.4865820164968724,
          -0.7944212484338272,
          0.9240311814338681,
          -0.5103584898066241,
          0.23983196803879125,
          0.4063788167107547,
          -0.04144377909100635,
          0.3825459853097249,
          2.1126534475846577,
          0.2055463026834519,
          1.373234223920849,
          0.8914618734727747,
          0.06290545004429736,
          1.178751499510046,
          -1.1754047331967676,
          -0.3006344323249474,
          1.845624830236454,
          -2.055143244121072,
          1.0712616745058912,
          1.0903896275646217,
          0.932098686751795,
          0.3917946096289204,
          0.8921392179793287,
          -2.083690317065272,
          -0.6018113851704786,
          -0.7457577097664069,
          -0.778441406944475,
          -0.9487579891381042,
          0.4176205318307711,
          -1.94518375485339,
          0.1613901197065824,
          1.7713198008930309,
          0.8187354155568696,
          -1.624124334479861,
          -0.47487195498105755,
          -0.5052526344587429,
          0.6734127042285504,
          0.6884268938202475,
          -0.2626954277066396
         ],
         "xaxis": "x8",
         "y": [
          -1.7613428979724588,
          -0.09620099849344611,
          -1.0905554749516704,
          2.028413152575853,
          0.5097144860421348,
          1.9936676211707947,
          1.0142506644633973,
          -0.5618289023209938,
          -0.40593562199118266,
          -1.3499737054571084,
          -0.5106714828156713,
          -0.6407829666278434,
          0.33372601270807,
          0.08363181122544312,
          1.5301434413624457,
          -0.8945041877588099,
          2.0783279038907225,
          -1.6943865920544647,
          -0.4621595926119647,
          -0.7571348170370275,
          1.3747665089714545,
          0.4985098936943716,
          0.08972003187459004,
          0.23342732028905913,
          0.2189969800399268,
          -0.0820069040087503,
          -0.6706333343074938,
          -1.275543117599897,
          -1.3699509360814053,
          0.3901952160800126,
          0.40515476073494494,
          0.8497911535020408,
          0.15108663732483765,
          1.2849528676590611,
          0.17502127520127353,
          -0.856472190237345,
          1.3755879423415716,
          -0.6203252186849335,
          0.2970832302677778,
          1.4228886617797616,
          -0.295302329657846,
          -0.40732886017309755,
          1.204717054703365,
          0.10595034653194314,
          -1.927542908557601,
          0.5340788211371374,
          -1.2595527258535075,
          -0.11744097365828426,
          -1.2322722675875935,
          0.21000255384490144,
          1.2316223605540324,
          0.6248158351987497,
          1.717265073311003,
          0.5085247036804371,
          1.1493774496114195,
          1.6357881500228615,
          0.6774690954323394,
          -0.254747629906569,
          0.7359939702818833,
          0.0831781421552935,
          0.13981334614546928,
          1.345513651578312,
          -0.44745217561787265,
          -0.2960953959886017,
          -2.302161247246569,
          -0.7188463621845694,
          -0.6990455748270236,
          -1.348662227162689,
          -0.5216899224336029,
          0.14048488250800598,
          0.1925196557013099,
          0.3260063565304941,
          0.14063928666482584,
          0.9388815352295453,
          -0.5127863210973753,
          1.1415664506931398,
          1.067019420763672,
          1.339232991142909,
          -0.8317479833178933,
          0.06714344889144137,
          0.40199971911834576,
          0.8336260811188723,
          0.6530201532241336,
          0.2790208938611128,
          0.9227703952463245,
          0.3807611966083535,
          2.14936755196243,
          0.7000220332676952,
          -0.20238099719791927,
          0.7578390029744853,
          -2.0759354128982563,
          0.4873792439363221,
          0.4452307214159721,
          1.2154920757915866,
          -1.042516814260215,
          -0.15670485695431474,
          1.9590815581255574,
          -0.19864062355667617,
          0.02011113860892017,
          -1.0559148650915064
         ],
         "yaxis": "y8"
        },
        {
         "line": {
          "color": "rgba(128, 128, 128, 1.0)",
          "dash": "solid",
          "shape": "linear",
          "width": 1.3
         },
         "marker": {
          "size": 2,
          "symbol": "circle"
         },
         "mode": "markers",
         "name": "C",
         "text": "",
         "type": "scatter",
         "x": [
          -0.4219085963273162,
          1.6821026955762655,
          0.4309402142051801,
          0.18411306212801068,
          -0.9281908221713763,
          -0.30874922794372156,
          -0.6290038474767073,
          -0.710791310697247,
          0.17241542605474575,
          -0.8396869257109238,
          0.3806311459364493,
          -0.09381049474443047,
          1.5374181314768314,
          -0.43435294316790796,
          0.6461335117639597,
          -0.12372906160993319,
          0.3022970579415042,
          0.20797545067424617,
          -1.1304501651601098,
          1.1710948609964165,
          0.41306944623653125,
          1.9082257379137284,
          -0.05557142962097008,
          -1.0221174747845423,
          1.1355091384569034,
          1.1672445486913277,
          1.2764241838725863,
          2.3566817803969013,
          -1.2547557150229542,
          -1.7325392979131544,
          -1.2920823588295134,
          0.7580820471569764,
          -1.1858168738788655,
          -0.4841514473365244,
          0.6509296343287128,
          -0.11155686020046292,
          1.5045969153456915,
          -0.12204236350353027,
          -0.05537132415007508,
          -0.28027869353027607,
          0.9613497802818148,
          0.9414707962483713,
          -0.22356717954305758,
          0.7740342983721199,
          -0.7241989040863319,
          0.02778003781964759,
          -0.024055724956834595,
          -0.915078920852879,
          0.5544534137007058,
          -0.05977358602472853,
          0.23458852778203726,
          -0.5512670496759174,
          -0.4314387696367131,
          0.48138568092212886,
          0.151312471088505,
          -1.2683697561726832,
          1.1766160488988537,
          -0.27455824083556385,
          0.07273934897587682,
          -0.8784205932002688,
          -1.6235056907620014,
          -0.644105336585791,
          -1.3059071560879678,
          1.1747908906102706,
          -0.520795580404017,
          1.5905914235182144,
          -1.0584157956032523,
          0.017940488390363326,
          0.21212164922397306,
          -0.7742147529291061,
          -0.07481568924787502,
          -0.7509498972280064,
          0.40873810406643823,
          -0.35782741822032943,
          1.3791574021604953,
          -0.4936108658569253,
          -0.1670321836666462,
          0.0721790925295737,
          0.7001017974476622,
          -0.7875091790993461,
          0.0403208723208704,
          0.3177404868415387,
          -0.056986594871039735,
          0.4528785263940196,
          0.6469206986380688,
          0.41429955942854774,
          0.12303138871638225,
          -0.4126393825177464,
          0.819920664835239,
          1.4600883911553522,
          0.010063642024292574,
          -0.9264281665049272,
          -2.4315763663695646,
          -0.21280943033324837,
          -1.3301028052349306,
          0.7023289550933015,
          -0.029671055859963696,
          0.23193888262846393,
          -0.07874371469382994,
          -1.6085773535868477
         ],
         "xaxis": "x9",
         "y": [
          0.877340393530819,
          1.435622023945821,
          0.6360382961982783,
          -0.8088787903316101,
          -0.23172892858673558,
          0.11440303092632358,
          -0.7927561998310112,
          -0.12905611927866506,
          2.1179684728203942,
          -1.0781523152152213,
          -0.9448327547636428,
          -2.8838293586283736,
          1.13169762588118,
          0.24409913944939385,
          -0.49193108996677837,
          0.5332531930012352,
          0.5988916632324476,
          -0.12842727629620793,
          -0.7708120236887703,
          2.3218831985942496,
          1.0360026320065483,
          -1.7206587469402068,
          -1.432465499121444,
          0.7547426140712723,
          -0.5726872175713135,
          -1.1124145198807087,
          1.1461185920381625,
          0.7857040419874747,
          -0.45096021916879686,
          -0.2584793924867701,
          -0.5390362541606566,
          -0.7954909537643288,
          1.8440655954146077,
          2.7848809280259808,
          0.015323016684481236,
          0.8721993692018307,
          0.6549191045183504,
          1.4323236975521476,
          -1.559356839149063,
          1.0050338702289945,
          -0.3182611294674199,
          0.6983398760687588,
          -0.050164643023584324,
          0.5572724504845437,
          1.3779937701321803,
          0.8994545402339059,
          -1.3120821232157294,
          1.2201245228426822,
          1.5282608495496202,
          0.9254820080966043,
          0.2739692212998874,
          -0.38139705730540574,
          0.881406193773732,
          0.44911938938302937,
          0.9317109610108755,
          0.09682625216657019,
          -0.40264764858525165,
          0.32373518071525215,
          -0.7023251540892774,
          -0.35476280626320067,
          -0.5134760136980314,
          1.1907573479013975,
          0.15360540707196507,
          -0.6167331871742867,
          0.5369462753063045,
          -0.8049281985374355,
          1.2633094731897685,
          0.8968658891336178,
          -1.0084989424685016,
          0.7910528027371707,
          -1.489634982982338,
          -0.7416029166105795,
          -0.11134178161371881,
          0.13057873895587038,
          -0.4648124601976657,
          -1.3197863299241945,
          1.0917038166888007,
          -0.3841915803835233,
          -0.9174827984197901,
          0.27029193444627914,
          -0.6463934410803012,
          -0.260881572694911,
          0.42920993961426906,
          -0.17557858262331538,
          -0.4875258216419134,
          0.22071496360543055,
          0.33080009791824827,
          -0.19679212543359229,
          -0.4054379556408084,
          0.2702413472992334,
          0.9540101486446227,
          -0.47261522865288474,
          -0.20876764443768958,
          -2.214358976857598,
          -1.6146362713179612,
          -0.04359785476916666,
          1.5532453764998175,
          0.6529555605252939,
          0.6003118387090443,
          -1.7541757715500692
         ],
         "yaxis": "y9"
        },
        {
         "line": {
          "color": "rgba(128, 128, 128, 1.0)",
          "dash": "solid",
          "shape": "linear",
          "width": 1.3
         },
         "marker": {
          "size": 2,
          "symbol": "circle"
         },
         "mode": "markers",
         "name": "C",
         "text": "",
         "type": "scatter",
         "x": [
          -1.7613428979724588,
          -0.09620099849344611,
          -1.0905554749516704,
          2.028413152575853,
          0.5097144860421348,
          1.9936676211707947,
          1.0142506644633973,
          -0.5618289023209938,
          -0.40593562199118266,
          -1.3499737054571084,
          -0.5106714828156713,
          -0.6407829666278434,
          0.33372601270807,
          0.08363181122544312,
          1.5301434413624457,
          -0.8945041877588099,
          2.0783279038907225,
          -1.6943865920544647,
          -0.4621595926119647,
          -0.7571348170370275,
          1.3747665089714545,
          0.4985098936943716,
          0.08972003187459004,
          0.23342732028905913,
          0.2189969800399268,
          -0.0820069040087503,
          -0.6706333343074938,
          -1.275543117599897,
          -1.3699509360814053,
          0.3901952160800126,
          0.40515476073494494,
          0.8497911535020408,
          0.15108663732483765,
          1.2849528676590611,
          0.17502127520127353,
          -0.856472190237345,
          1.3755879423415716,
          -0.6203252186849335,
          0.2970832302677778,
          1.4228886617797616,
          -0.295302329657846,
          -0.40732886017309755,
          1.204717054703365,
          0.10595034653194314,
          -1.927542908557601,
          0.5340788211371374,
          -1.2595527258535075,
          -0.11744097365828426,
          -1.2322722675875935,
          0.21000255384490144,
          1.2316223605540324,
          0.6248158351987497,
          1.717265073311003,
          0.5085247036804371,
          1.1493774496114195,
          1.6357881500228615,
          0.6774690954323394,
          -0.254747629906569,
          0.7359939702818833,
          0.0831781421552935,
          0.13981334614546928,
          1.345513651578312,
          -0.44745217561787265,
          -0.2960953959886017,
          -2.302161247246569,
          -0.7188463621845694,
          -0.6990455748270236,
          -1.348662227162689,
          -0.5216899224336029,
          0.14048488250800598,
          0.1925196557013099,
          0.3260063565304941,
          0.14063928666482584,
          0.9388815352295453,
          -0.5127863210973753,
          1.1415664506931398,
          1.067019420763672,
          1.339232991142909,
          -0.8317479833178933,
          0.06714344889144137,
          0.40199971911834576,
          0.8336260811188723,
          0.6530201532241336,
          0.2790208938611128,
          0.9227703952463245,
          0.3807611966083535,
          2.14936755196243,
          0.7000220332676952,
          -0.20238099719791927,
          0.7578390029744853,
          -2.0759354128982563,
          0.4873792439363221,
          0.4452307214159721,
          1.2154920757915866,
          -1.042516814260215,
          -0.15670485695431474,
          1.9590815581255574,
          -0.19864062355667617,
          0.02011113860892017,
          -1.0559148650915064
         ],
         "xaxis": "x10",
         "y": [
          0.877340393530819,
          1.435622023945821,
          0.6360382961982783,
          -0.8088787903316101,
          -0.23172892858673558,
          0.11440303092632358,
          -0.7927561998310112,
          -0.12905611927866506,
          2.1179684728203942,
          -1.0781523152152213,
          -0.9448327547636428,
          -2.8838293586283736,
          1.13169762588118,
          0.24409913944939385,
          -0.49193108996677837,
          0.5332531930012352,
          0.5988916632324476,
          -0.12842727629620793,
          -0.7708120236887703,
          2.3218831985942496,
          1.0360026320065483,
          -1.7206587469402068,
          -1.432465499121444,
          0.7547426140712723,
          -0.5726872175713135,
          -1.1124145198807087,
          1.1461185920381625,
          0.7857040419874747,
          -0.45096021916879686,
          -0.2584793924867701,
          -0.5390362541606566,
          -0.7954909537643288,
          1.8440655954146077,
          2.7848809280259808,
          0.015323016684481236,
          0.8721993692018307,
          0.6549191045183504,
          1.4323236975521476,
          -1.559356839149063,
          1.0050338702289945,
          -0.3182611294674199,
          0.6983398760687588,
          -0.050164643023584324,
          0.5572724504845437,
          1.3779937701321803,
          0.8994545402339059,
          -1.3120821232157294,
          1.2201245228426822,
          1.5282608495496202,
          0.9254820080966043,
          0.2739692212998874,
          -0.38139705730540574,
          0.881406193773732,
          0.44911938938302937,
          0.9317109610108755,
          0.09682625216657019,
          -0.40264764858525165,
          0.32373518071525215,
          -0.7023251540892774,
          -0.35476280626320067,
          -0.5134760136980314,
          1.1907573479013975,
          0.15360540707196507,
          -0.6167331871742867,
          0.5369462753063045,
          -0.8049281985374355,
          1.2633094731897685,
          0.8968658891336178,
          -1.0084989424685016,
          0.7910528027371707,
          -1.489634982982338,
          -0.7416029166105795,
          -0.11134178161371881,
          0.13057873895587038,
          -0.4648124601976657,
          -1.3197863299241945,
          1.0917038166888007,
          -0.3841915803835233,
          -0.9174827984197901,
          0.27029193444627914,
          -0.6463934410803012,
          -0.260881572694911,
          0.42920993961426906,
          -0.17557858262331538,
          -0.4875258216419134,
          0.22071496360543055,
          0.33080009791824827,
          -0.19679212543359229,
          -0.4054379556408084,
          0.2702413472992334,
          0.9540101486446227,
          -0.47261522865288474,
          -0.20876764443768958,
          -2.214358976857598,
          -1.6146362713179612,
          -0.04359785476916666,
          1.5532453764998175,
          0.6529555605252939,
          0.6003118387090443,
          -1.7541757715500692
         ],
         "yaxis": "y10"
        },
        {
         "histfunc": "count",
         "histnorm": "",
         "marker": {
          "color": "rgba(50, 171, 96, 1.0)",
          "line": {
           "color": "#4D5663",
           "width": 1.3
          }
         },
         "name": "C",
         "nbinsx": 10,
         "opacity": 0.8,
         "orientation": "v",
         "type": "histogram",
         "x": [
          0.877340393530819,
          1.435622023945821,
          0.6360382961982783,
          -0.8088787903316101,
          -0.23172892858673558,
          0.11440303092632358,
          -0.7927561998310112,
          -0.12905611927866506,
          2.1179684728203942,
          -1.0781523152152213,
          -0.9448327547636428,
          -2.8838293586283736,
          1.13169762588118,
          0.24409913944939385,
          -0.49193108996677837,
          0.5332531930012352,
          0.5988916632324476,
          -0.12842727629620793,
          -0.7708120236887703,
          2.3218831985942496,
          1.0360026320065483,
          -1.7206587469402068,
          -1.432465499121444,
          0.7547426140712723,
          -0.5726872175713135,
          -1.1124145198807087,
          1.1461185920381625,
          0.7857040419874747,
          -0.45096021916879686,
          -0.2584793924867701,
          -0.5390362541606566,
          -0.7954909537643288,
          1.8440655954146077,
          2.7848809280259808,
          0.015323016684481236,
          0.8721993692018307,
          0.6549191045183504,
          1.4323236975521476,
          -1.559356839149063,
          1.0050338702289945,
          -0.3182611294674199,
          0.6983398760687588,
          -0.050164643023584324,
          0.5572724504845437,
          1.3779937701321803,
          0.8994545402339059,
          -1.3120821232157294,
          1.2201245228426822,
          1.5282608495496202,
          0.9254820080966043,
          0.2739692212998874,
          -0.38139705730540574,
          0.881406193773732,
          0.44911938938302937,
          0.9317109610108755,
          0.09682625216657019,
          -0.40264764858525165,
          0.32373518071525215,
          -0.7023251540892774,
          -0.35476280626320067,
          -0.5134760136980314,
          1.1907573479013975,
          0.15360540707196507,
          -0.6167331871742867,
          0.5369462753063045,
          -0.8049281985374355,
          1.2633094731897685,
          0.8968658891336178,
          -1.0084989424685016,
          0.7910528027371707,
          -1.489634982982338,
          -0.7416029166105795,
          -0.11134178161371881,
          0.13057873895587038,
          -0.4648124601976657,
          -1.3197863299241945,
          1.0917038166888007,
          -0.3841915803835233,
          -0.9174827984197901,
          0.27029193444627914,
          -0.6463934410803012,
          -0.260881572694911,
          0.42920993961426906,
          -0.17557858262331538,
          -0.4875258216419134,
          0.22071496360543055,
          0.33080009791824827,
          -0.19679212543359229,
          -0.4054379556408084,
          0.2702413472992334,
          0.9540101486446227,
          -0.47261522865288474,
          -0.20876764443768958,
          -2.214358976857598,
          -1.6146362713179612,
          -0.04359785476916666,
          1.5532453764998175,
          0.6529555605252939,
          0.6003118387090443,
          -1.7541757715500692
         ],
         "xaxis": "x11",
         "yaxis": "y11"
        },
        {
         "line": {
          "color": "rgba(128, 128, 128, 1.0)",
          "dash": "solid",
          "shape": "linear",
          "width": 1.3
         },
         "marker": {
          "size": 2,
          "symbol": "circle"
         },
         "mode": "markers",
         "name": "C",
         "text": "",
         "type": "scatter",
         "x": [
          0.4822939158128638,
          -0.6297265851787359,
          -0.12899300222917545,
          0.3595493025853616,
          -1.7059016820097428,
          0.40059307146558587,
          -1.4068073778764492,
          0.3834016972127393,
          -1.7598921740467124,
          -0.21421655541625736,
          -0.29457129984091374,
          -0.13652826273418922,
          -0.5181207235272481,
          -0.7241122704391437,
          0.2586898855953168,
          -0.10381642777404514,
          1.3367737240762505,
          -0.38658476941650227,
          2.4742790276449216,
          1.14875129590688,
          1.3912503123871391,
          -0.0033197243261529224,
          -1.19082248731639,
          0.2751458118525651,
          -1.6599775727977177,
          -1.274945697761092,
          0.37182217286973646,
          -0.5268445225797118,
          0.9050440646744027,
          -0.8218301268987264,
          -1.0020772704577243,
          0.9747758938851351,
          1.0946543971512066,
          -0.3738901911318837,
          -0.9775912672835907,
          -0.8190014038800748,
          -1.2064774069820927,
          -1.1107098910115145,
          -1.8793635677722884,
          0.4654732944965561,
          0.31753805393940443,
          -0.6672297504225395,
          -0.3614888690338335,
          0.3050856039928385,
          1.6829137678890485,
          -0.2280276602188539,
          0.7722805428111595,
          0.27570026918406426,
          0.9288329969108214,
          0.580435776905149,
          -0.7624796629467064,
          0.2888797553718462,
          0.30513653416702996,
          0.2679749729653962,
          -1.008267566870648,
          -0.5266778672818849,
          0.3696294360889518,
          1.373659505437327,
          0.6739704691011311,
          -0.952446421262601,
          0.17464338089142128,
          -1.4865820164968724,
          -0.7944212484338272,
          0.9240311814338681,
          -0.5103584898066241,
          0.23983196803879125,
          0.4063788167107547,
          -0.04144377909100635,
          0.3825459853097249,
          2.1126534475846577,
          0.2055463026834519,
          1.373234223920849,
          0.8914618734727747,
          0.06290545004429736,
          1.178751499510046,
          -1.1754047331967676,
          -0.3006344323249474,
          1.845624830236454,
          -2.055143244121072,
          1.0712616745058912,
          1.0903896275646217,
          0.932098686751795,
          0.3917946096289204,
          0.8921392179793287,
          -2.083690317065272,
          -0.6018113851704786,
          -0.7457577097664069,
          -0.778441406944475,
          -0.9487579891381042,
          0.4176205318307711,
          -1.94518375485339,
          0.1613901197065824,
          1.7713198008930309,
          0.8187354155568696,
          -1.624124334479861,
          -0.47487195498105755,
          -0.5052526344587429,
          0.6734127042285504,
          0.6884268938202475,
          -0.2626954277066396
         ],
         "xaxis": "x12",
         "y": [
          0.877340393530819,
          1.435622023945821,
          0.6360382961982783,
          -0.8088787903316101,
          -0.23172892858673558,
          0.11440303092632358,
          -0.7927561998310112,
          -0.12905611927866506,
          2.1179684728203942,
          -1.0781523152152213,
          -0.9448327547636428,
          -2.8838293586283736,
          1.13169762588118,
          0.24409913944939385,
          -0.49193108996677837,
          0.5332531930012352,
          0.5988916632324476,
          -0.12842727629620793,
          -0.7708120236887703,
          2.3218831985942496,
          1.0360026320065483,
          -1.7206587469402068,
          -1.432465499121444,
          0.7547426140712723,
          -0.5726872175713135,
          -1.1124145198807087,
          1.1461185920381625,
          0.7857040419874747,
          -0.45096021916879686,
          -0.2584793924867701,
          -0.5390362541606566,
          -0.7954909537643288,
          1.8440655954146077,
          2.7848809280259808,
          0.015323016684481236,
          0.8721993692018307,
          0.6549191045183504,
          1.4323236975521476,
          -1.559356839149063,
          1.0050338702289945,
          -0.3182611294674199,
          0.6983398760687588,
          -0.050164643023584324,
          0.5572724504845437,
          1.3779937701321803,
          0.8994545402339059,
          -1.3120821232157294,
          1.2201245228426822,
          1.5282608495496202,
          0.9254820080966043,
          0.2739692212998874,
          -0.38139705730540574,
          0.881406193773732,
          0.44911938938302937,
          0.9317109610108755,
          0.09682625216657019,
          -0.40264764858525165,
          0.32373518071525215,
          -0.7023251540892774,
          -0.35476280626320067,
          -0.5134760136980314,
          1.1907573479013975,
          0.15360540707196507,
          -0.6167331871742867,
          0.5369462753063045,
          -0.8049281985374355,
          1.2633094731897685,
          0.8968658891336178,
          -1.0084989424685016,
          0.7910528027371707,
          -1.489634982982338,
          -0.7416029166105795,
          -0.11134178161371881,
          0.13057873895587038,
          -0.4648124601976657,
          -1.3197863299241945,
          1.0917038166888007,
          -0.3841915803835233,
          -0.9174827984197901,
          0.27029193444627914,
          -0.6463934410803012,
          -0.260881572694911,
          0.42920993961426906,
          -0.17557858262331538,
          -0.4875258216419134,
          0.22071496360543055,
          0.33080009791824827,
          -0.19679212543359229,
          -0.4054379556408084,
          0.2702413472992334,
          0.9540101486446227,
          -0.47261522865288474,
          -0.20876764443768958,
          -2.214358976857598,
          -1.6146362713179612,
          -0.04359785476916666,
          1.5532453764998175,
          0.6529555605252939,
          0.6003118387090443,
          -1.7541757715500692
         ],
         "yaxis": "y12"
        },
        {
         "line": {
          "color": "rgba(128, 128, 128, 1.0)",
          "dash": "solid",
          "shape": "linear",
          "width": 1.3
         },
         "marker": {
          "size": 2,
          "symbol": "circle"
         },
         "mode": "markers",
         "name": "D",
         "text": "",
         "type": "scatter",
         "x": [
          -0.4219085963273162,
          1.6821026955762655,
          0.4309402142051801,
          0.18411306212801068,
          -0.9281908221713763,
          -0.30874922794372156,
          -0.6290038474767073,
          -0.710791310697247,
          0.17241542605474575,
          -0.8396869257109238,
          0.3806311459364493,
          -0.09381049474443047,
          1.5374181314768314,
          -0.43435294316790796,
          0.6461335117639597,
          -0.12372906160993319,
          0.3022970579415042,
          0.20797545067424617,
          -1.1304501651601098,
          1.1710948609964165,
          0.41306944623653125,
          1.9082257379137284,
          -0.05557142962097008,
          -1.0221174747845423,
          1.1355091384569034,
          1.1672445486913277,
          1.2764241838725863,
          2.3566817803969013,
          -1.2547557150229542,
          -1.7325392979131544,
          -1.2920823588295134,
          0.7580820471569764,
          -1.1858168738788655,
          -0.4841514473365244,
          0.6509296343287128,
          -0.11155686020046292,
          1.5045969153456915,
          -0.12204236350353027,
          -0.05537132415007508,
          -0.28027869353027607,
          0.9613497802818148,
          0.9414707962483713,
          -0.22356717954305758,
          0.7740342983721199,
          -0.7241989040863319,
          0.02778003781964759,
          -0.024055724956834595,
          -0.915078920852879,
          0.5544534137007058,
          -0.05977358602472853,
          0.23458852778203726,
          -0.5512670496759174,
          -0.4314387696367131,
          0.48138568092212886,
          0.151312471088505,
          -1.2683697561726832,
          1.1766160488988537,
          -0.27455824083556385,
          0.07273934897587682,
          -0.8784205932002688,
          -1.6235056907620014,
          -0.644105336585791,
          -1.3059071560879678,
          1.1747908906102706,
          -0.520795580404017,
          1.5905914235182144,
          -1.0584157956032523,
          0.017940488390363326,
          0.21212164922397306,
          -0.7742147529291061,
          -0.07481568924787502,
          -0.7509498972280064,
          0.40873810406643823,
          -0.35782741822032943,
          1.3791574021604953,
          -0.4936108658569253,
          -0.1670321836666462,
          0.0721790925295737,
          0.7001017974476622,
          -0.7875091790993461,
          0.0403208723208704,
          0.3177404868415387,
          -0.056986594871039735,
          0.4528785263940196,
          0.6469206986380688,
          0.41429955942854774,
          0.12303138871638225,
          -0.4126393825177464,
          0.819920664835239,
          1.4600883911553522,
          0.010063642024292574,
          -0.9264281665049272,
          -2.4315763663695646,
          -0.21280943033324837,
          -1.3301028052349306,
          0.7023289550933015,
          -0.029671055859963696,
          0.23193888262846393,
          -0.07874371469382994,
          -1.6085773535868477
         ],
         "xaxis": "x13",
         "y": [
          0.4822939158128638,
          -0.6297265851787359,
          -0.12899300222917545,
          0.3595493025853616,
          -1.7059016820097428,
          0.40059307146558587,
          -1.4068073778764492,
          0.3834016972127393,
          -1.7598921740467124,
          -0.21421655541625736,
          -0.29457129984091374,
          -0.13652826273418922,
          -0.5181207235272481,
          -0.7241122704391437,
          0.2586898855953168,
          -0.10381642777404514,
          1.3367737240762505,
          -0.38658476941650227,
          2.4742790276449216,
          1.14875129590688,
          1.3912503123871391,
          -0.0033197243261529224,
          -1.19082248731639,
          0.2751458118525651,
          -1.6599775727977177,
          -1.274945697761092,
          0.37182217286973646,
          -0.5268445225797118,
          0.9050440646744027,
          -0.8218301268987264,
          -1.0020772704577243,
          0.9747758938851351,
          1.0946543971512066,
          -0.3738901911318837,
          -0.9775912672835907,
          -0.8190014038800748,
          -1.2064774069820927,
          -1.1107098910115145,
          -1.8793635677722884,
          0.4654732944965561,
          0.31753805393940443,
          -0.6672297504225395,
          -0.3614888690338335,
          0.3050856039928385,
          1.6829137678890485,
          -0.2280276602188539,
          0.7722805428111595,
          0.27570026918406426,
          0.9288329969108214,
          0.580435776905149,
          -0.7624796629467064,
          0.2888797553718462,
          0.30513653416702996,
          0.2679749729653962,
          -1.008267566870648,
          -0.5266778672818849,
          0.3696294360889518,
          1.373659505437327,
          0.6739704691011311,
          -0.952446421262601,
          0.17464338089142128,
          -1.4865820164968724,
          -0.7944212484338272,
          0.9240311814338681,
          -0.5103584898066241,
          0.23983196803879125,
          0.4063788167107547,
          -0.04144377909100635,
          0.3825459853097249,
          2.1126534475846577,
          0.2055463026834519,
          1.373234223920849,
          0.8914618734727747,
          0.06290545004429736,
          1.178751499510046,
          -1.1754047331967676,
          -0.3006344323249474,
          1.845624830236454,
          -2.055143244121072,
          1.0712616745058912,
          1.0903896275646217,
          0.932098686751795,
          0.3917946096289204,
          0.8921392179793287,
          -2.083690317065272,
          -0.6018113851704786,
          -0.7457577097664069,
          -0.778441406944475,
          -0.9487579891381042,
          0.4176205318307711,
          -1.94518375485339,
          0.1613901197065824,
          1.7713198008930309,
          0.8187354155568696,
          -1.624124334479861,
          -0.47487195498105755,
          -0.5052526344587429,
          0.6734127042285504,
          0.6884268938202475,
          -0.2626954277066396
         ],
         "yaxis": "y13"
        },
        {
         "line": {
          "color": "rgba(128, 128, 128, 1.0)",
          "dash": "solid",
          "shape": "linear",
          "width": 1.3
         },
         "marker": {
          "size": 2,
          "symbol": "circle"
         },
         "mode": "markers",
         "name": "D",
         "text": "",
         "type": "scatter",
         "x": [
          -1.7613428979724588,
          -0.09620099849344611,
          -1.0905554749516704,
          2.028413152575853,
          0.5097144860421348,
          1.9936676211707947,
          1.0142506644633973,
          -0.5618289023209938,
          -0.40593562199118266,
          -1.3499737054571084,
          -0.5106714828156713,
          -0.6407829666278434,
          0.33372601270807,
          0.08363181122544312,
          1.5301434413624457,
          -0.8945041877588099,
          2.0783279038907225,
          -1.6943865920544647,
          -0.4621595926119647,
          -0.7571348170370275,
          1.3747665089714545,
          0.4985098936943716,
          0.08972003187459004,
          0.23342732028905913,
          0.2189969800399268,
          -0.0820069040087503,
          -0.6706333343074938,
          -1.275543117599897,
          -1.3699509360814053,
          0.3901952160800126,
          0.40515476073494494,
          0.8497911535020408,
          0.15108663732483765,
          1.2849528676590611,
          0.17502127520127353,
          -0.856472190237345,
          1.3755879423415716,
          -0.6203252186849335,
          0.2970832302677778,
          1.4228886617797616,
          -0.295302329657846,
          -0.40732886017309755,
          1.204717054703365,
          0.10595034653194314,
          -1.927542908557601,
          0.5340788211371374,
          -1.2595527258535075,
          -0.11744097365828426,
          -1.2322722675875935,
          0.21000255384490144,
          1.2316223605540324,
          0.6248158351987497,
          1.717265073311003,
          0.5085247036804371,
          1.1493774496114195,
          1.6357881500228615,
          0.6774690954323394,
          -0.254747629906569,
          0.7359939702818833,
          0.0831781421552935,
          0.13981334614546928,
          1.345513651578312,
          -0.44745217561787265,
          -0.2960953959886017,
          -2.302161247246569,
          -0.7188463621845694,
          -0.6990455748270236,
          -1.348662227162689,
          -0.5216899224336029,
          0.14048488250800598,
          0.1925196557013099,
          0.3260063565304941,
          0.14063928666482584,
          0.9388815352295453,
          -0.5127863210973753,
          1.1415664506931398,
          1.067019420763672,
          1.339232991142909,
          -0.8317479833178933,
          0.06714344889144137,
          0.40199971911834576,
          0.8336260811188723,
          0.6530201532241336,
          0.2790208938611128,
          0.9227703952463245,
          0.3807611966083535,
          2.14936755196243,
          0.7000220332676952,
          -0.20238099719791927,
          0.7578390029744853,
          -2.0759354128982563,
          0.4873792439363221,
          0.4452307214159721,
          1.2154920757915866,
          -1.042516814260215,
          -0.15670485695431474,
          1.9590815581255574,
          -0.19864062355667617,
          0.02011113860892017,
          -1.0559148650915064
         ],
         "xaxis": "x14",
         "y": [
          0.4822939158128638,
          -0.6297265851787359,
          -0.12899300222917545,
          0.3595493025853616,
          -1.7059016820097428,
          0.40059307146558587,
          -1.4068073778764492,
          0.3834016972127393,
          -1.7598921740467124,
          -0.21421655541625736,
          -0.29457129984091374,
          -0.13652826273418922,
          -0.5181207235272481,
          -0.7241122704391437,
          0.2586898855953168,
          -0.10381642777404514,
          1.3367737240762505,
          -0.38658476941650227,
          2.4742790276449216,
          1.14875129590688,
          1.3912503123871391,
          -0.0033197243261529224,
          -1.19082248731639,
          0.2751458118525651,
          -1.6599775727977177,
          -1.274945697761092,
          0.37182217286973646,
          -0.5268445225797118,
          0.9050440646744027,
          -0.8218301268987264,
          -1.0020772704577243,
          0.9747758938851351,
          1.0946543971512066,
          -0.3738901911318837,
          -0.9775912672835907,
          -0.8190014038800748,
          -1.2064774069820927,
          -1.1107098910115145,
          -1.8793635677722884,
          0.4654732944965561,
          0.31753805393940443,
          -0.6672297504225395,
          -0.3614888690338335,
          0.3050856039928385,
          1.6829137678890485,
          -0.2280276602188539,
          0.7722805428111595,
          0.27570026918406426,
          0.9288329969108214,
          0.580435776905149,
          -0.7624796629467064,
          0.2888797553718462,
          0.30513653416702996,
          0.2679749729653962,
          -1.008267566870648,
          -0.5266778672818849,
          0.3696294360889518,
          1.373659505437327,
          0.6739704691011311,
          -0.952446421262601,
          0.17464338089142128,
          -1.4865820164968724,
          -0.7944212484338272,
          0.9240311814338681,
          -0.5103584898066241,
          0.23983196803879125,
          0.4063788167107547,
          -0.04144377909100635,
          0.3825459853097249,
          2.1126534475846577,
          0.2055463026834519,
          1.373234223920849,
          0.8914618734727747,
          0.06290545004429736,
          1.178751499510046,
          -1.1754047331967676,
          -0.3006344323249474,
          1.845624830236454,
          -2.055143244121072,
          1.0712616745058912,
          1.0903896275646217,
          0.932098686751795,
          0.3917946096289204,
          0.8921392179793287,
          -2.083690317065272,
          -0.6018113851704786,
          -0.7457577097664069,
          -0.778441406944475,
          -0.9487579891381042,
          0.4176205318307711,
          -1.94518375485339,
          0.1613901197065824,
          1.7713198008930309,
          0.8187354155568696,
          -1.624124334479861,
          -0.47487195498105755,
          -0.5052526344587429,
          0.6734127042285504,
          0.6884268938202475,
          -0.2626954277066396
         ],
         "yaxis": "y14"
        },
        {
         "line": {
          "color": "rgba(128, 128, 128, 1.0)",
          "dash": "solid",
          "shape": "linear",
          "width": 1.3
         },
         "marker": {
          "size": 2,
          "symbol": "circle"
         },
         "mode": "markers",
         "name": "D",
         "text": "",
         "type": "scatter",
         "x": [
          0.877340393530819,
          1.435622023945821,
          0.6360382961982783,
          -0.8088787903316101,
          -0.23172892858673558,
          0.11440303092632358,
          -0.7927561998310112,
          -0.12905611927866506,
          2.1179684728203942,
          -1.0781523152152213,
          -0.9448327547636428,
          -2.8838293586283736,
          1.13169762588118,
          0.24409913944939385,
          -0.49193108996677837,
          0.5332531930012352,
          0.5988916632324476,
          -0.12842727629620793,
          -0.7708120236887703,
          2.3218831985942496,
          1.0360026320065483,
          -1.7206587469402068,
          -1.432465499121444,
          0.7547426140712723,
          -0.5726872175713135,
          -1.1124145198807087,
          1.1461185920381625,
          0.7857040419874747,
          -0.45096021916879686,
          -0.2584793924867701,
          -0.5390362541606566,
          -0.7954909537643288,
          1.8440655954146077,
          2.7848809280259808,
          0.015323016684481236,
          0.8721993692018307,
          0.6549191045183504,
          1.4323236975521476,
          -1.559356839149063,
          1.0050338702289945,
          -0.3182611294674199,
          0.6983398760687588,
          -0.050164643023584324,
          0.5572724504845437,
          1.3779937701321803,
          0.8994545402339059,
          -1.3120821232157294,
          1.2201245228426822,
          1.5282608495496202,
          0.9254820080966043,
          0.2739692212998874,
          -0.38139705730540574,
          0.881406193773732,
          0.44911938938302937,
          0.9317109610108755,
          0.09682625216657019,
          -0.40264764858525165,
          0.32373518071525215,
          -0.7023251540892774,
          -0.35476280626320067,
          -0.5134760136980314,
          1.1907573479013975,
          0.15360540707196507,
          -0.6167331871742867,
          0.5369462753063045,
          -0.8049281985374355,
          1.2633094731897685,
          0.8968658891336178,
          -1.0084989424685016,
          0.7910528027371707,
          -1.489634982982338,
          -0.7416029166105795,
          -0.11134178161371881,
          0.13057873895587038,
          -0.4648124601976657,
          -1.3197863299241945,
          1.0917038166888007,
          -0.3841915803835233,
          -0.9174827984197901,
          0.27029193444627914,
          -0.6463934410803012,
          -0.260881572694911,
          0.42920993961426906,
          -0.17557858262331538,
          -0.4875258216419134,
          0.22071496360543055,
          0.33080009791824827,
          -0.19679212543359229,
          -0.4054379556408084,
          0.2702413472992334,
          0.9540101486446227,
          -0.47261522865288474,
          -0.20876764443768958,
          -2.214358976857598,
          -1.6146362713179612,
          -0.04359785476916666,
          1.5532453764998175,
          0.6529555605252939,
          0.6003118387090443,
          -1.7541757715500692
         ],
         "xaxis": "x15",
         "y": [
          0.4822939158128638,
          -0.6297265851787359,
          -0.12899300222917545,
          0.3595493025853616,
          -1.7059016820097428,
          0.40059307146558587,
          -1.4068073778764492,
          0.3834016972127393,
          -1.7598921740467124,
          -0.21421655541625736,
          -0.29457129984091374,
          -0.13652826273418922,
          -0.5181207235272481,
          -0.7241122704391437,
          0.2586898855953168,
          -0.10381642777404514,
          1.3367737240762505,
          -0.38658476941650227,
          2.4742790276449216,
          1.14875129590688,
          1.3912503123871391,
          -0.0033197243261529224,
          -1.19082248731639,
          0.2751458118525651,
          -1.6599775727977177,
          -1.274945697761092,
          0.37182217286973646,
          -0.5268445225797118,
          0.9050440646744027,
          -0.8218301268987264,
          -1.0020772704577243,
          0.9747758938851351,
          1.0946543971512066,
          -0.3738901911318837,
          -0.9775912672835907,
          -0.8190014038800748,
          -1.2064774069820927,
          -1.1107098910115145,
          -1.8793635677722884,
          0.4654732944965561,
          0.31753805393940443,
          -0.6672297504225395,
          -0.3614888690338335,
          0.3050856039928385,
          1.6829137678890485,
          -0.2280276602188539,
          0.7722805428111595,
          0.27570026918406426,
          0.9288329969108214,
          0.580435776905149,
          -0.7624796629467064,
          0.2888797553718462,
          0.30513653416702996,
          0.2679749729653962,
          -1.008267566870648,
          -0.5266778672818849,
          0.3696294360889518,
          1.373659505437327,
          0.6739704691011311,
          -0.952446421262601,
          0.17464338089142128,
          -1.4865820164968724,
          -0.7944212484338272,
          0.9240311814338681,
          -0.5103584898066241,
          0.23983196803879125,
          0.4063788167107547,
          -0.04144377909100635,
          0.3825459853097249,
          2.1126534475846577,
          0.2055463026834519,
          1.373234223920849,
          0.8914618734727747,
          0.06290545004429736,
          1.178751499510046,
          -1.1754047331967676,
          -0.3006344323249474,
          1.845624830236454,
          -2.055143244121072,
          1.0712616745058912,
          1.0903896275646217,
          0.932098686751795,
          0.3917946096289204,
          0.8921392179793287,
          -2.083690317065272,
          -0.6018113851704786,
          -0.7457577097664069,
          -0.778441406944475,
          -0.9487579891381042,
          0.4176205318307711,
          -1.94518375485339,
          0.1613901197065824,
          1.7713198008930309,
          0.8187354155568696,
          -1.624124334479861,
          -0.47487195498105755,
          -0.5052526344587429,
          0.6734127042285504,
          0.6884268938202475,
          -0.2626954277066396
         ],
         "yaxis": "y15"
        },
        {
         "histfunc": "count",
         "histnorm": "",
         "marker": {
          "color": "rgba(128, 0, 128, 1.0)",
          "line": {
           "color": "#4D5663",
           "width": 1.3
          }
         },
         "name": "D",
         "nbinsx": 10,
         "opacity": 0.8,
         "orientation": "v",
         "type": "histogram",
         "x": [
          0.4822939158128638,
          -0.6297265851787359,
          -0.12899300222917545,
          0.3595493025853616,
          -1.7059016820097428,
          0.40059307146558587,
          -1.4068073778764492,
          0.3834016972127393,
          -1.7598921740467124,
          -0.21421655541625736,
          -0.29457129984091374,
          -0.13652826273418922,
          -0.5181207235272481,
          -0.7241122704391437,
          0.2586898855953168,
          -0.10381642777404514,
          1.3367737240762505,
          -0.38658476941650227,
          2.4742790276449216,
          1.14875129590688,
          1.3912503123871391,
          -0.0033197243261529224,
          -1.19082248731639,
          0.2751458118525651,
          -1.6599775727977177,
          -1.274945697761092,
          0.37182217286973646,
          -0.5268445225797118,
          0.9050440646744027,
          -0.8218301268987264,
          -1.0020772704577243,
          0.9747758938851351,
          1.0946543971512066,
          -0.3738901911318837,
          -0.9775912672835907,
          -0.8190014038800748,
          -1.2064774069820927,
          -1.1107098910115145,
          -1.8793635677722884,
          0.4654732944965561,
          0.31753805393940443,
          -0.6672297504225395,
          -0.3614888690338335,
          0.3050856039928385,
          1.6829137678890485,
          -0.2280276602188539,
          0.7722805428111595,
          0.27570026918406426,
          0.9288329969108214,
          0.580435776905149,
          -0.7624796629467064,
          0.2888797553718462,
          0.30513653416702996,
          0.2679749729653962,
          -1.008267566870648,
          -0.5266778672818849,
          0.3696294360889518,
          1.373659505437327,
          0.6739704691011311,
          -0.952446421262601,
          0.17464338089142128,
          -1.4865820164968724,
          -0.7944212484338272,
          0.9240311814338681,
          -0.5103584898066241,
          0.23983196803879125,
          0.4063788167107547,
          -0.04144377909100635,
          0.3825459853097249,
          2.1126534475846577,
          0.2055463026834519,
          1.373234223920849,
          0.8914618734727747,
          0.06290545004429736,
          1.178751499510046,
          -1.1754047331967676,
          -0.3006344323249474,
          1.845624830236454,
          -2.055143244121072,
          1.0712616745058912,
          1.0903896275646217,
          0.932098686751795,
          0.3917946096289204,
          0.8921392179793287,
          -2.083690317065272,
          -0.6018113851704786,
          -0.7457577097664069,
          -0.778441406944475,
          -0.9487579891381042,
          0.4176205318307711,
          -1.94518375485339,
          0.1613901197065824,
          1.7713198008930309,
          0.8187354155568696,
          -1.624124334479861,
          -0.47487195498105755,
          -0.5052526344587429,
          0.6734127042285504,
          0.6884268938202475,
          -0.2626954277066396
         ],
         "xaxis": "x16",
         "yaxis": "y16"
        }
       ],
       "layout": {
        "bargap": 0.02,
        "legend": {
         "bgcolor": "#F5F6F9",
         "font": {
          "color": "#4D5663"
         }
        },
        "paper_bgcolor": "#F5F6F9",
        "plot_bgcolor": "#F5F6F9",
        "showlegend": false,
        "template": {
         "data": {
          "bar": [
           {
            "error_x": {
             "color": "#2a3f5f"
            },
            "error_y": {
             "color": "#2a3f5f"
            },
            "marker": {
             "line": {
              "color": "#E5ECF6",
              "width": 0.5
             }
            },
            "type": "bar"
           }
          ],
          "barpolar": [
           {
            "marker": {
             "line": {
              "color": "#E5ECF6",
              "width": 0.5
             }
            },
            "type": "barpolar"
           }
          ],
          "carpet": [
           {
            "aaxis": {
             "endlinecolor": "#2a3f5f",
             "gridcolor": "white",
             "linecolor": "white",
             "minorgridcolor": "white",
             "startlinecolor": "#2a3f5f"
            },
            "baxis": {
             "endlinecolor": "#2a3f5f",
             "gridcolor": "white",
             "linecolor": "white",
             "minorgridcolor": "white",
             "startlinecolor": "#2a3f5f"
            },
            "type": "carpet"
           }
          ],
          "choropleth": [
           {
            "colorbar": {
             "outlinewidth": 0,
             "ticks": ""
            },
            "type": "choropleth"
           }
          ],
          "contour": [
           {
            "colorbar": {
             "outlinewidth": 0,
             "ticks": ""
            },
            "colorscale": [
             [
              0,
              "#0d0887"
             ],
             [
              0.1111111111111111,
              "#46039f"
             ],
             [
              0.2222222222222222,
              "#7201a8"
             ],
             [
              0.3333333333333333,
              "#9c179e"
             ],
             [
              0.4444444444444444,
              "#bd3786"
             ],
             [
              0.5555555555555556,
              "#d8576b"
             ],
             [
              0.6666666666666666,
              "#ed7953"
             ],
             [
              0.7777777777777778,
              "#fb9f3a"
             ],
             [
              0.8888888888888888,
              "#fdca26"
             ],
             [
              1,
              "#f0f921"
             ]
            ],
            "type": "contour"
           }
          ],
          "contourcarpet": [
           {
            "colorbar": {
             "outlinewidth": 0,
             "ticks": ""
            },
            "type": "contourcarpet"
           }
          ],
          "heatmap": [
           {
            "colorbar": {
             "outlinewidth": 0,
             "ticks": ""
            },
            "colorscale": [
             [
              0,
              "#0d0887"
             ],
             [
              0.1111111111111111,
              "#46039f"
             ],
             [
              0.2222222222222222,
              "#7201a8"
             ],
             [
              0.3333333333333333,
              "#9c179e"
             ],
             [
              0.4444444444444444,
              "#bd3786"
             ],
             [
              0.5555555555555556,
              "#d8576b"
             ],
             [
              0.6666666666666666,
              "#ed7953"
             ],
             [
              0.7777777777777778,
              "#fb9f3a"
             ],
             [
              0.8888888888888888,
              "#fdca26"
             ],
             [
              1,
              "#f0f921"
             ]
            ],
            "type": "heatmap"
           }
          ],
          "heatmapgl": [
           {
            "colorbar": {
             "outlinewidth": 0,
             "ticks": ""
            },
            "colorscale": [
             [
              0,
              "#0d0887"
             ],
             [
              0.1111111111111111,
              "#46039f"
             ],
             [
              0.2222222222222222,
              "#7201a8"
             ],
             [
              0.3333333333333333,
              "#9c179e"
             ],
             [
              0.4444444444444444,
              "#bd3786"
             ],
             [
              0.5555555555555556,
              "#d8576b"
             ],
             [
              0.6666666666666666,
              "#ed7953"
             ],
             [
              0.7777777777777778,
              "#fb9f3a"
             ],
             [
              0.8888888888888888,
              "#fdca26"
             ],
             [
              1,
              "#f0f921"
             ]
            ],
            "type": "heatmapgl"
           }
          ],
          "histogram": [
           {
            "marker": {
             "colorbar": {
              "outlinewidth": 0,
              "ticks": ""
             }
            },
            "type": "histogram"
           }
          ],
          "histogram2d": [
           {
            "colorbar": {
             "outlinewidth": 0,
             "ticks": ""
            },
            "colorscale": [
             [
              0,
              "#0d0887"
             ],
             [
              0.1111111111111111,
              "#46039f"
             ],
             [
              0.2222222222222222,
              "#7201a8"
             ],
             [
              0.3333333333333333,
              "#9c179e"
             ],
             [
              0.4444444444444444,
              "#bd3786"
             ],
             [
              0.5555555555555556,
              "#d8576b"
             ],
             [
              0.6666666666666666,
              "#ed7953"
             ],
             [
              0.7777777777777778,
              "#fb9f3a"
             ],
             [
              0.8888888888888888,
              "#fdca26"
             ],
             [
              1,
              "#f0f921"
             ]
            ],
            "type": "histogram2d"
           }
          ],
          "histogram2dcontour": [
           {
            "colorbar": {
             "outlinewidth": 0,
             "ticks": ""
            },
            "colorscale": [
             [
              0,
              "#0d0887"
             ],
             [
              0.1111111111111111,
              "#46039f"
             ],
             [
              0.2222222222222222,
              "#7201a8"
             ],
             [
              0.3333333333333333,
              "#9c179e"
             ],
             [
              0.4444444444444444,
              "#bd3786"
             ],
             [
              0.5555555555555556,
              "#d8576b"
             ],
             [
              0.6666666666666666,
              "#ed7953"
             ],
             [
              0.7777777777777778,
              "#fb9f3a"
             ],
             [
              0.8888888888888888,
              "#fdca26"
             ],
             [
              1,
              "#f0f921"
             ]
            ],
            "type": "histogram2dcontour"
           }
          ],
          "mesh3d": [
           {
            "colorbar": {
             "outlinewidth": 0,
             "ticks": ""
            },
            "type": "mesh3d"
           }
          ],
          "parcoords": [
           {
            "line": {
             "colorbar": {
              "outlinewidth": 0,
              "ticks": ""
             }
            },
            "type": "parcoords"
           }
          ],
          "pie": [
           {
            "automargin": true,
            "type": "pie"
           }
          ],
          "scatter": [
           {
            "marker": {
             "colorbar": {
              "outlinewidth": 0,
              "ticks": ""
             }
            },
            "type": "scatter"
           }
          ],
          "scatter3d": [
           {
            "line": {
             "colorbar": {
              "outlinewidth": 0,
              "ticks": ""
             }
            },
            "marker": {
             "colorbar": {
              "outlinewidth": 0,
              "ticks": ""
             }
            },
            "type": "scatter3d"
           }
          ],
          "scattercarpet": [
           {
            "marker": {
             "colorbar": {
              "outlinewidth": 0,
              "ticks": ""
             }
            },
            "type": "scattercarpet"
           }
          ],
          "scattergeo": [
           {
            "marker": {
             "colorbar": {
              "outlinewidth": 0,
              "ticks": ""
             }
            },
            "type": "scattergeo"
           }
          ],
          "scattergl": [
           {
            "marker": {
             "colorbar": {
              "outlinewidth": 0,
              "ticks": ""
             }
            },
            "type": "scattergl"
           }
          ],
          "scattermapbox": [
           {
            "marker": {
             "colorbar": {
              "outlinewidth": 0,
              "ticks": ""
             }
            },
            "type": "scattermapbox"
           }
          ],
          "scatterpolar": [
           {
            "marker": {
             "colorbar": {
              "outlinewidth": 0,
              "ticks": ""
             }
            },
            "type": "scatterpolar"
           }
          ],
          "scatterpolargl": [
           {
            "marker": {
             "colorbar": {
              "outlinewidth": 0,
              "ticks": ""
             }
            },
            "type": "scatterpolargl"
           }
          ],
          "scatterternary": [
           {
            "marker": {
             "colorbar": {
              "outlinewidth": 0,
              "ticks": ""
             }
            },
            "type": "scatterternary"
           }
          ],
          "surface": [
           {
            "colorbar": {
             "outlinewidth": 0,
             "ticks": ""
            },
            "colorscale": [
             [
              0,
              "#0d0887"
             ],
             [
              0.1111111111111111,
              "#46039f"
             ],
             [
              0.2222222222222222,
              "#7201a8"
             ],
             [
              0.3333333333333333,
              "#9c179e"
             ],
             [
              0.4444444444444444,
              "#bd3786"
             ],
             [
              0.5555555555555556,
              "#d8576b"
             ],
             [
              0.6666666666666666,
              "#ed7953"
             ],
             [
              0.7777777777777778,
              "#fb9f3a"
             ],
             [
              0.8888888888888888,
              "#fdca26"
             ],
             [
              1,
              "#f0f921"
             ]
            ],
            "type": "surface"
           }
          ],
          "table": [
           {
            "cells": {
             "fill": {
              "color": "#EBF0F8"
             },
             "line": {
              "color": "white"
             }
            },
            "header": {
             "fill": {
              "color": "#C8D4E3"
             },
             "line": {
              "color": "white"
             }
            },
            "type": "table"
           }
          ]
         },
         "layout": {
          "annotationdefaults": {
           "arrowcolor": "#2a3f5f",
           "arrowhead": 0,
           "arrowwidth": 1
          },
          "coloraxis": {
           "colorbar": {
            "outlinewidth": 0,
            "ticks": ""
           }
          },
          "colorscale": {
           "diverging": [
            [
             0,
             "#8e0152"
            ],
            [
             0.1,
             "#c51b7d"
            ],
            [
             0.2,
             "#de77ae"
            ],
            [
             0.3,
             "#f1b6da"
            ],
            [
             0.4,
             "#fde0ef"
            ],
            [
             0.5,
             "#f7f7f7"
            ],
            [
             0.6,
             "#e6f5d0"
            ],
            [
             0.7,
             "#b8e186"
            ],
            [
             0.8,
             "#7fbc41"
            ],
            [
             0.9,
             "#4d9221"
            ],
            [
             1,
             "#276419"
            ]
           ],
           "sequential": [
            [
             0,
             "#0d0887"
            ],
            [
             0.1111111111111111,
             "#46039f"
            ],
            [
             0.2222222222222222,
             "#7201a8"
            ],
            [
             0.3333333333333333,
             "#9c179e"
            ],
            [
             0.4444444444444444,
             "#bd3786"
            ],
            [
             0.5555555555555556,
             "#d8576b"
            ],
            [
             0.6666666666666666,
             "#ed7953"
            ],
            [
             0.7777777777777778,
             "#fb9f3a"
            ],
            [
             0.8888888888888888,
             "#fdca26"
            ],
            [
             1,
             "#f0f921"
            ]
           ],
           "sequentialminus": [
            [
             0,
             "#0d0887"
            ],
            [
             0.1111111111111111,
             "#46039f"
            ],
            [
             0.2222222222222222,
             "#7201a8"
            ],
            [
             0.3333333333333333,
             "#9c179e"
            ],
            [
             0.4444444444444444,
             "#bd3786"
            ],
            [
             0.5555555555555556,
             "#d8576b"
            ],
            [
             0.6666666666666666,
             "#ed7953"
            ],
            [
             0.7777777777777778,
             "#fb9f3a"
            ],
            [
             0.8888888888888888,
             "#fdca26"
            ],
            [
             1,
             "#f0f921"
            ]
           ]
          },
          "colorway": [
           "#636efa",
           "#EF553B",
           "#00cc96",
           "#ab63fa",
           "#FFA15A",
           "#19d3f3",
           "#FF6692",
           "#B6E880",
           "#FF97FF",
           "#FECB52"
          ],
          "font": {
           "color": "#2a3f5f"
          },
          "geo": {
           "bgcolor": "white",
           "lakecolor": "white",
           "landcolor": "#E5ECF6",
           "showlakes": true,
           "showland": true,
           "subunitcolor": "white"
          },
          "hoverlabel": {
           "align": "left"
          },
          "hovermode": "closest",
          "mapbox": {
           "style": "light"
          },
          "paper_bgcolor": "white",
          "plot_bgcolor": "#E5ECF6",
          "polar": {
           "angularaxis": {
            "gridcolor": "white",
            "linecolor": "white",
            "ticks": ""
           },
           "bgcolor": "#E5ECF6",
           "radialaxis": {
            "gridcolor": "white",
            "linecolor": "white",
            "ticks": ""
           }
          },
          "scene": {
           "xaxis": {
            "backgroundcolor": "#E5ECF6",
            "gridcolor": "white",
            "gridwidth": 2,
            "linecolor": "white",
            "showbackground": true,
            "ticks": "",
            "zerolinecolor": "white"
           },
           "yaxis": {
            "backgroundcolor": "#E5ECF6",
            "gridcolor": "white",
            "gridwidth": 2,
            "linecolor": "white",
            "showbackground": true,
            "ticks": "",
            "zerolinecolor": "white"
           },
           "zaxis": {
            "backgroundcolor": "#E5ECF6",
            "gridcolor": "white",
            "gridwidth": 2,
            "linecolor": "white",
            "showbackground": true,
            "ticks": "",
            "zerolinecolor": "white"
           }
          },
          "shapedefaults": {
           "line": {
            "color": "#2a3f5f"
           }
          },
          "ternary": {
           "aaxis": {
            "gridcolor": "white",
            "linecolor": "white",
            "ticks": ""
           },
           "baxis": {
            "gridcolor": "white",
            "linecolor": "white",
            "ticks": ""
           },
           "bgcolor": "#E5ECF6",
           "caxis": {
            "gridcolor": "white",
            "linecolor": "white",
            "ticks": ""
           }
          },
          "title": {
           "x": 0.05
          },
          "xaxis": {
           "automargin": true,
           "gridcolor": "white",
           "linecolor": "white",
           "ticks": "",
           "title": {
            "standoff": 15
           },
           "zerolinecolor": "white",
           "zerolinewidth": 2
          },
          "yaxis": {
           "automargin": true,
           "gridcolor": "white",
           "linecolor": "white",
           "ticks": "",
           "title": {
            "standoff": 15
           },
           "zerolinecolor": "white",
           "zerolinewidth": 2
          }
         }
        },
        "title": {
         "font": {
          "color": "#4D5663"
         }
        },
        "xaxis": {
         "anchor": "y",
         "domain": [
          0,
          0.2125
         ],
         "gridcolor": "#E1E5ED",
         "showgrid": false,
         "tickfont": {
          "color": "#4D5663"
         },
         "title": {
          "font": {
           "color": "#4D5663"
          },
          "text": ""
         },
         "zerolinecolor": "#E1E5ED"
        },
        "xaxis10": {
         "anchor": "y10",
         "domain": [
          0.2625,
          0.475
         ],
         "gridcolor": "#E1E5ED",
         "showgrid": false,
         "tickfont": {
          "color": "#4D5663"
         },
         "title": {
          "font": {
           "color": "#4D5663"
          },
          "text": ""
         },
         "zerolinecolor": "#E1E5ED"
        },
        "xaxis11": {
         "anchor": "y11",
         "domain": [
          0.525,
          0.7375
         ],
         "gridcolor": "#E1E5ED",
         "showgrid": false,
         "tickfont": {
          "color": "#4D5663"
         },
         "title": {
          "font": {
           "color": "#4D5663"
          },
          "text": ""
         },
         "zerolinecolor": "#E1E5ED"
        },
        "xaxis12": {
         "anchor": "y12",
         "domain": [
          0.7875,
          1
         ],
         "gridcolor": "#E1E5ED",
         "showgrid": false,
         "tickfont": {
          "color": "#4D5663"
         },
         "title": {
          "font": {
           "color": "#4D5663"
          },
          "text": ""
         },
         "zerolinecolor": "#E1E5ED"
        },
        "xaxis13": {
         "anchor": "y13",
         "domain": [
          0,
          0.2125
         ],
         "gridcolor": "#E1E5ED",
         "showgrid": false,
         "tickfont": {
          "color": "#4D5663"
         },
         "title": {
          "font": {
           "color": "#4D5663"
          },
          "text": ""
         },
         "zerolinecolor": "#E1E5ED"
        },
        "xaxis14": {
         "anchor": "y14",
         "domain": [
          0.2625,
          0.475
         ],
         "gridcolor": "#E1E5ED",
         "showgrid": false,
         "tickfont": {
          "color": "#4D5663"
         },
         "title": {
          "font": {
           "color": "#4D5663"
          },
          "text": ""
         },
         "zerolinecolor": "#E1E5ED"
        },
        "xaxis15": {
         "anchor": "y15",
         "domain": [
          0.525,
          0.7375
         ],
         "gridcolor": "#E1E5ED",
         "showgrid": false,
         "tickfont": {
          "color": "#4D5663"
         },
         "title": {
          "font": {
           "color": "#4D5663"
          },
          "text": ""
         },
         "zerolinecolor": "#E1E5ED"
        },
        "xaxis16": {
         "anchor": "y16",
         "domain": [
          0.7875,
          1
         ],
         "gridcolor": "#E1E5ED",
         "showgrid": false,
         "tickfont": {
          "color": "#4D5663"
         },
         "title": {
          "font": {
           "color": "#4D5663"
          },
          "text": ""
         },
         "zerolinecolor": "#E1E5ED"
        },
        "xaxis2": {
         "anchor": "y2",
         "domain": [
          0.2625,
          0.475
         ],
         "gridcolor": "#E1E5ED",
         "showgrid": false,
         "tickfont": {
          "color": "#4D5663"
         },
         "title": {
          "font": {
           "color": "#4D5663"
          },
          "text": ""
         },
         "zerolinecolor": "#E1E5ED"
        },
        "xaxis3": {
         "anchor": "y3",
         "domain": [
          0.525,
          0.7375
         ],
         "gridcolor": "#E1E5ED",
         "showgrid": false,
         "tickfont": {
          "color": "#4D5663"
         },
         "title": {
          "font": {
           "color": "#4D5663"
          },
          "text": ""
         },
         "zerolinecolor": "#E1E5ED"
        },
        "xaxis4": {
         "anchor": "y4",
         "domain": [
          0.7875,
          1
         ],
         "gridcolor": "#E1E5ED",
         "showgrid": false,
         "tickfont": {
          "color": "#4D5663"
         },
         "title": {
          "font": {
           "color": "#4D5663"
          },
          "text": ""
         },
         "zerolinecolor": "#E1E5ED"
        },
        "xaxis5": {
         "anchor": "y5",
         "domain": [
          0,
          0.2125
         ],
         "gridcolor": "#E1E5ED",
         "showgrid": false,
         "tickfont": {
          "color": "#4D5663"
         },
         "title": {
          "font": {
           "color": "#4D5663"
          },
          "text": ""
         },
         "zerolinecolor": "#E1E5ED"
        },
        "xaxis6": {
         "anchor": "y6",
         "domain": [
          0.2625,
          0.475
         ],
         "gridcolor": "#E1E5ED",
         "showgrid": false,
         "tickfont": {
          "color": "#4D5663"
         },
         "title": {
          "font": {
           "color": "#4D5663"
          },
          "text": ""
         },
         "zerolinecolor": "#E1E5ED"
        },
        "xaxis7": {
         "anchor": "y7",
         "domain": [
          0.525,
          0.7375
         ],
         "gridcolor": "#E1E5ED",
         "showgrid": false,
         "tickfont": {
          "color": "#4D5663"
         },
         "title": {
          "font": {
           "color": "#4D5663"
          },
          "text": ""
         },
         "zerolinecolor": "#E1E5ED"
        },
        "xaxis8": {
         "anchor": "y8",
         "domain": [
          0.7875,
          1
         ],
         "gridcolor": "#E1E5ED",
         "showgrid": false,
         "tickfont": {
          "color": "#4D5663"
         },
         "title": {
          "font": {
           "color": "#4D5663"
          },
          "text": ""
         },
         "zerolinecolor": "#E1E5ED"
        },
        "xaxis9": {
         "anchor": "y9",
         "domain": [
          0,
          0.2125
         ],
         "gridcolor": "#E1E5ED",
         "showgrid": false,
         "tickfont": {
          "color": "#4D5663"
         },
         "title": {
          "font": {
           "color": "#4D5663"
          },
          "text": ""
         },
         "zerolinecolor": "#E1E5ED"
        },
        "yaxis": {
         "anchor": "x",
         "domain": [
          0.8025,
          1
         ],
         "gridcolor": "#E1E5ED",
         "showgrid": false,
         "tickfont": {
          "color": "#4D5663"
         },
         "title": {
          "font": {
           "color": "#4D5663"
          },
          "text": ""
         },
         "zerolinecolor": "#E1E5ED"
        },
        "yaxis10": {
         "anchor": "x10",
         "domain": [
          0.2675,
          0.465
         ],
         "gridcolor": "#E1E5ED",
         "showgrid": false,
         "tickfont": {
          "color": "#4D5663"
         },
         "title": {
          "font": {
           "color": "#4D5663"
          },
          "text": ""
         },
         "zerolinecolor": "#E1E5ED"
        },
        "yaxis11": {
         "anchor": "x11",
         "domain": [
          0.2675,
          0.465
         ],
         "gridcolor": "#E1E5ED",
         "showgrid": false,
         "tickfont": {
          "color": "#4D5663"
         },
         "title": {
          "font": {
           "color": "#4D5663"
          },
          "text": ""
         },
         "zerolinecolor": "#E1E5ED"
        },
        "yaxis12": {
         "anchor": "x12",
         "domain": [
          0.2675,
          0.465
         ],
         "gridcolor": "#E1E5ED",
         "showgrid": false,
         "tickfont": {
          "color": "#4D5663"
         },
         "title": {
          "font": {
           "color": "#4D5663"
          },
          "text": ""
         },
         "zerolinecolor": "#E1E5ED"
        },
        "yaxis13": {
         "anchor": "x13",
         "domain": [
          0,
          0.1975
         ],
         "gridcolor": "#E1E5ED",
         "showgrid": false,
         "tickfont": {
          "color": "#4D5663"
         },
         "title": {
          "font": {
           "color": "#4D5663"
          },
          "text": ""
         },
         "zerolinecolor": "#E1E5ED"
        },
        "yaxis14": {
         "anchor": "x14",
         "domain": [
          0,
          0.1975
         ],
         "gridcolor": "#E1E5ED",
         "showgrid": false,
         "tickfont": {
          "color": "#4D5663"
         },
         "title": {
          "font": {
           "color": "#4D5663"
          },
          "text": ""
         },
         "zerolinecolor": "#E1E5ED"
        },
        "yaxis15": {
         "anchor": "x15",
         "domain": [
          0,
          0.1975
         ],
         "gridcolor": "#E1E5ED",
         "showgrid": false,
         "tickfont": {
          "color": "#4D5663"
         },
         "title": {
          "font": {
           "color": "#4D5663"
          },
          "text": ""
         },
         "zerolinecolor": "#E1E5ED"
        },
        "yaxis16": {
         "anchor": "x16",
         "domain": [
          0,
          0.1975
         ],
         "gridcolor": "#E1E5ED",
         "showgrid": false,
         "tickfont": {
          "color": "#4D5663"
         },
         "title": {
          "font": {
           "color": "#4D5663"
          },
          "text": ""
         },
         "zerolinecolor": "#E1E5ED"
        },
        "yaxis2": {
         "anchor": "x2",
         "domain": [
          0.8025,
          1
         ],
         "gridcolor": "#E1E5ED",
         "showgrid": false,
         "tickfont": {
          "color": "#4D5663"
         },
         "title": {
          "font": {
           "color": "#4D5663"
          },
          "text": ""
         },
         "zerolinecolor": "#E1E5ED"
        },
        "yaxis3": {
         "anchor": "x3",
         "domain": [
          0.8025,
          1
         ],
         "gridcolor": "#E1E5ED",
         "showgrid": false,
         "tickfont": {
          "color": "#4D5663"
         },
         "title": {
          "font": {
           "color": "#4D5663"
          },
          "text": ""
         },
         "zerolinecolor": "#E1E5ED"
        },
        "yaxis4": {
         "anchor": "x4",
         "domain": [
          0.8025,
          1
         ],
         "gridcolor": "#E1E5ED",
         "showgrid": false,
         "tickfont": {
          "color": "#4D5663"
         },
         "title": {
          "font": {
           "color": "#4D5663"
          },
          "text": ""
         },
         "zerolinecolor": "#E1E5ED"
        },
        "yaxis5": {
         "anchor": "x5",
         "domain": [
          0.535,
          0.7325
         ],
         "gridcolor": "#E1E5ED",
         "showgrid": false,
         "tickfont": {
          "color": "#4D5663"
         },
         "title": {
          "font": {
           "color": "#4D5663"
          },
          "text": ""
         },
         "zerolinecolor": "#E1E5ED"
        },
        "yaxis6": {
         "anchor": "x6",
         "domain": [
          0.535,
          0.7325
         ],
         "gridcolor": "#E1E5ED",
         "showgrid": false,
         "tickfont": {
          "color": "#4D5663"
         },
         "title": {
          "font": {
           "color": "#4D5663"
          },
          "text": ""
         },
         "zerolinecolor": "#E1E5ED"
        },
        "yaxis7": {
         "anchor": "x7",
         "domain": [
          0.535,
          0.7325
         ],
         "gridcolor": "#E1E5ED",
         "showgrid": false,
         "tickfont": {
          "color": "#4D5663"
         },
         "title": {
          "font": {
           "color": "#4D5663"
          },
          "text": ""
         },
         "zerolinecolor": "#E1E5ED"
        },
        "yaxis8": {
         "anchor": "x8",
         "domain": [
          0.535,
          0.7325
         ],
         "gridcolor": "#E1E5ED",
         "showgrid": false,
         "tickfont": {
          "color": "#4D5663"
         },
         "title": {
          "font": {
           "color": "#4D5663"
          },
          "text": ""
         },
         "zerolinecolor": "#E1E5ED"
        },
        "yaxis9": {
         "anchor": "x9",
         "domain": [
          0.2675,
          0.465
         ],
         "gridcolor": "#E1E5ED",
         "showgrid": false,
         "tickfont": {
          "color": "#4D5663"
         },
         "title": {
          "font": {
           "color": "#4D5663"
          },
          "text": ""
         },
         "zerolinecolor": "#E1E5ED"
        }
       }
      },
      "text/html": [
       "<div>\n",
       "        \n",
       "        \n",
       "            <div id=\"76d73a0e-7005-4245-8638-ea220b7c4ec2\" class=\"plotly-graph-div\" style=\"height:525px; width:100%;\"></div>\n",
       "            <script type=\"text/javascript\">\n",
       "                require([\"plotly\"], function(Plotly) {\n",
       "                    window.PLOTLYENV=window.PLOTLYENV || {};\n",
       "                    window.PLOTLYENV.BASE_URL='https://plot.ly';\n",
       "                    \n",
       "                if (document.getElementById(\"76d73a0e-7005-4245-8638-ea220b7c4ec2\")) {\n",
       "                    Plotly.newPlot(\n",
       "                        '76d73a0e-7005-4245-8638-ea220b7c4ec2',\n",
       "                        [{\"histfunc\": \"count\", \"histnorm\": \"\", \"marker\": {\"color\": \"rgba(255, 153, 51, 1.0)\", \"line\": {\"color\": \"#4D5663\", \"width\": 1.3}}, \"name\": \"A\", \"nbinsx\": 10, \"opacity\": 0.8, \"orientation\": \"v\", \"type\": \"histogram\", \"x\": [-0.4219085963273162, 1.6821026955762655, 0.4309402142051801, 0.18411306212801068, -0.9281908221713763, -0.30874922794372156, -0.6290038474767073, -0.710791310697247, 0.17241542605474575, -0.8396869257109238, 0.3806311459364493, -0.09381049474443047, 1.5374181314768314, -0.43435294316790796, 0.6461335117639597, -0.12372906160993319, 0.3022970579415042, 0.20797545067424617, -1.1304501651601098, 1.1710948609964165, 0.41306944623653125, 1.9082257379137284, -0.05557142962097008, -1.0221174747845423, 1.1355091384569034, 1.1672445486913277, 1.2764241838725863, 2.3566817803969013, -1.2547557150229542, -1.7325392979131544, -1.2920823588295134, 0.7580820471569764, -1.1858168738788655, -0.4841514473365244, 0.6509296343287128, -0.11155686020046292, 1.5045969153456915, -0.12204236350353027, -0.05537132415007508, -0.28027869353027607, 0.9613497802818148, 0.9414707962483713, -0.22356717954305758, 0.7740342983721199, -0.7241989040863319, 0.02778003781964759, -0.024055724956834595, -0.915078920852879, 0.5544534137007058, -0.05977358602472853, 0.23458852778203726, -0.5512670496759174, -0.4314387696367131, 0.48138568092212886, 0.151312471088505, -1.2683697561726832, 1.1766160488988537, -0.27455824083556385, 0.07273934897587682, -0.8784205932002688, -1.6235056907620014, -0.644105336585791, -1.3059071560879678, 1.1747908906102706, -0.520795580404017, 1.5905914235182144, -1.0584157956032523, 0.017940488390363326, 0.21212164922397306, -0.7742147529291061, -0.07481568924787502, -0.7509498972280064, 0.40873810406643823, -0.35782741822032943, 1.3791574021604953, -0.4936108658569253, -0.1670321836666462, 0.0721790925295737, 0.7001017974476622, -0.7875091790993461, 0.0403208723208704, 0.3177404868415387, -0.056986594871039735, 0.4528785263940196, 0.6469206986380688, 0.41429955942854774, 0.12303138871638225, -0.4126393825177464, 0.819920664835239, 1.4600883911553522, 0.010063642024292574, -0.9264281665049272, -2.4315763663695646, -0.21280943033324837, -1.3301028052349306, 0.7023289550933015, -0.029671055859963696, 0.23193888262846393, -0.07874371469382994, -1.6085773535868477], \"xaxis\": \"x\", \"yaxis\": \"y\"}, {\"line\": {\"color\": \"rgba(128, 128, 128, 1.0)\", \"dash\": \"solid\", \"shape\": \"linear\", \"width\": 1.3}, \"marker\": {\"size\": 2, \"symbol\": \"circle\"}, \"mode\": \"markers\", \"name\": \"A\", \"text\": \"\", \"type\": \"scatter\", \"x\": [-1.7613428979724588, -0.09620099849344611, -1.0905554749516704, 2.028413152575853, 0.5097144860421348, 1.9936676211707947, 1.0142506644633973, -0.5618289023209938, -0.40593562199118266, -1.3499737054571084, -0.5106714828156713, -0.6407829666278434, 0.33372601270807, 0.08363181122544312, 1.5301434413624457, -0.8945041877588099, 2.0783279038907225, -1.6943865920544647, -0.4621595926119647, -0.7571348170370275, 1.3747665089714545, 0.4985098936943716, 0.08972003187459004, 0.23342732028905913, 0.2189969800399268, -0.0820069040087503, -0.6706333343074938, -1.275543117599897, -1.3699509360814053, 0.3901952160800126, 0.40515476073494494, 0.8497911535020408, 0.15108663732483765, 1.2849528676590611, 0.17502127520127353, -0.856472190237345, 1.3755879423415716, -0.6203252186849335, 0.2970832302677778, 1.4228886617797616, -0.295302329657846, -0.40732886017309755, 1.204717054703365, 0.10595034653194314, -1.927542908557601, 0.5340788211371374, -1.2595527258535075, -0.11744097365828426, -1.2322722675875935, 0.21000255384490144, 1.2316223605540324, 0.6248158351987497, 1.717265073311003, 0.5085247036804371, 1.1493774496114195, 1.6357881500228615, 0.6774690954323394, -0.254747629906569, 0.7359939702818833, 0.0831781421552935, 0.13981334614546928, 1.345513651578312, -0.44745217561787265, -0.2960953959886017, -2.302161247246569, -0.7188463621845694, -0.6990455748270236, -1.348662227162689, -0.5216899224336029, 0.14048488250800598, 0.1925196557013099, 0.3260063565304941, 0.14063928666482584, 0.9388815352295453, -0.5127863210973753, 1.1415664506931398, 1.067019420763672, 1.339232991142909, -0.8317479833178933, 0.06714344889144137, 0.40199971911834576, 0.8336260811188723, 0.6530201532241336, 0.2790208938611128, 0.9227703952463245, 0.3807611966083535, 2.14936755196243, 0.7000220332676952, -0.20238099719791927, 0.7578390029744853, -2.0759354128982563, 0.4873792439363221, 0.4452307214159721, 1.2154920757915866, -1.042516814260215, -0.15670485695431474, 1.9590815581255574, -0.19864062355667617, 0.02011113860892017, -1.0559148650915064], \"xaxis\": \"x2\", \"y\": [-0.4219085963273162, 1.6821026955762655, 0.4309402142051801, 0.18411306212801068, -0.9281908221713763, -0.30874922794372156, -0.6290038474767073, -0.710791310697247, 0.17241542605474575, -0.8396869257109238, 0.3806311459364493, -0.09381049474443047, 1.5374181314768314, -0.43435294316790796, 0.6461335117639597, -0.12372906160993319, 0.3022970579415042, 0.20797545067424617, -1.1304501651601098, 1.1710948609964165, 0.41306944623653125, 1.9082257379137284, -0.05557142962097008, -1.0221174747845423, 1.1355091384569034, 1.1672445486913277, 1.2764241838725863, 2.3566817803969013, -1.2547557150229542, -1.7325392979131544, -1.2920823588295134, 0.7580820471569764, -1.1858168738788655, -0.4841514473365244, 0.6509296343287128, -0.11155686020046292, 1.5045969153456915, -0.12204236350353027, -0.05537132415007508, -0.28027869353027607, 0.9613497802818148, 0.9414707962483713, -0.22356717954305758, 0.7740342983721199, -0.7241989040863319, 0.02778003781964759, -0.024055724956834595, -0.915078920852879, 0.5544534137007058, -0.05977358602472853, 0.23458852778203726, -0.5512670496759174, -0.4314387696367131, 0.48138568092212886, 0.151312471088505, -1.2683697561726832, 1.1766160488988537, -0.27455824083556385, 0.07273934897587682, -0.8784205932002688, -1.6235056907620014, -0.644105336585791, -1.3059071560879678, 1.1747908906102706, -0.520795580404017, 1.5905914235182144, -1.0584157956032523, 0.017940488390363326, 0.21212164922397306, -0.7742147529291061, -0.07481568924787502, -0.7509498972280064, 0.40873810406643823, -0.35782741822032943, 1.3791574021604953, -0.4936108658569253, -0.1670321836666462, 0.0721790925295737, 0.7001017974476622, -0.7875091790993461, 0.0403208723208704, 0.3177404868415387, -0.056986594871039735, 0.4528785263940196, 0.6469206986380688, 0.41429955942854774, 0.12303138871638225, -0.4126393825177464, 0.819920664835239, 1.4600883911553522, 0.010063642024292574, -0.9264281665049272, -2.4315763663695646, -0.21280943033324837, -1.3301028052349306, 0.7023289550933015, -0.029671055859963696, 0.23193888262846393, -0.07874371469382994, -1.6085773535868477], \"yaxis\": \"y2\"}, {\"line\": {\"color\": \"rgba(128, 128, 128, 1.0)\", \"dash\": \"solid\", \"shape\": \"linear\", \"width\": 1.3}, \"marker\": {\"size\": 2, \"symbol\": \"circle\"}, \"mode\": \"markers\", \"name\": \"A\", \"text\": \"\", \"type\": \"scatter\", \"x\": [0.877340393530819, 1.435622023945821, 0.6360382961982783, -0.8088787903316101, -0.23172892858673558, 0.11440303092632358, -0.7927561998310112, -0.12905611927866506, 2.1179684728203942, -1.0781523152152213, -0.9448327547636428, -2.8838293586283736, 1.13169762588118, 0.24409913944939385, -0.49193108996677837, 0.5332531930012352, 0.5988916632324476, -0.12842727629620793, -0.7708120236887703, 2.3218831985942496, 1.0360026320065483, -1.7206587469402068, -1.432465499121444, 0.7547426140712723, -0.5726872175713135, -1.1124145198807087, 1.1461185920381625, 0.7857040419874747, -0.45096021916879686, -0.2584793924867701, -0.5390362541606566, -0.7954909537643288, 1.8440655954146077, 2.7848809280259808, 0.015323016684481236, 0.8721993692018307, 0.6549191045183504, 1.4323236975521476, -1.559356839149063, 1.0050338702289945, -0.3182611294674199, 0.6983398760687588, -0.050164643023584324, 0.5572724504845437, 1.3779937701321803, 0.8994545402339059, -1.3120821232157294, 1.2201245228426822, 1.5282608495496202, 0.9254820080966043, 0.2739692212998874, -0.38139705730540574, 0.881406193773732, 0.44911938938302937, 0.9317109610108755, 0.09682625216657019, -0.40264764858525165, 0.32373518071525215, -0.7023251540892774, -0.35476280626320067, -0.5134760136980314, 1.1907573479013975, 0.15360540707196507, -0.6167331871742867, 0.5369462753063045, -0.8049281985374355, 1.2633094731897685, 0.8968658891336178, -1.0084989424685016, 0.7910528027371707, -1.489634982982338, -0.7416029166105795, -0.11134178161371881, 0.13057873895587038, -0.4648124601976657, -1.3197863299241945, 1.0917038166888007, -0.3841915803835233, -0.9174827984197901, 0.27029193444627914, -0.6463934410803012, -0.260881572694911, 0.42920993961426906, -0.17557858262331538, -0.4875258216419134, 0.22071496360543055, 0.33080009791824827, -0.19679212543359229, -0.4054379556408084, 0.2702413472992334, 0.9540101486446227, -0.47261522865288474, -0.20876764443768958, -2.214358976857598, -1.6146362713179612, -0.04359785476916666, 1.5532453764998175, 0.6529555605252939, 0.6003118387090443, -1.7541757715500692], \"xaxis\": \"x3\", \"y\": [-0.4219085963273162, 1.6821026955762655, 0.4309402142051801, 0.18411306212801068, -0.9281908221713763, -0.30874922794372156, -0.6290038474767073, -0.710791310697247, 0.17241542605474575, -0.8396869257109238, 0.3806311459364493, -0.09381049474443047, 1.5374181314768314, -0.43435294316790796, 0.6461335117639597, -0.12372906160993319, 0.3022970579415042, 0.20797545067424617, -1.1304501651601098, 1.1710948609964165, 0.41306944623653125, 1.9082257379137284, -0.05557142962097008, -1.0221174747845423, 1.1355091384569034, 1.1672445486913277, 1.2764241838725863, 2.3566817803969013, -1.2547557150229542, -1.7325392979131544, -1.2920823588295134, 0.7580820471569764, -1.1858168738788655, -0.4841514473365244, 0.6509296343287128, -0.11155686020046292, 1.5045969153456915, -0.12204236350353027, -0.05537132415007508, -0.28027869353027607, 0.9613497802818148, 0.9414707962483713, -0.22356717954305758, 0.7740342983721199, -0.7241989040863319, 0.02778003781964759, -0.024055724956834595, -0.915078920852879, 0.5544534137007058, -0.05977358602472853, 0.23458852778203726, -0.5512670496759174, -0.4314387696367131, 0.48138568092212886, 0.151312471088505, -1.2683697561726832, 1.1766160488988537, -0.27455824083556385, 0.07273934897587682, -0.8784205932002688, -1.6235056907620014, -0.644105336585791, -1.3059071560879678, 1.1747908906102706, -0.520795580404017, 1.5905914235182144, -1.0584157956032523, 0.017940488390363326, 0.21212164922397306, -0.7742147529291061, -0.07481568924787502, -0.7509498972280064, 0.40873810406643823, -0.35782741822032943, 1.3791574021604953, -0.4936108658569253, -0.1670321836666462, 0.0721790925295737, 0.7001017974476622, -0.7875091790993461, 0.0403208723208704, 0.3177404868415387, -0.056986594871039735, 0.4528785263940196, 0.6469206986380688, 0.41429955942854774, 0.12303138871638225, -0.4126393825177464, 0.819920664835239, 1.4600883911553522, 0.010063642024292574, -0.9264281665049272, -2.4315763663695646, -0.21280943033324837, -1.3301028052349306, 0.7023289550933015, -0.029671055859963696, 0.23193888262846393, -0.07874371469382994, -1.6085773535868477], \"yaxis\": \"y3\"}, {\"line\": {\"color\": \"rgba(128, 128, 128, 1.0)\", \"dash\": \"solid\", \"shape\": \"linear\", \"width\": 1.3}, \"marker\": {\"size\": 2, \"symbol\": \"circle\"}, \"mode\": \"markers\", \"name\": \"A\", \"text\": \"\", \"type\": \"scatter\", \"x\": [0.4822939158128638, -0.6297265851787359, -0.12899300222917545, 0.3595493025853616, -1.7059016820097428, 0.40059307146558587, -1.4068073778764492, 0.3834016972127393, -1.7598921740467124, -0.21421655541625736, -0.29457129984091374, -0.13652826273418922, -0.5181207235272481, -0.7241122704391437, 0.2586898855953168, -0.10381642777404514, 1.3367737240762505, -0.38658476941650227, 2.4742790276449216, 1.14875129590688, 1.3912503123871391, -0.0033197243261529224, -1.19082248731639, 0.2751458118525651, -1.6599775727977177, -1.274945697761092, 0.37182217286973646, -0.5268445225797118, 0.9050440646744027, -0.8218301268987264, -1.0020772704577243, 0.9747758938851351, 1.0946543971512066, -0.3738901911318837, -0.9775912672835907, -0.8190014038800748, -1.2064774069820927, -1.1107098910115145, -1.8793635677722884, 0.4654732944965561, 0.31753805393940443, -0.6672297504225395, -0.3614888690338335, 0.3050856039928385, 1.6829137678890485, -0.2280276602188539, 0.7722805428111595, 0.27570026918406426, 0.9288329969108214, 0.580435776905149, -0.7624796629467064, 0.2888797553718462, 0.30513653416702996, 0.2679749729653962, -1.008267566870648, -0.5266778672818849, 0.3696294360889518, 1.373659505437327, 0.6739704691011311, -0.952446421262601, 0.17464338089142128, -1.4865820164968724, -0.7944212484338272, 0.9240311814338681, -0.5103584898066241, 0.23983196803879125, 0.4063788167107547, -0.04144377909100635, 0.3825459853097249, 2.1126534475846577, 0.2055463026834519, 1.373234223920849, 0.8914618734727747, 0.06290545004429736, 1.178751499510046, -1.1754047331967676, -0.3006344323249474, 1.845624830236454, -2.055143244121072, 1.0712616745058912, 1.0903896275646217, 0.932098686751795, 0.3917946096289204, 0.8921392179793287, -2.083690317065272, -0.6018113851704786, -0.7457577097664069, -0.778441406944475, -0.9487579891381042, 0.4176205318307711, -1.94518375485339, 0.1613901197065824, 1.7713198008930309, 0.8187354155568696, -1.624124334479861, -0.47487195498105755, -0.5052526344587429, 0.6734127042285504, 0.6884268938202475, -0.2626954277066396], \"xaxis\": \"x4\", \"y\": [-0.4219085963273162, 1.6821026955762655, 0.4309402142051801, 0.18411306212801068, -0.9281908221713763, -0.30874922794372156, -0.6290038474767073, -0.710791310697247, 0.17241542605474575, -0.8396869257109238, 0.3806311459364493, -0.09381049474443047, 1.5374181314768314, -0.43435294316790796, 0.6461335117639597, -0.12372906160993319, 0.3022970579415042, 0.20797545067424617, -1.1304501651601098, 1.1710948609964165, 0.41306944623653125, 1.9082257379137284, -0.05557142962097008, -1.0221174747845423, 1.1355091384569034, 1.1672445486913277, 1.2764241838725863, 2.3566817803969013, -1.2547557150229542, -1.7325392979131544, -1.2920823588295134, 0.7580820471569764, -1.1858168738788655, -0.4841514473365244, 0.6509296343287128, -0.11155686020046292, 1.5045969153456915, -0.12204236350353027, -0.05537132415007508, -0.28027869353027607, 0.9613497802818148, 0.9414707962483713, -0.22356717954305758, 0.7740342983721199, -0.7241989040863319, 0.02778003781964759, -0.024055724956834595, -0.915078920852879, 0.5544534137007058, -0.05977358602472853, 0.23458852778203726, -0.5512670496759174, -0.4314387696367131, 0.48138568092212886, 0.151312471088505, -1.2683697561726832, 1.1766160488988537, -0.27455824083556385, 0.07273934897587682, -0.8784205932002688, -1.6235056907620014, -0.644105336585791, -1.3059071560879678, 1.1747908906102706, -0.520795580404017, 1.5905914235182144, -1.0584157956032523, 0.017940488390363326, 0.21212164922397306, -0.7742147529291061, -0.07481568924787502, -0.7509498972280064, 0.40873810406643823, -0.35782741822032943, 1.3791574021604953, -0.4936108658569253, -0.1670321836666462, 0.0721790925295737, 0.7001017974476622, -0.7875091790993461, 0.0403208723208704, 0.3177404868415387, -0.056986594871039735, 0.4528785263940196, 0.6469206986380688, 0.41429955942854774, 0.12303138871638225, -0.4126393825177464, 0.819920664835239, 1.4600883911553522, 0.010063642024292574, -0.9264281665049272, -2.4315763663695646, -0.21280943033324837, -1.3301028052349306, 0.7023289550933015, -0.029671055859963696, 0.23193888262846393, -0.07874371469382994, -1.6085773535868477], \"yaxis\": \"y4\"}, {\"line\": {\"color\": \"rgba(128, 128, 128, 1.0)\", \"dash\": \"solid\", \"shape\": \"linear\", \"width\": 1.3}, \"marker\": {\"size\": 2, \"symbol\": \"circle\"}, \"mode\": \"markers\", \"name\": \"B\", \"text\": \"\", \"type\": \"scatter\", \"x\": [-0.4219085963273162, 1.6821026955762655, 0.4309402142051801, 0.18411306212801068, -0.9281908221713763, -0.30874922794372156, -0.6290038474767073, -0.710791310697247, 0.17241542605474575, -0.8396869257109238, 0.3806311459364493, -0.09381049474443047, 1.5374181314768314, -0.43435294316790796, 0.6461335117639597, -0.12372906160993319, 0.3022970579415042, 0.20797545067424617, -1.1304501651601098, 1.1710948609964165, 0.41306944623653125, 1.9082257379137284, -0.05557142962097008, -1.0221174747845423, 1.1355091384569034, 1.1672445486913277, 1.2764241838725863, 2.3566817803969013, -1.2547557150229542, -1.7325392979131544, -1.2920823588295134, 0.7580820471569764, -1.1858168738788655, -0.4841514473365244, 0.6509296343287128, -0.11155686020046292, 1.5045969153456915, -0.12204236350353027, -0.05537132415007508, -0.28027869353027607, 0.9613497802818148, 0.9414707962483713, -0.22356717954305758, 0.7740342983721199, -0.7241989040863319, 0.02778003781964759, -0.024055724956834595, -0.915078920852879, 0.5544534137007058, -0.05977358602472853, 0.23458852778203726, -0.5512670496759174, -0.4314387696367131, 0.48138568092212886, 0.151312471088505, -1.2683697561726832, 1.1766160488988537, -0.27455824083556385, 0.07273934897587682, -0.8784205932002688, -1.6235056907620014, -0.644105336585791, -1.3059071560879678, 1.1747908906102706, -0.520795580404017, 1.5905914235182144, -1.0584157956032523, 0.017940488390363326, 0.21212164922397306, -0.7742147529291061, -0.07481568924787502, -0.7509498972280064, 0.40873810406643823, -0.35782741822032943, 1.3791574021604953, -0.4936108658569253, -0.1670321836666462, 0.0721790925295737, 0.7001017974476622, -0.7875091790993461, 0.0403208723208704, 0.3177404868415387, -0.056986594871039735, 0.4528785263940196, 0.6469206986380688, 0.41429955942854774, 0.12303138871638225, -0.4126393825177464, 0.819920664835239, 1.4600883911553522, 0.010063642024292574, -0.9264281665049272, -2.4315763663695646, -0.21280943033324837, -1.3301028052349306, 0.7023289550933015, -0.029671055859963696, 0.23193888262846393, -0.07874371469382994, -1.6085773535868477], \"xaxis\": \"x5\", \"y\": [-1.7613428979724588, -0.09620099849344611, -1.0905554749516704, 2.028413152575853, 0.5097144860421348, 1.9936676211707947, 1.0142506644633973, -0.5618289023209938, -0.40593562199118266, -1.3499737054571084, -0.5106714828156713, -0.6407829666278434, 0.33372601270807, 0.08363181122544312, 1.5301434413624457, -0.8945041877588099, 2.0783279038907225, -1.6943865920544647, -0.4621595926119647, -0.7571348170370275, 1.3747665089714545, 0.4985098936943716, 0.08972003187459004, 0.23342732028905913, 0.2189969800399268, -0.0820069040087503, -0.6706333343074938, -1.275543117599897, -1.3699509360814053, 0.3901952160800126, 0.40515476073494494, 0.8497911535020408, 0.15108663732483765, 1.2849528676590611, 0.17502127520127353, -0.856472190237345, 1.3755879423415716, -0.6203252186849335, 0.2970832302677778, 1.4228886617797616, -0.295302329657846, -0.40732886017309755, 1.204717054703365, 0.10595034653194314, -1.927542908557601, 0.5340788211371374, -1.2595527258535075, -0.11744097365828426, -1.2322722675875935, 0.21000255384490144, 1.2316223605540324, 0.6248158351987497, 1.717265073311003, 0.5085247036804371, 1.1493774496114195, 1.6357881500228615, 0.6774690954323394, -0.254747629906569, 0.7359939702818833, 0.0831781421552935, 0.13981334614546928, 1.345513651578312, -0.44745217561787265, -0.2960953959886017, -2.302161247246569, -0.7188463621845694, -0.6990455748270236, -1.348662227162689, -0.5216899224336029, 0.14048488250800598, 0.1925196557013099, 0.3260063565304941, 0.14063928666482584, 0.9388815352295453, -0.5127863210973753, 1.1415664506931398, 1.067019420763672, 1.339232991142909, -0.8317479833178933, 0.06714344889144137, 0.40199971911834576, 0.8336260811188723, 0.6530201532241336, 0.2790208938611128, 0.9227703952463245, 0.3807611966083535, 2.14936755196243, 0.7000220332676952, -0.20238099719791927, 0.7578390029744853, -2.0759354128982563, 0.4873792439363221, 0.4452307214159721, 1.2154920757915866, -1.042516814260215, -0.15670485695431474, 1.9590815581255574, -0.19864062355667617, 0.02011113860892017, -1.0559148650915064], \"yaxis\": \"y5\"}, {\"histfunc\": \"count\", \"histnorm\": \"\", \"marker\": {\"color\": \"rgba(55, 128, 191, 1.0)\", \"line\": {\"color\": \"#4D5663\", \"width\": 1.3}}, \"name\": \"B\", \"nbinsx\": 10, \"opacity\": 0.8, \"orientation\": \"v\", \"type\": \"histogram\", \"x\": [-1.7613428979724588, -0.09620099849344611, -1.0905554749516704, 2.028413152575853, 0.5097144860421348, 1.9936676211707947, 1.0142506644633973, -0.5618289023209938, -0.40593562199118266, -1.3499737054571084, -0.5106714828156713, -0.6407829666278434, 0.33372601270807, 0.08363181122544312, 1.5301434413624457, -0.8945041877588099, 2.0783279038907225, -1.6943865920544647, -0.4621595926119647, -0.7571348170370275, 1.3747665089714545, 0.4985098936943716, 0.08972003187459004, 0.23342732028905913, 0.2189969800399268, -0.0820069040087503, -0.6706333343074938, -1.275543117599897, -1.3699509360814053, 0.3901952160800126, 0.40515476073494494, 0.8497911535020408, 0.15108663732483765, 1.2849528676590611, 0.17502127520127353, -0.856472190237345, 1.3755879423415716, -0.6203252186849335, 0.2970832302677778, 1.4228886617797616, -0.295302329657846, -0.40732886017309755, 1.204717054703365, 0.10595034653194314, -1.927542908557601, 0.5340788211371374, -1.2595527258535075, -0.11744097365828426, -1.2322722675875935, 0.21000255384490144, 1.2316223605540324, 0.6248158351987497, 1.717265073311003, 0.5085247036804371, 1.1493774496114195, 1.6357881500228615, 0.6774690954323394, -0.254747629906569, 0.7359939702818833, 0.0831781421552935, 0.13981334614546928, 1.345513651578312, -0.44745217561787265, -0.2960953959886017, -2.302161247246569, -0.7188463621845694, -0.6990455748270236, -1.348662227162689, -0.5216899224336029, 0.14048488250800598, 0.1925196557013099, 0.3260063565304941, 0.14063928666482584, 0.9388815352295453, -0.5127863210973753, 1.1415664506931398, 1.067019420763672, 1.339232991142909, -0.8317479833178933, 0.06714344889144137, 0.40199971911834576, 0.8336260811188723, 0.6530201532241336, 0.2790208938611128, 0.9227703952463245, 0.3807611966083535, 2.14936755196243, 0.7000220332676952, -0.20238099719791927, 0.7578390029744853, -2.0759354128982563, 0.4873792439363221, 0.4452307214159721, 1.2154920757915866, -1.042516814260215, -0.15670485695431474, 1.9590815581255574, -0.19864062355667617, 0.02011113860892017, -1.0559148650915064], \"xaxis\": \"x6\", \"yaxis\": \"y6\"}, {\"line\": {\"color\": \"rgba(128, 128, 128, 1.0)\", \"dash\": \"solid\", \"shape\": \"linear\", \"width\": 1.3}, \"marker\": {\"size\": 2, \"symbol\": \"circle\"}, \"mode\": \"markers\", \"name\": \"B\", \"text\": \"\", \"type\": \"scatter\", \"x\": [0.877340393530819, 1.435622023945821, 0.6360382961982783, -0.8088787903316101, -0.23172892858673558, 0.11440303092632358, -0.7927561998310112, -0.12905611927866506, 2.1179684728203942, -1.0781523152152213, -0.9448327547636428, -2.8838293586283736, 1.13169762588118, 0.24409913944939385, -0.49193108996677837, 0.5332531930012352, 0.5988916632324476, -0.12842727629620793, -0.7708120236887703, 2.3218831985942496, 1.0360026320065483, -1.7206587469402068, -1.432465499121444, 0.7547426140712723, -0.5726872175713135, -1.1124145198807087, 1.1461185920381625, 0.7857040419874747, -0.45096021916879686, -0.2584793924867701, -0.5390362541606566, -0.7954909537643288, 1.8440655954146077, 2.7848809280259808, 0.015323016684481236, 0.8721993692018307, 0.6549191045183504, 1.4323236975521476, -1.559356839149063, 1.0050338702289945, -0.3182611294674199, 0.6983398760687588, -0.050164643023584324, 0.5572724504845437, 1.3779937701321803, 0.8994545402339059, -1.3120821232157294, 1.2201245228426822, 1.5282608495496202, 0.9254820080966043, 0.2739692212998874, -0.38139705730540574, 0.881406193773732, 0.44911938938302937, 0.9317109610108755, 0.09682625216657019, -0.40264764858525165, 0.32373518071525215, -0.7023251540892774, -0.35476280626320067, -0.5134760136980314, 1.1907573479013975, 0.15360540707196507, -0.6167331871742867, 0.5369462753063045, -0.8049281985374355, 1.2633094731897685, 0.8968658891336178, -1.0084989424685016, 0.7910528027371707, -1.489634982982338, -0.7416029166105795, -0.11134178161371881, 0.13057873895587038, -0.4648124601976657, -1.3197863299241945, 1.0917038166888007, -0.3841915803835233, -0.9174827984197901, 0.27029193444627914, -0.6463934410803012, -0.260881572694911, 0.42920993961426906, -0.17557858262331538, -0.4875258216419134, 0.22071496360543055, 0.33080009791824827, -0.19679212543359229, -0.4054379556408084, 0.2702413472992334, 0.9540101486446227, -0.47261522865288474, -0.20876764443768958, -2.214358976857598, -1.6146362713179612, -0.04359785476916666, 1.5532453764998175, 0.6529555605252939, 0.6003118387090443, -1.7541757715500692], \"xaxis\": \"x7\", \"y\": [-1.7613428979724588, -0.09620099849344611, -1.0905554749516704, 2.028413152575853, 0.5097144860421348, 1.9936676211707947, 1.0142506644633973, -0.5618289023209938, -0.40593562199118266, -1.3499737054571084, -0.5106714828156713, -0.6407829666278434, 0.33372601270807, 0.08363181122544312, 1.5301434413624457, -0.8945041877588099, 2.0783279038907225, -1.6943865920544647, -0.4621595926119647, -0.7571348170370275, 1.3747665089714545, 0.4985098936943716, 0.08972003187459004, 0.23342732028905913, 0.2189969800399268, -0.0820069040087503, -0.6706333343074938, -1.275543117599897, -1.3699509360814053, 0.3901952160800126, 0.40515476073494494, 0.8497911535020408, 0.15108663732483765, 1.2849528676590611, 0.17502127520127353, -0.856472190237345, 1.3755879423415716, -0.6203252186849335, 0.2970832302677778, 1.4228886617797616, -0.295302329657846, -0.40732886017309755, 1.204717054703365, 0.10595034653194314, -1.927542908557601, 0.5340788211371374, -1.2595527258535075, -0.11744097365828426, -1.2322722675875935, 0.21000255384490144, 1.2316223605540324, 0.6248158351987497, 1.717265073311003, 0.5085247036804371, 1.1493774496114195, 1.6357881500228615, 0.6774690954323394, -0.254747629906569, 0.7359939702818833, 0.0831781421552935, 0.13981334614546928, 1.345513651578312, -0.44745217561787265, -0.2960953959886017, -2.302161247246569, -0.7188463621845694, -0.6990455748270236, -1.348662227162689, -0.5216899224336029, 0.14048488250800598, 0.1925196557013099, 0.3260063565304941, 0.14063928666482584, 0.9388815352295453, -0.5127863210973753, 1.1415664506931398, 1.067019420763672, 1.339232991142909, -0.8317479833178933, 0.06714344889144137, 0.40199971911834576, 0.8336260811188723, 0.6530201532241336, 0.2790208938611128, 0.9227703952463245, 0.3807611966083535, 2.14936755196243, 0.7000220332676952, -0.20238099719791927, 0.7578390029744853, -2.0759354128982563, 0.4873792439363221, 0.4452307214159721, 1.2154920757915866, -1.042516814260215, -0.15670485695431474, 1.9590815581255574, -0.19864062355667617, 0.02011113860892017, -1.0559148650915064], \"yaxis\": \"y7\"}, {\"line\": {\"color\": \"rgba(128, 128, 128, 1.0)\", \"dash\": \"solid\", \"shape\": \"linear\", \"width\": 1.3}, \"marker\": {\"size\": 2, \"symbol\": \"circle\"}, \"mode\": \"markers\", \"name\": \"B\", \"text\": \"\", \"type\": \"scatter\", \"x\": [0.4822939158128638, -0.6297265851787359, -0.12899300222917545, 0.3595493025853616, -1.7059016820097428, 0.40059307146558587, -1.4068073778764492, 0.3834016972127393, -1.7598921740467124, -0.21421655541625736, -0.29457129984091374, -0.13652826273418922, -0.5181207235272481, -0.7241122704391437, 0.2586898855953168, -0.10381642777404514, 1.3367737240762505, -0.38658476941650227, 2.4742790276449216, 1.14875129590688, 1.3912503123871391, -0.0033197243261529224, -1.19082248731639, 0.2751458118525651, -1.6599775727977177, -1.274945697761092, 0.37182217286973646, -0.5268445225797118, 0.9050440646744027, -0.8218301268987264, -1.0020772704577243, 0.9747758938851351, 1.0946543971512066, -0.3738901911318837, -0.9775912672835907, -0.8190014038800748, -1.2064774069820927, -1.1107098910115145, -1.8793635677722884, 0.4654732944965561, 0.31753805393940443, -0.6672297504225395, -0.3614888690338335, 0.3050856039928385, 1.6829137678890485, -0.2280276602188539, 0.7722805428111595, 0.27570026918406426, 0.9288329969108214, 0.580435776905149, -0.7624796629467064, 0.2888797553718462, 0.30513653416702996, 0.2679749729653962, -1.008267566870648, -0.5266778672818849, 0.3696294360889518, 1.373659505437327, 0.6739704691011311, -0.952446421262601, 0.17464338089142128, -1.4865820164968724, -0.7944212484338272, 0.9240311814338681, -0.5103584898066241, 0.23983196803879125, 0.4063788167107547, -0.04144377909100635, 0.3825459853097249, 2.1126534475846577, 0.2055463026834519, 1.373234223920849, 0.8914618734727747, 0.06290545004429736, 1.178751499510046, -1.1754047331967676, -0.3006344323249474, 1.845624830236454, -2.055143244121072, 1.0712616745058912, 1.0903896275646217, 0.932098686751795, 0.3917946096289204, 0.8921392179793287, -2.083690317065272, -0.6018113851704786, -0.7457577097664069, -0.778441406944475, -0.9487579891381042, 0.4176205318307711, -1.94518375485339, 0.1613901197065824, 1.7713198008930309, 0.8187354155568696, -1.624124334479861, -0.47487195498105755, -0.5052526344587429, 0.6734127042285504, 0.6884268938202475, -0.2626954277066396], \"xaxis\": \"x8\", \"y\": [-1.7613428979724588, -0.09620099849344611, -1.0905554749516704, 2.028413152575853, 0.5097144860421348, 1.9936676211707947, 1.0142506644633973, -0.5618289023209938, -0.40593562199118266, -1.3499737054571084, -0.5106714828156713, -0.6407829666278434, 0.33372601270807, 0.08363181122544312, 1.5301434413624457, -0.8945041877588099, 2.0783279038907225, -1.6943865920544647, -0.4621595926119647, -0.7571348170370275, 1.3747665089714545, 0.4985098936943716, 0.08972003187459004, 0.23342732028905913, 0.2189969800399268, -0.0820069040087503, -0.6706333343074938, -1.275543117599897, -1.3699509360814053, 0.3901952160800126, 0.40515476073494494, 0.8497911535020408, 0.15108663732483765, 1.2849528676590611, 0.17502127520127353, -0.856472190237345, 1.3755879423415716, -0.6203252186849335, 0.2970832302677778, 1.4228886617797616, -0.295302329657846, -0.40732886017309755, 1.204717054703365, 0.10595034653194314, -1.927542908557601, 0.5340788211371374, -1.2595527258535075, -0.11744097365828426, -1.2322722675875935, 0.21000255384490144, 1.2316223605540324, 0.6248158351987497, 1.717265073311003, 0.5085247036804371, 1.1493774496114195, 1.6357881500228615, 0.6774690954323394, -0.254747629906569, 0.7359939702818833, 0.0831781421552935, 0.13981334614546928, 1.345513651578312, -0.44745217561787265, -0.2960953959886017, -2.302161247246569, -0.7188463621845694, -0.6990455748270236, -1.348662227162689, -0.5216899224336029, 0.14048488250800598, 0.1925196557013099, 0.3260063565304941, 0.14063928666482584, 0.9388815352295453, -0.5127863210973753, 1.1415664506931398, 1.067019420763672, 1.339232991142909, -0.8317479833178933, 0.06714344889144137, 0.40199971911834576, 0.8336260811188723, 0.6530201532241336, 0.2790208938611128, 0.9227703952463245, 0.3807611966083535, 2.14936755196243, 0.7000220332676952, -0.20238099719791927, 0.7578390029744853, -2.0759354128982563, 0.4873792439363221, 0.4452307214159721, 1.2154920757915866, -1.042516814260215, -0.15670485695431474, 1.9590815581255574, -0.19864062355667617, 0.02011113860892017, -1.0559148650915064], \"yaxis\": \"y8\"}, {\"line\": {\"color\": \"rgba(128, 128, 128, 1.0)\", \"dash\": \"solid\", \"shape\": \"linear\", \"width\": 1.3}, \"marker\": {\"size\": 2, \"symbol\": \"circle\"}, \"mode\": \"markers\", \"name\": \"C\", \"text\": \"\", \"type\": \"scatter\", \"x\": [-0.4219085963273162, 1.6821026955762655, 0.4309402142051801, 0.18411306212801068, -0.9281908221713763, -0.30874922794372156, -0.6290038474767073, -0.710791310697247, 0.17241542605474575, -0.8396869257109238, 0.3806311459364493, -0.09381049474443047, 1.5374181314768314, -0.43435294316790796, 0.6461335117639597, -0.12372906160993319, 0.3022970579415042, 0.20797545067424617, -1.1304501651601098, 1.1710948609964165, 0.41306944623653125, 1.9082257379137284, -0.05557142962097008, -1.0221174747845423, 1.1355091384569034, 1.1672445486913277, 1.2764241838725863, 2.3566817803969013, -1.2547557150229542, -1.7325392979131544, -1.2920823588295134, 0.7580820471569764, -1.1858168738788655, -0.4841514473365244, 0.6509296343287128, -0.11155686020046292, 1.5045969153456915, -0.12204236350353027, -0.05537132415007508, -0.28027869353027607, 0.9613497802818148, 0.9414707962483713, -0.22356717954305758, 0.7740342983721199, -0.7241989040863319, 0.02778003781964759, -0.024055724956834595, -0.915078920852879, 0.5544534137007058, -0.05977358602472853, 0.23458852778203726, -0.5512670496759174, -0.4314387696367131, 0.48138568092212886, 0.151312471088505, -1.2683697561726832, 1.1766160488988537, -0.27455824083556385, 0.07273934897587682, -0.8784205932002688, -1.6235056907620014, -0.644105336585791, -1.3059071560879678, 1.1747908906102706, -0.520795580404017, 1.5905914235182144, -1.0584157956032523, 0.017940488390363326, 0.21212164922397306, -0.7742147529291061, -0.07481568924787502, -0.7509498972280064, 0.40873810406643823, -0.35782741822032943, 1.3791574021604953, -0.4936108658569253, -0.1670321836666462, 0.0721790925295737, 0.7001017974476622, -0.7875091790993461, 0.0403208723208704, 0.3177404868415387, -0.056986594871039735, 0.4528785263940196, 0.6469206986380688, 0.41429955942854774, 0.12303138871638225, -0.4126393825177464, 0.819920664835239, 1.4600883911553522, 0.010063642024292574, -0.9264281665049272, -2.4315763663695646, -0.21280943033324837, -1.3301028052349306, 0.7023289550933015, -0.029671055859963696, 0.23193888262846393, -0.07874371469382994, -1.6085773535868477], \"xaxis\": \"x9\", \"y\": [0.877340393530819, 1.435622023945821, 0.6360382961982783, -0.8088787903316101, -0.23172892858673558, 0.11440303092632358, -0.7927561998310112, -0.12905611927866506, 2.1179684728203942, -1.0781523152152213, -0.9448327547636428, -2.8838293586283736, 1.13169762588118, 0.24409913944939385, -0.49193108996677837, 0.5332531930012352, 0.5988916632324476, -0.12842727629620793, -0.7708120236887703, 2.3218831985942496, 1.0360026320065483, -1.7206587469402068, -1.432465499121444, 0.7547426140712723, -0.5726872175713135, -1.1124145198807087, 1.1461185920381625, 0.7857040419874747, -0.45096021916879686, -0.2584793924867701, -0.5390362541606566, -0.7954909537643288, 1.8440655954146077, 2.7848809280259808, 0.015323016684481236, 0.8721993692018307, 0.6549191045183504, 1.4323236975521476, -1.559356839149063, 1.0050338702289945, -0.3182611294674199, 0.6983398760687588, -0.050164643023584324, 0.5572724504845437, 1.3779937701321803, 0.8994545402339059, -1.3120821232157294, 1.2201245228426822, 1.5282608495496202, 0.9254820080966043, 0.2739692212998874, -0.38139705730540574, 0.881406193773732, 0.44911938938302937, 0.9317109610108755, 0.09682625216657019, -0.40264764858525165, 0.32373518071525215, -0.7023251540892774, -0.35476280626320067, -0.5134760136980314, 1.1907573479013975, 0.15360540707196507, -0.6167331871742867, 0.5369462753063045, -0.8049281985374355, 1.2633094731897685, 0.8968658891336178, -1.0084989424685016, 0.7910528027371707, -1.489634982982338, -0.7416029166105795, -0.11134178161371881, 0.13057873895587038, -0.4648124601976657, -1.3197863299241945, 1.0917038166888007, -0.3841915803835233, -0.9174827984197901, 0.27029193444627914, -0.6463934410803012, -0.260881572694911, 0.42920993961426906, -0.17557858262331538, -0.4875258216419134, 0.22071496360543055, 0.33080009791824827, -0.19679212543359229, -0.4054379556408084, 0.2702413472992334, 0.9540101486446227, -0.47261522865288474, -0.20876764443768958, -2.214358976857598, -1.6146362713179612, -0.04359785476916666, 1.5532453764998175, 0.6529555605252939, 0.6003118387090443, -1.7541757715500692], \"yaxis\": \"y9\"}, {\"line\": {\"color\": \"rgba(128, 128, 128, 1.0)\", \"dash\": \"solid\", \"shape\": \"linear\", \"width\": 1.3}, \"marker\": {\"size\": 2, \"symbol\": \"circle\"}, \"mode\": \"markers\", \"name\": \"C\", \"text\": \"\", \"type\": \"scatter\", \"x\": [-1.7613428979724588, -0.09620099849344611, -1.0905554749516704, 2.028413152575853, 0.5097144860421348, 1.9936676211707947, 1.0142506644633973, -0.5618289023209938, -0.40593562199118266, -1.3499737054571084, -0.5106714828156713, -0.6407829666278434, 0.33372601270807, 0.08363181122544312, 1.5301434413624457, -0.8945041877588099, 2.0783279038907225, -1.6943865920544647, -0.4621595926119647, -0.7571348170370275, 1.3747665089714545, 0.4985098936943716, 0.08972003187459004, 0.23342732028905913, 0.2189969800399268, -0.0820069040087503, -0.6706333343074938, -1.275543117599897, -1.3699509360814053, 0.3901952160800126, 0.40515476073494494, 0.8497911535020408, 0.15108663732483765, 1.2849528676590611, 0.17502127520127353, -0.856472190237345, 1.3755879423415716, -0.6203252186849335, 0.2970832302677778, 1.4228886617797616, -0.295302329657846, -0.40732886017309755, 1.204717054703365, 0.10595034653194314, -1.927542908557601, 0.5340788211371374, -1.2595527258535075, -0.11744097365828426, -1.2322722675875935, 0.21000255384490144, 1.2316223605540324, 0.6248158351987497, 1.717265073311003, 0.5085247036804371, 1.1493774496114195, 1.6357881500228615, 0.6774690954323394, -0.254747629906569, 0.7359939702818833, 0.0831781421552935, 0.13981334614546928, 1.345513651578312, -0.44745217561787265, -0.2960953959886017, -2.302161247246569, -0.7188463621845694, -0.6990455748270236, -1.348662227162689, -0.5216899224336029, 0.14048488250800598, 0.1925196557013099, 0.3260063565304941, 0.14063928666482584, 0.9388815352295453, -0.5127863210973753, 1.1415664506931398, 1.067019420763672, 1.339232991142909, -0.8317479833178933, 0.06714344889144137, 0.40199971911834576, 0.8336260811188723, 0.6530201532241336, 0.2790208938611128, 0.9227703952463245, 0.3807611966083535, 2.14936755196243, 0.7000220332676952, -0.20238099719791927, 0.7578390029744853, -2.0759354128982563, 0.4873792439363221, 0.4452307214159721, 1.2154920757915866, -1.042516814260215, -0.15670485695431474, 1.9590815581255574, -0.19864062355667617, 0.02011113860892017, -1.0559148650915064], \"xaxis\": \"x10\", \"y\": [0.877340393530819, 1.435622023945821, 0.6360382961982783, -0.8088787903316101, -0.23172892858673558, 0.11440303092632358, -0.7927561998310112, -0.12905611927866506, 2.1179684728203942, -1.0781523152152213, -0.9448327547636428, -2.8838293586283736, 1.13169762588118, 0.24409913944939385, -0.49193108996677837, 0.5332531930012352, 0.5988916632324476, -0.12842727629620793, -0.7708120236887703, 2.3218831985942496, 1.0360026320065483, -1.7206587469402068, -1.432465499121444, 0.7547426140712723, -0.5726872175713135, -1.1124145198807087, 1.1461185920381625, 0.7857040419874747, -0.45096021916879686, -0.2584793924867701, -0.5390362541606566, -0.7954909537643288, 1.8440655954146077, 2.7848809280259808, 0.015323016684481236, 0.8721993692018307, 0.6549191045183504, 1.4323236975521476, -1.559356839149063, 1.0050338702289945, -0.3182611294674199, 0.6983398760687588, -0.050164643023584324, 0.5572724504845437, 1.3779937701321803, 0.8994545402339059, -1.3120821232157294, 1.2201245228426822, 1.5282608495496202, 0.9254820080966043, 0.2739692212998874, -0.38139705730540574, 0.881406193773732, 0.44911938938302937, 0.9317109610108755, 0.09682625216657019, -0.40264764858525165, 0.32373518071525215, -0.7023251540892774, -0.35476280626320067, -0.5134760136980314, 1.1907573479013975, 0.15360540707196507, -0.6167331871742867, 0.5369462753063045, -0.8049281985374355, 1.2633094731897685, 0.8968658891336178, -1.0084989424685016, 0.7910528027371707, -1.489634982982338, -0.7416029166105795, -0.11134178161371881, 0.13057873895587038, -0.4648124601976657, -1.3197863299241945, 1.0917038166888007, -0.3841915803835233, -0.9174827984197901, 0.27029193444627914, -0.6463934410803012, -0.260881572694911, 0.42920993961426906, -0.17557858262331538, -0.4875258216419134, 0.22071496360543055, 0.33080009791824827, -0.19679212543359229, -0.4054379556408084, 0.2702413472992334, 0.9540101486446227, -0.47261522865288474, -0.20876764443768958, -2.214358976857598, -1.6146362713179612, -0.04359785476916666, 1.5532453764998175, 0.6529555605252939, 0.6003118387090443, -1.7541757715500692], \"yaxis\": \"y10\"}, {\"histfunc\": \"count\", \"histnorm\": \"\", \"marker\": {\"color\": \"rgba(50, 171, 96, 1.0)\", \"line\": {\"color\": \"#4D5663\", \"width\": 1.3}}, \"name\": \"C\", \"nbinsx\": 10, \"opacity\": 0.8, \"orientation\": \"v\", \"type\": \"histogram\", \"x\": [0.877340393530819, 1.435622023945821, 0.6360382961982783, -0.8088787903316101, -0.23172892858673558, 0.11440303092632358, -0.7927561998310112, -0.12905611927866506, 2.1179684728203942, -1.0781523152152213, -0.9448327547636428, -2.8838293586283736, 1.13169762588118, 0.24409913944939385, -0.49193108996677837, 0.5332531930012352, 0.5988916632324476, -0.12842727629620793, -0.7708120236887703, 2.3218831985942496, 1.0360026320065483, -1.7206587469402068, -1.432465499121444, 0.7547426140712723, -0.5726872175713135, -1.1124145198807087, 1.1461185920381625, 0.7857040419874747, -0.45096021916879686, -0.2584793924867701, -0.5390362541606566, -0.7954909537643288, 1.8440655954146077, 2.7848809280259808, 0.015323016684481236, 0.8721993692018307, 0.6549191045183504, 1.4323236975521476, -1.559356839149063, 1.0050338702289945, -0.3182611294674199, 0.6983398760687588, -0.050164643023584324, 0.5572724504845437, 1.3779937701321803, 0.8994545402339059, -1.3120821232157294, 1.2201245228426822, 1.5282608495496202, 0.9254820080966043, 0.2739692212998874, -0.38139705730540574, 0.881406193773732, 0.44911938938302937, 0.9317109610108755, 0.09682625216657019, -0.40264764858525165, 0.32373518071525215, -0.7023251540892774, -0.35476280626320067, -0.5134760136980314, 1.1907573479013975, 0.15360540707196507, -0.6167331871742867, 0.5369462753063045, -0.8049281985374355, 1.2633094731897685, 0.8968658891336178, -1.0084989424685016, 0.7910528027371707, -1.489634982982338, -0.7416029166105795, -0.11134178161371881, 0.13057873895587038, -0.4648124601976657, -1.3197863299241945, 1.0917038166888007, -0.3841915803835233, -0.9174827984197901, 0.27029193444627914, -0.6463934410803012, -0.260881572694911, 0.42920993961426906, -0.17557858262331538, -0.4875258216419134, 0.22071496360543055, 0.33080009791824827, -0.19679212543359229, -0.4054379556408084, 0.2702413472992334, 0.9540101486446227, -0.47261522865288474, -0.20876764443768958, -2.214358976857598, -1.6146362713179612, -0.04359785476916666, 1.5532453764998175, 0.6529555605252939, 0.6003118387090443, -1.7541757715500692], \"xaxis\": \"x11\", \"yaxis\": \"y11\"}, {\"line\": {\"color\": \"rgba(128, 128, 128, 1.0)\", \"dash\": \"solid\", \"shape\": \"linear\", \"width\": 1.3}, \"marker\": {\"size\": 2, \"symbol\": \"circle\"}, \"mode\": \"markers\", \"name\": \"C\", \"text\": \"\", \"type\": \"scatter\", \"x\": [0.4822939158128638, -0.6297265851787359, -0.12899300222917545, 0.3595493025853616, -1.7059016820097428, 0.40059307146558587, -1.4068073778764492, 0.3834016972127393, -1.7598921740467124, -0.21421655541625736, -0.29457129984091374, -0.13652826273418922, -0.5181207235272481, -0.7241122704391437, 0.2586898855953168, -0.10381642777404514, 1.3367737240762505, -0.38658476941650227, 2.4742790276449216, 1.14875129590688, 1.3912503123871391, -0.0033197243261529224, -1.19082248731639, 0.2751458118525651, -1.6599775727977177, -1.274945697761092, 0.37182217286973646, -0.5268445225797118, 0.9050440646744027, -0.8218301268987264, -1.0020772704577243, 0.9747758938851351, 1.0946543971512066, -0.3738901911318837, -0.9775912672835907, -0.8190014038800748, -1.2064774069820927, -1.1107098910115145, -1.8793635677722884, 0.4654732944965561, 0.31753805393940443, -0.6672297504225395, -0.3614888690338335, 0.3050856039928385, 1.6829137678890485, -0.2280276602188539, 0.7722805428111595, 0.27570026918406426, 0.9288329969108214, 0.580435776905149, -0.7624796629467064, 0.2888797553718462, 0.30513653416702996, 0.2679749729653962, -1.008267566870648, -0.5266778672818849, 0.3696294360889518, 1.373659505437327, 0.6739704691011311, -0.952446421262601, 0.17464338089142128, -1.4865820164968724, -0.7944212484338272, 0.9240311814338681, -0.5103584898066241, 0.23983196803879125, 0.4063788167107547, -0.04144377909100635, 0.3825459853097249, 2.1126534475846577, 0.2055463026834519, 1.373234223920849, 0.8914618734727747, 0.06290545004429736, 1.178751499510046, -1.1754047331967676, -0.3006344323249474, 1.845624830236454, -2.055143244121072, 1.0712616745058912, 1.0903896275646217, 0.932098686751795, 0.3917946096289204, 0.8921392179793287, -2.083690317065272, -0.6018113851704786, -0.7457577097664069, -0.778441406944475, -0.9487579891381042, 0.4176205318307711, -1.94518375485339, 0.1613901197065824, 1.7713198008930309, 0.8187354155568696, -1.624124334479861, -0.47487195498105755, -0.5052526344587429, 0.6734127042285504, 0.6884268938202475, -0.2626954277066396], \"xaxis\": \"x12\", \"y\": [0.877340393530819, 1.435622023945821, 0.6360382961982783, -0.8088787903316101, -0.23172892858673558, 0.11440303092632358, -0.7927561998310112, -0.12905611927866506, 2.1179684728203942, -1.0781523152152213, -0.9448327547636428, -2.8838293586283736, 1.13169762588118, 0.24409913944939385, -0.49193108996677837, 0.5332531930012352, 0.5988916632324476, -0.12842727629620793, -0.7708120236887703, 2.3218831985942496, 1.0360026320065483, -1.7206587469402068, -1.432465499121444, 0.7547426140712723, -0.5726872175713135, -1.1124145198807087, 1.1461185920381625, 0.7857040419874747, -0.45096021916879686, -0.2584793924867701, -0.5390362541606566, -0.7954909537643288, 1.8440655954146077, 2.7848809280259808, 0.015323016684481236, 0.8721993692018307, 0.6549191045183504, 1.4323236975521476, -1.559356839149063, 1.0050338702289945, -0.3182611294674199, 0.6983398760687588, -0.050164643023584324, 0.5572724504845437, 1.3779937701321803, 0.8994545402339059, -1.3120821232157294, 1.2201245228426822, 1.5282608495496202, 0.9254820080966043, 0.2739692212998874, -0.38139705730540574, 0.881406193773732, 0.44911938938302937, 0.9317109610108755, 0.09682625216657019, -0.40264764858525165, 0.32373518071525215, -0.7023251540892774, -0.35476280626320067, -0.5134760136980314, 1.1907573479013975, 0.15360540707196507, -0.6167331871742867, 0.5369462753063045, -0.8049281985374355, 1.2633094731897685, 0.8968658891336178, -1.0084989424685016, 0.7910528027371707, -1.489634982982338, -0.7416029166105795, -0.11134178161371881, 0.13057873895587038, -0.4648124601976657, -1.3197863299241945, 1.0917038166888007, -0.3841915803835233, -0.9174827984197901, 0.27029193444627914, -0.6463934410803012, -0.260881572694911, 0.42920993961426906, -0.17557858262331538, -0.4875258216419134, 0.22071496360543055, 0.33080009791824827, -0.19679212543359229, -0.4054379556408084, 0.2702413472992334, 0.9540101486446227, -0.47261522865288474, -0.20876764443768958, -2.214358976857598, -1.6146362713179612, -0.04359785476916666, 1.5532453764998175, 0.6529555605252939, 0.6003118387090443, -1.7541757715500692], \"yaxis\": \"y12\"}, {\"line\": {\"color\": \"rgba(128, 128, 128, 1.0)\", \"dash\": \"solid\", \"shape\": \"linear\", \"width\": 1.3}, \"marker\": {\"size\": 2, \"symbol\": \"circle\"}, \"mode\": \"markers\", \"name\": \"D\", \"text\": \"\", \"type\": \"scatter\", \"x\": [-0.4219085963273162, 1.6821026955762655, 0.4309402142051801, 0.18411306212801068, -0.9281908221713763, -0.30874922794372156, -0.6290038474767073, -0.710791310697247, 0.17241542605474575, -0.8396869257109238, 0.3806311459364493, -0.09381049474443047, 1.5374181314768314, -0.43435294316790796, 0.6461335117639597, -0.12372906160993319, 0.3022970579415042, 0.20797545067424617, -1.1304501651601098, 1.1710948609964165, 0.41306944623653125, 1.9082257379137284, -0.05557142962097008, -1.0221174747845423, 1.1355091384569034, 1.1672445486913277, 1.2764241838725863, 2.3566817803969013, -1.2547557150229542, -1.7325392979131544, -1.2920823588295134, 0.7580820471569764, -1.1858168738788655, -0.4841514473365244, 0.6509296343287128, -0.11155686020046292, 1.5045969153456915, -0.12204236350353027, -0.05537132415007508, -0.28027869353027607, 0.9613497802818148, 0.9414707962483713, -0.22356717954305758, 0.7740342983721199, -0.7241989040863319, 0.02778003781964759, -0.024055724956834595, -0.915078920852879, 0.5544534137007058, -0.05977358602472853, 0.23458852778203726, -0.5512670496759174, -0.4314387696367131, 0.48138568092212886, 0.151312471088505, -1.2683697561726832, 1.1766160488988537, -0.27455824083556385, 0.07273934897587682, -0.8784205932002688, -1.6235056907620014, -0.644105336585791, -1.3059071560879678, 1.1747908906102706, -0.520795580404017, 1.5905914235182144, -1.0584157956032523, 0.017940488390363326, 0.21212164922397306, -0.7742147529291061, -0.07481568924787502, -0.7509498972280064, 0.40873810406643823, -0.35782741822032943, 1.3791574021604953, -0.4936108658569253, -0.1670321836666462, 0.0721790925295737, 0.7001017974476622, -0.7875091790993461, 0.0403208723208704, 0.3177404868415387, -0.056986594871039735, 0.4528785263940196, 0.6469206986380688, 0.41429955942854774, 0.12303138871638225, -0.4126393825177464, 0.819920664835239, 1.4600883911553522, 0.010063642024292574, -0.9264281665049272, -2.4315763663695646, -0.21280943033324837, -1.3301028052349306, 0.7023289550933015, -0.029671055859963696, 0.23193888262846393, -0.07874371469382994, -1.6085773535868477], \"xaxis\": \"x13\", \"y\": [0.4822939158128638, -0.6297265851787359, -0.12899300222917545, 0.3595493025853616, -1.7059016820097428, 0.40059307146558587, -1.4068073778764492, 0.3834016972127393, -1.7598921740467124, -0.21421655541625736, -0.29457129984091374, -0.13652826273418922, -0.5181207235272481, -0.7241122704391437, 0.2586898855953168, -0.10381642777404514, 1.3367737240762505, -0.38658476941650227, 2.4742790276449216, 1.14875129590688, 1.3912503123871391, -0.0033197243261529224, -1.19082248731639, 0.2751458118525651, -1.6599775727977177, -1.274945697761092, 0.37182217286973646, -0.5268445225797118, 0.9050440646744027, -0.8218301268987264, -1.0020772704577243, 0.9747758938851351, 1.0946543971512066, -0.3738901911318837, -0.9775912672835907, -0.8190014038800748, -1.2064774069820927, -1.1107098910115145, -1.8793635677722884, 0.4654732944965561, 0.31753805393940443, -0.6672297504225395, -0.3614888690338335, 0.3050856039928385, 1.6829137678890485, -0.2280276602188539, 0.7722805428111595, 0.27570026918406426, 0.9288329969108214, 0.580435776905149, -0.7624796629467064, 0.2888797553718462, 0.30513653416702996, 0.2679749729653962, -1.008267566870648, -0.5266778672818849, 0.3696294360889518, 1.373659505437327, 0.6739704691011311, -0.952446421262601, 0.17464338089142128, -1.4865820164968724, -0.7944212484338272, 0.9240311814338681, -0.5103584898066241, 0.23983196803879125, 0.4063788167107547, -0.04144377909100635, 0.3825459853097249, 2.1126534475846577, 0.2055463026834519, 1.373234223920849, 0.8914618734727747, 0.06290545004429736, 1.178751499510046, -1.1754047331967676, -0.3006344323249474, 1.845624830236454, -2.055143244121072, 1.0712616745058912, 1.0903896275646217, 0.932098686751795, 0.3917946096289204, 0.8921392179793287, -2.083690317065272, -0.6018113851704786, -0.7457577097664069, -0.778441406944475, -0.9487579891381042, 0.4176205318307711, -1.94518375485339, 0.1613901197065824, 1.7713198008930309, 0.8187354155568696, -1.624124334479861, -0.47487195498105755, -0.5052526344587429, 0.6734127042285504, 0.6884268938202475, -0.2626954277066396], \"yaxis\": \"y13\"}, {\"line\": {\"color\": \"rgba(128, 128, 128, 1.0)\", \"dash\": \"solid\", \"shape\": \"linear\", \"width\": 1.3}, \"marker\": {\"size\": 2, \"symbol\": \"circle\"}, \"mode\": \"markers\", \"name\": \"D\", \"text\": \"\", \"type\": \"scatter\", \"x\": [-1.7613428979724588, -0.09620099849344611, -1.0905554749516704, 2.028413152575853, 0.5097144860421348, 1.9936676211707947, 1.0142506644633973, -0.5618289023209938, -0.40593562199118266, -1.3499737054571084, -0.5106714828156713, -0.6407829666278434, 0.33372601270807, 0.08363181122544312, 1.5301434413624457, -0.8945041877588099, 2.0783279038907225, -1.6943865920544647, -0.4621595926119647, -0.7571348170370275, 1.3747665089714545, 0.4985098936943716, 0.08972003187459004, 0.23342732028905913, 0.2189969800399268, -0.0820069040087503, -0.6706333343074938, -1.275543117599897, -1.3699509360814053, 0.3901952160800126, 0.40515476073494494, 0.8497911535020408, 0.15108663732483765, 1.2849528676590611, 0.17502127520127353, -0.856472190237345, 1.3755879423415716, -0.6203252186849335, 0.2970832302677778, 1.4228886617797616, -0.295302329657846, -0.40732886017309755, 1.204717054703365, 0.10595034653194314, -1.927542908557601, 0.5340788211371374, -1.2595527258535075, -0.11744097365828426, -1.2322722675875935, 0.21000255384490144, 1.2316223605540324, 0.6248158351987497, 1.717265073311003, 0.5085247036804371, 1.1493774496114195, 1.6357881500228615, 0.6774690954323394, -0.254747629906569, 0.7359939702818833, 0.0831781421552935, 0.13981334614546928, 1.345513651578312, -0.44745217561787265, -0.2960953959886017, -2.302161247246569, -0.7188463621845694, -0.6990455748270236, -1.348662227162689, -0.5216899224336029, 0.14048488250800598, 0.1925196557013099, 0.3260063565304941, 0.14063928666482584, 0.9388815352295453, -0.5127863210973753, 1.1415664506931398, 1.067019420763672, 1.339232991142909, -0.8317479833178933, 0.06714344889144137, 0.40199971911834576, 0.8336260811188723, 0.6530201532241336, 0.2790208938611128, 0.9227703952463245, 0.3807611966083535, 2.14936755196243, 0.7000220332676952, -0.20238099719791927, 0.7578390029744853, -2.0759354128982563, 0.4873792439363221, 0.4452307214159721, 1.2154920757915866, -1.042516814260215, -0.15670485695431474, 1.9590815581255574, -0.19864062355667617, 0.02011113860892017, -1.0559148650915064], \"xaxis\": \"x14\", \"y\": [0.4822939158128638, -0.6297265851787359, -0.12899300222917545, 0.3595493025853616, -1.7059016820097428, 0.40059307146558587, -1.4068073778764492, 0.3834016972127393, -1.7598921740467124, -0.21421655541625736, -0.29457129984091374, -0.13652826273418922, -0.5181207235272481, -0.7241122704391437, 0.2586898855953168, -0.10381642777404514, 1.3367737240762505, -0.38658476941650227, 2.4742790276449216, 1.14875129590688, 1.3912503123871391, -0.0033197243261529224, -1.19082248731639, 0.2751458118525651, -1.6599775727977177, -1.274945697761092, 0.37182217286973646, -0.5268445225797118, 0.9050440646744027, -0.8218301268987264, -1.0020772704577243, 0.9747758938851351, 1.0946543971512066, -0.3738901911318837, -0.9775912672835907, -0.8190014038800748, -1.2064774069820927, -1.1107098910115145, -1.8793635677722884, 0.4654732944965561, 0.31753805393940443, -0.6672297504225395, -0.3614888690338335, 0.3050856039928385, 1.6829137678890485, -0.2280276602188539, 0.7722805428111595, 0.27570026918406426, 0.9288329969108214, 0.580435776905149, -0.7624796629467064, 0.2888797553718462, 0.30513653416702996, 0.2679749729653962, -1.008267566870648, -0.5266778672818849, 0.3696294360889518, 1.373659505437327, 0.6739704691011311, -0.952446421262601, 0.17464338089142128, -1.4865820164968724, -0.7944212484338272, 0.9240311814338681, -0.5103584898066241, 0.23983196803879125, 0.4063788167107547, -0.04144377909100635, 0.3825459853097249, 2.1126534475846577, 0.2055463026834519, 1.373234223920849, 0.8914618734727747, 0.06290545004429736, 1.178751499510046, -1.1754047331967676, -0.3006344323249474, 1.845624830236454, -2.055143244121072, 1.0712616745058912, 1.0903896275646217, 0.932098686751795, 0.3917946096289204, 0.8921392179793287, -2.083690317065272, -0.6018113851704786, -0.7457577097664069, -0.778441406944475, -0.9487579891381042, 0.4176205318307711, -1.94518375485339, 0.1613901197065824, 1.7713198008930309, 0.8187354155568696, -1.624124334479861, -0.47487195498105755, -0.5052526344587429, 0.6734127042285504, 0.6884268938202475, -0.2626954277066396], \"yaxis\": \"y14\"}, {\"line\": {\"color\": \"rgba(128, 128, 128, 1.0)\", \"dash\": \"solid\", \"shape\": \"linear\", \"width\": 1.3}, \"marker\": {\"size\": 2, \"symbol\": \"circle\"}, \"mode\": \"markers\", \"name\": \"D\", \"text\": \"\", \"type\": \"scatter\", \"x\": [0.877340393530819, 1.435622023945821, 0.6360382961982783, -0.8088787903316101, -0.23172892858673558, 0.11440303092632358, -0.7927561998310112, -0.12905611927866506, 2.1179684728203942, -1.0781523152152213, -0.9448327547636428, -2.8838293586283736, 1.13169762588118, 0.24409913944939385, -0.49193108996677837, 0.5332531930012352, 0.5988916632324476, -0.12842727629620793, -0.7708120236887703, 2.3218831985942496, 1.0360026320065483, -1.7206587469402068, -1.432465499121444, 0.7547426140712723, -0.5726872175713135, -1.1124145198807087, 1.1461185920381625, 0.7857040419874747, -0.45096021916879686, -0.2584793924867701, -0.5390362541606566, -0.7954909537643288, 1.8440655954146077, 2.7848809280259808, 0.015323016684481236, 0.8721993692018307, 0.6549191045183504, 1.4323236975521476, -1.559356839149063, 1.0050338702289945, -0.3182611294674199, 0.6983398760687588, -0.050164643023584324, 0.5572724504845437, 1.3779937701321803, 0.8994545402339059, -1.3120821232157294, 1.2201245228426822, 1.5282608495496202, 0.9254820080966043, 0.2739692212998874, -0.38139705730540574, 0.881406193773732, 0.44911938938302937, 0.9317109610108755, 0.09682625216657019, -0.40264764858525165, 0.32373518071525215, -0.7023251540892774, -0.35476280626320067, -0.5134760136980314, 1.1907573479013975, 0.15360540707196507, -0.6167331871742867, 0.5369462753063045, -0.8049281985374355, 1.2633094731897685, 0.8968658891336178, -1.0084989424685016, 0.7910528027371707, -1.489634982982338, -0.7416029166105795, -0.11134178161371881, 0.13057873895587038, -0.4648124601976657, -1.3197863299241945, 1.0917038166888007, -0.3841915803835233, -0.9174827984197901, 0.27029193444627914, -0.6463934410803012, -0.260881572694911, 0.42920993961426906, -0.17557858262331538, -0.4875258216419134, 0.22071496360543055, 0.33080009791824827, -0.19679212543359229, -0.4054379556408084, 0.2702413472992334, 0.9540101486446227, -0.47261522865288474, -0.20876764443768958, -2.214358976857598, -1.6146362713179612, -0.04359785476916666, 1.5532453764998175, 0.6529555605252939, 0.6003118387090443, -1.7541757715500692], \"xaxis\": \"x15\", \"y\": [0.4822939158128638, -0.6297265851787359, -0.12899300222917545, 0.3595493025853616, -1.7059016820097428, 0.40059307146558587, -1.4068073778764492, 0.3834016972127393, -1.7598921740467124, -0.21421655541625736, -0.29457129984091374, -0.13652826273418922, -0.5181207235272481, -0.7241122704391437, 0.2586898855953168, -0.10381642777404514, 1.3367737240762505, -0.38658476941650227, 2.4742790276449216, 1.14875129590688, 1.3912503123871391, -0.0033197243261529224, -1.19082248731639, 0.2751458118525651, -1.6599775727977177, -1.274945697761092, 0.37182217286973646, -0.5268445225797118, 0.9050440646744027, -0.8218301268987264, -1.0020772704577243, 0.9747758938851351, 1.0946543971512066, -0.3738901911318837, -0.9775912672835907, -0.8190014038800748, -1.2064774069820927, -1.1107098910115145, -1.8793635677722884, 0.4654732944965561, 0.31753805393940443, -0.6672297504225395, -0.3614888690338335, 0.3050856039928385, 1.6829137678890485, -0.2280276602188539, 0.7722805428111595, 0.27570026918406426, 0.9288329969108214, 0.580435776905149, -0.7624796629467064, 0.2888797553718462, 0.30513653416702996, 0.2679749729653962, -1.008267566870648, -0.5266778672818849, 0.3696294360889518, 1.373659505437327, 0.6739704691011311, -0.952446421262601, 0.17464338089142128, -1.4865820164968724, -0.7944212484338272, 0.9240311814338681, -0.5103584898066241, 0.23983196803879125, 0.4063788167107547, -0.04144377909100635, 0.3825459853097249, 2.1126534475846577, 0.2055463026834519, 1.373234223920849, 0.8914618734727747, 0.06290545004429736, 1.178751499510046, -1.1754047331967676, -0.3006344323249474, 1.845624830236454, -2.055143244121072, 1.0712616745058912, 1.0903896275646217, 0.932098686751795, 0.3917946096289204, 0.8921392179793287, -2.083690317065272, -0.6018113851704786, -0.7457577097664069, -0.778441406944475, -0.9487579891381042, 0.4176205318307711, -1.94518375485339, 0.1613901197065824, 1.7713198008930309, 0.8187354155568696, -1.624124334479861, -0.47487195498105755, -0.5052526344587429, 0.6734127042285504, 0.6884268938202475, -0.2626954277066396], \"yaxis\": \"y15\"}, {\"histfunc\": \"count\", \"histnorm\": \"\", \"marker\": {\"color\": \"rgba(128, 0, 128, 1.0)\", \"line\": {\"color\": \"#4D5663\", \"width\": 1.3}}, \"name\": \"D\", \"nbinsx\": 10, \"opacity\": 0.8, \"orientation\": \"v\", \"type\": \"histogram\", \"x\": [0.4822939158128638, -0.6297265851787359, -0.12899300222917545, 0.3595493025853616, -1.7059016820097428, 0.40059307146558587, -1.4068073778764492, 0.3834016972127393, -1.7598921740467124, -0.21421655541625736, -0.29457129984091374, -0.13652826273418922, -0.5181207235272481, -0.7241122704391437, 0.2586898855953168, -0.10381642777404514, 1.3367737240762505, -0.38658476941650227, 2.4742790276449216, 1.14875129590688, 1.3912503123871391, -0.0033197243261529224, -1.19082248731639, 0.2751458118525651, -1.6599775727977177, -1.274945697761092, 0.37182217286973646, -0.5268445225797118, 0.9050440646744027, -0.8218301268987264, -1.0020772704577243, 0.9747758938851351, 1.0946543971512066, -0.3738901911318837, -0.9775912672835907, -0.8190014038800748, -1.2064774069820927, -1.1107098910115145, -1.8793635677722884, 0.4654732944965561, 0.31753805393940443, -0.6672297504225395, -0.3614888690338335, 0.3050856039928385, 1.6829137678890485, -0.2280276602188539, 0.7722805428111595, 0.27570026918406426, 0.9288329969108214, 0.580435776905149, -0.7624796629467064, 0.2888797553718462, 0.30513653416702996, 0.2679749729653962, -1.008267566870648, -0.5266778672818849, 0.3696294360889518, 1.373659505437327, 0.6739704691011311, -0.952446421262601, 0.17464338089142128, -1.4865820164968724, -0.7944212484338272, 0.9240311814338681, -0.5103584898066241, 0.23983196803879125, 0.4063788167107547, -0.04144377909100635, 0.3825459853097249, 2.1126534475846577, 0.2055463026834519, 1.373234223920849, 0.8914618734727747, 0.06290545004429736, 1.178751499510046, -1.1754047331967676, -0.3006344323249474, 1.845624830236454, -2.055143244121072, 1.0712616745058912, 1.0903896275646217, 0.932098686751795, 0.3917946096289204, 0.8921392179793287, -2.083690317065272, -0.6018113851704786, -0.7457577097664069, -0.778441406944475, -0.9487579891381042, 0.4176205318307711, -1.94518375485339, 0.1613901197065824, 1.7713198008930309, 0.8187354155568696, -1.624124334479861, -0.47487195498105755, -0.5052526344587429, 0.6734127042285504, 0.6884268938202475, -0.2626954277066396], \"xaxis\": \"x16\", \"yaxis\": \"y16\"}],\n",
       "                        {\"bargap\": 0.02, \"legend\": {\"bgcolor\": \"#F5F6F9\", \"font\": {\"color\": \"#4D5663\"}}, \"paper_bgcolor\": \"#F5F6F9\", \"plot_bgcolor\": \"#F5F6F9\", \"showlegend\": false, \"template\": {\"data\": {\"bar\": [{\"error_x\": {\"color\": \"#2a3f5f\"}, \"error_y\": {\"color\": \"#2a3f5f\"}, \"marker\": {\"line\": {\"color\": \"#E5ECF6\", \"width\": 0.5}}, \"type\": \"bar\"}], \"barpolar\": [{\"marker\": {\"line\": {\"color\": \"#E5ECF6\", \"width\": 0.5}}, \"type\": \"barpolar\"}], \"carpet\": [{\"aaxis\": {\"endlinecolor\": \"#2a3f5f\", \"gridcolor\": \"white\", \"linecolor\": \"white\", \"minorgridcolor\": \"white\", \"startlinecolor\": \"#2a3f5f\"}, \"baxis\": {\"endlinecolor\": \"#2a3f5f\", \"gridcolor\": \"white\", \"linecolor\": \"white\", \"minorgridcolor\": \"white\", \"startlinecolor\": \"#2a3f5f\"}, \"type\": \"carpet\"}], \"choropleth\": [{\"colorbar\": {\"outlinewidth\": 0, \"ticks\": \"\"}, \"type\": \"choropleth\"}], \"contour\": [{\"colorbar\": {\"outlinewidth\": 0, \"ticks\": \"\"}, \"colorscale\": [[0.0, \"#0d0887\"], [0.1111111111111111, \"#46039f\"], [0.2222222222222222, \"#7201a8\"], [0.3333333333333333, \"#9c179e\"], [0.4444444444444444, \"#bd3786\"], [0.5555555555555556, \"#d8576b\"], [0.6666666666666666, \"#ed7953\"], [0.7777777777777778, \"#fb9f3a\"], [0.8888888888888888, \"#fdca26\"], [1.0, \"#f0f921\"]], \"type\": \"contour\"}], \"contourcarpet\": [{\"colorbar\": {\"outlinewidth\": 0, \"ticks\": \"\"}, \"type\": \"contourcarpet\"}], \"heatmap\": [{\"colorbar\": {\"outlinewidth\": 0, \"ticks\": \"\"}, \"colorscale\": [[0.0, \"#0d0887\"], [0.1111111111111111, \"#46039f\"], [0.2222222222222222, \"#7201a8\"], [0.3333333333333333, \"#9c179e\"], [0.4444444444444444, \"#bd3786\"], [0.5555555555555556, \"#d8576b\"], [0.6666666666666666, \"#ed7953\"], [0.7777777777777778, \"#fb9f3a\"], [0.8888888888888888, \"#fdca26\"], [1.0, \"#f0f921\"]], \"type\": \"heatmap\"}], \"heatmapgl\": [{\"colorbar\": {\"outlinewidth\": 0, \"ticks\": \"\"}, \"colorscale\": [[0.0, \"#0d0887\"], [0.1111111111111111, \"#46039f\"], [0.2222222222222222, \"#7201a8\"], [0.3333333333333333, \"#9c179e\"], [0.4444444444444444, \"#bd3786\"], [0.5555555555555556, \"#d8576b\"], [0.6666666666666666, \"#ed7953\"], [0.7777777777777778, \"#fb9f3a\"], [0.8888888888888888, \"#fdca26\"], [1.0, \"#f0f921\"]], \"type\": \"heatmapgl\"}], \"histogram\": [{\"marker\": {\"colorbar\": {\"outlinewidth\": 0, \"ticks\": \"\"}}, \"type\": \"histogram\"}], \"histogram2d\": [{\"colorbar\": {\"outlinewidth\": 0, \"ticks\": \"\"}, \"colorscale\": [[0.0, \"#0d0887\"], [0.1111111111111111, \"#46039f\"], [0.2222222222222222, \"#7201a8\"], [0.3333333333333333, \"#9c179e\"], [0.4444444444444444, \"#bd3786\"], [0.5555555555555556, \"#d8576b\"], [0.6666666666666666, \"#ed7953\"], [0.7777777777777778, \"#fb9f3a\"], [0.8888888888888888, \"#fdca26\"], [1.0, \"#f0f921\"]], \"type\": \"histogram2d\"}], \"histogram2dcontour\": [{\"colorbar\": {\"outlinewidth\": 0, \"ticks\": \"\"}, \"colorscale\": [[0.0, \"#0d0887\"], [0.1111111111111111, \"#46039f\"], [0.2222222222222222, \"#7201a8\"], [0.3333333333333333, \"#9c179e\"], [0.4444444444444444, \"#bd3786\"], [0.5555555555555556, \"#d8576b\"], [0.6666666666666666, \"#ed7953\"], [0.7777777777777778, \"#fb9f3a\"], [0.8888888888888888, \"#fdca26\"], [1.0, \"#f0f921\"]], \"type\": \"histogram2dcontour\"}], \"mesh3d\": [{\"colorbar\": {\"outlinewidth\": 0, \"ticks\": \"\"}, \"type\": \"mesh3d\"}], \"parcoords\": [{\"line\": {\"colorbar\": {\"outlinewidth\": 0, \"ticks\": \"\"}}, \"type\": \"parcoords\"}], \"pie\": [{\"automargin\": true, \"type\": \"pie\"}], \"scatter\": [{\"marker\": {\"colorbar\": {\"outlinewidth\": 0, \"ticks\": \"\"}}, \"type\": \"scatter\"}], \"scatter3d\": [{\"line\": {\"colorbar\": {\"outlinewidth\": 0, \"ticks\": \"\"}}, \"marker\": {\"colorbar\": {\"outlinewidth\": 0, \"ticks\": \"\"}}, \"type\": \"scatter3d\"}], \"scattercarpet\": [{\"marker\": {\"colorbar\": {\"outlinewidth\": 0, \"ticks\": \"\"}}, \"type\": \"scattercarpet\"}], \"scattergeo\": [{\"marker\": {\"colorbar\": {\"outlinewidth\": 0, \"ticks\": \"\"}}, \"type\": \"scattergeo\"}], \"scattergl\": [{\"marker\": {\"colorbar\": {\"outlinewidth\": 0, \"ticks\": \"\"}}, \"type\": \"scattergl\"}], \"scattermapbox\": [{\"marker\": {\"colorbar\": {\"outlinewidth\": 0, \"ticks\": \"\"}}, \"type\": \"scattermapbox\"}], \"scatterpolar\": [{\"marker\": {\"colorbar\": {\"outlinewidth\": 0, \"ticks\": \"\"}}, \"type\": \"scatterpolar\"}], \"scatterpolargl\": [{\"marker\": {\"colorbar\": {\"outlinewidth\": 0, \"ticks\": \"\"}}, \"type\": \"scatterpolargl\"}], \"scatterternary\": [{\"marker\": {\"colorbar\": {\"outlinewidth\": 0, \"ticks\": \"\"}}, \"type\": \"scatterternary\"}], \"surface\": [{\"colorbar\": {\"outlinewidth\": 0, \"ticks\": \"\"}, \"colorscale\": [[0.0, \"#0d0887\"], [0.1111111111111111, \"#46039f\"], [0.2222222222222222, \"#7201a8\"], [0.3333333333333333, \"#9c179e\"], [0.4444444444444444, \"#bd3786\"], [0.5555555555555556, \"#d8576b\"], [0.6666666666666666, \"#ed7953\"], [0.7777777777777778, \"#fb9f3a\"], [0.8888888888888888, \"#fdca26\"], [1.0, \"#f0f921\"]], \"type\": \"surface\"}], \"table\": [{\"cells\": {\"fill\": {\"color\": \"#EBF0F8\"}, \"line\": {\"color\": \"white\"}}, \"header\": {\"fill\": {\"color\": \"#C8D4E3\"}, \"line\": {\"color\": \"white\"}}, \"type\": \"table\"}]}, \"layout\": {\"annotationdefaults\": {\"arrowcolor\": \"#2a3f5f\", \"arrowhead\": 0, \"arrowwidth\": 1}, \"coloraxis\": {\"colorbar\": {\"outlinewidth\": 0, \"ticks\": \"\"}}, \"colorscale\": {\"diverging\": [[0, \"#8e0152\"], [0.1, \"#c51b7d\"], [0.2, \"#de77ae\"], [0.3, \"#f1b6da\"], [0.4, \"#fde0ef\"], [0.5, \"#f7f7f7\"], [0.6, \"#e6f5d0\"], [0.7, \"#b8e186\"], [0.8, \"#7fbc41\"], [0.9, \"#4d9221\"], [1, \"#276419\"]], \"sequential\": [[0.0, \"#0d0887\"], [0.1111111111111111, \"#46039f\"], [0.2222222222222222, \"#7201a8\"], [0.3333333333333333, \"#9c179e\"], [0.4444444444444444, \"#bd3786\"], [0.5555555555555556, \"#d8576b\"], [0.6666666666666666, \"#ed7953\"], [0.7777777777777778, \"#fb9f3a\"], [0.8888888888888888, \"#fdca26\"], [1.0, \"#f0f921\"]], \"sequentialminus\": [[0.0, \"#0d0887\"], [0.1111111111111111, \"#46039f\"], [0.2222222222222222, \"#7201a8\"], [0.3333333333333333, \"#9c179e\"], [0.4444444444444444, \"#bd3786\"], [0.5555555555555556, \"#d8576b\"], [0.6666666666666666, \"#ed7953\"], [0.7777777777777778, \"#fb9f3a\"], [0.8888888888888888, \"#fdca26\"], [1.0, \"#f0f921\"]]}, \"colorway\": [\"#636efa\", \"#EF553B\", \"#00cc96\", \"#ab63fa\", \"#FFA15A\", \"#19d3f3\", \"#FF6692\", \"#B6E880\", \"#FF97FF\", \"#FECB52\"], \"font\": {\"color\": \"#2a3f5f\"}, \"geo\": {\"bgcolor\": \"white\", \"lakecolor\": \"white\", \"landcolor\": \"#E5ECF6\", \"showlakes\": true, \"showland\": true, \"subunitcolor\": \"white\"}, \"hoverlabel\": {\"align\": \"left\"}, \"hovermode\": \"closest\", \"mapbox\": {\"style\": \"light\"}, \"paper_bgcolor\": \"white\", \"plot_bgcolor\": \"#E5ECF6\", \"polar\": {\"angularaxis\": {\"gridcolor\": \"white\", \"linecolor\": \"white\", \"ticks\": \"\"}, \"bgcolor\": \"#E5ECF6\", \"radialaxis\": {\"gridcolor\": \"white\", \"linecolor\": \"white\", \"ticks\": \"\"}}, \"scene\": {\"xaxis\": {\"backgroundcolor\": \"#E5ECF6\", \"gridcolor\": \"white\", \"gridwidth\": 2, \"linecolor\": \"white\", \"showbackground\": true, \"ticks\": \"\", \"zerolinecolor\": \"white\"}, \"yaxis\": {\"backgroundcolor\": \"#E5ECF6\", \"gridcolor\": \"white\", \"gridwidth\": 2, \"linecolor\": \"white\", \"showbackground\": true, \"ticks\": \"\", \"zerolinecolor\": \"white\"}, \"zaxis\": {\"backgroundcolor\": \"#E5ECF6\", \"gridcolor\": \"white\", \"gridwidth\": 2, \"linecolor\": \"white\", \"showbackground\": true, \"ticks\": \"\", \"zerolinecolor\": \"white\"}}, \"shapedefaults\": {\"line\": {\"color\": \"#2a3f5f\"}}, \"ternary\": {\"aaxis\": {\"gridcolor\": \"white\", \"linecolor\": \"white\", \"ticks\": \"\"}, \"baxis\": {\"gridcolor\": \"white\", \"linecolor\": \"white\", \"ticks\": \"\"}, \"bgcolor\": \"#E5ECF6\", \"caxis\": {\"gridcolor\": \"white\", \"linecolor\": \"white\", \"ticks\": \"\"}}, \"title\": {\"x\": 0.05}, \"xaxis\": {\"automargin\": true, \"gridcolor\": \"white\", \"linecolor\": \"white\", \"ticks\": \"\", \"title\": {\"standoff\": 15}, \"zerolinecolor\": \"white\", \"zerolinewidth\": 2}, \"yaxis\": {\"automargin\": true, \"gridcolor\": \"white\", \"linecolor\": \"white\", \"ticks\": \"\", \"title\": {\"standoff\": 15}, \"zerolinecolor\": \"white\", \"zerolinewidth\": 2}}}, \"title\": {\"font\": {\"color\": \"#4D5663\"}}, \"xaxis\": {\"anchor\": \"y\", \"domain\": [0.0, 0.2125], \"gridcolor\": \"#E1E5ED\", \"showgrid\": false, \"tickfont\": {\"color\": \"#4D5663\"}, \"title\": {\"font\": {\"color\": \"#4D5663\"}, \"text\": \"\"}, \"zerolinecolor\": \"#E1E5ED\"}, \"xaxis10\": {\"anchor\": \"y10\", \"domain\": [0.2625, 0.475], \"gridcolor\": \"#E1E5ED\", \"showgrid\": false, \"tickfont\": {\"color\": \"#4D5663\"}, \"title\": {\"font\": {\"color\": \"#4D5663\"}, \"text\": \"\"}, \"zerolinecolor\": \"#E1E5ED\"}, \"xaxis11\": {\"anchor\": \"y11\", \"domain\": [0.525, 0.7375], \"gridcolor\": \"#E1E5ED\", \"showgrid\": false, \"tickfont\": {\"color\": \"#4D5663\"}, \"title\": {\"font\": {\"color\": \"#4D5663\"}, \"text\": \"\"}, \"zerolinecolor\": \"#E1E5ED\"}, \"xaxis12\": {\"anchor\": \"y12\", \"domain\": [0.7875, 1.0], \"gridcolor\": \"#E1E5ED\", \"showgrid\": false, \"tickfont\": {\"color\": \"#4D5663\"}, \"title\": {\"font\": {\"color\": \"#4D5663\"}, \"text\": \"\"}, \"zerolinecolor\": \"#E1E5ED\"}, \"xaxis13\": {\"anchor\": \"y13\", \"domain\": [0.0, 0.2125], \"gridcolor\": \"#E1E5ED\", \"showgrid\": false, \"tickfont\": {\"color\": \"#4D5663\"}, \"title\": {\"font\": {\"color\": \"#4D5663\"}, \"text\": \"\"}, \"zerolinecolor\": \"#E1E5ED\"}, \"xaxis14\": {\"anchor\": \"y14\", \"domain\": [0.2625, 0.475], \"gridcolor\": \"#E1E5ED\", \"showgrid\": false, \"tickfont\": {\"color\": \"#4D5663\"}, \"title\": {\"font\": {\"color\": \"#4D5663\"}, \"text\": \"\"}, \"zerolinecolor\": \"#E1E5ED\"}, \"xaxis15\": {\"anchor\": \"y15\", \"domain\": [0.525, 0.7375], \"gridcolor\": \"#E1E5ED\", \"showgrid\": false, \"tickfont\": {\"color\": \"#4D5663\"}, \"title\": {\"font\": {\"color\": \"#4D5663\"}, \"text\": \"\"}, \"zerolinecolor\": \"#E1E5ED\"}, \"xaxis16\": {\"anchor\": \"y16\", \"domain\": [0.7875, 1.0], \"gridcolor\": \"#E1E5ED\", \"showgrid\": false, \"tickfont\": {\"color\": \"#4D5663\"}, \"title\": {\"font\": {\"color\": \"#4D5663\"}, \"text\": \"\"}, \"zerolinecolor\": \"#E1E5ED\"}, \"xaxis2\": {\"anchor\": \"y2\", \"domain\": [0.2625, 0.475], \"gridcolor\": \"#E1E5ED\", \"showgrid\": false, \"tickfont\": {\"color\": \"#4D5663\"}, \"title\": {\"font\": {\"color\": \"#4D5663\"}, \"text\": \"\"}, \"zerolinecolor\": \"#E1E5ED\"}, \"xaxis3\": {\"anchor\": \"y3\", \"domain\": [0.525, 0.7375], \"gridcolor\": \"#E1E5ED\", \"showgrid\": false, \"tickfont\": {\"color\": \"#4D5663\"}, \"title\": {\"font\": {\"color\": \"#4D5663\"}, \"text\": \"\"}, \"zerolinecolor\": \"#E1E5ED\"}, \"xaxis4\": {\"anchor\": \"y4\", \"domain\": [0.7875, 1.0], \"gridcolor\": \"#E1E5ED\", \"showgrid\": false, \"tickfont\": {\"color\": \"#4D5663\"}, \"title\": {\"font\": {\"color\": \"#4D5663\"}, \"text\": \"\"}, \"zerolinecolor\": \"#E1E5ED\"}, \"xaxis5\": {\"anchor\": \"y5\", \"domain\": [0.0, 0.2125], \"gridcolor\": \"#E1E5ED\", \"showgrid\": false, \"tickfont\": {\"color\": \"#4D5663\"}, \"title\": {\"font\": {\"color\": \"#4D5663\"}, \"text\": \"\"}, \"zerolinecolor\": \"#E1E5ED\"}, \"xaxis6\": {\"anchor\": \"y6\", \"domain\": [0.2625, 0.475], \"gridcolor\": \"#E1E5ED\", \"showgrid\": false, \"tickfont\": {\"color\": \"#4D5663\"}, \"title\": {\"font\": {\"color\": \"#4D5663\"}, \"text\": \"\"}, \"zerolinecolor\": \"#E1E5ED\"}, \"xaxis7\": {\"anchor\": \"y7\", \"domain\": [0.525, 0.7375], \"gridcolor\": \"#E1E5ED\", \"showgrid\": false, \"tickfont\": {\"color\": \"#4D5663\"}, \"title\": {\"font\": {\"color\": \"#4D5663\"}, \"text\": \"\"}, \"zerolinecolor\": \"#E1E5ED\"}, \"xaxis8\": {\"anchor\": \"y8\", \"domain\": [0.7875, 1.0], \"gridcolor\": \"#E1E5ED\", \"showgrid\": false, \"tickfont\": {\"color\": \"#4D5663\"}, \"title\": {\"font\": {\"color\": \"#4D5663\"}, \"text\": \"\"}, \"zerolinecolor\": \"#E1E5ED\"}, \"xaxis9\": {\"anchor\": \"y9\", \"domain\": [0.0, 0.2125], \"gridcolor\": \"#E1E5ED\", \"showgrid\": false, \"tickfont\": {\"color\": \"#4D5663\"}, \"title\": {\"font\": {\"color\": \"#4D5663\"}, \"text\": \"\"}, \"zerolinecolor\": \"#E1E5ED\"}, \"yaxis\": {\"anchor\": \"x\", \"domain\": [0.8025, 1.0], \"gridcolor\": \"#E1E5ED\", \"showgrid\": false, \"tickfont\": {\"color\": \"#4D5663\"}, \"title\": {\"font\": {\"color\": \"#4D5663\"}, \"text\": \"\"}, \"zerolinecolor\": \"#E1E5ED\"}, \"yaxis10\": {\"anchor\": \"x10\", \"domain\": [0.2675, 0.465], \"gridcolor\": \"#E1E5ED\", \"showgrid\": false, \"tickfont\": {\"color\": \"#4D5663\"}, \"title\": {\"font\": {\"color\": \"#4D5663\"}, \"text\": \"\"}, \"zerolinecolor\": \"#E1E5ED\"}, \"yaxis11\": {\"anchor\": \"x11\", \"domain\": [0.2675, 0.465], \"gridcolor\": \"#E1E5ED\", \"showgrid\": false, \"tickfont\": {\"color\": \"#4D5663\"}, \"title\": {\"font\": {\"color\": \"#4D5663\"}, \"text\": \"\"}, \"zerolinecolor\": \"#E1E5ED\"}, \"yaxis12\": {\"anchor\": \"x12\", \"domain\": [0.2675, 0.465], \"gridcolor\": \"#E1E5ED\", \"showgrid\": false, \"tickfont\": {\"color\": \"#4D5663\"}, \"title\": {\"font\": {\"color\": \"#4D5663\"}, \"text\": \"\"}, \"zerolinecolor\": \"#E1E5ED\"}, \"yaxis13\": {\"anchor\": \"x13\", \"domain\": [0.0, 0.1975], \"gridcolor\": \"#E1E5ED\", \"showgrid\": false, \"tickfont\": {\"color\": \"#4D5663\"}, \"title\": {\"font\": {\"color\": \"#4D5663\"}, \"text\": \"\"}, \"zerolinecolor\": \"#E1E5ED\"}, \"yaxis14\": {\"anchor\": \"x14\", \"domain\": [0.0, 0.1975], \"gridcolor\": \"#E1E5ED\", \"showgrid\": false, \"tickfont\": {\"color\": \"#4D5663\"}, \"title\": {\"font\": {\"color\": \"#4D5663\"}, \"text\": \"\"}, \"zerolinecolor\": \"#E1E5ED\"}, \"yaxis15\": {\"anchor\": \"x15\", \"domain\": [0.0, 0.1975], \"gridcolor\": \"#E1E5ED\", \"showgrid\": false, \"tickfont\": {\"color\": \"#4D5663\"}, \"title\": {\"font\": {\"color\": \"#4D5663\"}, \"text\": \"\"}, \"zerolinecolor\": \"#E1E5ED\"}, \"yaxis16\": {\"anchor\": \"x16\", \"domain\": [0.0, 0.1975], \"gridcolor\": \"#E1E5ED\", \"showgrid\": false, \"tickfont\": {\"color\": \"#4D5663\"}, \"title\": {\"font\": {\"color\": \"#4D5663\"}, \"text\": \"\"}, \"zerolinecolor\": \"#E1E5ED\"}, \"yaxis2\": {\"anchor\": \"x2\", \"domain\": [0.8025, 1.0], \"gridcolor\": \"#E1E5ED\", \"showgrid\": false, \"tickfont\": {\"color\": \"#4D5663\"}, \"title\": {\"font\": {\"color\": \"#4D5663\"}, \"text\": \"\"}, \"zerolinecolor\": \"#E1E5ED\"}, \"yaxis3\": {\"anchor\": \"x3\", \"domain\": [0.8025, 1.0], \"gridcolor\": \"#E1E5ED\", \"showgrid\": false, \"tickfont\": {\"color\": \"#4D5663\"}, \"title\": {\"font\": {\"color\": \"#4D5663\"}, \"text\": \"\"}, \"zerolinecolor\": \"#E1E5ED\"}, \"yaxis4\": {\"anchor\": \"x4\", \"domain\": [0.8025, 1.0], \"gridcolor\": \"#E1E5ED\", \"showgrid\": false, \"tickfont\": {\"color\": \"#4D5663\"}, \"title\": {\"font\": {\"color\": \"#4D5663\"}, \"text\": \"\"}, \"zerolinecolor\": \"#E1E5ED\"}, \"yaxis5\": {\"anchor\": \"x5\", \"domain\": [0.535, 0.7325], \"gridcolor\": \"#E1E5ED\", \"showgrid\": false, \"tickfont\": {\"color\": \"#4D5663\"}, \"title\": {\"font\": {\"color\": \"#4D5663\"}, \"text\": \"\"}, \"zerolinecolor\": \"#E1E5ED\"}, \"yaxis6\": {\"anchor\": \"x6\", \"domain\": [0.535, 0.7325], \"gridcolor\": \"#E1E5ED\", \"showgrid\": false, \"tickfont\": {\"color\": \"#4D5663\"}, \"title\": {\"font\": {\"color\": \"#4D5663\"}, \"text\": \"\"}, \"zerolinecolor\": \"#E1E5ED\"}, \"yaxis7\": {\"anchor\": \"x7\", \"domain\": [0.535, 0.7325], \"gridcolor\": \"#E1E5ED\", \"showgrid\": false, \"tickfont\": {\"color\": \"#4D5663\"}, \"title\": {\"font\": {\"color\": \"#4D5663\"}, \"text\": \"\"}, \"zerolinecolor\": \"#E1E5ED\"}, \"yaxis8\": {\"anchor\": \"x8\", \"domain\": [0.535, 0.7325], \"gridcolor\": \"#E1E5ED\", \"showgrid\": false, \"tickfont\": {\"color\": \"#4D5663\"}, \"title\": {\"font\": {\"color\": \"#4D5663\"}, \"text\": \"\"}, \"zerolinecolor\": \"#E1E5ED\"}, \"yaxis9\": {\"anchor\": \"x9\", \"domain\": [0.2675, 0.465], \"gridcolor\": \"#E1E5ED\", \"showgrid\": false, \"tickfont\": {\"color\": \"#4D5663\"}, \"title\": {\"font\": {\"color\": \"#4D5663\"}, \"text\": \"\"}, \"zerolinecolor\": \"#E1E5ED\"}},\n",
       "                        {\"showLink\": true, \"linkText\": \"Export to plot.ly\", \"plotlyServerURL\": \"https://plot.ly\", \"responsive\": true}\n",
       "                    ).then(function(){\n",
       "                            \n",
       "var gd = document.getElementById('76d73a0e-7005-4245-8638-ea220b7c4ec2');\n",
       "var x = new MutationObserver(function (mutations, observer) {{\n",
       "        var display = window.getComputedStyle(gd).display;\n",
       "        if (!display || display === 'none') {{\n",
       "            console.log([gd, 'removed!']);\n",
       "            Plotly.purge(gd);\n",
       "            observer.disconnect();\n",
       "        }}\n",
       "}});\n",
       "\n",
       "// Listen for the removal of the full notebook cells\n",
       "var notebookContainer = gd.closest('#notebook-container');\n",
       "if (notebookContainer) {{\n",
       "    x.observe(notebookContainer, {childList: true});\n",
       "}}\n",
       "\n",
       "// Listen for the clearing of the current output cell\n",
       "var outputEl = gd.closest('.output');\n",
       "if (outputEl) {{\n",
       "    x.observe(outputEl, {childList: true});\n",
       "}}\n",
       "\n",
       "                        })\n",
       "                };\n",
       "                });\n",
       "            </script>\n",
       "        </div>"
      ]
     },
     "metadata": {},
     "output_type": "display_data"
    }
   ],
   "source": [
    "df.scatter_matrix()"
   ]
  },
  {
   "cell_type": "markdown",
   "metadata": {
    "collapsed": true
   },
   "source": [
    "# Great Job!"
   ]
  }
 ],
 "metadata": {
  "kernelspec": {
   "display_name": "Python 3",
   "language": "python",
   "name": "python3"
  },
  "language_info": {
   "codemirror_mode": {
    "name": "ipython",
    "version": 3
   },
   "file_extension": ".py",
   "mimetype": "text/x-python",
   "name": "python",
   "nbconvert_exporter": "python",
   "pygments_lexer": "ipython3",
   "version": "3.6.8"
  }
 },
 "nbformat": 4,
 "nbformat_minor": 1
}
