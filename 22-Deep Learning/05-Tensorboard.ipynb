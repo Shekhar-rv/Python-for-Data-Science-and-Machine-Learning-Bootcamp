{
 "cells": [
  {
   "cell_type": "markdown",
   "metadata": {},
   "source": [
    "<a href=\"https://www.pieriandata.com\"><img src=\"../Pierian_Data_Logo.PNG\"></a>\n",
    "<strong><center>Copyright by Pierian Data Inc.</center></strong> \n",
    "<strong><center>Created by Jose Marcial Portilla.</center></strong>"
   ]
  },
  {
   "cell_type": "markdown",
   "metadata": {},
   "source": [
    "# Tensorboard\n",
    "\n",
    "---\n",
    "---\n",
    "\n",
    "**NOTE: You must watch the corresponding video to understand this lecture. This notebook can't serve as a full guide. Please watch the video BEFORE posting questions to the QA forum.**\n",
    "\n",
    "---\n",
    "---\n",
    "\n",
    "Let's explore the built in data visualization capabilities that come with Tensorboard.\n",
    "\n",
    "Full official tutorial available here: https://www.tensorflow.org/tensorboard/get_started\n",
    "\n",
    "## Data"
   ]
  },
  {
   "cell_type": "code",
   "execution_count": 1,
   "metadata": {},
   "outputs": [],
   "source": [
    "import pandas as pd\n",
    "import numpy as np"
   ]
  },
  {
   "cell_type": "code",
   "execution_count": 2,
   "metadata": {},
   "outputs": [],
   "source": [
    "df = pd.read_csv('cancer_classification.csv')"
   ]
  },
  {
   "cell_type": "markdown",
   "metadata": {},
   "source": [
    "### Train Test Split"
   ]
  },
  {
   "cell_type": "code",
   "execution_count": 3,
   "metadata": {},
   "outputs": [],
   "source": [
    "X = df.drop('benign_0__mal_1',axis=1).values\n",
    "y = df['benign_0__mal_1'].values"
   ]
  },
  {
   "cell_type": "code",
   "execution_count": 4,
   "metadata": {},
   "outputs": [],
   "source": [
    "from sklearn.model_selection import train_test_split"
   ]
  },
  {
   "cell_type": "code",
   "execution_count": 5,
   "metadata": {},
   "outputs": [],
   "source": [
    "X_train, X_test, y_train, y_test = train_test_split(X,y,test_size=0.25,random_state=101)"
   ]
  },
  {
   "cell_type": "markdown",
   "metadata": {},
   "source": [
    "\n",
    "### Scaling Data"
   ]
  },
  {
   "cell_type": "code",
   "execution_count": 6,
   "metadata": {},
   "outputs": [],
   "source": [
    "from sklearn.preprocessing import MinMaxScaler"
   ]
  },
  {
   "cell_type": "code",
   "execution_count": 7,
   "metadata": {},
   "outputs": [],
   "source": [
    "scaler = MinMaxScaler()"
   ]
  },
  {
   "cell_type": "code",
   "execution_count": 8,
   "metadata": {},
   "outputs": [
    {
     "data": {
      "text/plain": [
       "MinMaxScaler(copy=True, feature_range=(0, 1))"
      ]
     },
     "execution_count": 8,
     "metadata": {},
     "output_type": "execute_result"
    }
   ],
   "source": [
    "scaler.fit(X_train)"
   ]
  },
  {
   "cell_type": "code",
   "execution_count": 9,
   "metadata": {},
   "outputs": [],
   "source": [
    "X_train = scaler.transform(X_train)\n",
    "X_test = scaler.transform(X_test)"
   ]
  },
  {
   "cell_type": "markdown",
   "metadata": {},
   "source": [
    "## Creating the Model"
   ]
  },
  {
   "cell_type": "code",
   "execution_count": 10,
   "metadata": {},
   "outputs": [],
   "source": [
    "import tensorflow as tf\n",
    "from tensorflow.keras.models import Sequential\n",
    "from tensorflow.keras.layers import Dense, Activation,Dropout"
   ]
  },
  {
   "cell_type": "code",
   "execution_count": 11,
   "metadata": {},
   "outputs": [],
   "source": [
    "from tensorflow.keras.callbacks import EarlyStopping,TensorBoard"
   ]
  },
  {
   "cell_type": "code",
   "execution_count": 12,
   "metadata": {},
   "outputs": [],
   "source": [
    "early_stop = EarlyStopping(monitor='val_loss', mode='min', verbose=1, patience=25)"
   ]
  },
  {
   "cell_type": "code",
   "execution_count": 13,
   "metadata": {},
   "outputs": [
    {
     "data": {
      "text/plain": [
       "'/Users/shekharramesh/Python-repo/Refactored_Py_DS_ML_Bootcamp-master/22-Deep Learning'"
      ]
     },
     "execution_count": 13,
     "metadata": {},
     "output_type": "execute_result"
    }
   ],
   "source": [
    "pwd"
   ]
  },
  {
   "cell_type": "markdown",
   "metadata": {},
   "source": [
    "## Creating the Tensorboard Callback\n",
    "\n",
    "TensorBoard is a visualization tool provided with TensorFlow.\n",
    "\n",
    "This callback logs events for TensorBoard, including:\n",
    "* Metrics summary plots\n",
    "* Training graph visualization\n",
    "* Activation histograms\n",
    "* Sampled profiling\n",
    "\n",
    "If you have installed TensorFlow with pip, you should be able\n",
    "to launch TensorBoard from the command line:\n",
    "\n",
    "```sh\n",
    "tensorboard --logdir=path_to_your_logs\n",
    "```\n",
    "\n",
    "You can find more information about TensorBoard\n",
    "[here](https://www.tensorflow.org/tensorboard/).\n",
    "\n",
    "    Arguments:\n",
    "        log_dir: the path of the directory where to save the log files to be\n",
    "          parsed by TensorBoard.\n",
    "        histogram_freq: frequency (in epochs) at which to compute activation and\n",
    "          weight histograms for the layers of the model. If set to 0, histograms\n",
    "          won't be computed. Validation data (or split) must be specified for\n",
    "          histogram visualizations.\n",
    "        write_graph: whether to visualize the graph in TensorBoard. The log file\n",
    "          can become quite large when write_graph is set to True.\n",
    "        write_images: whether to write model weights to visualize as image in\n",
    "          TensorBoard.\n",
    "        update_freq: `'batch'` or `'epoch'` or integer. When using `'batch'`,\n",
    "          writes the losses and metrics to TensorBoard after each batch. The same\n",
    "          applies for `'epoch'`. If using an integer, let's say `1000`, the\n",
    "          callback will write the metrics and losses to TensorBoard every 1000\n",
    "          samples. Note that writing too frequently to TensorBoard can slow down\n",
    "          your training.\n",
    "        profile_batch: Profile the batch to sample compute characteristics. By\n",
    "          default, it will profile the second batch. Set profile_batch=0 to\n",
    "          disable profiling. Must run in TensorFlow eager mode.\n",
    "        embeddings_freq: frequency (in epochs) at which embedding layers will\n",
    "          be visualized. If set to 0, embeddings won't be visualized.\n",
    "       "
   ]
  },
  {
   "cell_type": "code",
   "execution_count": 14,
   "metadata": {},
   "outputs": [],
   "source": [
    "from datetime import datetime"
   ]
  },
  {
   "cell_type": "code",
   "execution_count": 15,
   "metadata": {},
   "outputs": [
    {
     "data": {
      "text/plain": [
       "'2020-04-13--1549'"
      ]
     },
     "execution_count": 15,
     "metadata": {},
     "output_type": "execute_result"
    }
   ],
   "source": [
    "datetime.now().strftime(\"%Y-%m-%d--%H%M\")"
   ]
  },
  {
   "cell_type": "code",
   "execution_count": 16,
   "metadata": {},
   "outputs": [],
   "source": [
    "# WINDOWS: Use \"logs\\\\fit\"\n",
    "# MACOS/LINUX: Use \"logs\\fit\"\n",
    "\n",
    "log_directory = 'logs\\fit'\n",
    "\n",
    "# OPTIONAL: ADD A TIMESTAMP FOR UNIQUE FOLDER\n",
    "# timestamp = datetime.now().strftime(\"%Y-%m-%d--%H%M\")\n",
    "# log_directory = log_directory + '\\\\' + timestamp\n",
    "\n",
    "\n",
    "board = TensorBoard(log_dir=log_directory,histogram_freq=1,\n",
    "    write_graph=True,\n",
    "    write_images=True,\n",
    "    update_freq='epoch',\n",
    "    profile_batch=2,\n",
    "    embeddings_freq=1)"
   ]
  },
  {
   "cell_type": "markdown",
   "metadata": {},
   "source": [
    "Now create the model layers:"
   ]
  },
  {
   "cell_type": "code",
   "execution_count": 17,
   "metadata": {},
   "outputs": [],
   "source": [
    "model = Sequential()\n",
    "model.add(Dense(units=30,activation='relu'))\n",
    "model.add(Dropout(0.5))\n",
    "model.add(Dense(units=15,activation='relu'))\n",
    "model.add(Dropout(0.5))\n",
    "model.add(Dense(units=1,activation='sigmoid'))\n",
    "model.compile(loss='binary_crossentropy', optimizer='adam')"
   ]
  },
  {
   "cell_type": "markdown",
   "metadata": {},
   "source": [
    "## Train the Model"
   ]
  },
  {
   "cell_type": "code",
   "execution_count": 18,
   "metadata": {},
   "outputs": [
    {
     "name": "stdout",
     "output_type": "stream",
     "text": [
      "Epoch 1/600\n",
      "14/14 [==============================] - 0s 32ms/step - loss: 0.7340 - val_loss: 0.6864\n",
      "Epoch 2/600\n",
      "14/14 [==============================] - 0s 10ms/step - loss: 0.7069 - val_loss: 0.6598\n",
      "Epoch 3/600\n",
      "14/14 [==============================] - 0s 11ms/step - loss: 0.6489 - val_loss: 0.6350\n",
      "Epoch 4/600\n",
      "14/14 [==============================] - 0s 12ms/step - loss: 0.6468 - val_loss: 0.6204\n",
      "Epoch 5/600\n",
      "14/14 [==============================] - 0s 14ms/step - loss: 0.6258 - val_loss: 0.5862\n",
      "Epoch 6/600\n",
      "14/14 [==============================] - 0s 11ms/step - loss: 0.6143 - val_loss: 0.5515\n",
      "Epoch 7/600\n",
      "14/14 [==============================] - 0s 10ms/step - loss: 0.5903 - val_loss: 0.5209\n",
      "Epoch 8/600\n",
      "14/14 [==============================] - 0s 10ms/step - loss: 0.5583 - val_loss: 0.4895\n",
      "Epoch 9/600\n",
      "14/14 [==============================] - 0s 10ms/step - loss: 0.5314 - val_loss: 0.4474\n",
      "Epoch 10/600\n",
      "14/14 [==============================] - 0s 9ms/step - loss: 0.5100 - val_loss: 0.4114\n",
      "Epoch 11/600\n",
      "14/14 [==============================] - 0s 12ms/step - loss: 0.4793 - val_loss: 0.3865\n",
      "Epoch 12/600\n",
      "14/14 [==============================] - 0s 11ms/step - loss: 0.5162 - val_loss: 0.3681\n",
      "Epoch 13/600\n",
      "14/14 [==============================] - 0s 10ms/step - loss: 0.4269 - val_loss: 0.3507\n",
      "Epoch 14/600\n",
      "14/14 [==============================] - 0s 11ms/step - loss: 0.4614 - val_loss: 0.3301\n",
      "Epoch 15/600\n",
      "14/14 [==============================] - 0s 13ms/step - loss: 0.4050 - val_loss: 0.3070\n",
      "Epoch 16/600\n",
      "14/14 [==============================] - 0s 11ms/step - loss: 0.3982 - val_loss: 0.2890\n",
      "Epoch 17/600\n",
      "14/14 [==============================] - 0s 11ms/step - loss: 0.3481 - val_loss: 0.2689\n",
      "Epoch 18/600\n",
      "14/14 [==============================] - 0s 10ms/step - loss: 0.3730 - val_loss: 0.2492\n",
      "Epoch 19/600\n",
      "14/14 [==============================] - 0s 10ms/step - loss: 0.3442 - val_loss: 0.2401\n",
      "Epoch 20/600\n",
      "14/14 [==============================] - 0s 10ms/step - loss: 0.3513 - val_loss: 0.2271\n",
      "Epoch 21/600\n",
      "14/14 [==============================] - 0s 10ms/step - loss: 0.3525 - val_loss: 0.2201\n",
      "Epoch 22/600\n",
      "14/14 [==============================] - 0s 10ms/step - loss: 0.3242 - val_loss: 0.2101\n",
      "Epoch 23/600\n",
      "14/14 [==============================] - 0s 10ms/step - loss: 0.3158 - val_loss: 0.2033\n",
      "Epoch 24/600\n",
      "14/14 [==============================] - 0s 10ms/step - loss: 0.3190 - val_loss: 0.1959\n",
      "Epoch 25/600\n",
      "14/14 [==============================] - 0s 10ms/step - loss: 0.3113 - val_loss: 0.1903\n",
      "Epoch 26/600\n",
      "14/14 [==============================] - 0s 10ms/step - loss: 0.2984 - val_loss: 0.1820\n",
      "Epoch 27/600\n",
      "14/14 [==============================] - 0s 11ms/step - loss: 0.3003 - val_loss: 0.1886\n",
      "Epoch 28/600\n",
      "14/14 [==============================] - 0s 10ms/step - loss: 0.2811 - val_loss: 0.1728\n",
      "Epoch 29/600\n",
      "14/14 [==============================] - 0s 10ms/step - loss: 0.2652 - val_loss: 0.1705\n",
      "Epoch 30/600\n",
      "14/14 [==============================] - 0s 12ms/step - loss: 0.2274 - val_loss: 0.1637\n",
      "Epoch 31/600\n",
      "14/14 [==============================] - 0s 11ms/step - loss: 0.2805 - val_loss: 0.1595\n",
      "Epoch 32/600\n",
      "14/14 [==============================] - 0s 11ms/step - loss: 0.2777 - val_loss: 0.1527\n",
      "Epoch 33/600\n",
      "14/14 [==============================] - 0s 18ms/step - loss: 0.2344 - val_loss: 0.1540\n",
      "Epoch 34/600\n",
      "14/14 [==============================] - 0s 12ms/step - loss: 0.2595 - val_loss: 0.1486\n",
      "Epoch 35/600\n",
      "14/14 [==============================] - 0s 11ms/step - loss: 0.2360 - val_loss: 0.1434\n",
      "Epoch 36/600\n",
      "14/14 [==============================] - 0s 10ms/step - loss: 0.2476 - val_loss: 0.1432\n",
      "Epoch 37/600\n",
      "14/14 [==============================] - 0s 11ms/step - loss: 0.2180 - val_loss: 0.1370\n",
      "Epoch 38/600\n",
      "14/14 [==============================] - 0s 10ms/step - loss: 0.2011 - val_loss: 0.1367\n",
      "Epoch 39/600\n",
      "14/14 [==============================] - 0s 11ms/step - loss: 0.2365 - val_loss: 0.1301\n",
      "Epoch 40/600\n",
      "14/14 [==============================] - 0s 10ms/step - loss: 0.2073 - val_loss: 0.1291\n",
      "Epoch 41/600\n",
      "14/14 [==============================] - 0s 12ms/step - loss: 0.2165 - val_loss: 0.1278\n",
      "Epoch 42/600\n",
      "14/14 [==============================] - 0s 12ms/step - loss: 0.2139 - val_loss: 0.1258\n",
      "Epoch 43/600\n",
      "14/14 [==============================] - 0s 11ms/step - loss: 0.1816 - val_loss: 0.1236\n",
      "Epoch 44/600\n",
      "14/14 [==============================] - 0s 10ms/step - loss: 0.1915 - val_loss: 0.1211\n",
      "Epoch 45/600\n",
      "14/14 [==============================] - 0s 11ms/step - loss: 0.1792 - val_loss: 0.1162\n",
      "Epoch 46/600\n",
      "14/14 [==============================] - 0s 10ms/step - loss: 0.1872 - val_loss: 0.1153\n",
      "Epoch 47/600\n",
      "14/14 [==============================] - 0s 10ms/step - loss: 0.1757 - val_loss: 0.1124\n",
      "Epoch 48/600\n",
      "14/14 [==============================] - 0s 11ms/step - loss: 0.2154 - val_loss: 0.1181\n",
      "Epoch 49/600\n",
      "14/14 [==============================] - 0s 10ms/step - loss: 0.1901 - val_loss: 0.1192\n",
      "Epoch 50/600\n",
      "14/14 [==============================] - 0s 11ms/step - loss: 0.1827 - val_loss: 0.1133\n",
      "Epoch 51/600\n",
      "14/14 [==============================] - 0s 11ms/step - loss: 0.1953 - val_loss: 0.1147\n",
      "Epoch 52/600\n",
      "14/14 [==============================] - 0s 11ms/step - loss: 0.2141 - val_loss: 0.1167\n",
      "Epoch 53/600\n",
      "14/14 [==============================] - 0s 10ms/step - loss: 0.1843 - val_loss: 0.1112\n",
      "Epoch 54/600\n",
      "14/14 [==============================] - 0s 13ms/step - loss: 0.1747 - val_loss: 0.1059\n",
      "Epoch 55/600\n",
      "14/14 [==============================] - 0s 10ms/step - loss: 0.1667 - val_loss: 0.1092\n",
      "Epoch 56/600\n",
      "14/14 [==============================] - 0s 9ms/step - loss: 0.1645 - val_loss: 0.1131\n",
      "Epoch 57/600\n",
      "14/14 [==============================] - 0s 8ms/step - loss: 0.1575 - val_loss: 0.1073\n",
      "Epoch 58/600\n",
      "14/14 [==============================] - 0s 9ms/step - loss: 0.1744 - val_loss: 0.0998\n",
      "Epoch 59/600\n",
      "14/14 [==============================] - 0s 9ms/step - loss: 0.1516 - val_loss: 0.0954\n",
      "Epoch 60/600\n",
      "14/14 [==============================] - 0s 8ms/step - loss: 0.1551 - val_loss: 0.1028\n",
      "Epoch 61/600\n",
      "14/14 [==============================] - 0s 8ms/step - loss: 0.1435 - val_loss: 0.0936\n",
      "Epoch 62/600\n",
      "14/14 [==============================] - 0s 11ms/step - loss: 0.1708 - val_loss: 0.1057\n",
      "Epoch 63/600\n",
      "14/14 [==============================] - 0s 11ms/step - loss: 0.1564 - val_loss: 0.1058\n",
      "Epoch 64/600\n",
      "14/14 [==============================] - 0s 11ms/step - loss: 0.1454 - val_loss: 0.0962\n",
      "Epoch 65/600\n",
      "14/14 [==============================] - 0s 24ms/step - loss: 0.1435 - val_loss: 0.1056\n",
      "Epoch 66/600\n",
      "14/14 [==============================] - 0s 25ms/step - loss: 0.1418 - val_loss: 0.0994\n",
      "Epoch 67/600\n",
      "14/14 [==============================] - 0s 15ms/step - loss: 0.1386 - val_loss: 0.1083\n",
      "Epoch 68/600\n",
      "14/14 [==============================] - 0s 21ms/step - loss: 0.1213 - val_loss: 0.0949\n",
      "Epoch 69/600\n",
      "14/14 [==============================] - 0s 13ms/step - loss: 0.1401 - val_loss: 0.0972\n",
      "Epoch 70/600\n",
      "14/14 [==============================] - 0s 12ms/step - loss: 0.1445 - val_loss: 0.0917\n",
      "Epoch 71/600\n",
      "14/14 [==============================] - 0s 13ms/step - loss: 0.1217 - val_loss: 0.0958\n",
      "Epoch 72/600\n",
      "14/14 [==============================] - 0s 12ms/step - loss: 0.1152 - val_loss: 0.0953\n",
      "Epoch 73/600\n",
      "14/14 [==============================] - 0s 14ms/step - loss: 0.1310 - val_loss: 0.0867\n",
      "Epoch 74/600\n",
      "14/14 [==============================] - 0s 14ms/step - loss: 0.1573 - val_loss: 0.1058\n",
      "Epoch 75/600\n",
      "14/14 [==============================] - 0s 15ms/step - loss: 0.1422 - val_loss: 0.0985\n",
      "Epoch 76/600\n",
      "14/14 [==============================] - 0s 19ms/step - loss: 0.1467 - val_loss: 0.0957\n",
      "Epoch 77/600\n",
      "14/14 [==============================] - 0s 14ms/step - loss: 0.1325 - val_loss: 0.1001\n",
      "Epoch 78/600\n",
      "14/14 [==============================] - 0s 11ms/step - loss: 0.1135 - val_loss: 0.0952\n",
      "Epoch 79/600\n",
      "14/14 [==============================] - 0s 14ms/step - loss: 0.1578 - val_loss: 0.0940\n",
      "Epoch 80/600\n",
      "14/14 [==============================] - 0s 12ms/step - loss: 0.1227 - val_loss: 0.0876\n",
      "Epoch 81/600\n",
      "14/14 [==============================] - 0s 23ms/step - loss: 0.1416 - val_loss: 0.0910\n",
      "Epoch 82/600\n"
     ]
    },
    {
     "name": "stdout",
     "output_type": "stream",
     "text": [
      "14/14 [==============================] - 0s 13ms/step - loss: 0.1214 - val_loss: 0.1006\n",
      "Epoch 83/600\n",
      "14/14 [==============================] - 0s 13ms/step - loss: 0.1224 - val_loss: 0.0840\n",
      "Epoch 84/600\n",
      "14/14 [==============================] - 0s 15ms/step - loss: 0.1424 - val_loss: 0.0896\n",
      "Epoch 85/600\n",
      "14/14 [==============================] - 0s 16ms/step - loss: 0.1264 - val_loss: 0.0890\n",
      "Epoch 86/600\n",
      "14/14 [==============================] - 0s 12ms/step - loss: 0.1052 - val_loss: 0.0904\n",
      "Epoch 87/600\n",
      "14/14 [==============================] - 0s 10ms/step - loss: 0.1131 - val_loss: 0.0899\n",
      "Epoch 88/600\n",
      "14/14 [==============================] - 0s 8ms/step - loss: 0.1331 - val_loss: 0.0886\n",
      "Epoch 89/600\n",
      "14/14 [==============================] - 0s 8ms/step - loss: 0.1479 - val_loss: 0.0966\n",
      "Epoch 90/600\n",
      "14/14 [==============================] - 1s 37ms/step - loss: 0.1176 - val_loss: 0.0910\n",
      "Epoch 91/600\n",
      "14/14 [==============================] - 0s 16ms/step - loss: 0.1118 - val_loss: 0.0942\n",
      "Epoch 92/600\n",
      "14/14 [==============================] - 0s 17ms/step - loss: 0.1220 - val_loss: 0.1088\n",
      "Epoch 93/600\n",
      "14/14 [==============================] - 0s 19ms/step - loss: 0.1443 - val_loss: 0.0896\n",
      "Epoch 94/600\n",
      "14/14 [==============================] - 0s 15ms/step - loss: 0.1198 - val_loss: 0.0897\n",
      "Epoch 95/600\n",
      "14/14 [==============================] - 0s 16ms/step - loss: 0.1242 - val_loss: 0.0850\n",
      "Epoch 96/600\n",
      "14/14 [==============================] - 0s 14ms/step - loss: 0.1227 - val_loss: 0.0954\n",
      "Epoch 97/600\n",
      "14/14 [==============================] - 0s 22ms/step - loss: 0.1286 - val_loss: 0.0943\n",
      "Epoch 98/600\n",
      "14/14 [==============================] - 0s 14ms/step - loss: 0.1021 - val_loss: 0.0867\n",
      "Epoch 99/600\n",
      "14/14 [==============================] - 0s 8ms/step - loss: 0.1187 - val_loss: 0.0967\n",
      "Epoch 100/600\n",
      "14/14 [==============================] - 0s 8ms/step - loss: 0.1151 - val_loss: 0.0939\n",
      "Epoch 101/600\n",
      "14/14 [==============================] - 0s 7ms/step - loss: 0.0925 - val_loss: 0.0953\n",
      "Epoch 102/600\n",
      "14/14 [==============================] - 0s 7ms/step - loss: 0.0991 - val_loss: 0.0875\n",
      "Epoch 103/600\n",
      "14/14 [==============================] - 0s 6ms/step - loss: 0.1033 - val_loss: 0.0892\n",
      "Epoch 104/600\n",
      "14/14 [==============================] - 0s 8ms/step - loss: 0.1092 - val_loss: 0.0897\n",
      "Epoch 105/600\n",
      "14/14 [==============================] - 0s 8ms/step - loss: 0.1364 - val_loss: 0.0985\n",
      "Epoch 106/600\n",
      "14/14 [==============================] - 0s 7ms/step - loss: 0.1062 - val_loss: 0.0820\n",
      "Epoch 107/600\n",
      "14/14 [==============================] - 0s 8ms/step - loss: 0.0980 - val_loss: 0.0882\n",
      "Epoch 108/600\n",
      "14/14 [==============================] - 0s 8ms/step - loss: 0.1078 - val_loss: 0.0994\n",
      "Epoch 109/600\n",
      "14/14 [==============================] - 0s 9ms/step - loss: 0.0987 - val_loss: 0.0985\n",
      "Epoch 110/600\n",
      "14/14 [==============================] - 0s 12ms/step - loss: 0.0985 - val_loss: 0.0834\n",
      "Epoch 111/600\n",
      "14/14 [==============================] - 0s 10ms/step - loss: 0.0933 - val_loss: 0.1121\n",
      "Epoch 112/600\n",
      "14/14 [==============================] - 0s 7ms/step - loss: 0.1010 - val_loss: 0.0978\n",
      "Epoch 113/600\n",
      "14/14 [==============================] - 0s 8ms/step - loss: 0.1061 - val_loss: 0.0860\n",
      "Epoch 114/600\n",
      "14/14 [==============================] - 0s 7ms/step - loss: 0.0832 - val_loss: 0.0913\n",
      "Epoch 115/600\n",
      "14/14 [==============================] - 0s 9ms/step - loss: 0.1013 - val_loss: 0.0855\n",
      "Epoch 116/600\n",
      "14/14 [==============================] - 0s 8ms/step - loss: 0.1092 - val_loss: 0.0883\n",
      "Epoch 117/600\n",
      "14/14 [==============================] - 0s 7ms/step - loss: 0.0983 - val_loss: 0.0824\n",
      "Epoch 118/600\n",
      "14/14 [==============================] - 0s 8ms/step - loss: 0.0980 - val_loss: 0.0929\n",
      "Epoch 119/600\n",
      "14/14 [==============================] - 0s 9ms/step - loss: 0.0961 - val_loss: 0.0874\n",
      "Epoch 120/600\n",
      "14/14 [==============================] - 0s 11ms/step - loss: 0.0887 - val_loss: 0.0835\n",
      "Epoch 121/600\n",
      "14/14 [==============================] - 0s 11ms/step - loss: 0.1145 - val_loss: 0.0917\n",
      "Epoch 122/600\n",
      "14/14 [==============================] - 0s 8ms/step - loss: 0.0770 - val_loss: 0.0881\n",
      "Epoch 123/600\n",
      "14/14 [==============================] - 0s 33ms/step - loss: 0.0860 - val_loss: 0.1018\n",
      "Epoch 124/600\n",
      "14/14 [==============================] - 0s 9ms/step - loss: 0.0998 - val_loss: 0.0843\n",
      "Epoch 125/600\n",
      "14/14 [==============================] - 0s 8ms/step - loss: 0.0998 - val_loss: 0.0868\n",
      "Epoch 126/600\n",
      "14/14 [==============================] - 0s 7ms/step - loss: 0.0999 - val_loss: 0.0918\n",
      "Epoch 127/600\n",
      "14/14 [==============================] - 0s 9ms/step - loss: 0.0949 - val_loss: 0.0925\n",
      "Epoch 128/600\n",
      "14/14 [==============================] - 0s 8ms/step - loss: 0.0870 - val_loss: 0.0984\n",
      "Epoch 129/600\n",
      "14/14 [==============================] - 0s 8ms/step - loss: 0.0938 - val_loss: 0.1065\n",
      "Epoch 130/600\n",
      "14/14 [==============================] - 0s 8ms/step - loss: 0.0854 - val_loss: 0.0831\n",
      "Epoch 131/600\n",
      "14/14 [==============================] - 0s 9ms/step - loss: 0.0895 - val_loss: 0.0847\n",
      "Epoch 00131: early stopping\n"
     ]
    },
    {
     "data": {
      "text/plain": [
       "<tensorflow.python.keras.callbacks.History at 0x13f105048>"
      ]
     },
     "execution_count": 18,
     "metadata": {},
     "output_type": "execute_result"
    }
   ],
   "source": [
    "model.fit(x=X_train, \n",
    "          y=y_train, \n",
    "          epochs=600,\n",
    "          validation_data=(X_test, y_test), verbose=1,\n",
    "          callbacks=[early_stop,board]\n",
    "          )"
   ]
  },
  {
   "cell_type": "markdown",
   "metadata": {},
   "source": [
    "# Running Tensorboard\n"
   ]
  },
  {
   "cell_type": "markdown",
   "metadata": {},
   "source": [
    "## Running through the Command Line\n",
    "\n",
    "**Watch video to see how to run Tensorboard through a command line call.**"
   ]
  },
  {
   "cell_type": "markdown",
   "metadata": {},
   "source": [
    "Tensorboard will run locally in your browser at [http://localhost:6006/](http://localhost:6006/)\n"
   ]
  },
  {
   "cell_type": "code",
   "execution_count": 22,
   "metadata": {},
   "outputs": [
    {
     "name": "stdout",
     "output_type": "stream",
     "text": [
      "logs\f",
      "it\n"
     ]
    }
   ],
   "source": [
    "print(log_directory)"
   ]
  },
  {
   "cell_type": "code",
   "execution_count": 23,
   "metadata": {},
   "outputs": [
    {
     "data": {
      "text/plain": [
       "'/Users/shekharramesh/Python-repo/Refactored_Py_DS_ML_Bootcamp-master/22-Deep Learning'"
      ]
     },
     "execution_count": 23,
     "metadata": {},
     "output_type": "execute_result"
    }
   ],
   "source": [
    "pwd"
   ]
  },
  {
   "cell_type": "markdown",
   "metadata": {},
   "source": [
    "### Use cd at your command line to change directory to the file path reported back by pwd or your current .py file location.\n",
    "### Then run this code at your command line or terminal"
   ]
  },
  {
   "cell_type": "markdown",
   "metadata": {},
   "source": [
    "tensorboard --logdir logsit "
   ]
  }
 ],
 "metadata": {
  "kernelspec": {
   "display_name": "Python 3",
   "language": "python",
   "name": "python3"
  },
  "language_info": {
   "codemirror_mode": {
    "name": "ipython",
    "version": 3
   },
   "file_extension": ".py",
   "mimetype": "text/x-python",
   "name": "python",
   "nbconvert_exporter": "python",
   "pygments_lexer": "ipython3",
   "version": "3.6.8"
  }
 },
 "nbformat": 4,
 "nbformat_minor": 2
}
